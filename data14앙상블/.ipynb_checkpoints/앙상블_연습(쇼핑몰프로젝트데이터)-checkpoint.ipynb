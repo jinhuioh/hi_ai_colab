{
 "cells": [
  {
   "cell_type": "code",
   "execution_count": 1,
   "metadata": {
    "id": "1VAiRWCq2BdG"
   },
   "outputs": [
    {
     "ename": "ModuleNotFoundError",
     "evalue": "No module named 'xgboost'",
     "output_type": "error",
     "traceback": [
      "\u001b[1;31m---------------------------------------------------------------------------\u001b[0m",
      "\u001b[1;31mModuleNotFoundError\u001b[0m                       Traceback (most recent call last)",
      "\u001b[1;32m<ipython-input-1-39748c5798e0>\u001b[0m in \u001b[0;36m<module>\u001b[1;34m\u001b[0m\n\u001b[0;32m     58\u001b[0m \u001b[1;32mfrom\u001b[0m \u001b[0msklearn\u001b[0m\u001b[1;33m.\u001b[0m\u001b[0mexperimental\u001b[0m \u001b[1;32mimport\u001b[0m  \u001b[0menable_hist_gradient_boosting\u001b[0m\u001b[1;33m\u001b[0m\u001b[1;33m\u001b[0m\u001b[0m\n\u001b[0;32m     59\u001b[0m \u001b[1;32mfrom\u001b[0m \u001b[0msklearn\u001b[0m\u001b[1;33m.\u001b[0m\u001b[0mensemble\u001b[0m \u001b[1;32mimport\u001b[0m  \u001b[0mHistGradientBoostingClassifier\u001b[0m\u001b[1;33m\u001b[0m\u001b[1;33m\u001b[0m\u001b[0m\n\u001b[1;32m---> 60\u001b[1;33m \u001b[1;32mfrom\u001b[0m \u001b[0mxgboost\u001b[0m \u001b[1;32mimport\u001b[0m  \u001b[0mXGBClassifier\u001b[0m\u001b[1;33m\u001b[0m\u001b[1;33m\u001b[0m\u001b[0m\n\u001b[0m\u001b[0;32m     61\u001b[0m \u001b[1;32mfrom\u001b[0m \u001b[0mlightgbm\u001b[0m \u001b[1;32mimport\u001b[0m  \u001b[0mLGBMClassifier\u001b[0m\u001b[1;33m\u001b[0m\u001b[1;33m\u001b[0m\u001b[0m\n",
      "\u001b[1;31mModuleNotFoundError\u001b[0m: No module named 'xgboost'"
     ]
    }
   ],
   "source": [
    "import pandas as pd\n",
    "import numpy as np\n",
    "\n",
    "# 주요 라이브러리 import\n",
    "from sklearn import datasets\n",
    "from sklearn.tree import DecisionTreeClassifier\n",
    "import warnings\n",
    "warnings.filterwarnings(action='ignore')\n",
    "import time\n",
    "from IPython.display import Image\n",
    "from sklearn.datasets import fetch_openml\n",
    "import sklearn.datasets as data\n",
    "from sklearn.model_selection import train_test_split\n",
    "from sklearn.metrics import accuracy_score\n",
    "import numpy as np\n",
    "import pandas as pd\n",
    "import matplotlib.pyplot as plt\n",
    "import seaborn as sns\n",
    "%matplotlib inline\n",
    "from sklearn.preprocessing import LabelEncoder#라벨인코더 임포트\n",
    "from sklearn.model_selection import KFold\n",
    "\n",
    "from sklearn.tree import DecisionTreeClassifier\n",
    "from sklearn.ensemble import RandomForestClassifier\n",
    "from sklearn.linear_model import LogisticRegression\n",
    "from sklearn.svm import SVC\n",
    "from sklearn.metrics import accuracy_score\n",
    "\n",
    "from pandas.plotting import parallel_coordinates#코디네이츠 그래프 그릴 때 필요한 라이브러리\n",
    "from sklearn.model_selection import train_test_split\n",
    "\n",
    "from sklearn.neighbors import KNeighborsClassifier#모델링 중 하나\n",
    "#cross_val_score: 다양한 셈플링을 해서 여러번 테스트-->평균치를 구해본다.\n",
    "from sklearn.model_selection import cross_val_score#crossvaludation해주는거\n",
    "from sklearn.metrics import *\n",
    "import matplotlib as mpl\n",
    "import matplotlib.pyplot as plt\n",
    "import matplotlib.font_manager as fm  # 폰트 관련 용도\n",
    "\n",
    "from sklearn.model_selection import GridSearchCV#그리드서치\n",
    "from sklearn.preprocessing import StandardScaler #표준화(평균을 기준)\n",
    "from sklearn.preprocessing import MinMaxScaler # 정규화(정해진 규칙 기준, mix-max기준)\n",
    "from sklearn.preprocessing import LabelEncoder\n",
    "import numpy as np\n",
    "import pandas as pd\n",
    "#앙상블\n",
    "from sklearn.ensemble import VotingClassifier\n",
    "\n",
    "from sklearn import tree\n",
    "import numpy as np\n",
    "import matplotlib.pyplot as plt\n",
    "from sklearn import preprocessing\n",
    "\n",
    "from sklearn.tree import DecisionTreeClassifier## tree방법론의 DecisionTreeClassifier사용\n",
    "from sklearn.svm import SVC##svm방법론의 SVC사용\n",
    "from sklearn.linear_model import  LogisticRegression\n",
    "from sklearn.ensemble import  GradientBoostingClassifier\n",
    "from sklearn.experimental import  enable_hist_gradient_boosting\n",
    "from sklearn.ensemble import  HistGradientBoostingClassifier\n",
    "from xgboost import  XGBClassifier\n",
    "from lightgbm import  LGBMClassifier"
   ]
  },
  {
   "cell_type": "code",
   "execution_count": null,
   "metadata": {
    "colab": {
     "base_uri": "https://localhost:8080/"
    },
    "id": "Ll2enoumVTxQ",
    "outputId": "46ca2ee7-8957-4cb1-bc76-260755df0c15"
   },
   "outputs": [],
   "source": [
    "#코렙한글쓰기.\n",
    "import matplotlib as mpl\n",
    "import matplotlib.pyplot as plt\n",
    "import matplotlib.font_manager as fm  # 폰트 관련 용도\n",
    " \n",
    "%config InlineBackend.figure_format = 'retina'\n",
    " \n",
    "!apt -qq -y install fonts-nanum\n",
    "# 여기까지하고 런타임 다시 시작!!-----> 이 셀부터 설치빼고 다시 실행"
   ]
  },
  {
   "cell_type": "code",
   "execution_count": null,
   "metadata": {
    "colab": {
     "base_uri": "https://localhost:8080/"
    },
    "id": "Kzadz4ezVV2i",
    "outputId": "e454f4e9-548d-4a68-d616-10817a740e63"
   },
   "outputs": [],
   "source": [
    "import matplotlib.font_manager as fm\n",
    "fontpath = '/usr/share/fonts/truetype/nanum/NanumBarunGothic.ttf'\n",
    "font_name = fm.FontProperties(fname=fontpath, size=9).get_name()\n",
    "plt.rc('font', family=font_name) \n",
    "print(font_name)"
   ]
  },
  {
   "cell_type": "code",
   "execution_count": null,
   "metadata": {
    "id": "tFO88J4xVXJf"
   },
   "outputs": [],
   "source": [
    "#fm._rebuild()"
   ]
  },
  {
   "cell_type": "code",
   "execution_count": null,
   "metadata": {
    "colab": {
     "base_uri": "https://localhost:8080/",
     "height": 298
    },
    "id": "5x5tm6gUX1t7",
    "outputId": "2e4a58bb-fef2-4a6d-e1bd-f804ca714587"
   },
   "outputs": [],
   "source": [
    "plt.title('안녕!')"
   ]
  },
  {
   "cell_type": "code",
   "execution_count": 2,
   "metadata": {
    "colab": {
     "base_uri": "https://localhost:8080/",
     "height": 1000
    },
    "id": "kcZpmSj02HsJ",
    "outputId": "7be3560a-64a8-4843-baac-8717093c1c7b"
   },
   "outputs": [
    {
     "data": {
      "text/html": [
       "\n",
       "  <div id=\"df-57ba8349-ce32-42d3-99d5-7d65cf6c6b37\">\n",
       "    <div class=\"colab-df-container\">\n",
       "      <div>\n",
       "<style scoped>\n",
       "    .dataframe tbody tr th:only-of-type {\n",
       "        vertical-align: middle;\n",
       "    }\n",
       "\n",
       "    .dataframe tbody tr th {\n",
       "        vertical-align: top;\n",
       "    }\n",
       "\n",
       "    .dataframe thead th {\n",
       "        text-align: right;\n",
       "    }\n",
       "</style>\n",
       "<table border=\"1\" class=\"dataframe\">\n",
       "  <thead>\n",
       "    <tr style=\"text-align: right;\">\n",
       "      <th></th>\n",
       "      <th>CRI_YM</th>\n",
       "      <th>TAG</th>\n",
       "      <th>평일휴일</th>\n",
       "      <th>요일</th>\n",
       "      <th>시간대</th>\n",
       "      <th>성별</th>\n",
       "      <th>연령대</th>\n",
       "      <th>건수합계</th>\n",
       "      <th>인터넷 쇼핑 이용자 비율 (%)</th>\n",
       "      <th>월 평균 구매빈도-1회 미만 (%)</th>\n",
       "      <th>월 평균 구매빈도-1~2회 미만 (%)</th>\n",
       "      <th>월 평균 구매빈도-2~3회 미만 (%)</th>\n",
       "      <th>월 평균 구매빈도-3회 이상 (%)</th>\n",
       "      <th>월 평균 구매빈도-평균 (회)</th>\n",
       "    </tr>\n",
       "  </thead>\n",
       "  <tbody>\n",
       "    <tr>\n",
       "      <th>0</th>\n",
       "      <td>2019</td>\n",
       "      <td>생활/취미/사무용품/인테리어/골프용품</td>\n",
       "      <td>평일</td>\n",
       "      <td>목</td>\n",
       "      <td>B.06-10시</td>\n",
       "      <td>F</td>\n",
       "      <td>A.2O대</td>\n",
       "      <td>291</td>\n",
       "      <td>98.7</td>\n",
       "      <td>10.9</td>\n",
       "      <td>18.6</td>\n",
       "      <td>22.8</td>\n",
       "      <td>47.7</td>\n",
       "      <td>3.3</td>\n",
       "    </tr>\n",
       "    <tr>\n",
       "      <th>1</th>\n",
       "      <td>2020</td>\n",
       "      <td>생활/취미/사무용품/인테리어/골프용품</td>\n",
       "      <td>평일</td>\n",
       "      <td>월</td>\n",
       "      <td>D.14-18시</td>\n",
       "      <td>M</td>\n",
       "      <td>C.4O대</td>\n",
       "      <td>6225</td>\n",
       "      <td>66.7</td>\n",
       "      <td>28.3</td>\n",
       "      <td>17.9</td>\n",
       "      <td>21.0</td>\n",
       "      <td>32.8</td>\n",
       "      <td>2.9</td>\n",
       "    </tr>\n",
       "    <tr>\n",
       "      <th>2</th>\n",
       "      <td>2019</td>\n",
       "      <td>생활/취미/사무용품/인테리어/골프용품</td>\n",
       "      <td>휴일</td>\n",
       "      <td>일</td>\n",
       "      <td>F.22-02시</td>\n",
       "      <td>M</td>\n",
       "      <td>B.3O대</td>\n",
       "      <td>51</td>\n",
       "      <td>86.3</td>\n",
       "      <td>14.6</td>\n",
       "      <td>21.3</td>\n",
       "      <td>22.4</td>\n",
       "      <td>41.7</td>\n",
       "      <td>2.9</td>\n",
       "    </tr>\n",
       "    <tr>\n",
       "      <th>3</th>\n",
       "      <td>2021</td>\n",
       "      <td>패션/화장품</td>\n",
       "      <td>휴일</td>\n",
       "      <td>일</td>\n",
       "      <td>D.14-18시</td>\n",
       "      <td>F</td>\n",
       "      <td>C.4O대</td>\n",
       "      <td>3564</td>\n",
       "      <td>89.8</td>\n",
       "      <td>9.3</td>\n",
       "      <td>14.9</td>\n",
       "      <td>17.6</td>\n",
       "      <td>58.2</td>\n",
       "      <td>5.3</td>\n",
       "    </tr>\n",
       "    <tr>\n",
       "      <th>4</th>\n",
       "      <td>2020</td>\n",
       "      <td>생활/취미/사무용품/인테리어/골프용품</td>\n",
       "      <td>평일</td>\n",
       "      <td>월</td>\n",
       "      <td>C.10-14시</td>\n",
       "      <td>F</td>\n",
       "      <td>D.5O대</td>\n",
       "      <td>1101</td>\n",
       "      <td>46.3</td>\n",
       "      <td>28.2</td>\n",
       "      <td>14.1</td>\n",
       "      <td>20.2</td>\n",
       "      <td>37.4</td>\n",
       "      <td>3.4</td>\n",
       "    </tr>\n",
       "  </tbody>\n",
       "</table>\n",
       "</div>\n",
       "      <button class=\"colab-df-convert\" onclick=\"convertToInteractive('df-57ba8349-ce32-42d3-99d5-7d65cf6c6b37')\"\n",
       "              title=\"Convert this dataframe to an interactive table.\"\n",
       "              style=\"display:none;\">\n",
       "        \n",
       "  <svg xmlns=\"http://www.w3.org/2000/svg\" height=\"24px\"viewBox=\"0 0 24 24\"\n",
       "       width=\"24px\">\n",
       "    <path d=\"M0 0h24v24H0V0z\" fill=\"none\"/>\n",
       "    <path d=\"M18.56 5.44l.94 2.06.94-2.06 2.06-.94-2.06-.94-.94-2.06-.94 2.06-2.06.94zm-11 1L8.5 8.5l.94-2.06 2.06-.94-2.06-.94L8.5 2.5l-.94 2.06-2.06.94zm10 10l.94 2.06.94-2.06 2.06-.94-2.06-.94-.94-2.06-.94 2.06-2.06.94z\"/><path d=\"M17.41 7.96l-1.37-1.37c-.4-.4-.92-.59-1.43-.59-.52 0-1.04.2-1.43.59L10.3 9.45l-7.72 7.72c-.78.78-.78 2.05 0 2.83L4 21.41c.39.39.9.59 1.41.59.51 0 1.02-.2 1.41-.59l7.78-7.78 2.81-2.81c.8-.78.8-2.07 0-2.86zM5.41 20L4 18.59l7.72-7.72 1.47 1.35L5.41 20z\"/>\n",
       "  </svg>\n",
       "      </button>\n",
       "      \n",
       "  <style>\n",
       "    .colab-df-container {\n",
       "      display:flex;\n",
       "      flex-wrap:wrap;\n",
       "      gap: 12px;\n",
       "    }\n",
       "\n",
       "    .colab-df-convert {\n",
       "      background-color: #E8F0FE;\n",
       "      border: none;\n",
       "      border-radius: 50%;\n",
       "      cursor: pointer;\n",
       "      display: none;\n",
       "      fill: #1967D2;\n",
       "      height: 32px;\n",
       "      padding: 0 0 0 0;\n",
       "      width: 32px;\n",
       "    }\n",
       "\n",
       "    .colab-df-convert:hover {\n",
       "      background-color: #E2EBFA;\n",
       "      box-shadow: 0px 1px 2px rgba(60, 64, 67, 0.3), 0px 1px 3px 1px rgba(60, 64, 67, 0.15);\n",
       "      fill: #174EA6;\n",
       "    }\n",
       "\n",
       "    [theme=dark] .colab-df-convert {\n",
       "      background-color: #3B4455;\n",
       "      fill: #D2E3FC;\n",
       "    }\n",
       "\n",
       "    [theme=dark] .colab-df-convert:hover {\n",
       "      background-color: #434B5C;\n",
       "      box-shadow: 0px 1px 3px 1px rgba(0, 0, 0, 0.15);\n",
       "      filter: drop-shadow(0px 1px 2px rgba(0, 0, 0, 0.3));\n",
       "      fill: #FFFFFF;\n",
       "    }\n",
       "  </style>\n",
       "\n",
       "      <script>\n",
       "        const buttonEl =\n",
       "          document.querySelector('#df-57ba8349-ce32-42d3-99d5-7d65cf6c6b37 button.colab-df-convert');\n",
       "        buttonEl.style.display =\n",
       "          google.colab.kernel.accessAllowed ? 'block' : 'none';\n",
       "\n",
       "        async function convertToInteractive(key) {\n",
       "          const element = document.querySelector('#df-57ba8349-ce32-42d3-99d5-7d65cf6c6b37');\n",
       "          const dataTable =\n",
       "            await google.colab.kernel.invokeFunction('convertToInteractive',\n",
       "                                                     [key], {});\n",
       "          if (!dataTable) return;\n",
       "\n",
       "          const docLinkHtml = 'Like what you see? Visit the ' +\n",
       "            '<a target=\"_blank\" href=https://colab.research.google.com/notebooks/data_table.ipynb>data table notebook</a>'\n",
       "            + ' to learn more about interactive tables.';\n",
       "          element.innerHTML = '';\n",
       "          dataTable['output_type'] = 'display_data';\n",
       "          await google.colab.output.renderOutput(dataTable, element);\n",
       "          const docLink = document.createElement('div');\n",
       "          docLink.innerHTML = docLinkHtml;\n",
       "          element.appendChild(docLink);\n",
       "        }\n",
       "      </script>\n",
       "    </div>\n",
       "  </div>\n",
       "  "
      ],
      "text/plain": [
       "   CRI_YM                   TAG 평일휴일 요일       시간대 성별    연령대  건수합계  \\\n",
       "0    2019  생활/취미/사무용품/인테리어/골프용품   평일  목  B.06-10시  F  A.2O대   291   \n",
       "1    2020  생활/취미/사무용품/인테리어/골프용품   평일  월  D.14-18시  M  C.4O대  6225   \n",
       "2    2019  생활/취미/사무용품/인테리어/골프용품   휴일  일  F.22-02시  M  B.3O대    51   \n",
       "3    2021                패션/화장품   휴일  일  D.14-18시  F  C.4O대  3564   \n",
       "4    2020  생활/취미/사무용품/인테리어/골프용품   평일  월  C.10-14시  F  D.5O대  1101   \n",
       "\n",
       "   인터넷 쇼핑 이용자 비율 (%)  월 평균 구매빈도-1회 미만 (%)  월 평균 구매빈도-1~2회 미만 (%)  \\\n",
       "0               98.7                 10.9                   18.6   \n",
       "1               66.7                 28.3                   17.9   \n",
       "2               86.3                 14.6                   21.3   \n",
       "3               89.8                  9.3                   14.9   \n",
       "4               46.3                 28.2                   14.1   \n",
       "\n",
       "   월 평균 구매빈도-2~3회 미만 (%)  월 평균 구매빈도-3회 이상 (%)  월 평균 구매빈도-평균 (회)  \n",
       "0                   22.8                 47.7               3.3  \n",
       "1                   21.0                 32.8               2.9  \n",
       "2                   22.4                 41.7               2.9  \n",
       "3                   17.6                 58.2               5.3  \n",
       "4                   20.2                 37.4               3.4  "
      ]
     },
     "execution_count": 2,
     "metadata": {},
     "output_type": "execute_result"
    }
   ],
   "source": [
    "df = pd.read_excel('/content/쇼핑몰프로젝트DATA.xlsx')\n",
    "df.head()"
   ]
  },
  {
   "cell_type": "markdown",
   "metadata": {
    "id": "nWbV1FsiQnhi"
   },
   "source": [
    "## 일:1, 월:2, 화:3, 수:4, 목:5, 금:6, 토:7로 바꿈\n",
    "## 휴일:0, 평일:1\n",
    "##\n"
   ]
  },
  {
   "cell_type": "code",
   "execution_count": 9,
   "metadata": {
    "colab": {
     "base_uri": "https://localhost:8080/"
    },
    "id": "4Azzc_ejM1Qr",
    "outputId": "fa05676b-a6be-4470-b915-ea441259cbba"
   },
   "outputs": [
    {
     "data": {
      "text/plain": [
       "CRI_YM    0\n",
       "TAG       0\n",
       "평일휴일      0\n",
       "요일        0\n",
       "시간대       0\n",
       "성별        0\n",
       "연령대       0\n",
       "건수합계      0\n",
       "dtype: int64"
      ]
     },
     "execution_count": 9,
     "metadata": {},
     "output_type": "execute_result"
    }
   ],
   "source": [
    "df.isnull().sum()"
   ]
  },
  {
   "cell_type": "code",
   "execution_count": 25,
   "metadata": {
    "colab": {
     "base_uri": "https://localhost:8080/"
    },
    "id": "yFgNVbcfNJj9",
    "outputId": "1bc353b3-718d-4fc6-c10f-524eb097ec65"
   },
   "outputs": [
    {
     "data": {
      "text/plain": [
       "Index(['CRI_YM', 'TAG', '평일휴일', '요일', '시간대', '성별', '연령대', '건수합계',\n",
       "       '인터넷 쇼핑 이용자 비율 (%)', '월 평균 구매빈도-1회 미만 (%)', '월 평균 구매빈도-1~2회 미만 (%)',\n",
       "       '월 평균 구매빈도-2~3회 미만 (%)', '월 평균 구매빈도-3회 이상 (%)', '월 평균 구매빈도-평균 (회)'],\n",
       "      dtype='object')"
      ]
     },
     "execution_count": 25,
     "metadata": {},
     "output_type": "execute_result"
    }
   ],
   "source": [
    "df.columns"
   ]
  },
  {
   "cell_type": "code",
   "execution_count": 3,
   "metadata": {
    "id": "8ubzd7R9Z6Qg"
   },
   "outputs": [],
   "source": [
    "# 라벨인코딩을 하여 수치가 아닌 값들을 수치화해주자.\n",
    "encoder = LabelEncoder()\n",
    "df['평일휴일'] = encoder.fit_transform(df['평일휴일'])\n"
   ]
  },
  {
   "cell_type": "code",
   "execution_count": 4,
   "metadata": {
    "id": "eLz7k2Vfapo3"
   },
   "outputs": [],
   "source": [
    "encoder1 = LabelEncoder()\n",
    "df['요일'] = encoder1.fit_transform(df['요일'])"
   ]
  },
  {
   "cell_type": "code",
   "execution_count": 5,
   "metadata": {
    "id": "2_ilDV8_aq4W"
   },
   "outputs": [],
   "source": [
    "encoder2 = LabelEncoder()\n",
    "encoder3 = LabelEncoder()\n",
    "encoder4 = LabelEncoder()\n",
    "\n",
    "df['시간대'] = encoder2.fit_transform(df['시간대'])\n",
    "df['성별'] = encoder3.fit_transform(df['성별'])\n",
    "df['연령대'] = encoder4.fit_transform(df['연령대'])"
   ]
  },
  {
   "cell_type": "code",
   "execution_count": 82,
   "metadata": {
    "colab": {
     "base_uri": "https://localhost:8080/"
    },
    "id": "pyFhOVPqaq8O",
    "outputId": "f0cc90bd-7e33-418c-8633-e97879d6010b"
   },
   "outputs": [
    {
     "name": "stdout",
     "output_type": "stream",
     "text": [
      "<class 'pandas.core.frame.DataFrame'>\n",
      "RangeIndex: 19997 entries, 0 to 19996\n",
      "Data columns (total 14 columns):\n",
      " #   Column                 Non-Null Count  Dtype  \n",
      "---  ------                 --------------  -----  \n",
      " 0   CRI_YM                 19997 non-null  int64  \n",
      " 1   TAG                    19997 non-null  object \n",
      " 2   평일휴일                   19997 non-null  int64  \n",
      " 3   요일                     19997 non-null  int64  \n",
      " 4   시간대                    19997 non-null  int64  \n",
      " 5   성별                     19997 non-null  int64  \n",
      " 6   연령대                    19997 non-null  int64  \n",
      " 7   건수합계                   19997 non-null  int64  \n",
      " 8   인터넷 쇼핑 이용자 비율 (%)      19997 non-null  float64\n",
      " 9   월 평균 구매빈도-1회 미만 (%)    19997 non-null  float64\n",
      " 10  월 평균 구매빈도-1~2회 미만 (%)  19997 non-null  float64\n",
      " 11  월 평균 구매빈도-2~3회 미만 (%)  19997 non-null  float64\n",
      " 12  월 평균 구매빈도-3회 이상 (%)    19997 non-null  float64\n",
      " 13  월 평균 구매빈도-평균 (회)       19997 non-null  float64\n",
      "dtypes: float64(6), int64(7), object(1)\n",
      "memory usage: 2.1+ MB\n"
     ]
    }
   ],
   "source": [
    "df.info()"
   ]
  },
  {
   "cell_type": "code",
   "execution_count": 53,
   "metadata": {
    "colab": {
     "base_uri": "https://localhost:8080/",
     "height": 382
    },
    "id": "3bSX0FZ4aq_O",
    "outputId": "5d730af6-1252-49ca-b065-dd687f812df8"
   },
   "outputs": [
    {
     "ename": "KeyError",
     "evalue": "ignored",
     "output_type": "error",
     "traceback": [
      "\u001b[0;31m---------------------------------------------------------------------------\u001b[0m",
      "\u001b[0;31mKeyError\u001b[0m                                  Traceback (most recent call last)",
      "\u001b[0;32m<ipython-input-53-af8de06e2241>\u001b[0m in \u001b[0;36m<module>\u001b[0;34m()\u001b[0m\n\u001b[1;32m      1\u001b[0m \u001b[0;31m#tag컬럼에서 '홈쇼핑'값을 없애보자-> 어케함...\u001b[0m\u001b[0;34m\u001b[0m\u001b[0;34m\u001b[0m\u001b[0;34m\u001b[0m\u001b[0m\n\u001b[0;32m----> 2\u001b[0;31m \u001b[0mdf\u001b[0m\u001b[0;34m.\u001b[0m\u001b[0mdrop\u001b[0m\u001b[0;34m(\u001b[0m\u001b[0mdf\u001b[0m\u001b[0;34m[\u001b[0m\u001b[0;34m'TAG'\u001b[0m\u001b[0;34m]\u001b[0m\u001b[0;34m[\u001b[0m\u001b[0;34m'홈쇼핑'\u001b[0m\u001b[0;34m]\u001b[0m\u001b[0;34m,\u001b[0m\u001b[0minplace\u001b[0m\u001b[0;34m=\u001b[0m\u001b[0;32mTrue\u001b[0m\u001b[0;34m)\u001b[0m\u001b[0;34m\u001b[0m\u001b[0;34m\u001b[0m\u001b[0m\n\u001b[0m\u001b[1;32m      3\u001b[0m \u001b[0mdf\u001b[0m\u001b[0;34m.\u001b[0m\u001b[0mhead\u001b[0m\u001b[0;34m(\u001b[0m\u001b[0;34m)\u001b[0m\u001b[0;34m\u001b[0m\u001b[0;34m\u001b[0m\u001b[0m\n",
      "\u001b[0;32m/usr/local/lib/python3.7/dist-packages/pandas/core/series.py\u001b[0m in \u001b[0;36m__getitem__\u001b[0;34m(self, key)\u001b[0m\n\u001b[1;32m    940\u001b[0m \u001b[0;34m\u001b[0m\u001b[0m\n\u001b[1;32m    941\u001b[0m         \u001b[0;32melif\u001b[0m \u001b[0mkey_is_scalar\u001b[0m\u001b[0;34m:\u001b[0m\u001b[0;34m\u001b[0m\u001b[0;34m\u001b[0m\u001b[0m\n\u001b[0;32m--> 942\u001b[0;31m             \u001b[0;32mreturn\u001b[0m \u001b[0mself\u001b[0m\u001b[0;34m.\u001b[0m\u001b[0m_get_value\u001b[0m\u001b[0;34m(\u001b[0m\u001b[0mkey\u001b[0m\u001b[0;34m)\u001b[0m\u001b[0;34m\u001b[0m\u001b[0;34m\u001b[0m\u001b[0m\n\u001b[0m\u001b[1;32m    943\u001b[0m \u001b[0;34m\u001b[0m\u001b[0m\n\u001b[1;32m    944\u001b[0m         \u001b[0;32mif\u001b[0m \u001b[0mis_hashable\u001b[0m\u001b[0;34m(\u001b[0m\u001b[0mkey\u001b[0m\u001b[0;34m)\u001b[0m\u001b[0;34m:\u001b[0m\u001b[0;34m\u001b[0m\u001b[0;34m\u001b[0m\u001b[0m\n",
      "\u001b[0;32m/usr/local/lib/python3.7/dist-packages/pandas/core/series.py\u001b[0m in \u001b[0;36m_get_value\u001b[0;34m(self, label, takeable)\u001b[0m\n\u001b[1;32m   1049\u001b[0m \u001b[0;34m\u001b[0m\u001b[0m\n\u001b[1;32m   1050\u001b[0m         \u001b[0;31m# Similar to Index.get_value, but we do not fall back to positional\u001b[0m\u001b[0;34m\u001b[0m\u001b[0;34m\u001b[0m\u001b[0;34m\u001b[0m\u001b[0m\n\u001b[0;32m-> 1051\u001b[0;31m         \u001b[0mloc\u001b[0m \u001b[0;34m=\u001b[0m \u001b[0mself\u001b[0m\u001b[0;34m.\u001b[0m\u001b[0mindex\u001b[0m\u001b[0;34m.\u001b[0m\u001b[0mget_loc\u001b[0m\u001b[0;34m(\u001b[0m\u001b[0mlabel\u001b[0m\u001b[0;34m)\u001b[0m\u001b[0;34m\u001b[0m\u001b[0;34m\u001b[0m\u001b[0m\n\u001b[0m\u001b[1;32m   1052\u001b[0m         \u001b[0;32mreturn\u001b[0m \u001b[0mself\u001b[0m\u001b[0;34m.\u001b[0m\u001b[0mindex\u001b[0m\u001b[0;34m.\u001b[0m\u001b[0m_get_values_for_loc\u001b[0m\u001b[0;34m(\u001b[0m\u001b[0mself\u001b[0m\u001b[0;34m,\u001b[0m \u001b[0mloc\u001b[0m\u001b[0;34m,\u001b[0m \u001b[0mlabel\u001b[0m\u001b[0;34m)\u001b[0m\u001b[0;34m\u001b[0m\u001b[0;34m\u001b[0m\u001b[0m\n\u001b[1;32m   1053\u001b[0m \u001b[0;34m\u001b[0m\u001b[0m\n",
      "\u001b[0;32m/usr/local/lib/python3.7/dist-packages/pandas/core/indexes/range.py\u001b[0m in \u001b[0;36mget_loc\u001b[0;34m(self, key, method, tolerance)\u001b[0m\n\u001b[1;32m    386\u001b[0m                 \u001b[0;32mexcept\u001b[0m \u001b[0mValueError\u001b[0m \u001b[0;32mas\u001b[0m \u001b[0merr\u001b[0m\u001b[0;34m:\u001b[0m\u001b[0;34m\u001b[0m\u001b[0;34m\u001b[0m\u001b[0m\n\u001b[1;32m    387\u001b[0m                     \u001b[0;32mraise\u001b[0m \u001b[0mKeyError\u001b[0m\u001b[0;34m(\u001b[0m\u001b[0mkey\u001b[0m\u001b[0;34m)\u001b[0m \u001b[0;32mfrom\u001b[0m \u001b[0merr\u001b[0m\u001b[0;34m\u001b[0m\u001b[0;34m\u001b[0m\u001b[0m\n\u001b[0;32m--> 388\u001b[0;31m             \u001b[0;32mraise\u001b[0m \u001b[0mKeyError\u001b[0m\u001b[0;34m(\u001b[0m\u001b[0mkey\u001b[0m\u001b[0;34m)\u001b[0m\u001b[0;34m\u001b[0m\u001b[0;34m\u001b[0m\u001b[0m\n\u001b[0m\u001b[1;32m    389\u001b[0m         \u001b[0;32mreturn\u001b[0m \u001b[0msuper\u001b[0m\u001b[0;34m(\u001b[0m\u001b[0;34m)\u001b[0m\u001b[0;34m.\u001b[0m\u001b[0mget_loc\u001b[0m\u001b[0;34m(\u001b[0m\u001b[0mkey\u001b[0m\u001b[0;34m,\u001b[0m \u001b[0mmethod\u001b[0m\u001b[0;34m=\u001b[0m\u001b[0mmethod\u001b[0m\u001b[0;34m,\u001b[0m \u001b[0mtolerance\u001b[0m\u001b[0;34m=\u001b[0m\u001b[0mtolerance\u001b[0m\u001b[0;34m)\u001b[0m\u001b[0;34m\u001b[0m\u001b[0;34m\u001b[0m\u001b[0m\n\u001b[1;32m    390\u001b[0m \u001b[0;34m\u001b[0m\u001b[0m\n",
      "\u001b[0;31mKeyError\u001b[0m: '홈쇼핑'"
     ]
    }
   ],
   "source": [
    "#tag컬럼에서 '홈쇼핑'값을 없애보자-> 어케함...\n",
    "#df.drop(df['TAG']['홈쇼핑'],inplace=True)\n",
    "#df.head()"
   ]
  },
  {
   "cell_type": "code",
   "execution_count": 51,
   "metadata": {
    "colab": {
     "base_uri": "https://localhost:8080/"
    },
    "id": "ScATnXgpfDrU",
    "outputId": "044cb8b1-6165-4891-a0ad-0a95bb0bda13"
   },
   "outputs": [
    {
     "data": {
      "text/plain": [
       "CRI_YM      202005\n",
       "TAG        생활/사무용품\n",
       "평일휴일            평일\n",
       "요일               월\n",
       "시간대       D.14-18시\n",
       "성별               M\n",
       "연령대          C.4O대\n",
       "건수합계          6225\n",
       "Name: 1, dtype: object"
      ]
     },
     "execution_count": 51,
     "metadata": {},
     "output_type": "execute_result"
    }
   ],
   "source": [
    "df.loc[1]"
   ]
  },
  {
   "cell_type": "code",
   "execution_count": 60,
   "metadata": {
    "id": "sqlmakDuW0VQ"
   },
   "outputs": [],
   "source": [
    "#라벨인코딩을 해주자\n",
    "# 지금데이터는 안해줘도 됨. 다 수치화해서"
   ]
  },
  {
   "cell_type": "code",
   "execution_count": 26,
   "metadata": {
    "id": "tmvEjke75WMo"
   },
   "outputs": [],
   "source": [
    "X_train, X_test, y_train, y_test = train_test_split(\n",
    "    df[['CRI_YM', '평일휴일', '요일', '시간대', '성별', '연령대', '건수합계',\n",
    "       '인터넷 쇼핑 이용자 비율 (%)', '월 평균 구매빈도-1회 미만 (%)', '월 평균 구매빈도-1~2회 미만 (%)',\n",
    "       '월 평균 구매빈도-2~3회 미만 (%)', '월 평균 구매빈도-3회 이상 (%)', '월 평균 구매빈도-평균 (회)']],\n",
    "    df['TAG'],\n",
    "    test_size=0.2,\n",
    "    random_state=42\n",
    "\n",
    ")"
   ]
  },
  {
   "cell_type": "code",
   "execution_count": 27,
   "metadata": {
    "colab": {
     "base_uri": "https://localhost:8080/"
    },
    "id": "s5NdTjB3NUwK",
    "outputId": "4d9881cf-a4dd-4078-9ef8-4f243559a8f5"
   },
   "outputs": [
    {
     "data": {
      "text/plain": [
       "((15997, 13), (4000, 13))"
      ]
     },
     "execution_count": 27,
     "metadata": {},
     "output_type": "execute_result"
    }
   ],
   "source": [
    "X_train.shape, X_test.shape"
   ]
  },
  {
   "cell_type": "code",
   "execution_count": 28,
   "metadata": {
    "colab": {
     "base_uri": "https://localhost:8080/"
    },
    "id": "PmO5nWPDNYb5",
    "outputId": "7691268b-f3af-4b87-e7ae-f26002aa14a3"
   },
   "outputs": [
    {
     "data": {
      "text/plain": [
       "((15997,), (4000,))"
      ]
     },
     "execution_count": 28,
     "metadata": {},
     "output_type": "execute_result"
    }
   ],
   "source": [
    "y_train.shape, y_test.shape"
   ]
  },
  {
   "cell_type": "code",
   "execution_count": 29,
   "metadata": {
    "colab": {
     "base_uri": "https://localhost:8080/"
    },
    "id": "rU_Ir9Q1NaVZ",
    "outputId": "22a6ba7d-2cae-4759-d376-113a971b2526"
   },
   "outputs": [
    {
     "data": {
      "text/plain": [
       "5748                   패션/화장품\n",
       "1688                   패션/화장품\n",
       "8174                     애완용품\n",
       "10194    생활/취미/사무용품/인테리어/골프용품\n",
       "4667                   패션/화장품\n",
       "5198     생활/취미/사무용품/인테리어/골프용품\n",
       "196      생활/취미/사무용품/인테리어/골프용품\n",
       "518                       식료품\n",
       "19140    생활/취미/사무용품/인테리어/골프용품\n",
       "17652                  패션/화장품\n",
       "Name: TAG, dtype: object"
      ]
     },
     "execution_count": 29,
     "metadata": {},
     "output_type": "execute_result"
    }
   ],
   "source": [
    "y_train[:10]"
   ]
  },
  {
   "cell_type": "code",
   "execution_count": 30,
   "metadata": {
    "id": "QqbJsSUANcwi"
   },
   "outputs": [],
   "source": [
    "## 단일 모델들에 대한 객체 생성\n",
    "## voting(hard/soft)"
   ]
  },
  {
   "cell_type": "code",
   "execution_count": 43,
   "metadata": {
    "colab": {
     "base_uri": "https://localhost:8080/"
    },
    "id": "jSwD8zLON0H5",
    "outputId": "7b88529d-fd19-4d1a-9143-80ead3ec25a6"
   },
   "outputs": [
    {
     "data": {
      "text/plain": [
       "DecisionTreeClassifier(max_depth=3, max_features=13, random_state=100)"
      ]
     },
     "execution_count": 43,
     "metadata": {},
     "output_type": "execute_result"
    }
   ],
   "source": [
    "dt = DecisionTreeClassifier(\n",
    "    criterion='gini',\n",
    "    max_depth = 3,\n",
    "    max_features = 13,\n",
    "    random_state = 100\n",
    ")\n",
    "dt.fit(X_train, y_train)"
   ]
  },
  {
   "cell_type": "code",
   "execution_count": 52,
   "metadata": {
    "colab": {
     "base_uri": "https://localhost:8080/"
    },
    "id": "xInVnpTEN7dp",
    "outputId": "1d95171b-98f9-4882-bdcb-b2051e6fbc25"
   },
   "outputs": [
    {
     "data": {
      "text/plain": [
       "SVC(C=0.1, gamma=10, probability=True, random_state=10)"
      ]
     },
     "execution_count": 52,
     "metadata": {},
     "output_type": "execute_result"
    }
   ],
   "source": [
    "svc = SVC(\n",
    "    kernel = 'rbf',\n",
    "    C=0.1,\n",
    "    gamma=10,\n",
    "    probability=True,\n",
    "    random_state = 10\n",
    ")\n",
    "svc.fit(X_train, y_train)"
   ]
  },
  {
   "cell_type": "code",
   "execution_count": 45,
   "metadata": {
    "colab": {
     "base_uri": "https://localhost:8080/"
    },
    "id": "6SbAoGfoPpSG",
    "outputId": "f250f20c-b8f2-4479-8d0f-d5533fa7e095"
   },
   "outputs": [
    {
     "data": {
      "text/plain": [
       "LogisticRegression()"
      ]
     },
     "execution_count": 45,
     "metadata": {},
     "output_type": "execute_result"
    }
   ],
   "source": [
    "lr = LogisticRegression()\n",
    "lr.fit(X_train, y_train)"
   ]
  },
  {
   "cell_type": "code",
   "execution_count": 46,
   "metadata": {
    "id": "XZMRZTRpS-xI"
   },
   "outputs": [],
   "source": [
    "dt_predt = dt.predict(X_test)"
   ]
  },
  {
   "cell_type": "code",
   "execution_count": 47,
   "metadata": {
    "id": "sjgaS1I9TApH"
   },
   "outputs": [],
   "source": [
    "svc_predt = svc.predict(X_test)"
   ]
  },
  {
   "cell_type": "code",
   "execution_count": 48,
   "metadata": {
    "id": "0I_PX7w5TBk4"
   },
   "outputs": [],
   "source": [
    "lr_predt = lr.predict(X_test)"
   ]
  },
  {
   "cell_type": "code",
   "execution_count": 49,
   "metadata": {
    "colab": {
     "base_uri": "https://localhost:8080/"
    },
    "id": "xb5z3ubeTEZ4",
    "outputId": "86440df9-a086-45cd-e997-000d95207e9f"
   },
   "outputs": [
    {
     "data": {
      "text/plain": [
       "(0.61075, 0.6115)"
      ]
     },
     "execution_count": 49,
     "metadata": {},
     "output_type": "execute_result"
    }
   ],
   "source": [
    "dt_acc = accuracy_score(y_test, dt_predt)\n",
    "#svc_acc = accuracy_score(y_test, svc_predt)\n",
    "lr_acc = accuracy_score(y_test, lr_predt)\n",
    "dt_acc, lr_acc"
   ]
  },
  {
   "cell_type": "code",
   "execution_count": 51,
   "metadata": {
    "colab": {
     "base_uri": "https://localhost:8080/",
     "height": 248
    },
    "id": "xML5x_iKTGjI",
    "outputId": "165fe927-2a6e-4795-a756-57ccd197a570"
   },
   "outputs": [
    {
     "ename": "NameError",
     "evalue": "ignored",
     "output_type": "error",
     "traceback": [
      "\u001b[0;31m---------------------------------------------------------------------------\u001b[0m",
      "\u001b[0;31mNameError\u001b[0m                                 Traceback (most recent call last)",
      "\u001b[0;32m<ipython-input-51-750681aa48f3>\u001b[0m in \u001b[0;36m<module>\u001b[0;34m()\u001b[0m\n\u001b[1;32m      3\u001b[0m     estimators= [\n\u001b[1;32m      4\u001b[0m         \u001b[0;34m(\u001b[0m\u001b[0;34m'decision tree'\u001b[0m\u001b[0;34m,\u001b[0m \u001b[0mdt\u001b[0m\u001b[0;34m)\u001b[0m\u001b[0;34m,\u001b[0m\u001b[0;34m\u001b[0m\u001b[0;34m\u001b[0m\u001b[0m\n\u001b[0;32m----> 5\u001b[0;31m         \u001b[0;34m(\u001b[0m\u001b[0;34m'svc'\u001b[0m\u001b[0;34m,\u001b[0m \u001b[0msvc\u001b[0m\u001b[0;34m)\u001b[0m\u001b[0;34m,\u001b[0m\u001b[0;34m\u001b[0m\u001b[0;34m\u001b[0m\u001b[0m\n\u001b[0m\u001b[1;32m      6\u001b[0m         \u001b[0;34m(\u001b[0m\u001b[0;34m'lr'\u001b[0m\u001b[0;34m,\u001b[0m \u001b[0mlr\u001b[0m\u001b[0;34m)\u001b[0m\u001b[0;34m\u001b[0m\u001b[0;34m\u001b[0m\u001b[0m\n\u001b[1;32m      7\u001b[0m     ],\n",
      "\u001b[0;31mNameError\u001b[0m: name 'svc' is not defined"
     ]
    }
   ],
   "source": [
    "## 하드 보팅\n",
    "voting_clf1 = VotingClassifier(\n",
    "    estimators= [\n",
    "        ('decision tree', dt), \n",
    "        ('svc', svc), \n",
    "        ('lr', lr)\n",
    "    ],\n",
    "    weights=[1, 1, 1],\n",
    "    voting='hard'\n",
    ")\n",
    "voting_clf1.fit(X_train, y_train)\n",
    "hard_voting_predicted = voting_clf1.predict(X_test)\n",
    "accuracy_score(y_test, hard_voting_predicted)"
   ]
  },
  {
   "cell_type": "code",
   "execution_count": null,
   "metadata": {
    "id": "JpEPBuvNjbik"
   },
   "outputs": [],
   "source": [
    "## 소프트 보팅\n",
    "# voting_clf2 = VotingClassifier(\n",
    "#     estimators= [\n",
    "#         ('decision tree', dt), \n",
    "#         ('svc', svc), \n",
    "#         ('lr', lr)\n",
    "#     ],\n",
    "#     weights=[1, 1, 1],\n",
    "#     voting='soft'\n",
    "# )\n",
    "# voting_clf2.fit(X_train, y_train)\n",
    "# soft_voting_predicted = voting_clf2.predict(X_test)\n",
    "# accuracy_score(y_test, soft_voting_predicted)"
   ]
  },
  {
   "cell_type": "code",
   "execution_count": null,
   "metadata": {
    "id": "cFHrymmejfS3"
   },
   "outputs": [],
   "source": [
    "### 그래프로 그려보세요. accuracy(dtree, knn, svm, hard voting, soft voting)\n",
    "# import matplotlib.pyplot as plt\n",
    "# import numpy as np\n",
    "# %matplotlib inline\n",
    "\n",
    "# x = np.arange(2)\n",
    "# plt.bar(x, height= [\n",
    "#                     accuracy_score(y_test, hard_voting_predicted),\n",
    "#                     accuracy_score(y_test, soft_voting_predicted)\n",
    "#             ])\n",
    "# plt.xticks(x, ['hard voting','soft voting']);"
   ]
  },
  {
   "cell_type": "code",
   "execution_count": 38,
   "metadata": {
    "colab": {
     "base_uri": "https://localhost:8080/"
    },
    "id": "G5pBhQEzjg-T",
    "outputId": "2657cf78-9696-4043-bf0b-b25b3c4d14a8"
   },
   "outputs": [
    {
     "data": {
      "text/plain": [
       "RandomForestClassifier(max_depth=5, random_state=10)"
      ]
     },
     "execution_count": 38,
     "metadata": {},
     "output_type": "execute_result"
    }
   ],
   "source": [
    "## bagging\n",
    "rf = RandomForestClassifier(\n",
    "    n_estimators=100,\n",
    "    max_depth=5,\n",
    "    random_state=10\n",
    ")\n",
    "rf.fit(X_train, y_train)"
   ]
  },
  {
   "cell_type": "code",
   "execution_count": 39,
   "metadata": {
    "colab": {
     "base_uri": "https://localhost:8080/"
    },
    "id": "CGIdQQ4jjiOl",
    "outputId": "da79719a-4ee5-41fe-e8fe-7bedc29651dc"
   },
   "outputs": [
    {
     "data": {
      "text/plain": [
       "0.60425"
      ]
     },
     "execution_count": 39,
     "metadata": {},
     "output_type": "execute_result"
    }
   ],
   "source": [
    "rf_predt = rf.predict(X_test)\n",
    "rf_acc = accuracy_score(y_test, rf_predt)\n",
    "rf_acc"
   ]
  },
  {
   "cell_type": "code",
   "execution_count": 23,
   "metadata": {
    "id": "Wcsfoxu-jlVg"
   },
   "outputs": [],
   "source": [
    "# x = np.arange(3)\n",
    "# plt.bar(x, height= [\n",
    "#                     accuracy_score(y_test, hard_voting_predicted),\n",
    "#                     accuracy_score(y_test, soft_voting_predicted),\n",
    "#                     accuracy_score(y_test, rf_predt)\n",
    "#             ])\n",
    "# plt.xticks(x, ['hard voting','soft voting', 'bagging']);"
   ]
  },
  {
   "cell_type": "code",
   "execution_count": 24,
   "metadata": {
    "id": "pkxd6FOCjnCN"
   },
   "outputs": [],
   "source": [
    "# confusion_matrix(y_test, soft_voting_predicted)"
   ]
  },
  {
   "cell_type": "code",
   "execution_count": 40,
   "metadata": {
    "colab": {
     "base_uri": "https://localhost:8080/"
    },
    "id": "U96G6XSfjqvt",
    "outputId": "bcdcd3bc-d7f5-4081-e211-e268d349932f"
   },
   "outputs": [
    {
     "data": {
      "text/plain": [
       "array([[2405,    0,    0,    2],\n",
       "       [ 298,    0,    0,    0],\n",
       "       [ 324,    0,    0,    0],\n",
       "       [ 959,    0,    0,   12]])"
      ]
     },
     "execution_count": 40,
     "metadata": {},
     "output_type": "execute_result"
    }
   ],
   "source": [
    "confusion_matrix(y_test, rf_predt)"
   ]
  },
  {
   "cell_type": "code",
   "execution_count": 41,
   "metadata": {
    "id": "IbK3wOBzjuQd"
   },
   "outputs": [],
   "source": [
    "gbc = GradientBoostingClassifier(\n",
    "     random_state=42\n",
    ").fit(X_train, y_train)"
   ]
  },
  {
   "cell_type": "code",
   "execution_count": 42,
   "metadata": {
    "colab": {
     "base_uri": "https://localhost:8080/"
    },
    "id": "RU6mbJLZjvTT",
    "outputId": "0a50f45c-6ea7-48c7-fa8a-ab1b1abe9708"
   },
   "outputs": [
    {
     "data": {
      "text/plain": [
       "0.62475"
      ]
     },
     "execution_count": 42,
     "metadata": {},
     "output_type": "execute_result"
    }
   ],
   "source": [
    "gbc_predicted = gbc.predict(X_test)\n",
    "accuracy_score(y_test, gbc_predicted)"
   ]
  },
  {
   "cell_type": "code",
   "execution_count": null,
   "metadata": {
    "id": "Z0BykkxskPrj"
   },
   "outputs": [],
   "source": []
  }
 ],
 "metadata": {
  "colab": {
   "collapsed_sections": [],
   "name": "앙상블 연습(쇼핑몰프로젝트데이터).ipynb",
   "provenance": []
  },
  "kernelspec": {
   "display_name": "Python 3",
   "language": "python",
   "name": "python3"
  },
  "language_info": {
   "codemirror_mode": {
    "name": "ipython",
    "version": 3
   },
   "file_extension": ".py",
   "mimetype": "text/x-python",
   "name": "python",
   "nbconvert_exporter": "python",
   "pygments_lexer": "ipython3",
   "version": "3.7.4"
  }
 },
 "nbformat": 4,
 "nbformat_minor": 1
}
