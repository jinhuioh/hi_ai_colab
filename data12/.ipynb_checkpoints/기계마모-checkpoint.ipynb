{
 "cells": [
  {
   "cell_type": "code",
   "execution_count": 249,
   "id": "2e5a194c",
   "metadata": {},
   "outputs": [],
   "source": [
    "import pandas as pd\n",
    "import numpy as np\n",
    "\n",
    "# 주요 라이브러리 import\n",
    "import warnings\n",
    "warnings.filterwarnings(action='ignore')\n",
    "import time\n",
    "from IPython.display import Image\n",
    "from sklearn.datasets import fetch_openml\n",
    "import sklearn.datasets as data\n",
    "from sklearn.model_selection import train_test_split\n",
    "from sklearn.metrics import accuracy_score\n",
    "import numpy as np\n",
    "import pandas as pd\n",
    "import matplotlib.pyplot as plt\n",
    "import seaborn as sns\n",
    "%matplotlib inline\n",
    "from sklearn.preprocessing import LabelEncoder#라벨인코더 임포트\n",
    "from sklearn.model_selection import KFold\n",
    "\n",
    "from sklearn.tree import DecisionTreeClassifier\n",
    "from sklearn.ensemble import RandomForestClassifier\n",
    "from sklearn.linear_model import LogisticRegression\n",
    "from sklearn.svm import SVC\n",
    "from sklearn.metrics import accuracy_score\n",
    "\n",
    "from pandas.plotting import parallel_coordinates#코디네이츠 그래프 그릴 때 필요한 라이브러리\n",
    "from sklearn.model_selection import train_test_split\n",
    "\n",
    "from sklearn.neighbors import KNeighborsClassifier#모델링 중 하나\n",
    "#cross_val_score: 다양한 셈플링을 해서 여러번 테스트-->평균치를 구해본다.\n",
    "from sklearn.model_selection import cross_val_score#crossvaludation해주는거\n",
    "from sklearn.metrics import *\n",
    "\n",
    "from sklearn.model_selection import GridSearchCV#그리드서치\n",
    "from sklearn.preprocessing import StandardScaler #표준화(평균을 기준)\n",
    "from sklearn.preprocessing import MinMaxScaler # 정규화(정해진 규칙 기준, mix-max기준)\n",
    "#이거 임포트 해줘야 차트에서 오류안남!!! 한글파일때문에 오류나는거.\n",
    "from matplotlib import rc, font_manager\n",
    "import matplotlib.font_manager as fm\n",
    "# 디렉토리 및 파일 이름에 맞추어 변경\n",
    "font_location = 'C:/Windows/Fonts/malgun.ttf'#윈도우안에있는 폰트파일주소.\n",
    "#font_location = '../NanumGothic.ttf'\n",
    "font_name = fm.FontProperties(fname=font_location).get_name()\n",
    "rc('font', family=font_name)"
   ]
  },
  {
   "cell_type": "code",
   "execution_count": 250,
   "id": "4a0c5fe9",
   "metadata": {},
   "outputs": [
    {
     "name": "stdout",
     "output_type": "stream",
     "text": [
      "10000\n"
     ]
    },
    {
     "data": {
      "text/html": [
       "<div>\n",
       "<style scoped>\n",
       "    .dataframe tbody tr th:only-of-type {\n",
       "        vertical-align: middle;\n",
       "    }\n",
       "\n",
       "    .dataframe tbody tr th {\n",
       "        vertical-align: top;\n",
       "    }\n",
       "\n",
       "    .dataframe thead th {\n",
       "        text-align: right;\n",
       "    }\n",
       "</style>\n",
       "<table border=\"1\" class=\"dataframe\">\n",
       "  <thead>\n",
       "    <tr style=\"text-align: right;\">\n",
       "      <th></th>\n",
       "      <th>UDI</th>\n",
       "      <th>Product ID</th>\n",
       "      <th>Type</th>\n",
       "      <th>Air temperature [K]</th>\n",
       "      <th>Process temperature [K]</th>\n",
       "      <th>Rotational speed [rpm]</th>\n",
       "      <th>Torque [Nm]</th>\n",
       "      <th>Tool wear [min]</th>\n",
       "      <th>Machine failure</th>\n",
       "      <th>TWF</th>\n",
       "      <th>HDF</th>\n",
       "      <th>PWF</th>\n",
       "      <th>OSF</th>\n",
       "      <th>RNF</th>\n",
       "    </tr>\n",
       "  </thead>\n",
       "  <tbody>\n",
       "    <tr>\n",
       "      <th>0</th>\n",
       "      <td>1</td>\n",
       "      <td>M14860</td>\n",
       "      <td>M</td>\n",
       "      <td>298.1</td>\n",
       "      <td>308.6</td>\n",
       "      <td>1551</td>\n",
       "      <td>42.8</td>\n",
       "      <td>0</td>\n",
       "      <td>0</td>\n",
       "      <td>0</td>\n",
       "      <td>0</td>\n",
       "      <td>0</td>\n",
       "      <td>0</td>\n",
       "      <td>0</td>\n",
       "    </tr>\n",
       "    <tr>\n",
       "      <th>1</th>\n",
       "      <td>2</td>\n",
       "      <td>L47181</td>\n",
       "      <td>L</td>\n",
       "      <td>298.2</td>\n",
       "      <td>308.7</td>\n",
       "      <td>1408</td>\n",
       "      <td>46.3</td>\n",
       "      <td>3</td>\n",
       "      <td>0</td>\n",
       "      <td>0</td>\n",
       "      <td>0</td>\n",
       "      <td>0</td>\n",
       "      <td>0</td>\n",
       "      <td>0</td>\n",
       "    </tr>\n",
       "    <tr>\n",
       "      <th>2</th>\n",
       "      <td>3</td>\n",
       "      <td>L47182</td>\n",
       "      <td>L</td>\n",
       "      <td>298.1</td>\n",
       "      <td>308.5</td>\n",
       "      <td>1498</td>\n",
       "      <td>49.4</td>\n",
       "      <td>5</td>\n",
       "      <td>0</td>\n",
       "      <td>0</td>\n",
       "      <td>0</td>\n",
       "      <td>0</td>\n",
       "      <td>0</td>\n",
       "      <td>0</td>\n",
       "    </tr>\n",
       "    <tr>\n",
       "      <th>3</th>\n",
       "      <td>4</td>\n",
       "      <td>L47183</td>\n",
       "      <td>L</td>\n",
       "      <td>298.2</td>\n",
       "      <td>308.6</td>\n",
       "      <td>1433</td>\n",
       "      <td>39.5</td>\n",
       "      <td>7</td>\n",
       "      <td>0</td>\n",
       "      <td>0</td>\n",
       "      <td>0</td>\n",
       "      <td>0</td>\n",
       "      <td>0</td>\n",
       "      <td>0</td>\n",
       "    </tr>\n",
       "    <tr>\n",
       "      <th>4</th>\n",
       "      <td>5</td>\n",
       "      <td>L47184</td>\n",
       "      <td>L</td>\n",
       "      <td>298.2</td>\n",
       "      <td>308.7</td>\n",
       "      <td>1408</td>\n",
       "      <td>40.0</td>\n",
       "      <td>9</td>\n",
       "      <td>0</td>\n",
       "      <td>0</td>\n",
       "      <td>0</td>\n",
       "      <td>0</td>\n",
       "      <td>0</td>\n",
       "      <td>0</td>\n",
       "    </tr>\n",
       "  </tbody>\n",
       "</table>\n",
       "</div>"
      ],
      "text/plain": [
       "   UDI Product ID Type  Air temperature [K]  Process temperature [K]  \\\n",
       "0    1     M14860    M                298.1                    308.6   \n",
       "1    2     L47181    L                298.2                    308.7   \n",
       "2    3     L47182    L                298.1                    308.5   \n",
       "3    4     L47183    L                298.2                    308.6   \n",
       "4    5     L47184    L                298.2                    308.7   \n",
       "\n",
       "   Rotational speed [rpm]  Torque [Nm]  Tool wear [min]  Machine failure  TWF  \\\n",
       "0                    1551         42.8                0                0    0   \n",
       "1                    1408         46.3                3                0    0   \n",
       "2                    1498         49.4                5                0    0   \n",
       "3                    1433         39.5                7                0    0   \n",
       "4                    1408         40.0                9                0    0   \n",
       "\n",
       "   HDF  PWF  OSF  RNF  \n",
       "0    0    0    0    0  \n",
       "1    0    0    0    0  \n",
       "2    0    0    0    0  \n",
       "3    0    0    0    0  \n",
       "4    0    0    0    0  "
      ]
     },
     "execution_count": 250,
     "metadata": {},
     "output_type": "execute_result"
    }
   ],
   "source": [
    "df = pd.read_csv('./기계마모.csv')\n",
    "print(len(df))\n",
    "df.head()"
   ]
  },
  {
   "cell_type": "markdown",
   "id": "5be5a9ec",
   "metadata": {},
   "source": [
    "케클사이트의 기계마모 데이터셋 : \n",
    "https://www.kaggle.com/datasets/shivamb/machine-predictive-maintenance-classification\n",
    "\n",
    "\n",
    "## 컬럼내용:\n",
    "Air temperature: [K]공기 온도 [K]로 나중에 300 K 부근에서 2 K의 표준 편차로 정규화된 랜덤 워크 프로세스를 사용하여 생성\n",
    "\n",
    "Process temperature [K]: 공정 온도 [K]로 1 K의 표준 편차로 정규화된 랜덤 워크 프로세스를 사용하여 생성되며, 공기 온도에 10 K를 더합니다.\n",
    "\n",
    "Rotational speed [rpm]: 회전 속도 [rpm]로 2860W의 전력으로 계산되며, 정규 분포 노이즈가 중첩됩니다.\n",
    "\n",
    "Torque [Nm]: 토크 [Nm]로 토크 값은 일반적으로 40Nm 부근에 분포하며, Δ = 10Nm이며 음의 값은 없습니다.\n",
    "\n",
    "Tool wear [min]: 공구 마모 [분]로 품질 변형 H/M/L은 공정에서 사용한 공구에 5/3/30분의 공구 마모를 더합니다.\n",
    "\n",
    "Machine failure: 특정 데이터 지점에서 기계가 고장났는지 여부를 나타내는 '기계 고장' 라벨."
   ]
  },
  {
   "cell_type": "code",
   "execution_count": 251,
   "id": "c65fefb7",
   "metadata": {},
   "outputs": [
    {
     "data": {
      "text/html": [
       "<div>\n",
       "<style scoped>\n",
       "    .dataframe tbody tr th:only-of-type {\n",
       "        vertical-align: middle;\n",
       "    }\n",
       "\n",
       "    .dataframe tbody tr th {\n",
       "        vertical-align: top;\n",
       "    }\n",
       "\n",
       "    .dataframe thead th {\n",
       "        text-align: right;\n",
       "    }\n",
       "</style>\n",
       "<table border=\"1\" class=\"dataframe\">\n",
       "  <thead>\n",
       "    <tr style=\"text-align: right;\">\n",
       "      <th></th>\n",
       "      <th>UDI</th>\n",
       "      <th>Air temperature [K]</th>\n",
       "      <th>Process temperature [K]</th>\n",
       "      <th>Rotational speed [rpm]</th>\n",
       "      <th>Torque [Nm]</th>\n",
       "      <th>Tool wear [min]</th>\n",
       "      <th>Machine failure</th>\n",
       "      <th>TWF</th>\n",
       "      <th>HDF</th>\n",
       "      <th>PWF</th>\n",
       "      <th>OSF</th>\n",
       "      <th>RNF</th>\n",
       "    </tr>\n",
       "  </thead>\n",
       "  <tbody>\n",
       "    <tr>\n",
       "      <th>count</th>\n",
       "      <td>10000.00000</td>\n",
       "      <td>10000.000000</td>\n",
       "      <td>10000.000000</td>\n",
       "      <td>10000.000000</td>\n",
       "      <td>10000.000000</td>\n",
       "      <td>10000.000000</td>\n",
       "      <td>10000.000000</td>\n",
       "      <td>10000.000000</td>\n",
       "      <td>10000.000000</td>\n",
       "      <td>10000.000000</td>\n",
       "      <td>10000.000000</td>\n",
       "      <td>10000.00000</td>\n",
       "    </tr>\n",
       "    <tr>\n",
       "      <th>mean</th>\n",
       "      <td>5000.50000</td>\n",
       "      <td>300.004930</td>\n",
       "      <td>310.005560</td>\n",
       "      <td>1538.776100</td>\n",
       "      <td>39.986910</td>\n",
       "      <td>107.951000</td>\n",
       "      <td>0.033900</td>\n",
       "      <td>0.004600</td>\n",
       "      <td>0.011500</td>\n",
       "      <td>0.009500</td>\n",
       "      <td>0.009800</td>\n",
       "      <td>0.00190</td>\n",
       "    </tr>\n",
       "    <tr>\n",
       "      <th>std</th>\n",
       "      <td>2886.89568</td>\n",
       "      <td>2.000259</td>\n",
       "      <td>1.483734</td>\n",
       "      <td>179.284096</td>\n",
       "      <td>9.968934</td>\n",
       "      <td>63.654147</td>\n",
       "      <td>0.180981</td>\n",
       "      <td>0.067671</td>\n",
       "      <td>0.106625</td>\n",
       "      <td>0.097009</td>\n",
       "      <td>0.098514</td>\n",
       "      <td>0.04355</td>\n",
       "    </tr>\n",
       "    <tr>\n",
       "      <th>min</th>\n",
       "      <td>1.00000</td>\n",
       "      <td>295.300000</td>\n",
       "      <td>305.700000</td>\n",
       "      <td>1168.000000</td>\n",
       "      <td>3.800000</td>\n",
       "      <td>0.000000</td>\n",
       "      <td>0.000000</td>\n",
       "      <td>0.000000</td>\n",
       "      <td>0.000000</td>\n",
       "      <td>0.000000</td>\n",
       "      <td>0.000000</td>\n",
       "      <td>0.00000</td>\n",
       "    </tr>\n",
       "    <tr>\n",
       "      <th>25%</th>\n",
       "      <td>2500.75000</td>\n",
       "      <td>298.300000</td>\n",
       "      <td>308.800000</td>\n",
       "      <td>1423.000000</td>\n",
       "      <td>33.200000</td>\n",
       "      <td>53.000000</td>\n",
       "      <td>0.000000</td>\n",
       "      <td>0.000000</td>\n",
       "      <td>0.000000</td>\n",
       "      <td>0.000000</td>\n",
       "      <td>0.000000</td>\n",
       "      <td>0.00000</td>\n",
       "    </tr>\n",
       "    <tr>\n",
       "      <th>50%</th>\n",
       "      <td>5000.50000</td>\n",
       "      <td>300.100000</td>\n",
       "      <td>310.100000</td>\n",
       "      <td>1503.000000</td>\n",
       "      <td>40.100000</td>\n",
       "      <td>108.000000</td>\n",
       "      <td>0.000000</td>\n",
       "      <td>0.000000</td>\n",
       "      <td>0.000000</td>\n",
       "      <td>0.000000</td>\n",
       "      <td>0.000000</td>\n",
       "      <td>0.00000</td>\n",
       "    </tr>\n",
       "    <tr>\n",
       "      <th>75%</th>\n",
       "      <td>7500.25000</td>\n",
       "      <td>301.500000</td>\n",
       "      <td>311.100000</td>\n",
       "      <td>1612.000000</td>\n",
       "      <td>46.800000</td>\n",
       "      <td>162.000000</td>\n",
       "      <td>0.000000</td>\n",
       "      <td>0.000000</td>\n",
       "      <td>0.000000</td>\n",
       "      <td>0.000000</td>\n",
       "      <td>0.000000</td>\n",
       "      <td>0.00000</td>\n",
       "    </tr>\n",
       "    <tr>\n",
       "      <th>max</th>\n",
       "      <td>10000.00000</td>\n",
       "      <td>304.500000</td>\n",
       "      <td>313.800000</td>\n",
       "      <td>2886.000000</td>\n",
       "      <td>76.600000</td>\n",
       "      <td>253.000000</td>\n",
       "      <td>1.000000</td>\n",
       "      <td>1.000000</td>\n",
       "      <td>1.000000</td>\n",
       "      <td>1.000000</td>\n",
       "      <td>1.000000</td>\n",
       "      <td>1.00000</td>\n",
       "    </tr>\n",
       "  </tbody>\n",
       "</table>\n",
       "</div>"
      ],
      "text/plain": [
       "               UDI  Air temperature [K]  Process temperature [K]  \\\n",
       "count  10000.00000         10000.000000             10000.000000   \n",
       "mean    5000.50000           300.004930               310.005560   \n",
       "std     2886.89568             2.000259                 1.483734   \n",
       "min        1.00000           295.300000               305.700000   \n",
       "25%     2500.75000           298.300000               308.800000   \n",
       "50%     5000.50000           300.100000               310.100000   \n",
       "75%     7500.25000           301.500000               311.100000   \n",
       "max    10000.00000           304.500000               313.800000   \n",
       "\n",
       "       Rotational speed [rpm]   Torque [Nm]  Tool wear [min]  Machine failure  \\\n",
       "count            10000.000000  10000.000000     10000.000000     10000.000000   \n",
       "mean              1538.776100     39.986910       107.951000         0.033900   \n",
       "std                179.284096      9.968934        63.654147         0.180981   \n",
       "min               1168.000000      3.800000         0.000000         0.000000   \n",
       "25%               1423.000000     33.200000        53.000000         0.000000   \n",
       "50%               1503.000000     40.100000       108.000000         0.000000   \n",
       "75%               1612.000000     46.800000       162.000000         0.000000   \n",
       "max               2886.000000     76.600000       253.000000         1.000000   \n",
       "\n",
       "                TWF           HDF           PWF           OSF          RNF  \n",
       "count  10000.000000  10000.000000  10000.000000  10000.000000  10000.00000  \n",
       "mean       0.004600      0.011500      0.009500      0.009800      0.00190  \n",
       "std        0.067671      0.106625      0.097009      0.098514      0.04355  \n",
       "min        0.000000      0.000000      0.000000      0.000000      0.00000  \n",
       "25%        0.000000      0.000000      0.000000      0.000000      0.00000  \n",
       "50%        0.000000      0.000000      0.000000      0.000000      0.00000  \n",
       "75%        0.000000      0.000000      0.000000      0.000000      0.00000  \n",
       "max        1.000000      1.000000      1.000000      1.000000      1.00000  "
      ]
     },
     "execution_count": 251,
     "metadata": {},
     "output_type": "execute_result"
    }
   ],
   "source": [
    "df.describe()"
   ]
  },
  {
   "cell_type": "code",
   "execution_count": 252,
   "id": "4b9ca48a",
   "metadata": {},
   "outputs": [
    {
     "data": {
      "text/plain": [
       "0       0\n",
       "1       0\n",
       "2       0\n",
       "3       0\n",
       "4       0\n",
       "       ..\n",
       "9995    0\n",
       "9996    0\n",
       "9997    0\n",
       "9998    0\n",
       "9999    0\n",
       "Name: Machine failure, Length: 10000, dtype: int64"
      ]
     },
     "execution_count": 252,
     "metadata": {},
     "output_type": "execute_result"
    }
   ],
   "source": [
    "df_test = df.iloc[:,8]\n",
    "df_test"
   ]
  },
  {
   "cell_type": "code",
   "execution_count": 253,
   "id": "447ab5c5",
   "metadata": {
    "scrolled": true
   },
   "outputs": [
    {
     "data": {
      "text/html": [
       "<div>\n",
       "<style scoped>\n",
       "    .dataframe tbody tr th:only-of-type {\n",
       "        vertical-align: middle;\n",
       "    }\n",
       "\n",
       "    .dataframe tbody tr th {\n",
       "        vertical-align: top;\n",
       "    }\n",
       "\n",
       "    .dataframe thead th {\n",
       "        text-align: right;\n",
       "    }\n",
       "</style>\n",
       "<table border=\"1\" class=\"dataframe\">\n",
       "  <thead>\n",
       "    <tr style=\"text-align: right;\">\n",
       "      <th></th>\n",
       "      <th>Air temperature [K]</th>\n",
       "      <th>Process temperature [K]</th>\n",
       "      <th>Rotational speed [rpm]</th>\n",
       "      <th>Torque [Nm]</th>\n",
       "      <th>Tool wear [min]</th>\n",
       "      <th>TWF</th>\n",
       "      <th>HDF</th>\n",
       "      <th>PWF</th>\n",
       "      <th>OSF</th>\n",
       "      <th>RNF</th>\n",
       "    </tr>\n",
       "  </thead>\n",
       "  <tbody>\n",
       "    <tr>\n",
       "      <th>0</th>\n",
       "      <td>298.1</td>\n",
       "      <td>308.6</td>\n",
       "      <td>1551</td>\n",
       "      <td>42.8</td>\n",
       "      <td>0</td>\n",
       "      <td>0</td>\n",
       "      <td>0</td>\n",
       "      <td>0</td>\n",
       "      <td>0</td>\n",
       "      <td>0</td>\n",
       "    </tr>\n",
       "    <tr>\n",
       "      <th>1</th>\n",
       "      <td>298.2</td>\n",
       "      <td>308.7</td>\n",
       "      <td>1408</td>\n",
       "      <td>46.3</td>\n",
       "      <td>3</td>\n",
       "      <td>0</td>\n",
       "      <td>0</td>\n",
       "      <td>0</td>\n",
       "      <td>0</td>\n",
       "      <td>0</td>\n",
       "    </tr>\n",
       "    <tr>\n",
       "      <th>2</th>\n",
       "      <td>298.1</td>\n",
       "      <td>308.5</td>\n",
       "      <td>1498</td>\n",
       "      <td>49.4</td>\n",
       "      <td>5</td>\n",
       "      <td>0</td>\n",
       "      <td>0</td>\n",
       "      <td>0</td>\n",
       "      <td>0</td>\n",
       "      <td>0</td>\n",
       "    </tr>\n",
       "    <tr>\n",
       "      <th>3</th>\n",
       "      <td>298.2</td>\n",
       "      <td>308.6</td>\n",
       "      <td>1433</td>\n",
       "      <td>39.5</td>\n",
       "      <td>7</td>\n",
       "      <td>0</td>\n",
       "      <td>0</td>\n",
       "      <td>0</td>\n",
       "      <td>0</td>\n",
       "      <td>0</td>\n",
       "    </tr>\n",
       "    <tr>\n",
       "      <th>4</th>\n",
       "      <td>298.2</td>\n",
       "      <td>308.7</td>\n",
       "      <td>1408</td>\n",
       "      <td>40.0</td>\n",
       "      <td>9</td>\n",
       "      <td>0</td>\n",
       "      <td>0</td>\n",
       "      <td>0</td>\n",
       "      <td>0</td>\n",
       "      <td>0</td>\n",
       "    </tr>\n",
       "  </tbody>\n",
       "</table>\n",
       "</div>"
      ],
      "text/plain": [
       "   Air temperature [K]  Process temperature [K]  Rotational speed [rpm]  \\\n",
       "0                298.1                    308.6                    1551   \n",
       "1                298.2                    308.7                    1408   \n",
       "2                298.1                    308.5                    1498   \n",
       "3                298.2                    308.6                    1433   \n",
       "4                298.2                    308.7                    1408   \n",
       "\n",
       "   Torque [Nm]  Tool wear [min]  TWF  HDF  PWF  OSF  RNF  \n",
       "0         42.8                0    0    0    0    0    0  \n",
       "1         46.3                3    0    0    0    0    0  \n",
       "2         49.4                5    0    0    0    0    0  \n",
       "3         39.5                7    0    0    0    0    0  \n",
       "4         40.0                9    0    0    0    0    0  "
      ]
     },
     "execution_count": 253,
     "metadata": {},
     "output_type": "execute_result"
    }
   ],
   "source": [
    "#필요없는 컬럼 삭제\n",
    "# df.drop(columns=['Product ID','UDI','Type','TWF','HDF','PWF','OSF','RNF'],inplace=True)\n",
    "df.drop(columns=['Product ID','UDI','Type','Machine failure'],inplace=True)\n",
    "\n",
    "df.head()"
   ]
  },
  {
   "cell_type": "code",
   "execution_count": 254,
   "id": "7ef5f9fd",
   "metadata": {},
   "outputs": [
    {
     "data": {
      "text/plain": [
       "0    0\n",
       "1    0\n",
       "2    0\n",
       "3    0\n",
       "4    0\n",
       "Name: Machine failure, dtype: int64"
      ]
     },
     "execution_count": 254,
     "metadata": {},
     "output_type": "execute_result"
    }
   ],
   "source": [
    "df_test.head()"
   ]
  },
  {
   "cell_type": "code",
   "execution_count": 255,
   "id": "6988c2a9",
   "metadata": {},
   "outputs": [
    {
     "data": {
      "text/plain": [
       "Air temperature [K]        0\n",
       "Process temperature [K]    0\n",
       "Rotational speed [rpm]     0\n",
       "Torque [Nm]                0\n",
       "Tool wear [min]            0\n",
       "TWF                        0\n",
       "HDF                        0\n",
       "PWF                        0\n",
       "OSF                        0\n",
       "RNF                        0\n",
       "dtype: int64"
      ]
     },
     "execution_count": 255,
     "metadata": {},
     "output_type": "execute_result"
    }
   ],
   "source": [
    "df.isnull().sum()"
   ]
  },
  {
   "cell_type": "code",
   "execution_count": 256,
   "id": "a16fa844",
   "metadata": {},
   "outputs": [
    {
     "data": {
      "text/plain": [
       "Air temperature [K]        0\n",
       "Process temperature [K]    0\n",
       "Rotational speed [rpm]     0\n",
       "Torque [Nm]                0\n",
       "Tool wear [min]            0\n",
       "TWF                        0\n",
       "HDF                        0\n",
       "PWF                        0\n",
       "OSF                        0\n",
       "RNF                        0\n",
       "dtype: int64"
      ]
     },
     "execution_count": 256,
     "metadata": {},
     "output_type": "execute_result"
    }
   ],
   "source": [
    "#빈 값이 있는지 채크@\n",
    "df.isnull().sum()"
   ]
  },
  {
   "cell_type": "code",
   "execution_count": 257,
   "id": "59ee840b",
   "metadata": {},
   "outputs": [],
   "source": [
    "#train,test데이터 나누기(split)"
   ]
  },
  {
   "cell_type": "code",
   "execution_count": 258,
   "id": "42b1545e",
   "metadata": {},
   "outputs": [],
   "source": [
    "X_train, X_test, y_train, y_test = train_test_split(\n",
    "                    (df),#문제,\n",
    "                    df_test,#정답,\n",
    "                    test_size = 0.2,#비율,\n",
    "                    random_state=42#시드\n",
    ")"
   ]
  },
  {
   "cell_type": "code",
   "execution_count": 259,
   "id": "a3fb1b47",
   "metadata": {
    "scrolled": true
   },
   "outputs": [
    {
     "data": {
      "text/plain": [
       "(10000, 10)"
      ]
     },
     "execution_count": 259,
     "metadata": {},
     "output_type": "execute_result"
    }
   ],
   "source": [
    "df.shape"
   ]
  },
  {
   "cell_type": "code",
   "execution_count": 260,
   "id": "ae62bde4",
   "metadata": {},
   "outputs": [
    {
     "data": {
      "text/plain": [
       "(10000,)"
      ]
     },
     "execution_count": 260,
     "metadata": {},
     "output_type": "execute_result"
    }
   ],
   "source": [
    "df_test.shape"
   ]
  },
  {
   "cell_type": "code",
   "execution_count": 261,
   "id": "c562ad6b",
   "metadata": {},
   "outputs": [
    {
     "data": {
      "text/plain": [
       "Index(['Air temperature [K]', 'Process temperature [K]',\n",
       "       'Rotational speed [rpm]', 'Torque [Nm]', 'Tool wear [min]', 'TWF',\n",
       "       'HDF', 'PWF', 'OSF', 'RNF'],\n",
       "      dtype='object')"
      ]
     },
     "execution_count": 261,
     "metadata": {},
     "output_type": "execute_result"
    }
   ],
   "source": [
    "df.columns"
   ]
  },
  {
   "cell_type": "code",
   "execution_count": 262,
   "id": "469da18a",
   "metadata": {},
   "outputs": [
    {
     "name": "stdout",
     "output_type": "stream",
     "text": [
      "<class 'pandas.core.frame.DataFrame'>\n",
      "RangeIndex: 10000 entries, 0 to 9999\n",
      "Data columns (total 10 columns):\n",
      " #   Column                   Non-Null Count  Dtype  \n",
      "---  ------                   --------------  -----  \n",
      " 0   Air temperature [K]      10000 non-null  float64\n",
      " 1   Process temperature [K]  10000 non-null  float64\n",
      " 2   Rotational speed [rpm]   10000 non-null  int64  \n",
      " 3   Torque [Nm]              10000 non-null  float64\n",
      " 4   Tool wear [min]          10000 non-null  int64  \n",
      " 5   TWF                      10000 non-null  int64  \n",
      " 6   HDF                      10000 non-null  int64  \n",
      " 7   PWF                      10000 non-null  int64  \n",
      " 8   OSF                      10000 non-null  int64  \n",
      " 9   RNF                      10000 non-null  int64  \n",
      "dtypes: float64(3), int64(7)\n",
      "memory usage: 781.4 KB\n"
     ]
    }
   ],
   "source": [
    "df.info()"
   ]
  },
  {
   "cell_type": "code",
   "execution_count": 263,
   "id": "6ea98352",
   "metadata": {},
   "outputs": [
    {
     "data": {
      "text/plain": [
       "array([[ 298.1,  308.6, 1551. ,   42.8,    0. ,    0. ,    0. ,    0. ,\n",
       "           0. ,    0. ],\n",
       "       [ 298.2,  308.7, 1408. ,   46.3,    3. ,    0. ,    0. ,    0. ,\n",
       "           0. ,    0. ],\n",
       "       [ 298.1,  308.5, 1498. ,   49.4,    5. ,    0. ,    0. ,    0. ,\n",
       "           0. ,    0. ]])"
      ]
     },
     "execution_count": 263,
     "metadata": {},
     "output_type": "execute_result"
    }
   ],
   "source": [
    "df.values[:3]"
   ]
  },
  {
   "cell_type": "code",
   "execution_count": 264,
   "id": "9e2ad8e8",
   "metadata": {},
   "outputs": [],
   "source": [
    "##모델 선정=> cross-validation\n",
    "## knn(k최근접이웃) ,svm, decision tree\n",
    "from sklearn.neighbors import KNeighborsClassifier\n",
    "from sklearn.svm import SVC\n",
    "from sklearn.tree import DecisionTreeClassifier"
   ]
  },
  {
   "cell_type": "code",
   "execution_count": 265,
   "id": "576f44d4",
   "metadata": {},
   "outputs": [],
   "source": [
    "knn = KNeighborsClassifier()#k최근접이웃 객체 생성\n",
    "svm = SVC()\n",
    "dt = DecisionTreeClassifier()\n",
    "model_list = [knn, svm, dt]"
   ]
  },
  {
   "cell_type": "code",
   "execution_count": 266,
   "id": "3f9ed7a3",
   "metadata": {},
   "outputs": [
    {
     "data": {
      "text/plain": [
       "[KNeighborsClassifier(), SVC(), DecisionTreeClassifier()]"
      ]
     },
     "execution_count": 266,
     "metadata": {},
     "output_type": "execute_result"
    }
   ],
   "source": [
    "model_list"
   ]
  },
  {
   "cell_type": "code",
   "execution_count": 267,
   "id": "b4bf332b",
   "metadata": {},
   "outputs": [],
   "source": [
    "def print_cv(model, train, test, k):\n",
    "    # 모델에 따라 교차검증하기 위해 model이라는 파라메터 넣고,\n",
    "    #train, test, k(시드값)도 넣아줌\n",
    "    scores = cross_val_score(model, train, test, cv=k)\n",
    "    print('===============교차검증(cv)결과===============', scores)\n",
    "    mean_scores = np.mean(scores)\n",
    "    print('===============교차검증(cv)평균 결과===============', scores)\n",
    "    return scores, mean_scores\n",
    "#함수의 결과로 여러개의 데이터를 return할 수 있다."
   ]
  },
  {
   "cell_type": "code",
   "execution_count": 268,
   "id": "3366d5e3",
   "metadata": {},
   "outputs": [
    {
     "name": "stdout",
     "output_type": "stream",
     "text": [
      "===============교차검증(cv)결과=============== [0.973125 0.96375  0.97125  0.96875  0.970625]\n",
      "===============교차검증(cv)평균 결과=============== [0.973125 0.96375  0.97125  0.96875  0.970625]\n",
      "^^^===========전체 모델의 교차검증 결과 리스트===============\n",
      "^^^===========전체 모델의 교차검증 결과 평균 리스트===============\n",
      "\n",
      "*********************************************\n",
      "----- 전체 모델 리스트 -----\n",
      "['KNeighborsClassifier', 'SVC', 'DecisionTreeClassifier']\n",
      "----- 전체 모델의 교차검증 결과 리스트 -----\n",
      "[array([0.973125, 0.96375 , 0.97125 , 0.96875 , 0.970625])]\n",
      "----- 전체 모델의 교차검증 결과 평균 -----\n",
      "[0.9695]\n",
      "===============교차검증(cv)결과=============== [0.965625 0.965625 0.965    0.965    0.965   ]\n",
      "===============교차검증(cv)평균 결과=============== [0.965625 0.965625 0.965    0.965    0.965   ]\n",
      "^^^===========전체 모델의 교차검증 결과 리스트===============\n",
      "^^^===========전체 모델의 교차검증 결과 평균 리스트===============\n",
      "\n",
      "*********************************************\n",
      "----- 전체 모델 리스트 -----\n",
      "['KNeighborsClassifier', 'SVC', 'DecisionTreeClassifier']\n",
      "----- 전체 모델의 교차검증 결과 리스트 -----\n",
      "[array([0.973125, 0.96375 , 0.97125 , 0.96875 , 0.970625]), array([0.965625, 0.965625, 0.965   , 0.965   , 0.965   ])]\n",
      "----- 전체 모델의 교차검증 결과 평균 -----\n",
      "[0.9695, 0.9652499999999999]\n",
      "===============교차검증(cv)결과=============== [0.999375 0.999375 0.996875 0.9975   0.99625 ]\n",
      "===============교차검증(cv)평균 결과=============== [0.999375 0.999375 0.996875 0.9975   0.99625 ]\n",
      "^^^===========전체 모델의 교차검증 결과 리스트===============\n",
      "^^^===========전체 모델의 교차검증 결과 평균 리스트===============\n",
      "\n",
      "*********************************************\n",
      "----- 전체 모델 리스트 -----\n",
      "['KNeighborsClassifier', 'SVC', 'DecisionTreeClassifier']\n",
      "----- 전체 모델의 교차검증 결과 리스트 -----\n",
      "[array([0.973125, 0.96375 , 0.97125 , 0.96875 , 0.970625]), array([0.965625, 0.965625, 0.965   , 0.965   , 0.965   ]), array([0.999375, 0.999375, 0.996875, 0.9975  , 0.99625 ])]\n",
      "----- 전체 모델의 교차검증 결과 평균 -----\n",
      "[0.9695, 0.9652499999999999, 0.997875]\n"
     ]
    }
   ],
   "source": [
    "model_names = ['KNeighborsClassifier','SVC','DecisionTreeClassifier']\n",
    "sc_list = []\n",
    "mean_sc_list = []\n",
    "for model in model_list:\n",
    "    sc, mean_sc = print_cv(model, X_train, y_train, 5)\n",
    "    sc_list.append(sc)\n",
    "    print('^^^===========전체 모델의 교차검증 결과 리스트===============')\n",
    "    mean_sc_list.append(mean_sc)\n",
    "    print('^^^===========전체 모델의 교차검증 결과 평균 리스트===============')\n",
    "    \n",
    "    print('\\n*********************************************')\n",
    "    print('----- 전체 모델 리스트 -----')\n",
    "    print(model_names)\n",
    "    print('----- 전체 모델의 교차검증 결과 리스트 -----')\n",
    "    print(sc_list)\n",
    "    print('----- 전체 모델의 교차검증 결과 평균 -----')\n",
    "    print(mean_sc_list)"
   ]
  },
  {
   "cell_type": "code",
   "execution_count": 269,
   "id": "a54ccf9f",
   "metadata": {},
   "outputs": [
    {
     "data": {
      "text/plain": [
       "(array([1., 1., 0., 0., 0., 0., 0., 0., 0., 1.]),\n",
       " array([0.96525  , 0.9685125, 0.971775 , 0.9750375, 0.9783   , 0.9815625,\n",
       "        0.984825 , 0.9880875, 0.99135  , 0.9946125, 0.997875 ]),\n",
       " <BarContainer object of 10 artists>)"
      ]
     },
     "execution_count": 269,
     "metadata": {},
     "output_type": "execute_result"
    },
    {
     "data": {
      "image/png": "[encoded data removed]",
      "text/plain": [
       "<Figure size 432x288 with 1 Axes>"
      ]
     },
     "metadata": {
      "needs_background": "light"
     },
     "output_type": "display_data"
    }
   ],
   "source": [
    "## 3가지 방법을 시각화해서 비교해보자.\n",
    "plt.hist(mean_sc_list)"
   ]
  },
  {
   "cell_type": "code",
   "execution_count": 270,
   "id": "5f727e67",
   "metadata": {},
   "outputs": [],
   "source": [
    "##교차검증결과 Decision Tree를 사용해서 테스트 해보기로 결정!"
   ]
  },
  {
   "cell_type": "code",
   "execution_count": 271,
   "id": "12f464f2",
   "metadata": {},
   "outputs": [],
   "source": [
    "# ##하이퍼 파라메터=> gird search\n",
    "# def grid_search(model, params, k=5):#cv는 꼭 kfold값이 필요하다@!(k값)\n",
    "#     gs_model = GridSearchCV(model, params, cv=k)#모든파라메터에 대해 전부 적용시켜주는 모델 GridSearchCV() \n",
    "#     print(gs_model)"
   ]
  },
  {
   "cell_type": "code",
   "execution_count": 272,
   "id": "200114ff",
   "metadata": {},
   "outputs": [],
   "source": [
    "params = {#하이퍼파라메터 설정으로 가질 수 있는 모든 경우의 수=> 4*3*2=24가지의 경우의 수 생김.\n",
    "    'max_depth':[3, 5, 7, 10],#key:하이퍼파라메터 명, values는 list타입이어야 함.\n",
    "    'random_state': [1,3,5],\n",
    "    'criterion':[\"gini\", \"entropy\"]#혼란스러운 정도(분류의 정도)를 계산하는 기준\n",
    "    \n",
    "}"
   ]
  },
  {
   "cell_type": "code",
   "execution_count": 273,
   "id": "eb180ba2",
   "metadata": {},
   "outputs": [],
   "source": [
    "##하이퍼 파라메터=> gird search\n",
    "def grid_search(model, params, k=5):\n",
    "    gs_model = GridSearchCV(model,params,cv=k)#모든파라메터에 대해 전부 적용시켜주는 모델\n",
    "    #GridSearchCV#모든파라메터에 대해 전부 적용시켜주는 모델\n",
    "    gs_model.fit(X_train, y_train)#훈련시켜보쟈\n",
    "    print('best_estimator_은>> ',gs_model.best_estimator_)##최적의 파라메터가 적용된 모델 객체\n",
    "    print('best_score_은>>> ',gs_model.best_score_)#최적의 파라메터가 적용된 모델로 학습한 정확도 결과(acc)\n",
    "    print('best_params_은>>> ',gs_model.best_params_)#최적의 파라메터(grid_search를 통해서 찾은)\n",
    "    print('gs_model은>> ',gs_model)##grid_search객체\n",
    "    "
   ]
  },
  {
   "cell_type": "code",
   "execution_count": 274,
   "id": "1eae8572",
   "metadata": {},
   "outputs": [
    {
     "name": "stdout",
     "output_type": "stream",
     "text": [
      "best_estimator_은>>  DecisionTreeClassifier(max_depth=5, random_state=1)\n",
      "best_score_은>>>  0.999125\n",
      "best_params_은>>>  {'criterion': 'gini', 'max_depth': 5, 'random_state': 1}\n",
      "gs_model은>>  GridSearchCV(cv=5, estimator=DecisionTreeClassifier(),\n",
      "             param_grid={'criterion': ['gini', 'entropy'],\n",
      "                         'max_depth': [3, 5, 7, 10],\n",
      "                         'random_state': [1, 3, 5]})\n"
     ]
    }
   ],
   "source": [
    "grid_search(dt, params, 5)"
   ]
  },
  {
   "cell_type": "code",
   "execution_count": 275,
   "id": "bfa96374",
   "metadata": {},
   "outputs": [],
   "source": [
    "#최적의 파라메터는 {'criterion': 'entropy', 'max_depth': 10, 'random_state': 5}"
   ]
  },
  {
   "cell_type": "code",
   "execution_count": 276,
   "id": "eb1f7597",
   "metadata": {},
   "outputs": [
    {
     "data": {
      "text/plain": [
       "DecisionTreeClassifier(criterion='entropy', max_depth=10, random_state=5)"
      ]
     },
     "execution_count": 276,
     "metadata": {},
     "output_type": "execute_result"
    }
   ],
   "source": [
    "dt_gs = DecisionTreeClassifier(criterion='entropy', max_depth=10, \n",
    "                               random_state= 5)\n",
    "dt_gs.fit(X_train, y_train)#fit해주자"
   ]
  },
  {
   "cell_type": "code",
   "execution_count": 277,
   "id": "faf3ab3d",
   "metadata": {},
   "outputs": [],
   "source": [
    "#테스트 데이터로 검증해보자.\n",
    "predict_result = None\n",
    "def test_validation(model, X_test, y_test):\n",
    "    global predict_result\n",
    "    predict_result = model.predict(X_test)#예측한 결과\n",
    "    acc = accuracy_score(y_test,predict_result)\n",
    "    print('accuracy>> ',acc)\n",
    "    cf = confusion_matrix(y_test, predict_result)#답안지넣고, 예측값 넣고\n",
    "    #실제(c)-->예측(c,sg),실제(sg)-->예측(c,sg)\n",
    "    #이진분류(binary classification)인 경우에는\n",
    "    #예측할 수 있는 경우의 수는 4가지이다.\n",
    "    #4가지를 표 형태로 정리해주는 것이 confusion_matrix!\n",
    "    #첫번째 행/렬은 c 두번째 행/렬은 sg, abc..순으로 들어감\n",
    "    print('confusion_matrix>> \\n', cf)\n",
    "     ##confusion matrix는 binary classfication인 경우에는 보기가 괜찮으나,\n",
    "    ##multi class classification인 경우에는 보기가 힘들다.\n",
    "    #이럴 때 사용하는 것이 classification report이다.\n",
    "    c_report = classification_report(y_test, predict_result)\n",
    "    print('classification_report>> \\n', c_report)"
   ]
  },
  {
   "cell_type": "code",
   "execution_count": 278,
   "id": "dc91ee0c",
   "metadata": {
    "scrolled": true
   },
   "outputs": [
    {
     "name": "stdout",
     "output_type": "stream",
     "text": [
      "accuracy>>  0.9985\n",
      "confusion_matrix>> \n",
      " [[1938    1]\n",
      " [   2   59]]\n",
      "classification_report>> \n",
      "               precision    recall  f1-score   support\n",
      "\n",
      "           0       1.00      1.00      1.00      1939\n",
      "           1       0.98      0.97      0.98        61\n",
      "\n",
      "    accuracy                           1.00      2000\n",
      "   macro avg       0.99      0.98      0.99      2000\n",
      "weighted avg       1.00      1.00      1.00      2000\n",
      "\n"
     ]
    }
   ],
   "source": [
    "test_validation(dt_gs,X_test, y_test)\n",
    "# c에 recall이 1.00이면, positive비율(100%)\n",
    "#dt_gs = DecisionTreeClassifier(criterion='entropy', max_depth=10, \n",
    "#                                random_state= 5)"
   ]
  },
  {
   "cell_type": "markdown",
   "id": "8e2f493f",
   "metadata": {},
   "source": [
    "### 재현율(recall), 정밀도(precision), f1-score\n",
    "      \n",
    "      정상        고장\n",
    " 정상[[1938(TP)   1(FN)]\n",
    " 고장[  2(FP)    59(TN)]]\n",
    " 열 인덱스:예측\n",
    " 행 인덱스:실제\n",
    " \n",
    " 재현율=> 실제 정상인 값중, 예측이 정상인 값.(1938/(1938+1)) 99.9%\n",
    " \n",
    " \n",
    " 정밀도=> 예측 정상값(1940) 중 정상인 값(1938). (1938/(1940)) 약 99.8%\n",
    " \n",
    " "
   ]
  },
  {
   "cell_type": "code",
   "execution_count": 279,
   "id": "5c761194",
   "metadata": {},
   "outputs": [
    {
     "name": "stdout",
     "output_type": "stream",
     "text": [
      "accuracy>>  0.9985\n",
      "confusion_matrix>> \n",
      " [[1938    1]\n",
      " [   2   59]]\n",
      "classification_report>> \n",
      "               precision    recall  f1-score   support\n",
      "\n",
      "           0       1.00      1.00      1.00      1939\n",
      "           1       0.98      0.97      0.98        61\n",
      "\n",
      "    accuracy                           1.00      2000\n",
      "   macro avg       0.99      0.98      0.99      2000\n",
      "weighted avg       1.00      1.00      1.00      2000\n",
      "\n"
     ]
    }
   ],
   "source": [
    "test_validation(dt_gs, X_test, y_test)"
   ]
  },
  {
   "cell_type": "code",
   "execution_count": 280,
   "id": "4474347f",
   "metadata": {},
   "outputs": [
    {
     "data": {
      "text/plain": [
       "0    1939\n",
       "1      61\n",
       "Name: Machine failure, dtype: int64"
      ]
     },
     "execution_count": 280,
     "metadata": {},
     "output_type": "execute_result"
    }
   ],
   "source": [
    "y_test.value_counts()"
   ]
  },
  {
   "cell_type": "code",
   "execution_count": 281,
   "id": "b935c1a7",
   "metadata": {},
   "outputs": [
    {
     "data": {
      "text/plain": [
       "array([0, 0, 0, ..., 0, 1, 0], dtype=int64)"
      ]
     },
     "execution_count": 281,
     "metadata": {},
     "output_type": "execute_result"
    }
   ],
   "source": [
    "predict_result"
   ]
  },
  {
   "cell_type": "code",
   "execution_count": 282,
   "id": "75715c9c",
   "metadata": {
    "scrolled": true
   },
   "outputs": [
    {
     "data": {
      "text/plain": [
       "6252    0\n",
       "4684    1\n",
       "1731    0\n",
       "4742    0\n",
       "4521    0\n",
       "       ..\n",
       "6412    0\n",
       "8285    0\n",
       "7853    0\n",
       "1095    1\n",
       "6929    0\n",
       "Name: Machine failure, Length: 2000, dtype: int64"
      ]
     },
     "execution_count": 282,
     "metadata": {},
     "output_type": "execute_result"
    }
   ],
   "source": [
    "y_test"
   ]
  },
  {
   "cell_type": "code",
   "execution_count": 283,
   "id": "e9ed530b",
   "metadata": {},
   "outputs": [
    {
     "data": {
      "text/html": [
       "<div>\n",
       "<style scoped>\n",
       "    .dataframe tbody tr th:only-of-type {\n",
       "        vertical-align: middle;\n",
       "    }\n",
       "\n",
       "    .dataframe tbody tr th {\n",
       "        vertical-align: top;\n",
       "    }\n",
       "\n",
       "    .dataframe thead th {\n",
       "        text-align: right;\n",
       "    }\n",
       "</style>\n",
       "<table border=\"1\" class=\"dataframe\">\n",
       "  <thead>\n",
       "    <tr style=\"text-align: right;\">\n",
       "      <th></th>\n",
       "      <th>predict_result</th>\n",
       "      <th>y_test</th>\n",
       "    </tr>\n",
       "  </thead>\n",
       "  <tbody>\n",
       "    <tr>\n",
       "      <th>6252</th>\n",
       "      <td>0</td>\n",
       "      <td>0</td>\n",
       "    </tr>\n",
       "    <tr>\n",
       "      <th>4684</th>\n",
       "      <td>0</td>\n",
       "      <td>1</td>\n",
       "    </tr>\n",
       "    <tr>\n",
       "      <th>1731</th>\n",
       "      <td>0</td>\n",
       "      <td>0</td>\n",
       "    </tr>\n",
       "    <tr>\n",
       "      <th>4742</th>\n",
       "      <td>0</td>\n",
       "      <td>0</td>\n",
       "    </tr>\n",
       "    <tr>\n",
       "      <th>4521</th>\n",
       "      <td>0</td>\n",
       "      <td>0</td>\n",
       "    </tr>\n",
       "    <tr>\n",
       "      <th>...</th>\n",
       "      <td>...</td>\n",
       "      <td>...</td>\n",
       "    </tr>\n",
       "    <tr>\n",
       "      <th>6412</th>\n",
       "      <td>0</td>\n",
       "      <td>0</td>\n",
       "    </tr>\n",
       "    <tr>\n",
       "      <th>8285</th>\n",
       "      <td>0</td>\n",
       "      <td>0</td>\n",
       "    </tr>\n",
       "    <tr>\n",
       "      <th>7853</th>\n",
       "      <td>0</td>\n",
       "      <td>0</td>\n",
       "    </tr>\n",
       "    <tr>\n",
       "      <th>1095</th>\n",
       "      <td>1</td>\n",
       "      <td>1</td>\n",
       "    </tr>\n",
       "    <tr>\n",
       "      <th>6929</th>\n",
       "      <td>0</td>\n",
       "      <td>0</td>\n",
       "    </tr>\n",
       "  </tbody>\n",
       "</table>\n",
       "<p>2000 rows × 2 columns</p>\n",
       "</div>"
      ],
      "text/plain": [
       "      predict_result  y_test\n",
       "6252               0       0\n",
       "4684               0       1\n",
       "1731               0       0\n",
       "4742               0       0\n",
       "4521               0       0\n",
       "...              ...     ...\n",
       "6412               0       0\n",
       "8285               0       0\n",
       "7853               0       0\n",
       "1095               1       1\n",
       "6929               0       0\n",
       "\n",
       "[2000 rows x 2 columns]"
      ]
     },
     "execution_count": 283,
     "metadata": {},
     "output_type": "execute_result"
    }
   ],
   "source": [
    "result_df = pd.DataFrame({\n",
    "    'predict_result': predict_result,\n",
    "    'y_test': y_test    \n",
    "})\n",
    "result_df"
   ]
  },
  {
   "cell_type": "code",
   "execution_count": 284,
   "id": "197b12d1",
   "metadata": {},
   "outputs": [],
   "source": [
    "encoder = LabelEncoder()"
   ]
  },
  {
   "cell_type": "code",
   "execution_count": 285,
   "id": "8edeaccb",
   "metadata": {},
   "outputs": [
    {
     "data": {
      "text/plain": [
       "Index(['predict_result', 'y_test'], dtype='object')"
      ]
     },
     "execution_count": 285,
     "metadata": {},
     "output_type": "execute_result"
    }
   ],
   "source": [
    "col = result_df.columns\n",
    "col"
   ]
  },
  {
   "cell_type": "code",
   "execution_count": 286,
   "id": "2e109d9b",
   "metadata": {},
   "outputs": [
    {
     "data": {
      "text/html": [
       "<div>\n",
       "<style scoped>\n",
       "    .dataframe tbody tr th:only-of-type {\n",
       "        vertical-align: middle;\n",
       "    }\n",
       "\n",
       "    .dataframe tbody tr th {\n",
       "        vertical-align: top;\n",
       "    }\n",
       "\n",
       "    .dataframe thead th {\n",
       "        text-align: right;\n",
       "    }\n",
       "</style>\n",
       "<table border=\"1\" class=\"dataframe\">\n",
       "  <thead>\n",
       "    <tr style=\"text-align: right;\">\n",
       "      <th></th>\n",
       "      <th>predict_result</th>\n",
       "      <th>y_test</th>\n",
       "    </tr>\n",
       "  </thead>\n",
       "  <tbody>\n",
       "    <tr>\n",
       "      <th>6252</th>\n",
       "      <td>0</td>\n",
       "      <td>0</td>\n",
       "    </tr>\n",
       "    <tr>\n",
       "      <th>4684</th>\n",
       "      <td>0</td>\n",
       "      <td>1</td>\n",
       "    </tr>\n",
       "    <tr>\n",
       "      <th>1731</th>\n",
       "      <td>0</td>\n",
       "      <td>0</td>\n",
       "    </tr>\n",
       "    <tr>\n",
       "      <th>4742</th>\n",
       "      <td>0</td>\n",
       "      <td>0</td>\n",
       "    </tr>\n",
       "    <tr>\n",
       "      <th>4521</th>\n",
       "      <td>0</td>\n",
       "      <td>0</td>\n",
       "    </tr>\n",
       "  </tbody>\n",
       "</table>\n",
       "</div>"
      ],
      "text/plain": [
       "      predict_result  y_test\n",
       "6252               0       0\n",
       "4684               0       1\n",
       "1731               0       0\n",
       "4742               0       0\n",
       "4521               0       0"
      ]
     },
     "execution_count": 286,
     "metadata": {},
     "output_type": "execute_result"
    }
   ],
   "source": [
    "for c in col:\n",
    "    result_df[c] = encoder.fit_transform(result_df[c])\n",
    "result_df.head()"
   ]
  },
  {
   "cell_type": "code",
   "execution_count": 287,
   "id": "17ec8519",
   "metadata": {},
   "outputs": [
    {
     "data": {
      "text/plain": [
       "array([0., 0., 0., ..., 0., 1., 0.])"
      ]
     },
     "execution_count": 287,
     "metadata": {},
     "output_type": "execute_result"
    }
   ],
   "source": [
    "y_pred_proba = dt_gs.predict_proba(X_test)[:,1]\n",
    "y_pred_proba"
   ]
  },
  {
   "cell_type": "code",
   "execution_count": 288,
   "id": "c89267ab",
   "metadata": {},
   "outputs": [
    {
     "data": {
      "text/html": [
       "<div>\n",
       "<style scoped>\n",
       "    .dataframe tbody tr th:only-of-type {\n",
       "        vertical-align: middle;\n",
       "    }\n",
       "\n",
       "    .dataframe tbody tr th {\n",
       "        vertical-align: top;\n",
       "    }\n",
       "\n",
       "    .dataframe thead th {\n",
       "        text-align: right;\n",
       "    }\n",
       "</style>\n",
       "<table border=\"1\" class=\"dataframe\">\n",
       "  <thead>\n",
       "    <tr style=\"text-align: right;\">\n",
       "      <th></th>\n",
       "      <th>y_test</th>\n",
       "      <th>y_pred_proba</th>\n",
       "    </tr>\n",
       "  </thead>\n",
       "  <tbody>\n",
       "    <tr>\n",
       "      <th>6252</th>\n",
       "      <td>0</td>\n",
       "      <td>0.0</td>\n",
       "    </tr>\n",
       "    <tr>\n",
       "      <th>4684</th>\n",
       "      <td>1</td>\n",
       "      <td>0.0</td>\n",
       "    </tr>\n",
       "    <tr>\n",
       "      <th>1731</th>\n",
       "      <td>0</td>\n",
       "      <td>0.0</td>\n",
       "    </tr>\n",
       "    <tr>\n",
       "      <th>4742</th>\n",
       "      <td>0</td>\n",
       "      <td>0.0</td>\n",
       "    </tr>\n",
       "    <tr>\n",
       "      <th>4521</th>\n",
       "      <td>0</td>\n",
       "      <td>0.0</td>\n",
       "    </tr>\n",
       "    <tr>\n",
       "      <th>...</th>\n",
       "      <td>...</td>\n",
       "      <td>...</td>\n",
       "    </tr>\n",
       "    <tr>\n",
       "      <th>6412</th>\n",
       "      <td>0</td>\n",
       "      <td>0.0</td>\n",
       "    </tr>\n",
       "    <tr>\n",
       "      <th>8285</th>\n",
       "      <td>0</td>\n",
       "      <td>0.0</td>\n",
       "    </tr>\n",
       "    <tr>\n",
       "      <th>7853</th>\n",
       "      <td>0</td>\n",
       "      <td>0.0</td>\n",
       "    </tr>\n",
       "    <tr>\n",
       "      <th>1095</th>\n",
       "      <td>1</td>\n",
       "      <td>1.0</td>\n",
       "    </tr>\n",
       "    <tr>\n",
       "      <th>6929</th>\n",
       "      <td>0</td>\n",
       "      <td>0.0</td>\n",
       "    </tr>\n",
       "  </tbody>\n",
       "</table>\n",
       "<p>2000 rows × 2 columns</p>\n",
       "</div>"
      ],
      "text/plain": [
       "      y_test  y_pred_proba\n",
       "6252       0           0.0\n",
       "4684       1           0.0\n",
       "1731       0           0.0\n",
       "4742       0           0.0\n",
       "4521       0           0.0\n",
       "...      ...           ...\n",
       "6412       0           0.0\n",
       "8285       0           0.0\n",
       "7853       0           0.0\n",
       "1095       1           1.0\n",
       "6929       0           0.0\n",
       "\n",
       "[2000 rows x 2 columns]"
      ]
     },
     "execution_count": 288,
     "metadata": {},
     "output_type": "execute_result"
    }
   ],
   "source": [
    "for_roc_df = pd.DataFrame({\n",
    "    'y_test': y_test,\n",
    "    'y_pred_proba': y_pred_proba\n",
    "})\n",
    "for_roc_df"
   ]
  },
  {
   "cell_type": "code",
   "execution_count": 289,
   "id": "15d2414c",
   "metadata": {},
   "outputs": [],
   "source": [
    "for_roc_df['y_test'] = encoder.fit_transform(for_roc_df['y_test'])"
   ]
  },
  {
   "cell_type": "code",
   "execution_count": 290,
   "id": "62064d07",
   "metadata": {},
   "outputs": [
    {
     "data": {
      "text/html": [
       "<div>\n",
       "<style scoped>\n",
       "    .dataframe tbody tr th:only-of-type {\n",
       "        vertical-align: middle;\n",
       "    }\n",
       "\n",
       "    .dataframe tbody tr th {\n",
       "        vertical-align: top;\n",
       "    }\n",
       "\n",
       "    .dataframe thead th {\n",
       "        text-align: right;\n",
       "    }\n",
       "</style>\n",
       "<table border=\"1\" class=\"dataframe\">\n",
       "  <thead>\n",
       "    <tr style=\"text-align: right;\">\n",
       "      <th></th>\n",
       "      <th>y_test</th>\n",
       "      <th>y_pred_proba</th>\n",
       "    </tr>\n",
       "  </thead>\n",
       "  <tbody>\n",
       "    <tr>\n",
       "      <th>6252</th>\n",
       "      <td>0</td>\n",
       "      <td>0.0</td>\n",
       "    </tr>\n",
       "    <tr>\n",
       "      <th>4684</th>\n",
       "      <td>1</td>\n",
       "      <td>0.0</td>\n",
       "    </tr>\n",
       "    <tr>\n",
       "      <th>1731</th>\n",
       "      <td>0</td>\n",
       "      <td>0.0</td>\n",
       "    </tr>\n",
       "    <tr>\n",
       "      <th>4742</th>\n",
       "      <td>0</td>\n",
       "      <td>0.0</td>\n",
       "    </tr>\n",
       "    <tr>\n",
       "      <th>4521</th>\n",
       "      <td>0</td>\n",
       "      <td>0.0</td>\n",
       "    </tr>\n",
       "  </tbody>\n",
       "</table>\n",
       "</div>"
      ],
      "text/plain": [
       "      y_test  y_pred_proba\n",
       "6252       0           0.0\n",
       "4684       1           0.0\n",
       "1731       0           0.0\n",
       "4742       0           0.0\n",
       "4521       0           0.0"
      ]
     },
     "execution_count": 290,
     "metadata": {},
     "output_type": "execute_result"
    }
   ],
   "source": [
    "for_roc_df.head()"
   ]
  },
  {
   "cell_type": "code",
   "execution_count": 291,
   "id": "f3e68ae4",
   "metadata": {},
   "outputs": [
    {
     "data": {
      "text/html": [
       "<div>\n",
       "<style scoped>\n",
       "    .dataframe tbody tr th:only-of-type {\n",
       "        vertical-align: middle;\n",
       "    }\n",
       "\n",
       "    .dataframe tbody tr th {\n",
       "        vertical-align: top;\n",
       "    }\n",
       "\n",
       "    .dataframe thead th {\n",
       "        text-align: right;\n",
       "    }\n",
       "</style>\n",
       "<table border=\"1\" class=\"dataframe\">\n",
       "  <thead>\n",
       "    <tr style=\"text-align: right;\">\n",
       "      <th></th>\n",
       "      <th>FPR</th>\n",
       "      <th>TPR</th>\n",
       "      <th>Threshold</th>\n",
       "    </tr>\n",
       "  </thead>\n",
       "  <tbody>\n",
       "    <tr>\n",
       "      <th>0</th>\n",
       "      <td>0.000000</td>\n",
       "      <td>0.000000</td>\n",
       "      <td>2.000000</td>\n",
       "    </tr>\n",
       "    <tr>\n",
       "      <th>1</th>\n",
       "      <td>0.000516</td>\n",
       "      <td>0.967213</td>\n",
       "      <td>1.000000</td>\n",
       "    </tr>\n",
       "    <tr>\n",
       "      <th>2</th>\n",
       "      <td>0.002579</td>\n",
       "      <td>0.967213</td>\n",
       "      <td>0.250000</td>\n",
       "    </tr>\n",
       "    <tr>\n",
       "      <th>3</th>\n",
       "      <td>0.017535</td>\n",
       "      <td>0.967213</td>\n",
       "      <td>0.007874</td>\n",
       "    </tr>\n",
       "    <tr>\n",
       "      <th>4</th>\n",
       "      <td>1.000000</td>\n",
       "      <td>1.000000</td>\n",
       "      <td>0.000000</td>\n",
       "    </tr>\n",
       "  </tbody>\n",
       "</table>\n",
       "</div>"
      ],
      "text/plain": [
       "        FPR       TPR  Threshold\n",
       "0  0.000000  0.000000   2.000000\n",
       "1  0.000516  0.967213   1.000000\n",
       "2  0.002579  0.967213   0.250000\n",
       "3  0.017535  0.967213   0.007874\n",
       "4  1.000000  1.000000   0.000000"
      ]
     },
     "execution_count": 291,
     "metadata": {},
     "output_type": "execute_result"
    }
   ],
   "source": [
    "# roc_curve(타겟값, prob of 1) 그래프 그리기\n",
    "fpr, tpr, thresholds = roc_curve(y_test, y_pred_proba)\n",
    "\n",
    "roc = pd.DataFrame({\n",
    "'FPR': fpr, \n",
    "'TPR': tpr, \n",
    "'Threshold': thresholds\n",
    "})\n",
    "roc"
   ]
  },
  {
   "cell_type": "code",
   "execution_count": 292,
   "id": "553e541e",
   "metadata": {},
   "outputs": [
    {
     "data": {
      "text/plain": [
       "[<matplotlib.lines.Line2D at 0x15459276250>]"
      ]
     },
     "execution_count": 292,
     "metadata": {},
     "output_type": "execute_result"
    },
    {
     "data": {
      "image/png": "[encoded data removed]",
      "text/plain": [
       "<Figure size 432x288 with 1 Axes>"
      ]
     },
     "metadata": {
      "needs_background": "light"
     },
     "output_type": "display_data"
    }
   ],
   "source": [
    "plt.plot(fpr, tpr,   color=\"darkorange\", lw=3,)\n",
    "plt.title('model 1 ROC curve')\n",
    "plt.xlabel('FPR')\n",
    "plt.ylabel('TPR');\n",
    "\n",
    "plt.plot([0, 1], [0, 1], color=\"navy\", lw=2, linestyle=\"--\")\n",
    "#2사분면 모서리에 선이 붙을 수록 정확도가 높은 그래프"
   ]
  },
  {
   "cell_type": "code",
   "execution_count": null,
   "id": "01575363",
   "metadata": {},
   "outputs": [],
   "source": []
  }
 ],
 "metadata": {
  "kernelspec": {
   "display_name": "Python 3 (ipykernel)",
   "language": "python",
   "name": "python3"
  },
  "language_info": {
   "codemirror_mode": {
    "name": "ipython",
    "version": 3
   },
   "file_extension": ".py",
   "mimetype": "text/x-python",
   "name": "python",
   "nbconvert_exporter": "python",
   "pygments_lexer": "ipython3",
   "version": "3.9.7"
  }
 },
 "nbformat": 4,
 "nbformat_minor": 5
}
