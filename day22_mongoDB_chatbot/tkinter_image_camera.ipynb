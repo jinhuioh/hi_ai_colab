{
 "cells": [
  {
   "cell_type": "code",
   "execution_count": 1,
   "metadata": {},
   "outputs": [],
   "source": [
    "from tkinter import *\n",
    "from tkinter.ttk import *\n",
    "import tkinter.font as font\n",
    "from tkinter import filedialog\n",
    "import os\n",
    "from PIL import ImageTk, Image\n",
    "import tensorflow as tf\n",
    "import cv2\n",
    "from keras.utils import np_utils\n",
    "from keras.datasets import mnist\n",
    "from keras.models import Sequential\n",
    "from keras.layers import Dense, Activation\n",
    "import numpy as np\n",
    "from numpy import argmax\n",
    "\n",
    "# 1. 실무에 사용할 데이터 준비하기\n",
    "\n",
    "# 2. 모델 불러오기\n",
    "from keras.models import load_model"
   ]
  },
  {
   "cell_type": "code",
   "execution_count": 9,
   "metadata": {},
   "outputs": [
    {
     "ename": "error",
     "evalue": "OpenCV(4.5.5) D:\\a\\opencv-python\\opencv-python\\opencv\\modules\\imgcodecs\\src\\loadsave.cpp:801: error: (-215:Assertion failed) !_img.empty() in function 'cv::imwrite'\n",
     "output_type": "error",
     "traceback": [
      "\u001b[1;31m---------------------------------------------------------------------------\u001b[0m",
      "\u001b[1;31merror\u001b[0m                                     Traceback (most recent call last)",
      "\u001b[1;32m<ipython-input-9-c0c29fe05def>\u001b[0m in \u001b[0;36m<module>\u001b[1;34m\u001b[0m\n\u001b[0;32m      9\u001b[0m \u001b[0mframe\u001b[0m \u001b[1;33m=\u001b[0m \u001b[0mcv2\u001b[0m\u001b[1;33m.\u001b[0m\u001b[0mflip\u001b[0m\u001b[1;33m(\u001b[0m\u001b[0mframe\u001b[0m\u001b[1;33m,\u001b[0m \u001b[1;36m1\u001b[0m\u001b[1;33m)\u001b[0m \u001b[1;31m# 좌우 대칭\u001b[0m\u001b[1;33m\u001b[0m\u001b[1;33m\u001b[0m\u001b[0m\n\u001b[0;32m     10\u001b[0m \u001b[1;33m\u001b[0m\u001b[0m\n\u001b[1;32m---> 11\u001b[1;33m \u001b[0ma\u001b[0m\u001b[1;33m=\u001b[0m\u001b[0mcv2\u001b[0m\u001b[1;33m.\u001b[0m\u001b[0mimwrite\u001b[0m\u001b[1;33m(\u001b[0m\u001b[1;34m'./../tkinter_image/self camera test.jpg'\u001b[0m\u001b[1;33m,\u001b[0m \u001b[0mframe\u001b[0m\u001b[1;33m)\u001b[0m \u001b[1;31m# 사진 저장\u001b[0m\u001b[1;33m\u001b[0m\u001b[1;33m\u001b[0m\u001b[0m\n\u001b[0m\u001b[0;32m     12\u001b[0m \u001b[1;33m\u001b[0m\u001b[0m\n\u001b[0;32m     13\u001b[0m \u001b[0mcap\u001b[0m\u001b[1;33m.\u001b[0m\u001b[0mrelease\u001b[0m\u001b[1;33m(\u001b[0m\u001b[1;33m)\u001b[0m\u001b[1;33m\u001b[0m\u001b[1;33m\u001b[0m\u001b[0m\n",
      "\u001b[1;31merror\u001b[0m: OpenCV(4.5.5) D:\\a\\opencv-python\\opencv-python\\opencv\\modules\\imgcodecs\\src\\loadsave.cpp:801: error: (-215:Assertion failed) !_img.empty() in function 'cv::imwrite'\n"
     ]
    }
   ],
   "source": [
    "import numpy as np\n",
    "import cv2\n",
    "\n",
    "cap = cv2.VideoCapture(0) # 노트북 웹캠을 카메라로 사용\n",
    "cap.set(3,640) # 너비\n",
    "cap.set(4,480) # 높이\n",
    "\n",
    "ret, frame = cap.read() # 사진 촬영\n",
    "frame = cv2.flip(frame, 1) # 좌우 대칭\n",
    "\n",
    "a=cv2.imwrite('./../tkinter_image/self camera test.jpg', frame) # 사진 저장\n",
    "   \n",
    "cap.release()\n",
    "cv2.destroyAllWindows()"
   ]
  },
  {
   "cell_type": "code",
   "execution_count": null,
   "metadata": {},
   "outputs": [],
   "source": [
    "def call():\n",
    "    class_names = ['blouse', 'dress', 'jacket', 'pants', 'shorts',\n",
    "                   'skirt', 'sweater', 'Tshirt']\n",
    "    # 이미지마다 크기가 다 다르다.-> 픽셀 사이즈 동일해게 해주어야 전처리가 가능하다.\n",
    "    data_height = 150\n",
    "    data_width = 150\n",
    "    channel_n = 3\n",
    "    images = np.zeros((1, data_height, data_width, channel_n))\n",
    "    ## 이미지 읽고, 스케일링, 리사이징\n",
    "    image = cv2.imread(path)\n",
    "    image = cv2.resize(image, (data_height, data_width)) / 255\n",
    "    images[0, :, :, :] = image\n",
    "    \n",
    "    model = load_model(\"C:/Users/yusub/jupyter/hi/img-fashion/fashion_model.h5\")\n",
    "\n",
    "    # 3. 모델 사용하기\n",
    "    yhat = model.predict(images)\n",
    "    np.argmax(yhat)\n",
    "    class_names[np.argmax(yhat)]\n",
    "   \n",
    "    print('Predict : ' +  class_names[np.argmax(yhat)])\n",
    "    my_img = Label(window ,\n",
    "          text=class_names[np.argmax(yhat)],\n",
    "          font=('comic sans', 10)\n",
    "          )\n",
    "    my_img.pack()"
   ]
  },
  {
   "cell_type": "code",
   "execution_count": null,
   "metadata": {},
   "outputs": [],
   "source": [
    "#기본 설정\n",
    "window = Tk()\n",
    "\n",
    "window.title('GUI')\n",
    "window.geometry(\"500x500\")\n",
    "\n",
    "#사진입력\n",
    "label = Label(window, text = '사진입력').pack()\n",
    "\n",
    "#분류버튼\n",
    "button = Button(window, \n",
    "                text=\"image classification\", \n",
    "                width=40,\n",
    "                command=call\n",
    "               )\n",
    "button.pack()\n",
    "\n",
    "#파일 첨부하기\n",
    "# path = filedialog.askopenfilename(filetypes=[('Image File','jpg'), ('Image File','jpg'), ('Image File','jpg')])\n",
    "# path=path.replace('\\\\','/')\n",
    "path=\"C://Users/yusub/jupyter/hi/self camera test.jpg\"\n",
    "if path == '':exit()\n",
    "image=ImageTk.PhotoImage(Image.open(path))  \n",
    "label=Label(window, image=image) #라벨 생성, 라벨에는 앞서 선언한 이미지가 들어감.\n",
    "label.pack()\n",
    "window.mainloop()"
   ]
  }
 ],
 "metadata": {
  "kernelspec": {
   "display_name": "Python 3",
   "language": "python",
   "name": "python3"
  },
  "language_info": {
   "codemirror_mode": {
    "name": "ipython",
    "version": 3
   },
   "file_extension": ".py",
   "mimetype": "text/x-python",
   "name": "python",
   "nbconvert_exporter": "python",
   "pygments_lexer": "ipython3",
   "version": "3.7.4"
  }
 },
 "nbformat": 4,
 "nbformat_minor": 2
}
