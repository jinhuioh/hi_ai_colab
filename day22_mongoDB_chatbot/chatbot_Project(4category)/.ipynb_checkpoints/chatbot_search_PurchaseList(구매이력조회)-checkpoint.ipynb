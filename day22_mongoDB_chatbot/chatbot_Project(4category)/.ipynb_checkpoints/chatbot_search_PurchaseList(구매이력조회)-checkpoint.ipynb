{
 "cells": [
  {
   "cell_type": "code",
   "execution_count": 3,
   "metadata": {},
   "outputs": [],
   "source": [
    "# 앞에 몽고db랑 연결하는 코드 작성!!!\n",
    "# 아래는 chatbot 에 purchaselist와 연결되어있는상태\n",
    "# db연결하고 아래 코드 실행하면 된다\n"
   ]
  },
  {
   "cell_type": "code",
   "execution_count": 1,
   "metadata": {},
   "outputs": [],
   "source": [
    "def purchase_search():\n",
    "    import pymongo\n",
    "    import pandas as pd\n",
    "    conn = pymongo.MongoClient()\n",
    "    chatbot = conn.chatbot\n",
    "    purchaselist = chatbot.PurchaseList\n",
    "    list = pd.DataFrame()\n",
    "    docs = purchaselist.find({})\n",
    "    for doc in docs:\n",
    "        df = pd.DataFrame(docs, columns={'user_id', 'purchase_product', 'payment_method', 'payment_total', 'payment_date'})\n",
    "    list = list.append(df)\n",
    "    id = input('아이디를 입력하세요 >> ')\n",
    "    print('1(총 구매 목록), 2(구매 상품), 3(총 구매 가격), 4(결제 건수), 5(특정 시간에 따른 구매 목록)')\n",
    "    while True:\n",
    "        print()\n",
    "        check = int(input('확인하시려는 항목을 선택하세요 >> '))\n",
    "        print()\n",
    "        if check == 1:\n",
    "            search_list = list[list['user_id']==id]\n",
    "            print('고객님의 구매목록은 다음과 같습니다')\n",
    "            search_list = pd.DataFrame(search_list, \n",
    "                                             columns=['purchase_product', 'payment_method', 'payment_total', 'payment_date'])\n",
    "            print()\n",
    "            print(search_list.to_string(index=False))\n",
    "        elif check == 2:\n",
    "            search_product = list[list['user_id']==id]['purchase_product']\n",
    "            print('고객님이 현재까지 구매하신 상품은 다음과 같습니다.')\n",
    "            print()\n",
    "            print(','.join(search_product.to_list()))\n",
    "        elif check == 3:\n",
    "            search_tprice = list[list['user_id']==id]['payment_total'].astype(int).sum()\n",
    "            print('고객님의 총 구매 가격은 ' + str(search_tprice) + \"입니다\")\n",
    "        elif check == 4:\n",
    "            list['payment_total'] = list['payment_total'].astype(int)\n",
    "            total_count = list[list['user_id']=='admin'][['payment_method', 'payment_total']]\n",
    "            search_payment_method_credit = total_count[total_count['payment_method'] == '신용카드']['payment_method'].unique()[0]\n",
    "            search_payment_total_credit = total_count[total_count['payment_method'] == '신용카드']['payment_total'].sum()\n",
    "            search_payment_method_noaccount = total_count[total_count['payment_method'] == '무통장입금']['payment_method'].unique()[0]\n",
    "            search_payment_total_noaccount = total_count[total_count['payment_method'] == '무통장입금']['payment_total'].sum()\n",
    "            print(\n",
    "                  '조회하신 id에 대한 결제 건수는, ' + search_payment_method_credit + \": \" + str(search_payment_total_credit) +\"원, \" +\n",
    "                  search_payment_method_noaccount + \": \" + str(search_payment_total_noaccount) + \"원입니다.\"\n",
    "            )\n",
    "        elif check == 5:\n",
    "            search_date = input('조회하려는 날짜를 선택하세요 (YYYY-mm-dd 형식으로 입력해주세요) >> ')\n",
    "            search_date_list = list[(list['user_id']==id) & (list['payment_date'].str.contains(search_date))]\n",
    "            print('조회하신 날짜에 대한 구매목록은 다음과 같습니다.')\n",
    "            print()\n",
    "            print(search_date_list.to_string(index=False))\n",
    "        else:\n",
    "            print('챗봇을 종료합니다. 이용해주셔서 감사합니다')\n",
    "            break"
   ]
  },
  {
   "cell_type": "code",
   "execution_count": 2,
   "metadata": {},
   "outputs": [
    {
     "ename": "UnboundLocalError",
     "evalue": "local variable 'df' referenced before assignment",
     "output_type": "error",
     "traceback": [
      "\u001b[1;31m---------------------------------------------------------------------------\u001b[0m",
      "\u001b[1;31mUnboundLocalError\u001b[0m                         Traceback (most recent call last)",
      "\u001b[1;32m<ipython-input-2-18bb8604b15f>\u001b[0m in \u001b[0;36m<module>\u001b[1;34m\u001b[0m\n\u001b[1;32m----> 1\u001b[1;33m \u001b[0mpurchase_search\u001b[0m\u001b[1;33m(\u001b[0m\u001b[1;33m)\u001b[0m\u001b[1;33m\u001b[0m\u001b[1;33m\u001b[0m\u001b[0m\n\u001b[0m",
      "\u001b[1;32m<ipython-input-1-9ec06a8c9149>\u001b[0m in \u001b[0;36mpurchase_search\u001b[1;34m()\u001b[0m\n\u001b[0;32m      9\u001b[0m     \u001b[1;32mfor\u001b[0m \u001b[0mdoc\u001b[0m \u001b[1;32min\u001b[0m \u001b[0mdocs\u001b[0m\u001b[1;33m:\u001b[0m\u001b[1;33m\u001b[0m\u001b[1;33m\u001b[0m\u001b[0m\n\u001b[0;32m     10\u001b[0m         \u001b[0mdf\u001b[0m \u001b[1;33m=\u001b[0m \u001b[0mpd\u001b[0m\u001b[1;33m.\u001b[0m\u001b[0mDataFrame\u001b[0m\u001b[1;33m(\u001b[0m\u001b[0mdocs\u001b[0m\u001b[1;33m,\u001b[0m \u001b[0mcolumns\u001b[0m\u001b[1;33m=\u001b[0m\u001b[1;33m{\u001b[0m\u001b[1;34m'user_id'\u001b[0m\u001b[1;33m,\u001b[0m \u001b[1;34m'purchase_product'\u001b[0m\u001b[1;33m,\u001b[0m \u001b[1;34m'payment_method'\u001b[0m\u001b[1;33m,\u001b[0m \u001b[1;34m'payment_total'\u001b[0m\u001b[1;33m,\u001b[0m \u001b[1;34m'payment_date'\u001b[0m\u001b[1;33m}\u001b[0m\u001b[1;33m)\u001b[0m\u001b[1;33m\u001b[0m\u001b[1;33m\u001b[0m\u001b[0m\n\u001b[1;32m---> 11\u001b[1;33m     \u001b[0mlist\u001b[0m \u001b[1;33m=\u001b[0m \u001b[0mlist\u001b[0m\u001b[1;33m.\u001b[0m\u001b[0mappend\u001b[0m\u001b[1;33m(\u001b[0m\u001b[0mdf\u001b[0m\u001b[1;33m)\u001b[0m\u001b[1;33m\u001b[0m\u001b[1;33m\u001b[0m\u001b[0m\n\u001b[0m\u001b[0;32m     12\u001b[0m     \u001b[0mid\u001b[0m \u001b[1;33m=\u001b[0m \u001b[0minput\u001b[0m\u001b[1;33m(\u001b[0m\u001b[1;34m'아이디를 입력하세요 >> '\u001b[0m\u001b[1;33m)\u001b[0m\u001b[1;33m\u001b[0m\u001b[1;33m\u001b[0m\u001b[0m\n\u001b[0;32m     13\u001b[0m     \u001b[0mprint\u001b[0m\u001b[1;33m(\u001b[0m\u001b[1;34m'1(총 구매 목록), 2(구매 상품), 3(총 구매 가격), 4(결제 건수), 5(특정 시간에 따른 구매 목록)'\u001b[0m\u001b[1;33m)\u001b[0m\u001b[1;33m\u001b[0m\u001b[1;33m\u001b[0m\u001b[0m\n",
      "\u001b[1;31mUnboundLocalError\u001b[0m: local variable 'df' referenced before assignment"
     ]
    }
   ],
   "source": [
    "purchase_search()"
   ]
  },
  {
   "cell_type": "code",
   "execution_count": null,
   "metadata": {},
   "outputs": [],
   "source": []
  }
 ],
 "metadata": {
  "kernelspec": {
   "display_name": "Python 3",
   "language": "python",
   "name": "python3"
  },
  "language_info": {
   "codemirror_mode": {
    "name": "ipython",
    "version": 3
   },
   "file_extension": ".py",
   "mimetype": "text/x-python",
   "name": "python",
   "nbconvert_exporter": "python",
   "pygments_lexer": "ipython3",
   "version": "3.7.4"
  }
 },
 "nbformat": 4,
 "nbformat_minor": 5
}
