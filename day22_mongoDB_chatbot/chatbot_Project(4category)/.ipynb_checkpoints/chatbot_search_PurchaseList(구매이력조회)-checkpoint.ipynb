{
 "cells": [
  {
   "cell_type": "code",
   "execution_count": 1,
   "metadata": {},
   "outputs": [],
   "source": [
    "# 앞에 몽고db랑 연결하는 코드 작성!!!\n",
    "# 아래는 chatbot 에 purchaselist와 연결되어있는상태\n",
    "# db연결하고 아래 코드 실행하면 된다\n"
   ]
  },
  {
   "cell_type": "code",
   "execution_count": 2,
   "metadata": {},
   "outputs": [],
   "source": [
    "import pymongo"
   ]
  },
  {
   "cell_type": "code",
   "execution_count": 3,
   "metadata": {},
   "outputs": [
    {
     "data": {
      "text/plain": [
       "MongoClient(host=['localhost:27017'], document_class=dict, tz_aware=False, connect=True)"
      ]
     },
     "execution_count": 3,
     "metadata": {},
     "output_type": "execute_result"
    }
   ],
   "source": [
    "# MongoClient\n",
    "# default:localhost로 몽고디비 서버에 원격으로 연결해주는 객체\n",
    "conn = pymongo.MongoClient()\n",
    "conn"
   ]
  },
  {
   "cell_type": "code",
   "execution_count": 4,
   "metadata": {},
   "outputs": [
    {
     "data": {
      "text/plain": [
       "Database(MongoClient(host=['localhost:27017'], document_class=dict, tz_aware=False, connect=True), 'chatbot_deep')"
      ]
     },
     "execution_count": 4,
     "metadata": {},
     "output_type": "execute_result"
    }
   ],
   "source": [
    "#주피터에서 chatbot_deep 과 연결\n",
    "chatdeep = conn.chatbot_deep\n",
    "chatdeep"
   ]
  },
  {
   "cell_type": "code",
   "execution_count": 5,
   "metadata": {},
   "outputs": [
    {
     "data": {
      "text/plain": [
       "Collection(Database(MongoClient(host=['localhost:27017'], document_class=dict, tz_aware=False, connect=True), 'chatbot_deep'), 'chatbot')"
      ]
     },
     "execution_count": 5,
     "metadata": {},
     "output_type": "execute_result"
    }
   ],
   "source": [
    "#chatbot_deep디비의 chatbot 콜렉션에 연결\n",
    "chatbot = chatdeep.chatbot\n",
    "chatbot"
   ]
  },
  {
   "cell_type": "code",
   "execution_count": 6,
   "metadata": {
    "scrolled": true
   },
   "outputs": [
    {
     "data": {
      "text/plain": [
       "<pymongo.cursor.Cursor at 0x1e0f6b7bf48>"
      ]
     },
     "execution_count": 6,
     "metadata": {},
     "output_type": "execute_result"
    }
   ],
   "source": [
    "# read documents 해보자.\n",
    "#전체검색\n",
    "docs = chatbot.find()\n",
    "docs"
   ]
  },
  {
   "cell_type": "code",
   "execution_count": 9,
   "metadata": {},
   "outputs": [
    {
     "data": {
      "text/plain": [
       "<pymongo.cursor.Cursor at 0x1e0f6bd6148>"
      ]
     },
     "execution_count": 9,
     "metadata": {},
     "output_type": "execute_result"
    }
   ],
   "source": [
    "#user_id이 admin인 사람 검색\n",
    "docs = chatbot.find({\"user_id\":\"admin\"})\n",
    "docs"
   ]
  },
  {
   "cell_type": "code",
   "execution_count": 10,
   "metadata": {},
   "outputs": [
    {
     "name": "stdout",
     "output_type": "stream",
     "text": [
      "{'_id': ObjectId('62b1299753032bce2459ac3a'), 'info_idx': '4', 'product_idx': '6', 'payment_method': '신용카드', 'user_id': 'admin', 'payment_total': '49900', 'recipient_info': 'rtavnerlu', 'recipient_addr': '경기도 부천', 'purchase_product': '라이 맥시 롱 원피스 black[블랙]', 'purchase_quantity': '5', 'payment_date': '2022-04-19 23:48:00'}\n",
      "{'_id': ObjectId('62b1299753032bce2459ac3b'), 'info_idx': '5', 'product_idx': '7', 'payment_method': '신용카드', 'user_id': 'admin', 'payment_total': '49900', 'recipient_info': 'ddisbreyfy', 'recipient_addr': '서울시 왕십리 ', 'purchase_product': '여성 트위스트 셔츠 원피스 - 에스프레소 / DR254LF588495', 'purchase_quantity': '3', 'payment_date': '2022-04-20 23:32:00'}\n",
      "{'_id': ObjectId('62b1299753032bce2459ac3c'), 'info_idx': '6', 'product_idx': '8', 'payment_method': '신용카드', 'user_id': 'admin', 'payment_total': '39900', 'recipient_info': 'pwoodings5p', 'recipient_addr': '서울시 동작구 12-2', 'purchase_product': '여성 트위스트 원피스 - 레몬 글레이즈 / W221DR254LF588500', 'purchase_quantity': '5', 'payment_date': '2022-04-20 23:33:00'}\n",
      "{'_id': ObjectId('62b1299753032bce2459aef4'), 'info_idx': '703', 'product_idx': '230', 'payment_method': '무통장입금', 'user_id': 'admin', 'payment_total': '49900', 'recipient_info': 'ksussems6j', 'recipient_addr': '55741 Independence Point', 'purchase_product': 'C 로고 후디 그레이', 'purchase_quantity': '5', 'payment_date': '2022-04-19 23:16:00'}\n",
      "{'_id': ObjectId('62b1299753032bce2459af33'), 'info_idx': '767', 'product_idx': '5', 'payment_method': '신용카드', 'user_id': 'admin', 'payment_total': '49900', 'recipient_info': 'hbrazenor2f', 'recipient_addr': '1 Milwaukee Place', 'purchase_product': '[쿨탠다드] 우먼즈 피케 폴로 원피스 [네이비]', 'purchase_quantity': '3', 'payment_date': '2022-04-19 23:29:00'}\n",
      "{'_id': ObjectId('62b1299753032bce2459af51'), 'info_idx': '797', 'product_idx': '35', 'payment_method': '무통장입금', 'user_id': 'admin', 'payment_total': '49900', 'recipient_info': 'mmorey84', 'recipient_addr': '521 Roth Parkway', 'purchase_product': ' (W) CGC 루즈핏 피케 원피스 네이비', 'purchase_quantity': '3', 'payment_date': '2022-04-19 23:48:00'}\n",
      "{'_id': ObjectId('62b1299753032bce2459af52'), 'info_idx': '798', 'product_idx': '36', 'payment_method': '신용카드', 'user_id': 'admin', 'payment_total': '49900', 'recipient_info': 'pturoneft', 'recipient_addr': '7 Amoth Alley', 'purchase_product': ' 블랙 골지 슬림핏 롱 원피스 (112571AC15)', 'purchase_quantity': '3', 'payment_date': '2022-04-20 23:32:00'}\n",
      "{'_id': ObjectId('62b1299753032bce2459af53'), 'info_idx': '799', 'product_idx': '36', 'payment_method': '신용카드', 'user_id': 'admin', 'payment_total': '49900', 'recipient_info': 'rkeydena4', 'recipient_addr': '0908 Comanche Drive', 'purchase_product': ' 블랙 골지 슬림핏 롱 원피스 (112571AC15)', 'purchase_quantity': '5', 'payment_date': '2022-04-20 23:33:00'}\n"
     ]
    }
   ],
   "source": [
    "for doc in docs:\n",
    "    print(doc)"
   ]
  },
  {
   "cell_type": "code",
   "execution_count": null,
   "metadata": {},
   "outputs": [],
   "source": []
  },
  {
   "cell_type": "code",
   "execution_count": 12,
   "metadata": {},
   "outputs": [],
   "source": [
    "def purchase_search():\n",
    "    import pymongo\n",
    "    import pandas as pd\n",
    "    conn = pymongo.MongoClient()\n",
    "    chatbot = conn.chatbotchatdeep\n",
    "    purchaselist = chatdeep.chatbot\n",
    "    list = pd.DataFrame()\n",
    "    docs = purchaselist.find({})\n",
    "    for doc in docs:\n",
    "        df = pd.DataFrame(docs, columns={'user_id', 'purchase_product', 'payment_method', 'payment_total', 'payment_date'})\n",
    "    list = list.append(df)\n",
    "    id = input('아이디를 입력하세요 >> ')\n",
    "    print('1(총 구매 목록), 2(구매 상품), 3(총 구매 가격), 4(결제 건수), 5(특정 시간에 따른 구매 목록)')\n",
    "    while True:\n",
    "        print()\n",
    "        check = int(input('확인하시려는 항목을 선택하세요 >> '))\n",
    "        print()\n",
    "        if check == 1:\n",
    "            search_list = list[list['user_id']==id]\n",
    "            print('고객님의 구매목록은 다음과 같습니다')\n",
    "            search_list = pd.DataFrame(search_list, \n",
    "                                             columns=['purchase_product', 'payment_method', 'payment_total', 'payment_date'])\n",
    "            print()\n",
    "            print(search_list.to_string(index=False))\n",
    "        elif check == 2:\n",
    "            search_product = list[list['user_id']==id]['purchase_product']\n",
    "            print('고객님이 현재까지 구매하신 상품은 다음과 같습니다.')\n",
    "            print()\n",
    "            print(','.join(search_product.to_list()))\n",
    "        elif check == 3:\n",
    "            search_tprice = list[list['user_id']==id]['payment_total'].astype(int).sum()\n",
    "            print('고객님의 총 구매 가격은 ' + str(search_tprice) + \"입니다\")\n",
    "        elif check == 4:\n",
    "            list['payment_total'] = list['payment_total'].astype(int)\n",
    "            total_count = list[list['user_id']=='admin'][['payment_method', 'payment_total']]\n",
    "            search_payment_method_credit = total_count[total_count['payment_method'] == '신용카드']['payment_method'].unique()[0]\n",
    "            search_payment_total_credit = total_count[total_count['payment_method'] == '신용카드']['payment_total'].sum()\n",
    "            search_payment_method_noaccount = total_count[total_count['payment_method'] == '무통장입금']['payment_method'].unique()[0]\n",
    "            search_payment_total_noaccount = total_count[total_count['payment_method'] == '무통장입금']['payment_total'].sum()\n",
    "            print(\n",
    "                  '조회하신 id에 대한 결제 건수는, ' + search_payment_method_credit + \": \" + str(search_payment_total_credit) +\"원, \" +\n",
    "                  search_payment_method_noaccount + \": \" + str(search_payment_total_noaccount) + \"원입니다.\"\n",
    "            )\n",
    "        elif check == 5:\n",
    "            search_date = input('조회하려는 날짜를 선택하세요 (YYYY-mm-dd 형식으로 입력해주세요) >> ')\n",
    "            search_date_list = list[(list['user_id']==id) & (list['payment_date'].str.contains(search_date))]\n",
    "            print('조회하신 날짜에 대한 구매목록은 다음과 같습니다.')\n",
    "            print()\n",
    "            print(search_date_list.to_string(index=False))\n",
    "        else:\n",
    "            print('챗봇을 종료합니다. 이용해주셔서 감사합니다')\n",
    "            break"
   ]
  },
  {
   "cell_type": "code",
   "execution_count": null,
   "metadata": {},
   "outputs": [],
   "source": [
    "purchase_search()"
   ]
  },
  {
   "cell_type": "code",
   "execution_count": null,
   "metadata": {},
   "outputs": [],
   "source": []
  }
 ],
 "metadata": {
  "kernelspec": {
   "display_name": "Python 3",
   "language": "python",
   "name": "python3"
  },
  "language_info": {
   "codemirror_mode": {
    "name": "ipython",
    "version": 3
   },
   "file_extension": ".py",
   "mimetype": "text/x-python",
   "name": "python",
   "nbconvert_exporter": "python",
   "pygments_lexer": "ipython3",
   "version": "3.7.4"
  }
 },
 "nbformat": 4,
 "nbformat_minor": 5
}
