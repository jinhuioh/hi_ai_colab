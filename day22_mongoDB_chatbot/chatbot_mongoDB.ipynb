{
 "cells": [
  {
   "cell_type": "code",
   "execution_count": 12,
   "metadata": {},
   "outputs": [],
   "source": [
    "from tkinter import *\n",
    "\n",
    "root = Tk()\n",
    "root.geometry(\"500x700\")\n",
    "root.title(\" RunWay Chatbot!!\")\n",
    "\n",
    "def Take_input():\n",
    "    INPUT = inputtxt.get()#내가 입력하는 채팅\n",
    "    OUTPUT = \"안녕하세요 런웨이입니다~ 무엇을 도와드릴까요?\"#챗봇 답변 채팅\n",
    "    print(INPUT)\n",
    "    Output.insert(END, \"RunWay>>\"+ OUTPUT +'\\n')#이곳에 DL로 학습한 단어 return\n",
    "    Output.insert(END, \"me>>\" + INPUT +'\\n')\n",
    "    Output.insert(END, \"RunWay>>\"+ OUTPUT +'\\n')#이곳에 DL로 학습한 단어 return\n",
    "# \tINPUT = inputtxt.get(\"1.0\", \"end-1c\")\n",
    "# \tprint(INPUT)\n",
    "# \tif(INPUT == \"100\"):\n",
    "# \t\tOutput.insert(END, 'Ok\\n')\n",
    "# \telse:\n",
    "# \t\tOutput.insert(END, \"No\\n\")\n",
    "\t\n",
    "l = Label(text = \"하고 싶은 말을 입력하세요.!!\")\n",
    "# l = Label(text = \"20 * 5!??\")\n",
    "inputtxt = Entry(root, \n",
    "\t\t\t\twidth = 25, \n",
    "                font=(\"Helvetica\", 18),\n",
    "\t\t\t\tbg = \"light yellow\")\n",
    "\n",
    "Output = Text(root, height = 10,\n",
    "\t\t\twidth = 25,\n",
    "            font=(\"Helvetica\",18),\n",
    "# \t\t\ttext = \"RunWay>> 안녕하세요 런웨이입니다~ 무엇을 도와드릴까요?\",\n",
    "\t\t\tbg = \"light cyan\")\n",
    "\n",
    "Display = Button(root, height = 2,\n",
    "\t\t\t\twidth = 20,\n",
    "                font=(\"Helvetica\",18),text =\"Show\",\n",
    "\t\t\t\tcommand = lambda:Take_input())\n",
    "\n",
    "\n",
    "l.pack()\n",
    "inputtxt.pack()\n",
    "Display.pack()\n",
    "\n",
    "Output.pack()\n",
    "mainloop()"
   ]
  },
  {
   "cell_type": "code",
   "execution_count": null,
   "metadata": {},
   "outputs": [],
   "source": []
  }
 ],
 "metadata": {
  "kernelspec": {
   "display_name": "Python 3",
   "language": "python",
   "name": "python3"
  },
  "language_info": {
   "codemirror_mode": {
    "name": "ipython",
    "version": 3
   },
   "file_extension": ".py",
   "mimetype": "text/x-python",
   "name": "python",
   "nbconvert_exporter": "python",
   "pygments_lexer": "ipython3",
   "version": "3.7.4"
  }
 },
 "nbformat": 4,
 "nbformat_minor": 2
}
