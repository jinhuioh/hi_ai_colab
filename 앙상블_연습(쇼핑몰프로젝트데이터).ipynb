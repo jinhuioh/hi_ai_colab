{
  "nbformat": 4,
  "nbformat_minor": 0,
  "metadata": {
    "colab": {
      "name": "앙상블 연습(쇼핑몰프로젝트데이터).ipynb",
      "provenance": [],
      "collapsed_sections": [],
      "authorship_tag": "ABX9TyNnCsXF5TTK0wkvSKwFrLoB",
      "include_colab_link": true
    },
    "kernelspec": {
      "name": "python3",
      "display_name": "Python 3"
    },
    "language_info": {
      "name": "python"
    }
  },
  "cells": [
    {
      "cell_type": "markdown",
      "metadata": {
        "id": "view-in-github",
        "colab_type": "text"
      },
      "source": [
        "<a href=\"https://colab.research.google.com/github/jinhuioh/hi_ai_himedia/blob/master/%EC%95%99%EC%83%81%EB%B8%94_%EC%97%B0%EC%8A%B5(%EC%87%BC%ED%95%91%EB%AA%B0%ED%94%84%EB%A1%9C%EC%A0%9D%ED%8A%B8%EB%8D%B0%EC%9D%B4%ED%84%B0).ipynb\" target=\"_parent\"><img src=\"https://colab.research.google.com/assets/colab-badge.svg\" alt=\"Open In Colab\"/></a>"
      ]
    },
    {
      "cell_type": "code",
      "execution_count": 1,
      "metadata": {
        "id": "1VAiRWCq2BdG"
      },
      "outputs": [],
      "source": [
        "import pandas as pd\n",
        "import numpy as np\n",
        "\n",
        "# 주요 라이브러리 import\n",
        "from sklearn import datasets\n",
        "from sklearn.tree import DecisionTreeClassifier\n",
        "import warnings\n",
        "warnings.filterwarnings(action='ignore')\n",
        "import time\n",
        "from IPython.display import Image\n",
        "from sklearn.datasets import fetch_openml\n",
        "import sklearn.datasets as data\n",
        "from sklearn.model_selection import train_test_split\n",
        "from sklearn.metrics import accuracy_score\n",
        "import numpy as np\n",
        "import pandas as pd\n",
        "import matplotlib.pyplot as plt\n",
        "import seaborn as sns\n",
        "%matplotlib inline\n",
        "from sklearn.preprocessing import LabelEncoder#라벨인코더 임포트\n",
        "from sklearn.model_selection import KFold\n",
        "\n",
        "from sklearn.tree import DecisionTreeClassifier\n",
        "from sklearn.ensemble import RandomForestClassifier\n",
        "from sklearn.linear_model import LogisticRegression\n",
        "from sklearn.svm import SVC\n",
        "from sklearn.metrics import accuracy_score\n",
        "\n",
        "from pandas.plotting import parallel_coordinates#코디네이츠 그래프 그릴 때 필요한 라이브러리\n",
        "from sklearn.model_selection import train_test_split\n",
        "\n",
        "from sklearn.neighbors import KNeighborsClassifier#모델링 중 하나\n",
        "#cross_val_score: 다양한 셈플링을 해서 여러번 테스트-->평균치를 구해본다.\n",
        "from sklearn.model_selection import cross_val_score#crossvaludation해주는거\n",
        "from sklearn.metrics import *\n",
        "import matplotlib as mpl\n",
        "import matplotlib.pyplot as plt\n",
        "import matplotlib.font_manager as fm  # 폰트 관련 용도\n",
        "\n",
        "from sklearn.model_selection import GridSearchCV#그리드서치\n",
        "from sklearn.preprocessing import StandardScaler #표준화(평균을 기준)\n",
        "from sklearn.preprocessing import MinMaxScaler # 정규화(정해진 규칙 기준, mix-max기준)\n",
        "from sklearn.preprocessing import LabelEncoder\n",
        "import numpy as np\n",
        "import pandas as pd\n",
        "#앙상블\n",
        "from sklearn.ensemble import VotingClassifier\n",
        "\n",
        "from sklearn import tree\n",
        "import numpy as np\n",
        "import matplotlib.pyplot as plt\n",
        "from sklearn import preprocessing\n",
        "\n",
        "from sklearn.tree import DecisionTreeClassifier## tree방법론의 DecisionTreeClassifier사용\n",
        "from sklearn.svm import SVC##svm방법론의 SVC사용\n",
        "from sklearn.linear_model import  LogisticRegression\n",
        "from sklearn.ensemble import  GradientBoostingClassifier\n",
        "from sklearn.experimental import  enable_hist_gradient_boosting\n",
        "from sklearn.ensemble import  HistGradientBoostingClassifier\n",
        "from xgboost import  XGBClassifier\n",
        "from lightgbm import  LGBMClassifier"
      ]
    },
    {
      "cell_type": "code",
      "source": [
        "#코렙한글쓰기.\n",
        "import matplotlib as mpl\n",
        "import matplotlib.pyplot as plt\n",
        "import matplotlib.font_manager as fm  # 폰트 관련 용도\n",
        " \n",
        "%config InlineBackend.figure_format = 'retina'\n",
        " \n",
        "#!apt -qq -y install fonts-nanum\n",
        "# 여기까지하고 런타임 다시 시작!!-----> 이 셀부터 설치빼고 다시 실행"
      ],
      "metadata": {
        "id": "Ll2enoumVTxQ"
      },
      "execution_count": 2,
      "outputs": []
    },
    {
      "cell_type": "code",
      "source": [
        "import matplotlib.font_manager as fm\n",
        "fontpath = '/usr/share/fonts/truetype/nanum/NanumBarunGothic.ttf'\n",
        "font_name = fm.FontProperties(fname=fontpath, size=9).get_name()\n",
        "plt.rc('font', family=font_name) \n",
        "print(font_name)"
      ],
      "metadata": {
        "colab": {
          "base_uri": "https://localhost:8080/"
        },
        "id": "Kzadz4ezVV2i",
        "outputId": "1a7d1c8f-140f-4a06-d5b8-4c07d8784c3f"
      },
      "execution_count": 3,
      "outputs": [
        {
          "output_type": "stream",
          "name": "stdout",
          "text": [
            "NanumBarunGothic\n"
          ]
        }
      ]
    },
    {
      "cell_type": "code",
      "source": [
        "#fm._rebuild()"
      ],
      "metadata": {
        "id": "tFO88J4xVXJf"
      },
      "execution_count": 4,
      "outputs": []
    },
    {
      "cell_type": "code",
      "source": [
        "plt.title('안녕!')"
      ],
      "metadata": {
        "colab": {
          "base_uri": "https://localhost:8080/",
          "height": 300
        },
        "id": "5x5tm6gUX1t7",
        "outputId": "3deac492-20c6-43e4-b46c-50171d33104a"
      },
      "execution_count": 5,
      "outputs": [
        {
          "output_type": "execute_result",
          "data": {
            "text/plain": [
              "Text(0.5, 1.0, '안녕!')"
            ]
          },
          "metadata": {},
          "execution_count": 5
        },
        {
          "output_type": "display_data",
          "data": {
            "text/plain": [
              "<Figure size 432x288 with 1 Axes>"
            ],
            "image/png": "[encoded data removed]"
          },
          "metadata": {
            "image/png": {
              "width": 378,
              "height": 265
            },
            "needs_background": "light"
          }
        }
      ]
    },
    {
      "cell_type": "code",
      "source": [
        "df = pd.read_excel('/content/쇼핑몰프로젝트합2019.xlsx')\n",
        "df.head()"
      ],
      "metadata": {
        "colab": {
          "base_uri": "https://localhost:8080/",
          "height": 354
        },
        "id": "kcZpmSj02HsJ",
        "outputId": "40c709bc-c8c9-49d1-df3f-c0e1819ca454"
      },
      "execution_count": 8,
      "outputs": [
        {
          "output_type": "execute_result",
          "data": {
            "text/plain": [
              "   CRI_YM                   TAG 평일휴일 요일       시간대 성별      연령대  건수합계  \\\n",
              "0    2019  생활/취미/사무용품/인테리어/골프용품   평일  목  B.06-10시  F    A.2O대   291   \n",
              "1    2019  생활/취미/사무용품/인테리어/골프용품   휴일  일  F.22-02시  M    B.3O대    51   \n",
              "2    2019  생활/취미/사무용품/인테리어/골프용품   평일  목  B.06-10시  F    B.3O대   758   \n",
              "3    2019  생활/취미/사무용품/인테리어/골프용품   평일  화  C.10-14시  M    D.5O대   122   \n",
              "4    2019  생활/취미/사무용품/인테리어/골프용품   휴일  월  D.14-18시  F  E.60대이상    10   \n",
              "\n",
              "   인터넷 쇼핑 이용자 비율 (%)  월 평균 구매빈도-1회 미만 (%)  월 평균 구매빈도-1~2회 미만 (%)  \\\n",
              "0               98.7                 10.9                   18.6   \n",
              "1               86.3                 14.6                   21.3   \n",
              "2               96.9                 10.7                   17.0   \n",
              "3               39.0                 23.5                   21.2   \n",
              "4               14.5                 24.4                   27.1   \n",
              "\n",
              "   월 평균 구매빈도-2~3회 미만 (%)  월 평균 구매빈도-3회 이상 (%)  월 평균 구매빈도-평균 (회)  네이버 태그 클릭량  \n",
              "0                   22.8                 47.7               3.3       83.20  \n",
              "1                   22.4                 41.7               2.9       25.30  \n",
              "2                   21.4                 50.9               3.6       56.75  \n",
              "3                   14.6                 40.7               2.5       29.25  \n",
              "4                   12.9                 35.5               2.7        6.60  "
            ],
            "text/html": [
              "\n",
              "  <div id=\"df-43098a98-4acf-4c71-ba10-2ca784ed13b0\">\n",
              "    <div class=\"colab-df-container\">\n",
              "      <div>\n",
              "<style scoped>\n",
              "    .dataframe tbody tr th:only-of-type {\n",
              "        vertical-align: middle;\n",
              "    }\n",
              "\n",
              "    .dataframe tbody tr th {\n",
              "        vertical-align: top;\n",
              "    }\n",
              "\n",
              "    .dataframe thead th {\n",
              "        text-align: right;\n",
              "    }\n",
              "</style>\n",
              "<table border=\"1\" class=\"dataframe\">\n",
              "  <thead>\n",
              "    <tr style=\"text-align: right;\">\n",
              "      <th></th>\n",
              "      <th>CRI_YM</th>\n",
              "      <th>TAG</th>\n",
              "      <th>평일휴일</th>\n",
              "      <th>요일</th>\n",
              "      <th>시간대</th>\n",
              "      <th>성별</th>\n",
              "      <th>연령대</th>\n",
              "      <th>건수합계</th>\n",
              "      <th>인터넷 쇼핑 이용자 비율 (%)</th>\n",
              "      <th>월 평균 구매빈도-1회 미만 (%)</th>\n",
              "      <th>월 평균 구매빈도-1~2회 미만 (%)</th>\n",
              "      <th>월 평균 구매빈도-2~3회 미만 (%)</th>\n",
              "      <th>월 평균 구매빈도-3회 이상 (%)</th>\n",
              "      <th>월 평균 구매빈도-평균 (회)</th>\n",
              "      <th>네이버 태그 클릭량</th>\n",
              "    </tr>\n",
              "  </thead>\n",
              "  <tbody>\n",
              "    <tr>\n",
              "      <th>0</th>\n",
              "      <td>2019</td>\n",
              "      <td>생활/취미/사무용품/인테리어/골프용품</td>\n",
              "      <td>평일</td>\n",
              "      <td>목</td>\n",
              "      <td>B.06-10시</td>\n",
              "      <td>F</td>\n",
              "      <td>A.2O대</td>\n",
              "      <td>291</td>\n",
              "      <td>98.7</td>\n",
              "      <td>10.9</td>\n",
              "      <td>18.6</td>\n",
              "      <td>22.8</td>\n",
              "      <td>47.7</td>\n",
              "      <td>3.3</td>\n",
              "      <td>83.20</td>\n",
              "    </tr>\n",
              "    <tr>\n",
              "      <th>1</th>\n",
              "      <td>2019</td>\n",
              "      <td>생활/취미/사무용품/인테리어/골프용품</td>\n",
              "      <td>휴일</td>\n",
              "      <td>일</td>\n",
              "      <td>F.22-02시</td>\n",
              "      <td>M</td>\n",
              "      <td>B.3O대</td>\n",
              "      <td>51</td>\n",
              "      <td>86.3</td>\n",
              "      <td>14.6</td>\n",
              "      <td>21.3</td>\n",
              "      <td>22.4</td>\n",
              "      <td>41.7</td>\n",
              "      <td>2.9</td>\n",
              "      <td>25.30</td>\n",
              "    </tr>\n",
              "    <tr>\n",
              "      <th>2</th>\n",
              "      <td>2019</td>\n",
              "      <td>생활/취미/사무용품/인테리어/골프용품</td>\n",
              "      <td>평일</td>\n",
              "      <td>목</td>\n",
              "      <td>B.06-10시</td>\n",
              "      <td>F</td>\n",
              "      <td>B.3O대</td>\n",
              "      <td>758</td>\n",
              "      <td>96.9</td>\n",
              "      <td>10.7</td>\n",
              "      <td>17.0</td>\n",
              "      <td>21.4</td>\n",
              "      <td>50.9</td>\n",
              "      <td>3.6</td>\n",
              "      <td>56.75</td>\n",
              "    </tr>\n",
              "    <tr>\n",
              "      <th>3</th>\n",
              "      <td>2019</td>\n",
              "      <td>생활/취미/사무용품/인테리어/골프용품</td>\n",
              "      <td>평일</td>\n",
              "      <td>화</td>\n",
              "      <td>C.10-14시</td>\n",
              "      <td>M</td>\n",
              "      <td>D.5O대</td>\n",
              "      <td>122</td>\n",
              "      <td>39.0</td>\n",
              "      <td>23.5</td>\n",
              "      <td>21.2</td>\n",
              "      <td>14.6</td>\n",
              "      <td>40.7</td>\n",
              "      <td>2.5</td>\n",
              "      <td>29.25</td>\n",
              "    </tr>\n",
              "    <tr>\n",
              "      <th>4</th>\n",
              "      <td>2019</td>\n",
              "      <td>생활/취미/사무용품/인테리어/골프용품</td>\n",
              "      <td>휴일</td>\n",
              "      <td>월</td>\n",
              "      <td>D.14-18시</td>\n",
              "      <td>F</td>\n",
              "      <td>E.60대이상</td>\n",
              "      <td>10</td>\n",
              "      <td>14.5</td>\n",
              "      <td>24.4</td>\n",
              "      <td>27.1</td>\n",
              "      <td>12.9</td>\n",
              "      <td>35.5</td>\n",
              "      <td>2.7</td>\n",
              "      <td>6.60</td>\n",
              "    </tr>\n",
              "  </tbody>\n",
              "</table>\n",
              "</div>\n",
              "      <button class=\"colab-df-convert\" onclick=\"convertToInteractive('df-43098a98-4acf-4c71-ba10-2ca784ed13b0')\"\n",
              "              title=\"Convert this dataframe to an interactive table.\"\n",
              "              style=\"display:none;\">\n",
              "        \n",
              "  <svg xmlns=\"http://www.w3.org/2000/svg\" height=\"24px\"viewBox=\"0 0 24 24\"\n",
              "       width=\"24px\">\n",
              "    <path d=\"M0 0h24v24H0V0z\" fill=\"none\"/>\n",
              "    <path d=\"M18.56 5.44l.94 2.06.94-2.06 2.06-.94-2.06-.94-.94-2.06-.94 2.06-2.06.94zm-11 1L8.5 8.5l.94-2.06 2.06-.94-2.06-.94L8.5 2.5l-.94 2.06-2.06.94zm10 10l.94 2.06.94-2.06 2.06-.94-2.06-.94-.94-2.06-.94 2.06-2.06.94z\"/><path d=\"M17.41 7.96l-1.37-1.37c-.4-.4-.92-.59-1.43-.59-.52 0-1.04.2-1.43.59L10.3 9.45l-7.72 7.72c-.78.78-.78 2.05 0 2.83L4 21.41c.39.39.9.59 1.41.59.51 0 1.02-.2 1.41-.59l7.78-7.78 2.81-2.81c.8-.78.8-2.07 0-2.86zM5.41 20L4 18.59l7.72-7.72 1.47 1.35L5.41 20z\"/>\n",
              "  </svg>\n",
              "      </button>\n",
              "      \n",
              "  <style>\n",
              "    .colab-df-container {\n",
              "      display:flex;\n",
              "      flex-wrap:wrap;\n",
              "      gap: 12px;\n",
              "    }\n",
              "\n",
              "    .colab-df-convert {\n",
              "      background-color: #E8F0FE;\n",
              "      border: none;\n",
              "      border-radius: 50%;\n",
              "      cursor: pointer;\n",
              "      display: none;\n",
              "      fill: #1967D2;\n",
              "      height: 32px;\n",
              "      padding: 0 0 0 0;\n",
              "      width: 32px;\n",
              "    }\n",
              "\n",
              "    .colab-df-convert:hover {\n",
              "      background-color: #E2EBFA;\n",
              "      box-shadow: 0px 1px 2px rgba(60, 64, 67, 0.3), 0px 1px 3px 1px rgba(60, 64, 67, 0.15);\n",
              "      fill: #174EA6;\n",
              "    }\n",
              "\n",
              "    [theme=dark] .colab-df-convert {\n",
              "      background-color: #3B4455;\n",
              "      fill: #D2E3FC;\n",
              "    }\n",
              "\n",
              "    [theme=dark] .colab-df-convert:hover {\n",
              "      background-color: #434B5C;\n",
              "      box-shadow: 0px 1px 3px 1px rgba(0, 0, 0, 0.15);\n",
              "      filter: drop-shadow(0px 1px 2px rgba(0, 0, 0, 0.3));\n",
              "      fill: #FFFFFF;\n",
              "    }\n",
              "  </style>\n",
              "\n",
              "      <script>\n",
              "        const buttonEl =\n",
              "          document.querySelector('#df-43098a98-4acf-4c71-ba10-2ca784ed13b0 button.colab-df-convert');\n",
              "        buttonEl.style.display =\n",
              "          google.colab.kernel.accessAllowed ? 'block' : 'none';\n",
              "\n",
              "        async function convertToInteractive(key) {\n",
              "          const element = document.querySelector('#df-43098a98-4acf-4c71-ba10-2ca784ed13b0');\n",
              "          const dataTable =\n",
              "            await google.colab.kernel.invokeFunction('convertToInteractive',\n",
              "                                                     [key], {});\n",
              "          if (!dataTable) return;\n",
              "\n",
              "          const docLinkHtml = 'Like what you see? Visit the ' +\n",
              "            '<a target=\"_blank\" href=https://colab.research.google.com/notebooks/data_table.ipynb>data table notebook</a>'\n",
              "            + ' to learn more about interactive tables.';\n",
              "          element.innerHTML = '';\n",
              "          dataTable['output_type'] = 'display_data';\n",
              "          await google.colab.output.renderOutput(dataTable, element);\n",
              "          const docLink = document.createElement('div');\n",
              "          docLink.innerHTML = docLinkHtml;\n",
              "          element.appendChild(docLink);\n",
              "        }\n",
              "      </script>\n",
              "    </div>\n",
              "  </div>\n",
              "  "
            ]
          },
          "metadata": {},
          "execution_count": 8
        }
      ]
    },
    {
      "cell_type": "markdown",
      "source": [
        "## 일:1, 월:2, 화:3, 수:4, 목:5, 금:6, 토:7로 바꿈\n",
        "## 휴일:0, 평일:1\n",
        "##\n"
      ],
      "metadata": {
        "id": "nWbV1FsiQnhi"
      }
    },
    {
      "cell_type": "code",
      "source": [
        "df.isnull().sum()"
      ],
      "metadata": {
        "colab": {
          "base_uri": "https://localhost:8080/"
        },
        "id": "4Azzc_ejM1Qr",
        "outputId": "32636b7d-1a37-49fa-98f4-fa9a92dc8d00"
      },
      "execution_count": 9,
      "outputs": [
        {
          "output_type": "execute_result",
          "data": {
            "text/plain": [
              "CRI_YM                   0\n",
              "TAG                      0\n",
              "평일휴일                     0\n",
              "요일                       0\n",
              "시간대                      0\n",
              "성별                       0\n",
              "연령대                      0\n",
              "건수합계                     0\n",
              "인터넷 쇼핑 이용자 비율 (%)        0\n",
              "월 평균 구매빈도-1회 미만 (%)      0\n",
              "월 평균 구매빈도-1~2회 미만 (%)    0\n",
              "월 평균 구매빈도-2~3회 미만 (%)    0\n",
              "월 평균 구매빈도-3회 이상 (%)      0\n",
              "월 평균 구매빈도-평균 (회)         0\n",
              "네이버 태그 클릭량               0\n",
              "dtype: int64"
            ]
          },
          "metadata": {},
          "execution_count": 9
        }
      ]
    },
    {
      "cell_type": "code",
      "source": [
        "df.columns"
      ],
      "metadata": {
        "colab": {
          "base_uri": "https://localhost:8080/"
        },
        "id": "yFgNVbcfNJj9",
        "outputId": "9ed59f8e-e7de-4817-c5ba-0d7599f47efd"
      },
      "execution_count": 10,
      "outputs": [
        {
          "output_type": "execute_result",
          "data": {
            "text/plain": [
              "Index(['CRI_YM', 'TAG', '평일휴일', '요일', '시간대', '성별', '연령대', '건수합계',\n",
              "       '인터넷 쇼핑 이용자 비율 (%)', '월 평균 구매빈도-1회 미만 (%)', '월 평균 구매빈도-1~2회 미만 (%)',\n",
              "       '월 평균 구매빈도-2~3회 미만 (%)', '월 평균 구매빈도-3회 이상 (%)', '월 평균 구매빈도-평균 (회)',\n",
              "       '네이버 태그 클릭량'],\n",
              "      dtype='object')"
            ]
          },
          "metadata": {},
          "execution_count": 10
        }
      ]
    },
    {
      "cell_type": "code",
      "source": [
        "# 라벨인코딩을 하여 수치가 아닌 값들을 수치화해주자.\n",
        "encoder = LabelEncoder()\n",
        "df['평일휴일'] = encoder.fit_transform(df['평일휴일'])\n"
      ],
      "metadata": {
        "id": "8ubzd7R9Z6Qg"
      },
      "execution_count": 11,
      "outputs": []
    },
    {
      "cell_type": "code",
      "source": [
        "encoder1 = LabelEncoder()\n",
        "df['요일'] = encoder1.fit_transform(df['요일'])"
      ],
      "metadata": {
        "id": "eLz7k2Vfapo3"
      },
      "execution_count": 12,
      "outputs": []
    },
    {
      "cell_type": "code",
      "source": [
        "encoder2 = LabelEncoder()\n",
        "encoder3 = LabelEncoder()\n",
        "encoder4 = LabelEncoder()\n",
        "\n",
        "df['시간대'] = encoder2.fit_transform(df['시간대'])\n",
        "df['성별'] = encoder3.fit_transform(df['성별'])\n",
        "df['연령대'] = encoder4.fit_transform(df['연령대'])"
      ],
      "metadata": {
        "id": "2_ilDV8_aq4W"
      },
      "execution_count": 13,
      "outputs": []
    },
    {
      "cell_type": "code",
      "source": [
        "df.info()"
      ],
      "metadata": {
        "colab": {
          "base_uri": "https://localhost:8080/"
        },
        "id": "pyFhOVPqaq8O",
        "outputId": "eaf8678e-299e-4c60-e152-8cb76a940085"
      },
      "execution_count": 14,
      "outputs": [
        {
          "output_type": "stream",
          "name": "stdout",
          "text": [
            "<class 'pandas.core.frame.DataFrame'>\n",
            "RangeIndex: 6855 entries, 0 to 6854\n",
            "Data columns (total 15 columns):\n",
            " #   Column                 Non-Null Count  Dtype  \n",
            "---  ------                 --------------  -----  \n",
            " 0   CRI_YM                 6855 non-null   int64  \n",
            " 1   TAG                    6855 non-null   object \n",
            " 2   평일휴일                   6855 non-null   int64  \n",
            " 3   요일                     6855 non-null   int64  \n",
            " 4   시간대                    6855 non-null   int64  \n",
            " 5   성별                     6855 non-null   int64  \n",
            " 6   연령대                    6855 non-null   int64  \n",
            " 7   건수합계                   6855 non-null   int64  \n",
            " 8   인터넷 쇼핑 이용자 비율 (%)      6855 non-null   float64\n",
            " 9   월 평균 구매빈도-1회 미만 (%)    6855 non-null   float64\n",
            " 10  월 평균 구매빈도-1~2회 미만 (%)  6855 non-null   float64\n",
            " 11  월 평균 구매빈도-2~3회 미만 (%)  6855 non-null   float64\n",
            " 12  월 평균 구매빈도-3회 이상 (%)    6855 non-null   float64\n",
            " 13  월 평균 구매빈도-평균 (회)       6855 non-null   float64\n",
            " 14  네이버 태그 클릭량             6855 non-null   float64\n",
            "dtypes: float64(7), int64(7), object(1)\n",
            "memory usage: 803.4+ KB\n"
          ]
        }
      ]
    },
    {
      "cell_type": "code",
      "source": [
        "#tag컬럼에서 '홈쇼핑'값을 없애보자-> 어케함...\n",
        "#df.drop(df['TAG']['홈쇼핑'],inplace=True)\n",
        "#df.head()"
      ],
      "metadata": {
        "id": "3bSX0FZ4aq_O"
      },
      "execution_count": 15,
      "outputs": []
    },
    {
      "cell_type": "code",
      "source": [
        "df.loc[1]"
      ],
      "metadata": {
        "colab": {
          "base_uri": "https://localhost:8080/"
        },
        "id": "ScATnXgpfDrU",
        "outputId": "b49c2c29-c04a-480c-bc26-8d314c3d7c9a"
      },
      "execution_count": 16,
      "outputs": [
        {
          "output_type": "execute_result",
          "data": {
            "text/plain": [
              "CRI_YM                                   2019\n",
              "TAG                      생활/취미/사무용품/인테리어/골프용품\n",
              "평일휴일                                        1\n",
              "요일                                          4\n",
              "시간대                                         5\n",
              "성별                                          1\n",
              "연령대                                         1\n",
              "건수합계                                       51\n",
              "인터넷 쇼핑 이용자 비율 (%)                        86.3\n",
              "월 평균 구매빈도-1회 미만 (%)                      14.6\n",
              "월 평균 구매빈도-1~2회 미만 (%)                    21.3\n",
              "월 평균 구매빈도-2~3회 미만 (%)                    22.4\n",
              "월 평균 구매빈도-3회 이상 (%)                      41.7\n",
              "월 평균 구매빈도-평균 (회)                          2.9\n",
              "네이버 태그 클릭량                               25.3\n",
              "Name: 1, dtype: object"
            ]
          },
          "metadata": {},
          "execution_count": 16
        }
      ]
    },
    {
      "cell_type": "code",
      "source": [
        "#라벨인코딩을 해주자\n",
        "# 지금데이터는 안해줘도 됨. 다 수치화해서"
      ],
      "metadata": {
        "id": "sqlmakDuW0VQ"
      },
      "execution_count": 17,
      "outputs": []
    },
    {
      "cell_type": "code",
      "source": [
        "X_train, X_test, y_train, y_test = train_test_split(\n",
        "    df[['CRI_YM', '평일휴일', '요일', '시간대', '성별', '연령대', '건수합계',\n",
        "       '인터넷 쇼핑 이용자 비율 (%)', '월 평균 구매빈도-1회 미만 (%)', '월 평균 구매빈도-1~2회 미만 (%)',\n",
        "       '월 평균 구매빈도-2~3회 미만 (%)', '월 평균 구매빈도-3회 이상 (%)', '월 평균 구매빈도-평균 (회)','네이버 태그 클릭량']],\n",
        "    df['TAG'],\n",
        "    test_size=0.2,\n",
        "    random_state=42\n",
        "\n",
        ")"
      ],
      "metadata": {
        "id": "tmvEjke75WMo"
      },
      "execution_count": 18,
      "outputs": []
    },
    {
      "cell_type": "code",
      "source": [
        "X_train.shape, X_test.shape"
      ],
      "metadata": {
        "colab": {
          "base_uri": "https://localhost:8080/"
        },
        "id": "s5NdTjB3NUwK",
        "outputId": "a000df2a-4902-4168-e36f-3600ca74e00e"
      },
      "execution_count": 19,
      "outputs": [
        {
          "output_type": "execute_result",
          "data": {
            "text/plain": [
              "((5484, 14), (1371, 14))"
            ]
          },
          "metadata": {},
          "execution_count": 19
        }
      ]
    },
    {
      "cell_type": "code",
      "source": [
        "y_train.shape, y_test.shape"
      ],
      "metadata": {
        "colab": {
          "base_uri": "https://localhost:8080/"
        },
        "id": "PmO5nWPDNYb5",
        "outputId": "441b87d4-7fb8-4d49-8b6b-536251f52acb"
      },
      "execution_count": 20,
      "outputs": [
        {
          "output_type": "execute_result",
          "data": {
            "text/plain": [
              "((5484,), (1371,))"
            ]
          },
          "metadata": {},
          "execution_count": 20
        }
      ]
    },
    {
      "cell_type": "code",
      "source": [
        "y_train[:10]"
      ],
      "metadata": {
        "colab": {
          "base_uri": "https://localhost:8080/"
        },
        "id": "rU_Ir9Q1NaVZ",
        "outputId": "cf7f6275-b9ff-40e5-a397-a4f66136dd9d"
      },
      "execution_count": 21,
      "outputs": [
        {
          "output_type": "execute_result",
          "data": {
            "text/plain": [
              "5049                     식료품\n",
              "5525                  패션/화장품\n",
              "297     생활/취미/사무용품/인테리어/골프용품\n",
              "303     생활/취미/사무용품/인테리어/골프용품\n",
              "6058                  패션/화장품\n",
              "3481    생활/취미/사무용품/인테리어/골프용품\n",
              "2996    생활/취미/사무용품/인테리어/골프용품\n",
              "5466                  패션/화장품\n",
              "5582                  패션/화장품\n",
              "655     생활/취미/사무용품/인테리어/골프용품\n",
              "Name: TAG, dtype: object"
            ]
          },
          "metadata": {},
          "execution_count": 21
        }
      ]
    },
    {
      "cell_type": "code",
      "source": [
        "## 단일 모델들에 대한 객체 생성\n",
        "## voting(hard/soft)"
      ],
      "metadata": {
        "id": "QqbJsSUANcwi"
      },
      "execution_count": 22,
      "outputs": []
    },
    {
      "cell_type": "code",
      "source": [
        "dt = DecisionTreeClassifier(\n",
        "    criterion='gini',\n",
        "    max_depth = 3,\n",
        "    max_features = 14,\n",
        "    random_state = 100\n",
        ")\n",
        "dt.fit(X_train, y_train)"
      ],
      "metadata": {
        "colab": {
          "base_uri": "https://localhost:8080/"
        },
        "id": "jSwD8zLON0H5",
        "outputId": "6469d205-7f70-4f80-d7e4-cc086220ce56"
      },
      "execution_count": 23,
      "outputs": [
        {
          "output_type": "execute_result",
          "data": {
            "text/plain": [
              "DecisionTreeClassifier(max_depth=3, max_features=14, random_state=100)"
            ]
          },
          "metadata": {},
          "execution_count": 23
        }
      ]
    },
    {
      "cell_type": "code",
      "source": [
        "svc = SVC(\n",
        "    kernel = 'rbf',\n",
        "    C=0.1,\n",
        "    gamma=10,\n",
        "    probability=True,\n",
        "    random_state = 10\n",
        ")\n",
        "svc.fit(X_train, y_train)"
      ],
      "metadata": {
        "colab": {
          "base_uri": "https://localhost:8080/"
        },
        "id": "xInVnpTEN7dp",
        "outputId": "ed2c1b4b-1abb-434c-935b-d100b63f8e1d"
      },
      "execution_count": 24,
      "outputs": [
        {
          "output_type": "execute_result",
          "data": {
            "text/plain": [
              "SVC(C=0.1, gamma=10, probability=True, random_state=10)"
            ]
          },
          "metadata": {},
          "execution_count": 24
        }
      ]
    },
    {
      "cell_type": "code",
      "source": [
        "lr = LogisticRegression()\n",
        "lr.fit(X_train, y_train)"
      ],
      "metadata": {
        "colab": {
          "base_uri": "https://localhost:8080/"
        },
        "id": "6SbAoGfoPpSG",
        "outputId": "408d30cb-e997-44ae-9227-556a3dcce1e5"
      },
      "execution_count": 25,
      "outputs": [
        {
          "output_type": "execute_result",
          "data": {
            "text/plain": [
              "LogisticRegression()"
            ]
          },
          "metadata": {},
          "execution_count": 25
        }
      ]
    },
    {
      "cell_type": "code",
      "source": [
        "dt_predt = dt.predict(X_test)"
      ],
      "metadata": {
        "id": "XZMRZTRpS-xI"
      },
      "execution_count": 26,
      "outputs": []
    },
    {
      "cell_type": "code",
      "source": [
        "svc_predt = svc.predict(X_test)"
      ],
      "metadata": {
        "id": "sjgaS1I9TApH"
      },
      "execution_count": 27,
      "outputs": []
    },
    {
      "cell_type": "code",
      "source": [
        "lr_predt = lr.predict(X_test)"
      ],
      "metadata": {
        "id": "0I_PX7w5TBk4"
      },
      "execution_count": 28,
      "outputs": []
    },
    {
      "cell_type": "code",
      "source": [
        "dt_acc = accuracy_score(y_test, dt_predt)\n",
        "svc_acc = accuracy_score(y_test, svc_predt)\n",
        "lr_acc = accuracy_score(y_test, lr_predt)\n",
        "dt_acc, svc_acc, lr_acc"
      ],
      "metadata": {
        "colab": {
          "base_uri": "https://localhost:8080/"
        },
        "id": "xb5z3ubeTEZ4",
        "outputId": "1942bead-bd32-47c5-f15d-4d9048af2c7c"
      },
      "execution_count": 31,
      "outputs": [
        {
          "output_type": "execute_result",
          "data": {
            "text/plain": [
              "(0.9445660102115244, 0.6075857038657914, 0.9452954048140044)"
            ]
          },
          "metadata": {},
          "execution_count": 31
        }
      ]
    },
    {
      "cell_type": "code",
      "source": [
        "## 하드 보팅\n",
        "voting_clf1 = VotingClassifier(\n",
        "    estimators= [\n",
        "        ('decision tree', dt), \n",
        "        ('svc', svc), \n",
        "        ('lr', lr)\n",
        "    ],\n",
        "    weights=[1, 1, 1],\n",
        "    voting='hard'\n",
        ")\n",
        "voting_clf1.fit(X_train, y_train)\n",
        "hard_voting_predicted = voting_clf1.predict(X_test)\n",
        "accuracy_score(y_test, hard_voting_predicted)"
      ],
      "metadata": {
        "colab": {
          "base_uri": "https://localhost:8080/",
          "height": 248
        },
        "id": "xML5x_iKTGjI",
        "outputId": "165fe927-2a6e-4795-a756-57ccd197a570"
      },
      "execution_count": null,
      "outputs": [
        {
          "output_type": "error",
          "ename": "NameError",
          "evalue": "ignored",
          "traceback": [
            "\u001b[0;31m---------------------------------------------------------------------------\u001b[0m",
            "\u001b[0;31mNameError\u001b[0m                                 Traceback (most recent call last)",
            "\u001b[0;32m<ipython-input-51-750681aa48f3>\u001b[0m in \u001b[0;36m<module>\u001b[0;34m()\u001b[0m\n\u001b[1;32m      3\u001b[0m     estimators= [\n\u001b[1;32m      4\u001b[0m         \u001b[0;34m(\u001b[0m\u001b[0;34m'decision tree'\u001b[0m\u001b[0;34m,\u001b[0m \u001b[0mdt\u001b[0m\u001b[0;34m)\u001b[0m\u001b[0;34m,\u001b[0m\u001b[0;34m\u001b[0m\u001b[0;34m\u001b[0m\u001b[0m\n\u001b[0;32m----> 5\u001b[0;31m         \u001b[0;34m(\u001b[0m\u001b[0;34m'svc'\u001b[0m\u001b[0;34m,\u001b[0m \u001b[0msvc\u001b[0m\u001b[0;34m)\u001b[0m\u001b[0;34m,\u001b[0m\u001b[0;34m\u001b[0m\u001b[0;34m\u001b[0m\u001b[0m\n\u001b[0m\u001b[1;32m      6\u001b[0m         \u001b[0;34m(\u001b[0m\u001b[0;34m'lr'\u001b[0m\u001b[0;34m,\u001b[0m \u001b[0mlr\u001b[0m\u001b[0;34m)\u001b[0m\u001b[0;34m\u001b[0m\u001b[0;34m\u001b[0m\u001b[0m\n\u001b[1;32m      7\u001b[0m     ],\n",
            "\u001b[0;31mNameError\u001b[0m: name 'svc' is not defined"
          ]
        }
      ]
    },
    {
      "cell_type": "code",
      "source": [
        "## 소프트 보팅\n",
        "# voting_clf2 = VotingClassifier(\n",
        "#     estimators= [\n",
        "#         ('decision tree', dt), \n",
        "#         ('svc', svc), \n",
        "#         ('lr', lr)\n",
        "#     ],\n",
        "#     weights=[1, 1, 1],\n",
        "#     voting='soft'\n",
        "# )\n",
        "# voting_clf2.fit(X_train, y_train)\n",
        "# soft_voting_predicted = voting_clf2.predict(X_test)\n",
        "# accuracy_score(y_test, soft_voting_predicted)"
      ],
      "metadata": {
        "id": "JpEPBuvNjbik"
      },
      "execution_count": null,
      "outputs": []
    },
    {
      "cell_type": "code",
      "source": [
        "### 그래프로 그려보세요. accuracy(dtree, knn, svm, hard voting, soft voting)\n",
        "# import matplotlib.pyplot as plt\n",
        "# import numpy as np\n",
        "# %matplotlib inline\n",
        "\n",
        "# x = np.arange(2)\n",
        "# plt.bar(x, height= [\n",
        "#                     accuracy_score(y_test, hard_voting_predicted),\n",
        "#                     accuracy_score(y_test, soft_voting_predicted)\n",
        "#             ])\n",
        "# plt.xticks(x, ['hard voting','soft voting']);"
      ],
      "metadata": {
        "id": "cFHrymmejfS3"
      },
      "execution_count": null,
      "outputs": []
    },
    {
      "cell_type": "code",
      "source": [
        "## bagging\n",
        "rf = RandomForestClassifier(\n",
        "    n_estimators=100,\n",
        "    max_depth=5,\n",
        "    random_state=10\n",
        ")\n",
        "rf.fit(X_train, y_train)"
      ],
      "metadata": {
        "colab": {
          "base_uri": "https://localhost:8080/"
        },
        "id": "G5pBhQEzjg-T",
        "outputId": "2657cf78-9696-4043-bf0b-b25b3c4d14a8"
      },
      "execution_count": null,
      "outputs": [
        {
          "output_type": "execute_result",
          "data": {
            "text/plain": [
              "RandomForestClassifier(max_depth=5, random_state=10)"
            ]
          },
          "metadata": {},
          "execution_count": 38
        }
      ]
    },
    {
      "cell_type": "code",
      "source": [
        "rf_predt = rf.predict(X_test)\n",
        "rf_acc = accuracy_score(y_test, rf_predt)\n",
        "rf_acc"
      ],
      "metadata": {
        "colab": {
          "base_uri": "https://localhost:8080/"
        },
        "id": "CGIdQQ4jjiOl",
        "outputId": "da79719a-4ee5-41fe-e8fe-7bedc29651dc"
      },
      "execution_count": null,
      "outputs": [
        {
          "output_type": "execute_result",
          "data": {
            "text/plain": [
              "0.60425"
            ]
          },
          "metadata": {},
          "execution_count": 39
        }
      ]
    },
    {
      "cell_type": "code",
      "source": [
        "# x = np.arange(3)\n",
        "# plt.bar(x, height= [\n",
        "#                     accuracy_score(y_test, hard_voting_predicted),\n",
        "#                     accuracy_score(y_test, soft_voting_predicted),\n",
        "#                     accuracy_score(y_test, rf_predt)\n",
        "#             ])\n",
        "# plt.xticks(x, ['hard voting','soft voting', 'bagging']);"
      ],
      "metadata": {
        "id": "Wcsfoxu-jlVg"
      },
      "execution_count": null,
      "outputs": []
    },
    {
      "cell_type": "code",
      "source": [
        "# confusion_matrix(y_test, soft_voting_predicted)"
      ],
      "metadata": {
        "id": "pkxd6FOCjnCN"
      },
      "execution_count": null,
      "outputs": []
    },
    {
      "cell_type": "code",
      "source": [
        "confusion_matrix(y_test, rf_predt)"
      ],
      "metadata": {
        "colab": {
          "base_uri": "https://localhost:8080/"
        },
        "id": "U96G6XSfjqvt",
        "outputId": "bcdcd3bc-d7f5-4081-e211-e268d349932f"
      },
      "execution_count": null,
      "outputs": [
        {
          "output_type": "execute_result",
          "data": {
            "text/plain": [
              "array([[2405,    0,    0,    2],\n",
              "       [ 298,    0,    0,    0],\n",
              "       [ 324,    0,    0,    0],\n",
              "       [ 959,    0,    0,   12]])"
            ]
          },
          "metadata": {},
          "execution_count": 40
        }
      ]
    },
    {
      "cell_type": "code",
      "source": [
        "gbc = GradientBoostingClassifier(\n",
        "     random_state=42\n",
        ").fit(X_train, y_train)"
      ],
      "metadata": {
        "id": "IbK3wOBzjuQd"
      },
      "execution_count": null,
      "outputs": []
    },
    {
      "cell_type": "code",
      "source": [
        "gbc_predicted = gbc.predict(X_test)\n",
        "accuracy_score(y_test, gbc_predicted)"
      ],
      "metadata": {
        "colab": {
          "base_uri": "https://localhost:8080/"
        },
        "id": "RU6mbJLZjvTT",
        "outputId": "0a50f45c-6ea7-48c7-fa8a-ab1b1abe9708"
      },
      "execution_count": null,
      "outputs": [
        {
          "output_type": "execute_result",
          "data": {
            "text/plain": [
              "0.62475"
            ]
          },
          "metadata": {},
          "execution_count": 42
        }
      ]
    },
    {
      "cell_type": "code",
      "source": [
        ""
      ],
      "metadata": {
        "id": "Z0BykkxskPrj"
      },
      "execution_count": null,
      "outputs": []
    }
  ]
}