{
  "nbformat": 4,
  "nbformat_minor": 0,
  "metadata": {
    "colab": {
      "name": "앙상블 연습(쇼핑몰프로젝트데이터).ipynb",
      "provenance": [],
      "collapsed_sections": [],
      "authorship_tag": "ABX9TyOGOywL0hUwO2d0X8PVhy5O",
      "include_colab_link": true
    },
    "kernelspec": {
      "name": "python3",
      "display_name": "Python 3"
    },
    "language_info": {
      "name": "python"
    }
  },
  "cells": [
    {
      "cell_type": "markdown",
      "metadata": {
        "id": "view-in-github",
        "colab_type": "text"
      },
      "source": [
        "<a href=\"https://colab.research.google.com/github/jinhuioh/hi_ai_himedia/blob/master/%EC%95%99%EC%83%81%EB%B8%94_%EC%97%B0%EC%8A%B5(%EC%87%BC%ED%95%91%EB%AA%B0%ED%94%84%EB%A1%9C%EC%A0%9D%ED%8A%B8%EB%8D%B0%EC%9D%B4%ED%84%B0).ipynb\" target=\"_parent\"><img src=\"https://colab.research.google.com/assets/colab-badge.svg\" alt=\"Open In Colab\"/></a>"
      ]
    },
    {
      "cell_type": "code",
      "execution_count": 1,
      "metadata": {
        "id": "1VAiRWCq2BdG"
      },
      "outputs": [],
      "source": [
        "import pandas as pd\n",
        "import numpy as np\n",
        "\n",
        "# 주요 라이브러리 import\n",
        "from sklearn import datasets\n",
        "from sklearn.tree import DecisionTreeClassifier\n",
        "import warnings\n",
        "warnings.filterwarnings(action='ignore')\n",
        "import time\n",
        "from IPython.display import Image\n",
        "from sklearn.datasets import fetch_openml\n",
        "import sklearn.datasets as data\n",
        "from sklearn.model_selection import train_test_split\n",
        "from sklearn.metrics import accuracy_score\n",
        "import numpy as np\n",
        "import pandas as pd\n",
        "import matplotlib.pyplot as plt\n",
        "import seaborn as sns\n",
        "%matplotlib inline\n",
        "from sklearn.preprocessing import LabelEncoder#라벨인코더 임포트\n",
        "from sklearn.model_selection import KFold\n",
        "\n",
        "from sklearn.tree import DecisionTreeClassifier\n",
        "from sklearn.ensemble import RandomForestClassifier\n",
        "from sklearn.linear_model import LogisticRegression\n",
        "from sklearn.svm import SVC\n",
        "from sklearn.metrics import accuracy_score\n",
        "\n",
        "from pandas.plotting import parallel_coordinates#코디네이츠 그래프 그릴 때 필요한 라이브러리\n",
        "from sklearn.model_selection import train_test_split\n",
        "\n",
        "from sklearn.neighbors import KNeighborsClassifier#모델링 중 하나\n",
        "#cross_val_score: 다양한 셈플링을 해서 여러번 테스트-->평균치를 구해본다.\n",
        "from sklearn.model_selection import cross_val_score#crossvaludation해주는거\n",
        "from sklearn.metrics import *\n",
        "import matplotlib as mpl\n",
        "import matplotlib.pyplot as plt\n",
        "import matplotlib.font_manager as fm  # 폰트 관련 용도\n",
        "\n",
        "from sklearn.model_selection import GridSearchCV#그리드서치\n",
        "from sklearn.preprocessing import StandardScaler #표준화(평균을 기준)\n",
        "from sklearn.preprocessing import MinMaxScaler # 정규화(정해진 규칙 기준, mix-max기준)\n",
        "from sklearn.preprocessing import LabelEncoder\n",
        "import numpy as np\n",
        "import pandas as pd\n",
        "#앙상블\n",
        "from sklearn.ensemble import VotingClassifier\n",
        "\n",
        "from sklearn import tree\n",
        "import numpy as np\n",
        "import matplotlib.pyplot as plt\n",
        "from sklearn import preprocessing\n",
        "\n",
        "from sklearn.tree import DecisionTreeClassifier## tree방법론의 DecisionTreeClassifier사용\n",
        "from sklearn.svm import SVC##svm방법론의 SVC사용\n",
        "from sklearn.linear_model import  LogisticRegression\n",
        "from sklearn.ensemble import  GradientBoostingClassifier\n",
        "from sklearn.experimental import  enable_hist_gradient_boosting\n",
        "from sklearn.ensemble import  HistGradientBoostingClassifier\n",
        "from xgboost import  XGBClassifier\n",
        "from lightgbm import  LGBMClassifier"
      ]
    },
    {
      "cell_type": "code",
      "source": [
        "#코렙한글쓰기.\n",
        "import matplotlib as mpl\n",
        "import matplotlib.pyplot as plt\n",
        "import matplotlib.font_manager as fm  # 폰트 관련 용도\n",
        " \n",
        "%config InlineBackend.figure_format = 'retina'\n",
        " \n",
        "#!apt -qq -y install fonts-nanum\n",
        "# 여기까지하고 런타임 다시 시작!!-----> 이 셀부터 설치빼고 다시 실행"
      ],
      "metadata": {
        "id": "Ll2enoumVTxQ"
      },
      "execution_count": 2,
      "outputs": []
    },
    {
      "cell_type": "code",
      "source": [
        "import matplotlib.font_manager as fm\n",
        "fontpath = '/usr/share/fonts/truetype/nanum/NanumBarunGothic.ttf'\n",
        "font_name = fm.FontProperties(fname=fontpath, size=9).get_name()\n",
        "plt.rc('font', family=font_name) \n",
        "print(font_name)"
      ],
      "metadata": {
        "colab": {
          "base_uri": "https://localhost:8080/"
        },
        "id": "Kzadz4ezVV2i",
        "outputId": "da89339d-d4ec-45bd-806b-c5d6e31ce4c3"
      },
      "execution_count": 3,
      "outputs": [
        {
          "output_type": "stream",
          "name": "stdout",
          "text": [
            "NanumBarunGothic\n"
          ]
        }
      ]
    },
    {
      "cell_type": "code",
      "source": [
        "#fm._rebuild()"
      ],
      "metadata": {
        "id": "tFO88J4xVXJf"
      },
      "execution_count": 4,
      "outputs": []
    },
    {
      "cell_type": "code",
      "source": [
        "plt.title('안녕!')"
      ],
      "metadata": {
        "colab": {
          "base_uri": "https://localhost:8080/",
          "height": 300
        },
        "id": "5x5tm6gUX1t7",
        "outputId": "7eae99a9-26ce-44a4-8a11-359f2aaf5d40"
      },
      "execution_count": 4,
      "outputs": [
        {
          "output_type": "execute_result",
          "data": {
            "text/plain": [
              "Text(0.5, 1.0, '안녕!')"
            ]
          },
          "metadata": {},
          "execution_count": 4
        },
        {
          "output_type": "display_data",
          "data": {
            "text/plain": [
              "<Figure size 432x288 with 1 Axes>"
            ],
            "image/png": "[encoded data removed]"
          },
          "metadata": {
            "image/png": {
              "width": 378,
              "height": 265
            },
            "needs_background": "light"
          }
        }
      ]
    },
    {
      "cell_type": "code",
      "source": [
        "df = pd.read_excel('/content/쇼핑몰_최종 (1).xlsx')\n",
        "df.head()"
      ],
      "metadata": {
        "colab": {
          "base_uri": "https://localhost:8080/",
          "height": 372
        },
        "id": "kcZpmSj02HsJ",
        "outputId": "b9b7cf24-f935-475e-d4ee-a40822b45d9a"
      },
      "execution_count": 5,
      "outputs": [
        {
          "output_type": "execute_result",
          "data": {
            "text/plain": [
              "   CRI_YM     TAG 평일휴일 요일       시간대 성별      연령대  건수합계  인터넷 쇼핑 이용자 비율 (%)  \\\n",
              "0    2020  패션/화장품   평일  월  F.22-02시  F    B.3O대   890               94.7   \n",
              "1    2020  패션/화장품   휴일  일  F.22-02시  F    A.2O대  2958               97.5   \n",
              "2    2020  패션/화장품   평일  목  F.22-02시  F    A.2O대  1898               97.5   \n",
              "3    2020  패션/화장품   휴일  토  F.22-02시  F    A.2O대  2003               97.5   \n",
              "4    2020  패션/화장품   평일  수  A.02-06시  F  E.60대이상   110               19.8   \n",
              "\n",
              "   월 평균 구매빈도-1회 미만 (%)  월 평균 구매빈도-1~2회 미만 (%)  월 평균 구매빈도-2~3회 미만 (%)  \\\n",
              "0                 18.2                   14.0                   18.9   \n",
              "1                 20.2                   18.2                   15.8   \n",
              "2                 20.2                   18.2                   15.8   \n",
              "3                 20.2                   18.2                   15.8   \n",
              "4                 33.3                   13.4                   22.7   \n",
              "\n",
              "   월 평균 구매빈도-3회 이상 (%)  월 평균 구매빈도-평균 (회)  네이버 태그 클릭량  \n",
              "0                 48.9               3.8       188.0  \n",
              "1                 45.8               3.7       196.0  \n",
              "2                 45.8               3.7       170.0  \n",
              "3                 45.8               3.7       172.0  \n",
              "4                 30.5               2.6       177.0  "
            ],
            "text/html": [
              "\n",
              "  <div id=\"df-2ca87e14-699f-4d90-b8a6-64717abf6ad1\">\n",
              "    <div class=\"colab-df-container\">\n",
              "      <div>\n",
              "<style scoped>\n",
              "    .dataframe tbody tr th:only-of-type {\n",
              "        vertical-align: middle;\n",
              "    }\n",
              "\n",
              "    .dataframe tbody tr th {\n",
              "        vertical-align: top;\n",
              "    }\n",
              "\n",
              "    .dataframe thead th {\n",
              "        text-align: right;\n",
              "    }\n",
              "</style>\n",
              "<table border=\"1\" class=\"dataframe\">\n",
              "  <thead>\n",
              "    <tr style=\"text-align: right;\">\n",
              "      <th></th>\n",
              "      <th>CRI_YM</th>\n",
              "      <th>TAG</th>\n",
              "      <th>평일휴일</th>\n",
              "      <th>요일</th>\n",
              "      <th>시간대</th>\n",
              "      <th>성별</th>\n",
              "      <th>연령대</th>\n",
              "      <th>건수합계</th>\n",
              "      <th>인터넷 쇼핑 이용자 비율 (%)</th>\n",
              "      <th>월 평균 구매빈도-1회 미만 (%)</th>\n",
              "      <th>월 평균 구매빈도-1~2회 미만 (%)</th>\n",
              "      <th>월 평균 구매빈도-2~3회 미만 (%)</th>\n",
              "      <th>월 평균 구매빈도-3회 이상 (%)</th>\n",
              "      <th>월 평균 구매빈도-평균 (회)</th>\n",
              "      <th>네이버 태그 클릭량</th>\n",
              "    </tr>\n",
              "  </thead>\n",
              "  <tbody>\n",
              "    <tr>\n",
              "      <th>0</th>\n",
              "      <td>2020</td>\n",
              "      <td>패션/화장품</td>\n",
              "      <td>평일</td>\n",
              "      <td>월</td>\n",
              "      <td>F.22-02시</td>\n",
              "      <td>F</td>\n",
              "      <td>B.3O대</td>\n",
              "      <td>890</td>\n",
              "      <td>94.7</td>\n",
              "      <td>18.2</td>\n",
              "      <td>14.0</td>\n",
              "      <td>18.9</td>\n",
              "      <td>48.9</td>\n",
              "      <td>3.8</td>\n",
              "      <td>188.0</td>\n",
              "    </tr>\n",
              "    <tr>\n",
              "      <th>1</th>\n",
              "      <td>2020</td>\n",
              "      <td>패션/화장품</td>\n",
              "      <td>휴일</td>\n",
              "      <td>일</td>\n",
              "      <td>F.22-02시</td>\n",
              "      <td>F</td>\n",
              "      <td>A.2O대</td>\n",
              "      <td>2958</td>\n",
              "      <td>97.5</td>\n",
              "      <td>20.2</td>\n",
              "      <td>18.2</td>\n",
              "      <td>15.8</td>\n",
              "      <td>45.8</td>\n",
              "      <td>3.7</td>\n",
              "      <td>196.0</td>\n",
              "    </tr>\n",
              "    <tr>\n",
              "      <th>2</th>\n",
              "      <td>2020</td>\n",
              "      <td>패션/화장품</td>\n",
              "      <td>평일</td>\n",
              "      <td>목</td>\n",
              "      <td>F.22-02시</td>\n",
              "      <td>F</td>\n",
              "      <td>A.2O대</td>\n",
              "      <td>1898</td>\n",
              "      <td>97.5</td>\n",
              "      <td>20.2</td>\n",
              "      <td>18.2</td>\n",
              "      <td>15.8</td>\n",
              "      <td>45.8</td>\n",
              "      <td>3.7</td>\n",
              "      <td>170.0</td>\n",
              "    </tr>\n",
              "    <tr>\n",
              "      <th>3</th>\n",
              "      <td>2020</td>\n",
              "      <td>패션/화장품</td>\n",
              "      <td>휴일</td>\n",
              "      <td>토</td>\n",
              "      <td>F.22-02시</td>\n",
              "      <td>F</td>\n",
              "      <td>A.2O대</td>\n",
              "      <td>2003</td>\n",
              "      <td>97.5</td>\n",
              "      <td>20.2</td>\n",
              "      <td>18.2</td>\n",
              "      <td>15.8</td>\n",
              "      <td>45.8</td>\n",
              "      <td>3.7</td>\n",
              "      <td>172.0</td>\n",
              "    </tr>\n",
              "    <tr>\n",
              "      <th>4</th>\n",
              "      <td>2020</td>\n",
              "      <td>패션/화장품</td>\n",
              "      <td>평일</td>\n",
              "      <td>수</td>\n",
              "      <td>A.02-06시</td>\n",
              "      <td>F</td>\n",
              "      <td>E.60대이상</td>\n",
              "      <td>110</td>\n",
              "      <td>19.8</td>\n",
              "      <td>33.3</td>\n",
              "      <td>13.4</td>\n",
              "      <td>22.7</td>\n",
              "      <td>30.5</td>\n",
              "      <td>2.6</td>\n",
              "      <td>177.0</td>\n",
              "    </tr>\n",
              "  </tbody>\n",
              "</table>\n",
              "</div>\n",
              "      <button class=\"colab-df-convert\" onclick=\"convertToInteractive('df-2ca87e14-699f-4d90-b8a6-64717abf6ad1')\"\n",
              "              title=\"Convert this dataframe to an interactive table.\"\n",
              "              style=\"display:none;\">\n",
              "        \n",
              "  <svg xmlns=\"http://www.w3.org/2000/svg\" height=\"24px\"viewBox=\"0 0 24 24\"\n",
              "       width=\"24px\">\n",
              "    <path d=\"M0 0h24v24H0V0z\" fill=\"none\"/>\n",
              "    <path d=\"M18.56 5.44l.94 2.06.94-2.06 2.06-.94-2.06-.94-.94-2.06-.94 2.06-2.06.94zm-11 1L8.5 8.5l.94-2.06 2.06-.94-2.06-.94L8.5 2.5l-.94 2.06-2.06.94zm10 10l.94 2.06.94-2.06 2.06-.94-2.06-.94-.94-2.06-.94 2.06-2.06.94z\"/><path d=\"M17.41 7.96l-1.37-1.37c-.4-.4-.92-.59-1.43-.59-.52 0-1.04.2-1.43.59L10.3 9.45l-7.72 7.72c-.78.78-.78 2.05 0 2.83L4 21.41c.39.39.9.59 1.41.59.51 0 1.02-.2 1.41-.59l7.78-7.78 2.81-2.81c.8-.78.8-2.07 0-2.86zM5.41 20L4 18.59l7.72-7.72 1.47 1.35L5.41 20z\"/>\n",
              "  </svg>\n",
              "      </button>\n",
              "      \n",
              "  <style>\n",
              "    .colab-df-container {\n",
              "      display:flex;\n",
              "      flex-wrap:wrap;\n",
              "      gap: 12px;\n",
              "    }\n",
              "\n",
              "    .colab-df-convert {\n",
              "      background-color: #E8F0FE;\n",
              "      border: none;\n",
              "      border-radius: 50%;\n",
              "      cursor: pointer;\n",
              "      display: none;\n",
              "      fill: #1967D2;\n",
              "      height: 32px;\n",
              "      padding: 0 0 0 0;\n",
              "      width: 32px;\n",
              "    }\n",
              "\n",
              "    .colab-df-convert:hover {\n",
              "      background-color: #E2EBFA;\n",
              "      box-shadow: 0px 1px 2px rgba(60, 64, 67, 0.3), 0px 1px 3px 1px rgba(60, 64, 67, 0.15);\n",
              "      fill: #174EA6;\n",
              "    }\n",
              "\n",
              "    [theme=dark] .colab-df-convert {\n",
              "      background-color: #3B4455;\n",
              "      fill: #D2E3FC;\n",
              "    }\n",
              "\n",
              "    [theme=dark] .colab-df-convert:hover {\n",
              "      background-color: #434B5C;\n",
              "      box-shadow: 0px 1px 3px 1px rgba(0, 0, 0, 0.15);\n",
              "      filter: drop-shadow(0px 1px 2px rgba(0, 0, 0, 0.3));\n",
              "      fill: #FFFFFF;\n",
              "    }\n",
              "  </style>\n",
              "\n",
              "      <script>\n",
              "        const buttonEl =\n",
              "          document.querySelector('#df-2ca87e14-699f-4d90-b8a6-64717abf6ad1 button.colab-df-convert');\n",
              "        buttonEl.style.display =\n",
              "          google.colab.kernel.accessAllowed ? 'block' : 'none';\n",
              "\n",
              "        async function convertToInteractive(key) {\n",
              "          const element = document.querySelector('#df-2ca87e14-699f-4d90-b8a6-64717abf6ad1');\n",
              "          const dataTable =\n",
              "            await google.colab.kernel.invokeFunction('convertToInteractive',\n",
              "                                                     [key], {});\n",
              "          if (!dataTable) return;\n",
              "\n",
              "          const docLinkHtml = 'Like what you see? Visit the ' +\n",
              "            '<a target=\"_blank\" href=https://colab.research.google.com/notebooks/data_table.ipynb>data table notebook</a>'\n",
              "            + ' to learn more about interactive tables.';\n",
              "          element.innerHTML = '';\n",
              "          dataTable['output_type'] = 'display_data';\n",
              "          await google.colab.output.renderOutput(dataTable, element);\n",
              "          const docLink = document.createElement('div');\n",
              "          docLink.innerHTML = docLinkHtml;\n",
              "          element.appendChild(docLink);\n",
              "        }\n",
              "      </script>\n",
              "    </div>\n",
              "  </div>\n",
              "  "
            ]
          },
          "metadata": {},
          "execution_count": 5
        }
      ]
    },
    {
      "cell_type": "markdown",
      "source": [
        "## 테그4개를 카테고리 분류하는 ML데이터셋입니다.\n",
        "## \n",
        "##\n"
      ],
      "metadata": {
        "id": "nWbV1FsiQnhi"
      }
    },
    {
      "cell_type": "code",
      "source": [
        "df.isnull().sum()"
      ],
      "metadata": {
        "colab": {
          "base_uri": "https://localhost:8080/"
        },
        "id": "4Azzc_ejM1Qr",
        "outputId": "99a12bc1-33aa-4a08-9113-826a8b50f0fb"
      },
      "execution_count": 6,
      "outputs": [
        {
          "output_type": "execute_result",
          "data": {
            "text/plain": [
              "CRI_YM                   0\n",
              "TAG                      0\n",
              "평일휴일                     0\n",
              "요일                       0\n",
              "시간대                      0\n",
              "성별                       0\n",
              "연령대                      0\n",
              "건수합계                     0\n",
              "인터넷 쇼핑 이용자 비율 (%)        0\n",
              "월 평균 구매빈도-1회 미만 (%)      0\n",
              "월 평균 구매빈도-1~2회 미만 (%)    0\n",
              "월 평균 구매빈도-2~3회 미만 (%)    0\n",
              "월 평균 구매빈도-3회 이상 (%)      0\n",
              "월 평균 구매빈도-평균 (회)         0\n",
              "네이버 태그 클릭량               0\n",
              "dtype: int64"
            ]
          },
          "metadata": {},
          "execution_count": 6
        }
      ]
    },
    {
      "cell_type": "code",
      "source": [
        "df.columns"
      ],
      "metadata": {
        "colab": {
          "base_uri": "https://localhost:8080/"
        },
        "id": "yFgNVbcfNJj9",
        "outputId": "a720ce18-82c4-4a38-d703-20e5145438e6"
      },
      "execution_count": 7,
      "outputs": [
        {
          "output_type": "execute_result",
          "data": {
            "text/plain": [
              "Index(['CRI_YM', 'TAG', '평일휴일', '요일', '시간대', '성별', '연령대', '건수합계',\n",
              "       '인터넷 쇼핑 이용자 비율 (%)', '월 평균 구매빈도-1회 미만 (%)', '월 평균 구매빈도-1~2회 미만 (%)',\n",
              "       '월 평균 구매빈도-2~3회 미만 (%)', '월 평균 구매빈도-3회 이상 (%)', '월 평균 구매빈도-평균 (회)',\n",
              "       '네이버 태그 클릭량'],\n",
              "      dtype='object')"
            ]
          },
          "metadata": {},
          "execution_count": 7
        }
      ]
    },
    {
      "cell_type": "code",
      "source": [
        "# 라벨인코딩을 하여 수치가 아닌 값들을 수치화해주자.\n",
        "encoder = LabelEncoder()\n",
        "df['평일휴일'] = encoder.fit_transform(df['평일휴일'])\n"
      ],
      "metadata": {
        "id": "8ubzd7R9Z6Qg"
      },
      "execution_count": 8,
      "outputs": []
    },
    {
      "cell_type": "code",
      "source": [
        "encoder1 = LabelEncoder()\n",
        "df['요일'] = encoder1.fit_transform(df['요일'])"
      ],
      "metadata": {
        "id": "eLz7k2Vfapo3"
      },
      "execution_count": 9,
      "outputs": []
    },
    {
      "cell_type": "code",
      "source": [
        "encoder2 = LabelEncoder()\n",
        "encoder3 = LabelEncoder()\n",
        "encoder4 = LabelEncoder()\n",
        "\n",
        "df['시간대'] = encoder2.fit_transform(df['시간대'])\n",
        "df['성별'] = encoder3.fit_transform(df['성별'])\n",
        "df['연령대'] = encoder4.fit_transform(df['연령대'])"
      ],
      "metadata": {
        "id": "2_ilDV8_aq4W"
      },
      "execution_count": 10,
      "outputs": []
    },
    {
      "cell_type": "code",
      "source": [
        "df.info()"
      ],
      "metadata": {
        "colab": {
          "base_uri": "https://localhost:8080/"
        },
        "id": "pyFhOVPqaq8O",
        "outputId": "8c964378-5ff2-4ea1-9ab1-b3b4d6c3e0a2"
      },
      "execution_count": 11,
      "outputs": [
        {
          "output_type": "stream",
          "name": "stdout",
          "text": [
            "<class 'pandas.core.frame.DataFrame'>\n",
            "RangeIndex: 19997 entries, 0 to 19996\n",
            "Data columns (total 15 columns):\n",
            " #   Column                 Non-Null Count  Dtype  \n",
            "---  ------                 --------------  -----  \n",
            " 0   CRI_YM                 19997 non-null  int64  \n",
            " 1   TAG                    19997 non-null  object \n",
            " 2   평일휴일                   19997 non-null  int64  \n",
            " 3   요일                     19997 non-null  int64  \n",
            " 4   시간대                    19997 non-null  int64  \n",
            " 5   성별                     19997 non-null  int64  \n",
            " 6   연령대                    19997 non-null  int64  \n",
            " 7   건수합계                   19997 non-null  int64  \n",
            " 8   인터넷 쇼핑 이용자 비율 (%)      19997 non-null  float64\n",
            " 9   월 평균 구매빈도-1회 미만 (%)    19997 non-null  float64\n",
            " 10  월 평균 구매빈도-1~2회 미만 (%)  19997 non-null  float64\n",
            " 11  월 평균 구매빈도-2~3회 미만 (%)  19997 non-null  float64\n",
            " 12  월 평균 구매빈도-3회 이상 (%)    19997 non-null  float64\n",
            " 13  월 평균 구매빈도-평균 (회)       19997 non-null  float64\n",
            " 14  네이버 태그 클릭량             19997 non-null  float64\n",
            "dtypes: float64(7), int64(7), object(1)\n",
            "memory usage: 2.3+ MB\n"
          ]
        }
      ]
    },
    {
      "cell_type": "code",
      "source": [
        "#tag컬럼에서 '홈쇼핑'값을 없애보자-> 어케함...\n",
        "#df.drop(df['TAG']['홈쇼핑'],inplace=True)\n",
        "#df.head()"
      ],
      "metadata": {
        "id": "3bSX0FZ4aq_O"
      },
      "execution_count": null,
      "outputs": []
    },
    {
      "cell_type": "code",
      "source": [
        "df.loc[1]"
      ],
      "metadata": {
        "colab": {
          "base_uri": "https://localhost:8080/"
        },
        "id": "ScATnXgpfDrU",
        "outputId": "dd0e631f-d84c-4fe3-9684-4a798d533899"
      },
      "execution_count": 12,
      "outputs": [
        {
          "output_type": "execute_result",
          "data": {
            "text/plain": [
              "CRI_YM                     2020\n",
              "TAG                      패션/화장품\n",
              "평일휴일                          1\n",
              "요일                            4\n",
              "시간대                           5\n",
              "성별                            0\n",
              "연령대                           0\n",
              "건수합계                       2958\n",
              "인터넷 쇼핑 이용자 비율 (%)          97.5\n",
              "월 평균 구매빈도-1회 미만 (%)        20.2\n",
              "월 평균 구매빈도-1~2회 미만 (%)      18.2\n",
              "월 평균 구매빈도-2~3회 미만 (%)      15.8\n",
              "월 평균 구매빈도-3회 이상 (%)        45.8\n",
              "월 평균 구매빈도-평균 (회)            3.7\n",
              "네이버 태그 클릭량                196.0\n",
              "Name: 1, dtype: object"
            ]
          },
          "metadata": {},
          "execution_count": 12
        }
      ]
    },
    {
      "cell_type": "code",
      "source": [
        "#라벨인코딩을 해주자\n",
        "# 지금데이터는 안해줘도 됨. 다 수치화해서\n",
        "#test,train데이터를 나눠보자."
      ],
      "metadata": {
        "id": "sqlmakDuW0VQ"
      },
      "execution_count": 13,
      "outputs": []
    },
    {
      "cell_type": "code",
      "source": [
        "X_train, X_test, y_train, y_test = train_test_split(\n",
        "    df[['CRI_YM', '평일휴일', '요일', '시간대', '성별', '연령대', '건수합계',\n",
        "       '인터넷 쇼핑 이용자 비율 (%)', '월 평균 구매빈도-1회 미만 (%)', '월 평균 구매빈도-1~2회 미만 (%)',\n",
        "       '월 평균 구매빈도-2~3회 미만 (%)', '월 평균 구매빈도-3회 이상 (%)', '월 평균 구매빈도-평균 (회)','네이버 태그 클릭량']],\n",
        "    df['TAG'],\n",
        "    test_size=0.2,\n",
        "    random_state=42\n",
        "\n",
        ")"
      ],
      "metadata": {
        "id": "tmvEjke75WMo"
      },
      "execution_count": 14,
      "outputs": []
    },
    {
      "cell_type": "code",
      "source": [
        "X_train.shape, X_test.shape"
      ],
      "metadata": {
        "colab": {
          "base_uri": "https://localhost:8080/"
        },
        "id": "s5NdTjB3NUwK",
        "outputId": "8f4c0775-4cd5-48c8-e482-0667afaf0048"
      },
      "execution_count": 15,
      "outputs": [
        {
          "output_type": "execute_result",
          "data": {
            "text/plain": [
              "((15997, 14), (4000, 14))"
            ]
          },
          "metadata": {},
          "execution_count": 15
        }
      ]
    },
    {
      "cell_type": "code",
      "source": [
        "y_train.shape, y_test.shape"
      ],
      "metadata": {
        "colab": {
          "base_uri": "https://localhost:8080/"
        },
        "id": "PmO5nWPDNYb5",
        "outputId": "dee7fa4d-2c66-4ab1-a37b-4abb0de224c2"
      },
      "execution_count": 16,
      "outputs": [
        {
          "output_type": "execute_result",
          "data": {
            "text/plain": [
              "((15997,), (4000,))"
            ]
          },
          "metadata": {},
          "execution_count": 16
        }
      ]
    },
    {
      "cell_type": "code",
      "source": [
        "y_train[:10]"
      ],
      "metadata": {
        "colab": {
          "base_uri": "https://localhost:8080/"
        },
        "id": "rU_Ir9Q1NaVZ",
        "outputId": "7bd60d05-6512-4655-89b2-f221c5009e59"
      },
      "execution_count": 17,
      "outputs": [
        {
          "output_type": "execute_result",
          "data": {
            "text/plain": [
              "5748                      식료품\n",
              "1688                   패션/화장품\n",
              "8174     생활/취미/사무용품/인테리어/골프용품\n",
              "10194    생활/취미/사무용품/인테리어/골프용품\n",
              "4667                      식료품\n",
              "5198                      식료품\n",
              "196                    패션/화장품\n",
              "518                    패션/화장품\n",
              "19140    생활/취미/사무용품/인테리어/골프용품\n",
              "17652    생활/취미/사무용품/인테리어/골프용품\n",
              "Name: TAG, dtype: object"
            ]
          },
          "metadata": {},
          "execution_count": 17
        }
      ]
    },
    {
      "cell_type": "code",
      "source": [
        "## 단일 모델들에 대한 객체 생성\n",
        "## voting(hard/soft)"
      ],
      "metadata": {
        "id": "QqbJsSUANcwi"
      },
      "execution_count": 18,
      "outputs": []
    },
    {
      "cell_type": "code",
      "source": [
        "dt = DecisionTreeClassifier(\n",
        "    criterion='gini',\n",
        "    max_depth = 3,\n",
        "    max_features = 14,\n",
        "    random_state = 100\n",
        ")\n",
        "dt.fit(X_train, y_train)"
      ],
      "metadata": {
        "colab": {
          "base_uri": "https://localhost:8080/"
        },
        "id": "jSwD8zLON0H5",
        "outputId": "1e987179-4e5a-4647-bdc9-1d4c1b1438aa"
      },
      "execution_count": 19,
      "outputs": [
        {
          "output_type": "execute_result",
          "data": {
            "text/plain": [
              "DecisionTreeClassifier(max_depth=3, max_features=14, random_state=100)"
            ]
          },
          "metadata": {},
          "execution_count": 19
        }
      ]
    },
    {
      "cell_type": "code",
      "source": [
        "svc = SVC(\n",
        "    kernel = 'rbf',\n",
        "    C=0.1,\n",
        "    gamma=10,\n",
        "    probability=True,\n",
        "    random_state = 10\n",
        ")\n",
        "svc.fit(X_train, y_train)"
      ],
      "metadata": {
        "colab": {
          "base_uri": "https://localhost:8080/"
        },
        "id": "xInVnpTEN7dp",
        "outputId": "f2cbd5ea-c7b5-4562-c0f0-1d7b4cd763f1"
      },
      "execution_count": 20,
      "outputs": [
        {
          "output_type": "execute_result",
          "data": {
            "text/plain": [
              "SVC(C=0.1, gamma=10, probability=True, random_state=10)"
            ]
          },
          "metadata": {},
          "execution_count": 20
        }
      ]
    },
    {
      "cell_type": "code",
      "source": [
        "lr = LogisticRegression()\n",
        "lr.fit(X_train, y_train)"
      ],
      "metadata": {
        "colab": {
          "base_uri": "https://localhost:8080/"
        },
        "id": "6SbAoGfoPpSG",
        "outputId": "80e5ccd3-9fe0-4583-a4f9-6d4cbdc2c853"
      },
      "execution_count": 21,
      "outputs": [
        {
          "output_type": "execute_result",
          "data": {
            "text/plain": [
              "LogisticRegression()"
            ]
          },
          "metadata": {},
          "execution_count": 21
        }
      ]
    },
    {
      "cell_type": "code",
      "source": [
        "dt_predt = dt.predict(X_test)"
      ],
      "metadata": {
        "id": "XZMRZTRpS-xI"
      },
      "execution_count": 22,
      "outputs": []
    },
    {
      "cell_type": "code",
      "source": [
        "svc_predt = svc.predict(X_test)"
      ],
      "metadata": {
        "id": "sjgaS1I9TApH"
      },
      "execution_count": 23,
      "outputs": []
    },
    {
      "cell_type": "code",
      "source": [
        "lr_predt = lr.predict(X_test)"
      ],
      "metadata": {
        "id": "0I_PX7w5TBk4"
      },
      "execution_count": 24,
      "outputs": []
    },
    {
      "cell_type": "code",
      "source": [
        "dt_acc = accuracy_score(y_test, dt_predt)\n",
        "svc_acc = accuracy_score(y_test, svc_predt)\n",
        "lr_acc = accuracy_score(y_test, lr_predt)\n",
        "dt_acc, svc_acc, lr_acc"
      ],
      "metadata": {
        "colab": {
          "base_uri": "https://localhost:8080/"
        },
        "id": "xb5z3ubeTEZ4",
        "outputId": "f87008a7-f52d-4596-daff-d1706821bb87"
      },
      "execution_count": 25,
      "outputs": [
        {
          "output_type": "execute_result",
          "data": {
            "text/plain": [
              "(0.9345, 0.6185, 0.936)"
            ]
          },
          "metadata": {},
          "execution_count": 25
        }
      ]
    },
    {
      "cell_type": "code",
      "source": [
        "## 하드 보팅\n",
        "voting_clf1 = VotingClassifier(\n",
        "    estimators= [\n",
        "        ('decision tree', dt), \n",
        "        ('svc', svc), \n",
        "        ('lr', lr)\n",
        "    ],\n",
        "    weights=[1, 1, 1],\n",
        "    voting='hard'\n",
        ")\n",
        "voting_clf1.fit(X_train, y_train)\n",
        "hard_voting_predicted = voting_clf1.predict(X_test)\n",
        "accuracy_score(y_test, hard_voting_predicted)"
      ],
      "metadata": {
        "colab": {
          "base_uri": "https://localhost:8080/"
        },
        "id": "xML5x_iKTGjI",
        "outputId": "03e17d17-5cae-4b1c-9655-a243e499eb65"
      },
      "execution_count": 26,
      "outputs": [
        {
          "output_type": "execute_result",
          "data": {
            "text/plain": [
              "0.928"
            ]
          },
          "metadata": {},
          "execution_count": 26
        }
      ]
    },
    {
      "cell_type": "code",
      "source": [
        "## 소프트 보팅\n",
        "voting_clf2 = VotingClassifier(\n",
        "    estimators= [\n",
        "        ('decision tree', dt), \n",
        "        ('svc', svc), \n",
        "        ('lr', lr)\n",
        "    ],\n",
        "    weights=[1, 1, 1],\n",
        "    voting='soft'\n",
        ")\n",
        "voting_clf2.fit(X_train, y_train)\n",
        "soft_voting_predicted = voting_clf2.predict(X_test)\n",
        "accuracy_score(y_test, soft_voting_predicted)"
      ],
      "metadata": {
        "id": "JpEPBuvNjbik",
        "colab": {
          "base_uri": "https://localhost:8080/"
        },
        "outputId": "8bbb7bc0-2b1b-4fda-9ee7-3d526d1051b8"
      },
      "execution_count": 27,
      "outputs": [
        {
          "output_type": "execute_result",
          "data": {
            "text/plain": [
              "0.931"
            ]
          },
          "metadata": {},
          "execution_count": 27
        }
      ]
    },
    {
      "cell_type": "code",
      "source": [
        "### 그래프로 그려보세요. accuracy(dtree, knn, svm, hard voting, soft voting)\n",
        "import matplotlib.pyplot as plt\n",
        "import numpy as np\n",
        "%matplotlib inline\n",
        "\n",
        "x = np.arange(2)\n",
        "plt.bar(x, height= [\n",
        "                    accuracy_score(y_test, hard_voting_predicted),\n",
        "                    accuracy_score(y_test, soft_voting_predicted)\n",
        "            ])\n",
        "plt.xticks(x, ['hard voting','soft voting']);"
      ],
      "metadata": {
        "id": "cFHrymmejfS3",
        "colab": {
          "base_uri": "https://localhost:8080/",
          "height": 266
        },
        "outputId": "7edba56f-f9cf-4ae7-e514-c7e14960de19"
      },
      "execution_count": 28,
      "outputs": [
        {
          "output_type": "display_data",
          "data": {
            "text/plain": [
              "<Figure size 432x288 with 1 Axes>"
            ],
            "image/png": "[encoded data removed]"
          },
          "metadata": {
            "image/png": {
              "width": 370,
              "height": 249
            },
            "needs_background": "light"
          }
        }
      ]
    },
    {
      "cell_type": "code",
      "source": [
        "## bagging\n",
        "rf = RandomForestClassifier(\n",
        "    n_estimators=100,\n",
        "    max_depth=5,\n",
        "    random_state=10\n",
        ")\n",
        "rf.fit(X_train, y_train)"
      ],
      "metadata": {
        "colab": {
          "base_uri": "https://localhost:8080/"
        },
        "id": "G5pBhQEzjg-T",
        "outputId": "e9259b94-4ef1-4c0d-fca2-5ca3953127d2"
      },
      "execution_count": 29,
      "outputs": [
        {
          "output_type": "execute_result",
          "data": {
            "text/plain": [
              "RandomForestClassifier(max_depth=5, random_state=10)"
            ]
          },
          "metadata": {},
          "execution_count": 29
        }
      ]
    },
    {
      "cell_type": "code",
      "source": [
        "rf_predt = rf.predict(X_test)\n",
        "rf_acc = accuracy_score(y_test, rf_predt)\n",
        "rf_acc"
      ],
      "metadata": {
        "colab": {
          "base_uri": "https://localhost:8080/"
        },
        "id": "CGIdQQ4jjiOl",
        "outputId": "7641d17c-337b-46bf-b749-ab5ff2d70f91"
      },
      "execution_count": 30,
      "outputs": [
        {
          "output_type": "execute_result",
          "data": {
            "text/plain": [
              "0.8945"
            ]
          },
          "metadata": {},
          "execution_count": 30
        }
      ]
    },
    {
      "cell_type": "code",
      "source": [
        "x = np.arange(3)\n",
        "plt.bar(x, height= [\n",
        "                    accuracy_score(y_test, hard_voting_predicted),\n",
        "                    accuracy_score(y_test, soft_voting_predicted),\n",
        "                    accuracy_score(y_test, rf_predt)\n",
        "            ])\n",
        "plt.xticks(x, ['hard voting','soft voting', 'bagging']);"
      ],
      "metadata": {
        "id": "Wcsfoxu-jlVg",
        "colab": {
          "base_uri": "https://localhost:8080/",
          "height": 266
        },
        "outputId": "d0f3945a-4f5a-4709-c174-1a50756db782"
      },
      "execution_count": 31,
      "outputs": [
        {
          "output_type": "display_data",
          "data": {
            "text/plain": [
              "<Figure size 432x288 with 1 Axes>"
            ],
            "image/png": "[encoded data removed]"
          },
          "metadata": {
            "image/png": {
              "width": 370,
              "height": 249
            },
            "needs_background": "light"
          }
        }
      ]
    },
    {
      "cell_type": "code",
      "source": [
        "confusion_matrix(y_test, soft_voting_predicted)"
      ],
      "metadata": {
        "id": "pkxd6FOCjnCN",
        "colab": {
          "base_uri": "https://localhost:8080/"
        },
        "outputId": "c0cdb105-8458-4b6e-bfcc-03f7e9763bcb"
      },
      "execution_count": 32,
      "outputs": [
        {
          "output_type": "execute_result",
          "data": {
            "text/plain": [
              "array([[2382,   20,   72,    0],\n",
              "       [  43,  190,   65,    0],\n",
              "       [  63,   12,  234,    0],\n",
              "       [   1,    0,    0,  918]])"
            ]
          },
          "metadata": {},
          "execution_count": 32
        }
      ]
    },
    {
      "cell_type": "code",
      "source": [
        "confusion_matrix(y_test, rf_predt)"
      ],
      "metadata": {
        "colab": {
          "base_uri": "https://localhost:8080/"
        },
        "id": "U96G6XSfjqvt",
        "outputId": "577e1dfe-b540-4c14-c06c-6d7814ce3d91"
      },
      "execution_count": 33,
      "outputs": [
        {
          "output_type": "execute_result",
          "data": {
            "text/plain": [
              "array([[2472,    2,    0,    0],\n",
              "       [ 167,  123,    0,    8],\n",
              "       [ 239,    1,   65,    4],\n",
              "       [   1,    0,    0,  918]])"
            ]
          },
          "metadata": {},
          "execution_count": 33
        }
      ]
    },
    {
      "cell_type": "code",
      "source": [
        "gbc = GradientBoostingClassifier(\n",
        "     random_state=42\n",
        ").fit(X_train, y_train)"
      ],
      "metadata": {
        "id": "IbK3wOBzjuQd"
      },
      "execution_count": 34,
      "outputs": []
    },
    {
      "cell_type": "code",
      "source": [
        "gbc_predicted = gbc.predict(X_test)\n",
        "accuracy_score(y_test, gbc_predicted)"
      ],
      "metadata": {
        "colab": {
          "base_uri": "https://localhost:8080/"
        },
        "id": "RU6mbJLZjvTT",
        "outputId": "5564e3f4-4fd1-4f1f-d2bd-903dccffeac2"
      },
      "execution_count": 35,
      "outputs": [
        {
          "output_type": "execute_result",
          "data": {
            "text/plain": [
              "0.98925"
            ]
          },
          "metadata": {},
          "execution_count": 35
        }
      ]
    },
    {
      "cell_type": "code",
      "source": [
        ""
      ],
      "metadata": {
        "id": "Z0BykkxskPrj"
      },
      "execution_count": null,
      "outputs": []
    }
  ]
}