{
 "cells": [
  {
   "cell_type": "code",
   "execution_count": 1,
   "metadata": {},
   "outputs": [
    {
     "name": "stdout",
     "output_type": "stream",
     "text": [
      "시드 고정:  12\n"
     ]
    }
   ],
   "source": [
    "# 필수 라이브러리\n",
    "import pandas as pd\n",
    "import numpy as np\n",
    "import random\n",
    "import tensorflow as tf\n",
    "\n",
    "# 랜덤 시드 고정\n",
    "SEED=12\n",
    "random.seed(SEED)\n",
    "np.random.seed(SEED)\n",
    "tf.random.set_seed(SEED)  \n",
    "print(\"시드 고정: \", SEED)"
   ]
  },
  {
   "cell_type": "code",
   "execution_count": 2,
   "metadata": {},
   "outputs": [
    {
     "data": {
      "text/plain": [
       "(5497, 14)"
      ]
     },
     "execution_count": 2,
     "metadata": {},
     "output_type": "execute_result"
    }
   ],
   "source": [
    "data = pd.read_csv('./wine_train.csv')\n",
    "data.shape"
   ]
  },
  {
   "cell_type": "code",
   "execution_count": 3,
   "metadata": {},
   "outputs": [
    {
     "data": {
      "text/html": [
       "<div>\n",
       "<style scoped>\n",
       "    .dataframe tbody tr th:only-of-type {\n",
       "        vertical-align: middle;\n",
       "    }\n",
       "\n",
       "    .dataframe tbody tr th {\n",
       "        vertical-align: top;\n",
       "    }\n",
       "\n",
       "    .dataframe thead th {\n",
       "        text-align: right;\n",
       "    }\n",
       "</style>\n",
       "<table border=\"1\" class=\"dataframe\">\n",
       "  <thead>\n",
       "    <tr style=\"text-align: right;\">\n",
       "      <th></th>\n",
       "      <th>index</th>\n",
       "      <th>quality</th>\n",
       "      <th>fixed acidity</th>\n",
       "      <th>volatile acidity</th>\n",
       "      <th>citric acid</th>\n",
       "      <th>residual sugar</th>\n",
       "      <th>chlorides</th>\n",
       "      <th>free sulfur dioxide</th>\n",
       "      <th>total sulfur dioxide</th>\n",
       "      <th>density</th>\n",
       "      <th>pH</th>\n",
       "      <th>sulphates</th>\n",
       "      <th>alcohol</th>\n",
       "      <th>type</th>\n",
       "    </tr>\n",
       "  </thead>\n",
       "  <tbody>\n",
       "    <tr>\n",
       "      <td>0</td>\n",
       "      <td>0</td>\n",
       "      <td>5</td>\n",
       "      <td>5.6</td>\n",
       "      <td>0.695</td>\n",
       "      <td>0.06</td>\n",
       "      <td>6.8</td>\n",
       "      <td>0.042</td>\n",
       "      <td>9.0</td>\n",
       "      <td>84.0</td>\n",
       "      <td>0.99432</td>\n",
       "      <td>3.44</td>\n",
       "      <td>0.44</td>\n",
       "      <td>10.2</td>\n",
       "      <td>white</td>\n",
       "    </tr>\n",
       "    <tr>\n",
       "      <td>1</td>\n",
       "      <td>1</td>\n",
       "      <td>5</td>\n",
       "      <td>8.8</td>\n",
       "      <td>0.610</td>\n",
       "      <td>0.14</td>\n",
       "      <td>2.4</td>\n",
       "      <td>0.067</td>\n",
       "      <td>10.0</td>\n",
       "      <td>42.0</td>\n",
       "      <td>0.99690</td>\n",
       "      <td>3.19</td>\n",
       "      <td>0.59</td>\n",
       "      <td>9.5</td>\n",
       "      <td>red</td>\n",
       "    </tr>\n",
       "    <tr>\n",
       "      <td>2</td>\n",
       "      <td>2</td>\n",
       "      <td>5</td>\n",
       "      <td>7.9</td>\n",
       "      <td>0.210</td>\n",
       "      <td>0.39</td>\n",
       "      <td>2.0</td>\n",
       "      <td>0.057</td>\n",
       "      <td>21.0</td>\n",
       "      <td>138.0</td>\n",
       "      <td>0.99176</td>\n",
       "      <td>3.05</td>\n",
       "      <td>0.52</td>\n",
       "      <td>10.9</td>\n",
       "      <td>white</td>\n",
       "    </tr>\n",
       "  </tbody>\n",
       "</table>\n",
       "</div>"
      ],
      "text/plain": [
       "   index  quality  fixed acidity  volatile acidity  citric acid  \\\n",
       "0      0        5            5.6             0.695         0.06   \n",
       "1      1        5            8.8             0.610         0.14   \n",
       "2      2        5            7.9             0.210         0.39   \n",
       "\n",
       "   residual sugar  chlorides  free sulfur dioxide  total sulfur dioxide  \\\n",
       "0             6.8      0.042                  9.0                  84.0   \n",
       "1             2.4      0.067                 10.0                  42.0   \n",
       "2             2.0      0.057                 21.0                 138.0   \n",
       "\n",
       "   density    pH  sulphates  alcohol   type  \n",
       "0  0.99432  3.44       0.44     10.2  white  \n",
       "1  0.99690  3.19       0.59      9.5    red  \n",
       "2  0.99176  3.05       0.52     10.9  white  "
      ]
     },
     "execution_count": 3,
     "metadata": {},
     "output_type": "execute_result"
    }
   ],
   "source": [
    "data[:3]"
   ]
  },
  {
   "cell_type": "code",
   "execution_count": 4,
   "metadata": {},
   "outputs": [
    {
     "data": {
      "text/plain": [
       "0    5\n",
       "1    5\n",
       "2    5\n",
       "3    6\n",
       "4    6\n",
       "5    6\n",
       "6    5\n",
       "7    6\n",
       "8    5\n",
       "9    5\n",
       "Name: quality, dtype: int64"
      ]
     },
     "execution_count": 4,
     "metadata": {},
     "output_type": "execute_result"
    }
   ],
   "source": [
    "data['quality'][:10]"
   ]
  },
  {
   "cell_type": "code",
   "execution_count": 5,
   "metadata": {},
   "outputs": [
    {
     "data": {
      "text/plain": [
       "6    2416\n",
       "5    1788\n",
       "7     924\n",
       "4     186\n",
       "8     152\n",
       "3      26\n",
       "9       5\n",
       "Name: quality, dtype: int64"
      ]
     },
     "execution_count": 5,
     "metadata": {},
     "output_type": "execute_result"
    }
   ],
   "source": [
    "data['quality'].value_counts()"
   ]
  },
  {
   "cell_type": "code",
   "execution_count": 6,
   "metadata": {},
   "outputs": [
    {
     "data": {
      "text/plain": [
       "0    white\n",
       "1      red\n",
       "2    white\n",
       "3    white\n",
       "4    white\n",
       "5    white\n",
       "6    white\n",
       "7    white\n",
       "8    white\n",
       "9    white\n",
       "Name: type, dtype: object"
      ]
     },
     "execution_count": 6,
     "metadata": {},
     "output_type": "execute_result"
    }
   ],
   "source": [
    "data.type[:10]"
   ]
  },
  {
   "cell_type": "code",
   "execution_count": 7,
   "metadata": {},
   "outputs": [
    {
     "data": {
      "text/plain": [
       "white    4159\n",
       "red      1338\n",
       "Name: type, dtype: int64"
      ]
     },
     "execution_count": 7,
     "metadata": {},
     "output_type": "execute_result"
    }
   ],
   "source": [
    "data.type.value_counts()"
   ]
  },
  {
   "cell_type": "code",
   "execution_count": 8,
   "metadata": {},
   "outputs": [],
   "source": [
    "from tensorflow.keras.utils import to_categorical"
   ]
  },
  {
   "cell_type": "code",
   "execution_count": 9,
   "metadata": {},
   "outputs": [],
   "source": [
    "#딥러닝 기본에서는 target이 명목형인 경우, dummy로 만들어줘야 한다.(one-hot인코딩) "
   ]
  },
  {
   "cell_type": "code",
   "execution_count": 10,
   "metadata": {},
   "outputs": [
    {
     "data": {
      "text/plain": [
       "array([[0., 0., 1., 0., 0., 0., 0.],\n",
       "       [0., 0., 1., 0., 0., 0., 0.],\n",
       "       [0., 0., 1., 0., 0., 0., 0.]], dtype=float32)"
      ]
     },
     "execution_count": 10,
     "metadata": {},
     "output_type": "execute_result"
    }
   ],
   "source": [
    "y_data = to_categorical(data['quality']-3)\n",
    "#quality 분류 값이 0,1,2가 없기 때문에, 3을 빼줘서 필요없는 자리를 없애준다.\n",
    "y_data[:3]"
   ]
  },
  {
   "cell_type": "code",
   "execution_count": 11,
   "metadata": {},
   "outputs": [
    {
     "data": {
      "text/html": [
       "<div>\n",
       "<style scoped>\n",
       "    .dataframe tbody tr th:only-of-type {\n",
       "        vertical-align: middle;\n",
       "    }\n",
       "\n",
       "    .dataframe tbody tr th {\n",
       "        vertical-align: top;\n",
       "    }\n",
       "\n",
       "    .dataframe thead th {\n",
       "        text-align: right;\n",
       "    }\n",
       "</style>\n",
       "<table border=\"1\" class=\"dataframe\">\n",
       "  <thead>\n",
       "    <tr style=\"text-align: right;\">\n",
       "      <th></th>\n",
       "      <th>fixed acidity</th>\n",
       "      <th>volatile acidity</th>\n",
       "      <th>citric acid</th>\n",
       "      <th>residual sugar</th>\n",
       "      <th>chlorides</th>\n",
       "      <th>free sulfur dioxide</th>\n",
       "      <th>total sulfur dioxide</th>\n",
       "      <th>density</th>\n",
       "      <th>pH</th>\n",
       "      <th>sulphates</th>\n",
       "      <th>alcohol</th>\n",
       "      <th>type</th>\n",
       "    </tr>\n",
       "  </thead>\n",
       "  <tbody>\n",
       "    <tr>\n",
       "      <td>0</td>\n",
       "      <td>5.6</td>\n",
       "      <td>0.695</td>\n",
       "      <td>0.06</td>\n",
       "      <td>6.8</td>\n",
       "      <td>0.042</td>\n",
       "      <td>9.0</td>\n",
       "      <td>84.0</td>\n",
       "      <td>0.99432</td>\n",
       "      <td>3.44</td>\n",
       "      <td>0.44</td>\n",
       "      <td>10.2</td>\n",
       "      <td>white</td>\n",
       "    </tr>\n",
       "    <tr>\n",
       "      <td>1</td>\n",
       "      <td>8.8</td>\n",
       "      <td>0.610</td>\n",
       "      <td>0.14</td>\n",
       "      <td>2.4</td>\n",
       "      <td>0.067</td>\n",
       "      <td>10.0</td>\n",
       "      <td>42.0</td>\n",
       "      <td>0.99690</td>\n",
       "      <td>3.19</td>\n",
       "      <td>0.59</td>\n",
       "      <td>9.5</td>\n",
       "      <td>red</td>\n",
       "    </tr>\n",
       "    <tr>\n",
       "      <td>2</td>\n",
       "      <td>7.9</td>\n",
       "      <td>0.210</td>\n",
       "      <td>0.39</td>\n",
       "      <td>2.0</td>\n",
       "      <td>0.057</td>\n",
       "      <td>21.0</td>\n",
       "      <td>138.0</td>\n",
       "      <td>0.99176</td>\n",
       "      <td>3.05</td>\n",
       "      <td>0.52</td>\n",
       "      <td>10.9</td>\n",
       "      <td>white</td>\n",
       "    </tr>\n",
       "    <tr>\n",
       "      <td>3</td>\n",
       "      <td>7.0</td>\n",
       "      <td>0.210</td>\n",
       "      <td>0.31</td>\n",
       "      <td>6.0</td>\n",
       "      <td>0.046</td>\n",
       "      <td>29.0</td>\n",
       "      <td>108.0</td>\n",
       "      <td>0.99390</td>\n",
       "      <td>3.26</td>\n",
       "      <td>0.50</td>\n",
       "      <td>10.8</td>\n",
       "      <td>white</td>\n",
       "    </tr>\n",
       "    <tr>\n",
       "      <td>4</td>\n",
       "      <td>7.8</td>\n",
       "      <td>0.400</td>\n",
       "      <td>0.26</td>\n",
       "      <td>9.5</td>\n",
       "      <td>0.059</td>\n",
       "      <td>32.0</td>\n",
       "      <td>178.0</td>\n",
       "      <td>0.99550</td>\n",
       "      <td>3.04</td>\n",
       "      <td>0.43</td>\n",
       "      <td>10.9</td>\n",
       "      <td>white</td>\n",
       "    </tr>\n",
       "    <tr>\n",
       "      <td>...</td>\n",
       "      <td>...</td>\n",
       "      <td>...</td>\n",
       "      <td>...</td>\n",
       "      <td>...</td>\n",
       "      <td>...</td>\n",
       "      <td>...</td>\n",
       "      <td>...</td>\n",
       "      <td>...</td>\n",
       "      <td>...</td>\n",
       "      <td>...</td>\n",
       "      <td>...</td>\n",
       "      <td>...</td>\n",
       "    </tr>\n",
       "    <tr>\n",
       "      <td>5492</td>\n",
       "      <td>7.7</td>\n",
       "      <td>0.150</td>\n",
       "      <td>0.29</td>\n",
       "      <td>1.3</td>\n",
       "      <td>0.029</td>\n",
       "      <td>10.0</td>\n",
       "      <td>64.0</td>\n",
       "      <td>0.99320</td>\n",
       "      <td>3.35</td>\n",
       "      <td>0.39</td>\n",
       "      <td>10.1</td>\n",
       "      <td>white</td>\n",
       "    </tr>\n",
       "    <tr>\n",
       "      <td>5493</td>\n",
       "      <td>6.3</td>\n",
       "      <td>0.180</td>\n",
       "      <td>0.36</td>\n",
       "      <td>1.2</td>\n",
       "      <td>0.034</td>\n",
       "      <td>26.0</td>\n",
       "      <td>111.0</td>\n",
       "      <td>0.99074</td>\n",
       "      <td>3.16</td>\n",
       "      <td>0.51</td>\n",
       "      <td>11.0</td>\n",
       "      <td>white</td>\n",
       "    </tr>\n",
       "    <tr>\n",
       "      <td>5494</td>\n",
       "      <td>7.8</td>\n",
       "      <td>0.150</td>\n",
       "      <td>0.34</td>\n",
       "      <td>1.1</td>\n",
       "      <td>0.035</td>\n",
       "      <td>31.0</td>\n",
       "      <td>93.0</td>\n",
       "      <td>0.99096</td>\n",
       "      <td>3.07</td>\n",
       "      <td>0.72</td>\n",
       "      <td>11.3</td>\n",
       "      <td>white</td>\n",
       "    </tr>\n",
       "    <tr>\n",
       "      <td>5495</td>\n",
       "      <td>6.6</td>\n",
       "      <td>0.410</td>\n",
       "      <td>0.31</td>\n",
       "      <td>1.6</td>\n",
       "      <td>0.042</td>\n",
       "      <td>18.0</td>\n",
       "      <td>101.0</td>\n",
       "      <td>0.99195</td>\n",
       "      <td>3.13</td>\n",
       "      <td>0.41</td>\n",
       "      <td>10.5</td>\n",
       "      <td>white</td>\n",
       "    </tr>\n",
       "    <tr>\n",
       "      <td>5496</td>\n",
       "      <td>7.0</td>\n",
       "      <td>0.350</td>\n",
       "      <td>0.17</td>\n",
       "      <td>1.1</td>\n",
       "      <td>0.049</td>\n",
       "      <td>7.0</td>\n",
       "      <td>119.0</td>\n",
       "      <td>0.99297</td>\n",
       "      <td>3.13</td>\n",
       "      <td>0.36</td>\n",
       "      <td>9.7</td>\n",
       "      <td>white</td>\n",
       "    </tr>\n",
       "  </tbody>\n",
       "</table>\n",
       "<p>5497 rows × 12 columns</p>\n",
       "</div>"
      ],
      "text/plain": [
       "      fixed acidity  volatile acidity  citric acid  residual sugar  chlorides  \\\n",
       "0               5.6             0.695         0.06             6.8      0.042   \n",
       "1               8.8             0.610         0.14             2.4      0.067   \n",
       "2               7.9             0.210         0.39             2.0      0.057   \n",
       "3               7.0             0.210         0.31             6.0      0.046   \n",
       "4               7.8             0.400         0.26             9.5      0.059   \n",
       "...             ...               ...          ...             ...        ...   \n",
       "5492            7.7             0.150         0.29             1.3      0.029   \n",
       "5493            6.3             0.180         0.36             1.2      0.034   \n",
       "5494            7.8             0.150         0.34             1.1      0.035   \n",
       "5495            6.6             0.410         0.31             1.6      0.042   \n",
       "5496            7.0             0.350         0.17             1.1      0.049   \n",
       "\n",
       "      free sulfur dioxide  total sulfur dioxide  density    pH  sulphates  \\\n",
       "0                     9.0                  84.0  0.99432  3.44       0.44   \n",
       "1                    10.0                  42.0  0.99690  3.19       0.59   \n",
       "2                    21.0                 138.0  0.99176  3.05       0.52   \n",
       "3                    29.0                 108.0  0.99390  3.26       0.50   \n",
       "4                    32.0                 178.0  0.99550  3.04       0.43   \n",
       "...                   ...                   ...      ...   ...        ...   \n",
       "5492                 10.0                  64.0  0.99320  3.35       0.39   \n",
       "5493                 26.0                 111.0  0.99074  3.16       0.51   \n",
       "5494                 31.0                  93.0  0.99096  3.07       0.72   \n",
       "5495                 18.0                 101.0  0.99195  3.13       0.41   \n",
       "5496                  7.0                 119.0  0.99297  3.13       0.36   \n",
       "\n",
       "      alcohol   type  \n",
       "0        10.2  white  \n",
       "1         9.5    red  \n",
       "2        10.9  white  \n",
       "3        10.8  white  \n",
       "4        10.9  white  \n",
       "...       ...    ...  \n",
       "5492     10.1  white  \n",
       "5493     11.0  white  \n",
       "5494     11.3  white  \n",
       "5495     10.5  white  \n",
       "5496      9.7  white  \n",
       "\n",
       "[5497 rows x 12 columns]"
      ]
     },
     "execution_count": 11,
     "metadata": {},
     "output_type": "execute_result"
    }
   ],
   "source": [
    "#train시킬 문제\n",
    "X_data = data.loc[:,'fixed acidity':]\n",
    "X_data"
   ]
  },
  {
   "cell_type": "code",
   "execution_count": 12,
   "metadata": {},
   "outputs": [
    {
     "data": {
      "text/plain": [
       "(5497, 12)"
      ]
     },
     "execution_count": 12,
     "metadata": {},
     "output_type": "execute_result"
    }
   ],
   "source": [
    "X_data.shape"
   ]
  },
  {
   "cell_type": "code",
   "execution_count": 13,
   "metadata": {},
   "outputs": [
    {
     "data": {
      "text/plain": [
       "1.0    4159\n",
       "0.0    1338\n",
       "Name: type, dtype: int64"
      ]
     },
     "execution_count": 13,
     "metadata": {},
     "output_type": "execute_result"
    }
   ],
   "source": [
    "#\n",
    "X_data['type'] = np.where(data['type'] == 'white', 1, 0).astype('float')\n",
    "X_data['type'].value_counts()"
   ]
  },
  {
   "cell_type": "code",
   "execution_count": 14,
   "metadata": {},
   "outputs": [],
   "source": [
    "# min_max스케일링\n",
    "# 피처 스케일링\n",
    "from sklearn.preprocessing import MinMaxScaler\n",
    "scaler=MinMaxScaler()\n",
    "scaler.fit(X_data)\n",
    "X_data_scaled = scaler.fit_transform(X_data)"
   ]
  },
  {
   "cell_type": "code",
   "execution_count": 15,
   "metadata": {},
   "outputs": [
    {
     "data": {
      "text/plain": [
       "array([[0.14876033, 0.41      , 0.03614458, ..., 0.12359551, 0.31884058,\n",
       "        1.        ],\n",
       "       [0.41322314, 0.35333333, 0.08433735, ..., 0.20786517, 0.2173913 ,\n",
       "        0.        ],\n",
       "       [0.33884298, 0.08666667, 0.23493976, ..., 0.16853933, 0.42028986,\n",
       "        1.        ],\n",
       "       ...,\n",
       "       [0.33057851, 0.04666667, 0.20481928, ..., 0.28089888, 0.47826087,\n",
       "        1.        ],\n",
       "       [0.23140496, 0.22      , 0.18674699, ..., 0.10674157, 0.36231884,\n",
       "        1.        ],\n",
       "       [0.26446281, 0.18      , 0.10240964, ..., 0.07865169, 0.24637681,\n",
       "        1.        ]])"
      ]
     },
     "execution_count": 15,
     "metadata": {},
     "output_type": "execute_result"
    }
   ],
   "source": [
    "X_data_scaled"
   ]
  },
  {
   "cell_type": "code",
   "execution_count": 16,
   "metadata": {},
   "outputs": [
    {
     "name": "stdout",
     "output_type": "stream",
     "text": [
      "(4397, 12) (4397, 7)\n",
      "(1100, 12) (1100, 7)\n"
     ]
    }
   ],
   "source": [
    "# train/test data분리\n",
    "from sklearn.model_selection import train_test_split\n",
    "\n",
    "X_train, X_test, y_train, y_test = train_test_split(X_data_scaled, y_data, \n",
    "                                                    test_size=0.2, \n",
    "                                                    shuffle=True, \n",
    "                                                    random_state=100)\n",
    "print(X_train.shape, y_train.shape)\n",
    "print(X_test.shape, y_test.shape)"
   ]
  },
  {
   "cell_type": "markdown",
   "metadata": {},
   "source": [
    "# 신경망 모델을 만들어보자"
   ]
  },
  {
   "cell_type": "code",
   "execution_count": 17,
   "metadata": {},
   "outputs": [],
   "source": [
    "# 모델생성\n",
    "# 심층 신경망 모델\n",
    "from tensorflow.keras import Sequential\n",
    "from tensorflow.keras.layers import Dense, Dropout"
   ]
  },
  {
   "cell_type": "code",
   "execution_count": 20,
   "metadata": {},
   "outputs": [],
   "source": [
    "model = Sequential()\n",
    "model.add(Dense(128, activation='relu', input_dim = 12))\n",
    "model.add(Dense(64, activation='relu'))\n",
    "model.add(Dense(32, activation='relu'))\n",
    "model.add(Dense(10, activation='relu'))\n",
    "model.add(Dense(7, activation='softmax'))#가능성이 7개 (3~9)."
   ]
  },
  {
   "cell_type": "code",
   "execution_count": 21,
   "metadata": {},
   "outputs": [],
   "source": [
    "##이 모델로 설정을 하겠다(compile)\n",
    "model.compile(optimizer='adam', loss='categorical_crossentropy',#회귀에는 loss옵션값 다르게 줘야함!\n",
    "             metrics=['acc','mae']\n",
    "             )\n"
   ]
  },
  {
   "cell_type": "code",
   "execution_count": 23,
   "metadata": {},
   "outputs": [
    {
     "name": "stdout",
     "output_type": "stream",
     "text": [
      "Model: \"sequential\"\n",
      "_________________________________________________________________\n",
      " Layer (type)                Output Shape              Param #   \n",
      "=================================================================\n",
      " dense (Dense)               (None, 128)               1664      \n",
      "                                                                 \n",
      " dense_1 (Dense)             (None, 64)                8256      \n",
      "                                                                 \n",
      " dense_2 (Dense)             (None, 32)                2080      \n",
      "                                                                 \n",
      " dense_3 (Dense)             (None, 10)                330       \n",
      "                                                                 \n",
      " dense_4 (Dense)             (None, 7)                 77        \n",
      "                                                                 \n",
      "=================================================================\n",
      "Total params: 12,407\n",
      "Trainable params: 12,407\n",
      "Non-trainable params: 0\n",
      "_________________________________________________________________\n"
     ]
    }
   ],
   "source": [
    "#설정한 레이어들 요약해서 보기.\n",
    "model.summary()"
   ]
  },
  {
   "cell_type": "code",
   "execution_count": 25,
   "metadata": {},
   "outputs": [
    {
     "name": "stdout",
     "output_type": "stream",
     "text": [
      "Epoch 1/200\n",
      "88/88 - 0s - loss: 0.7820 - acc: 0.6693 - mae: 0.1285 - 99ms/epoch - 1ms/step\n",
      "Epoch 2/200\n",
      "88/88 - 0s - loss: 0.7850 - acc: 0.6723 - mae: 0.1285 - 68ms/epoch - 771us/step\n",
      "Epoch 3/200\n",
      "88/88 - 0s - loss: 0.7802 - acc: 0.6695 - mae: 0.1277 - 70ms/epoch - 793us/step\n",
      "Epoch 4/200\n",
      "88/88 - 0s - loss: 0.7765 - acc: 0.6821 - mae: 0.1279 - 67ms/epoch - 759us/step\n",
      "Epoch 5/200\n",
      "88/88 - 0s - loss: 0.7826 - acc: 0.6739 - mae: 0.1274 - 66ms/epoch - 748us/step\n",
      "Epoch 6/200\n",
      "88/88 - 0s - loss: 0.7716 - acc: 0.6805 - mae: 0.1274 - 77ms/epoch - 873us/step\n",
      "Epoch 7/200\n",
      "88/88 - 0s - loss: 0.7723 - acc: 0.6741 - mae: 0.1270 - 70ms/epoch - 793us/step\n",
      "Epoch 8/200\n",
      "88/88 - 0s - loss: 0.7732 - acc: 0.6739 - mae: 0.1262 - 71ms/epoch - 805us/step\n",
      "Epoch 9/200\n",
      "88/88 - 0s - loss: 0.7647 - acc: 0.6739 - mae: 0.1265 - 71ms/epoch - 805us/step\n",
      "Epoch 10/200\n",
      "88/88 - 0s - loss: 0.7617 - acc: 0.6802 - mae: 0.1250 - 75ms/epoch - 850us/step\n",
      "Epoch 11/200\n",
      "88/88 - 0s - loss: 0.7616 - acc: 0.6864 - mae: 0.1255 - 74ms/epoch - 839us/step\n",
      "Epoch 12/200\n",
      "88/88 - 0s - loss: 0.7698 - acc: 0.6746 - mae: 0.1261 - 77ms/epoch - 873us/step\n",
      "Epoch 13/200\n",
      "88/88 - 0s - loss: 0.7652 - acc: 0.6859 - mae: 0.1251 - 86ms/epoch - 975us/step\n",
      "Epoch 14/200\n",
      "88/88 - 0s - loss: 0.7647 - acc: 0.6736 - mae: 0.1256 - 83ms/epoch - 942us/step\n",
      "Epoch 15/200\n",
      "88/88 - 0s - loss: 0.7573 - acc: 0.6839 - mae: 0.1248 - 80ms/epoch - 909us/step\n",
      "Epoch 16/200\n",
      "88/88 - 0s - loss: 0.7651 - acc: 0.6734 - mae: 0.1255 - 77ms/epoch - 873us/step\n",
      "Epoch 17/200\n",
      "88/88 - 0s - loss: 0.7539 - acc: 0.6823 - mae: 0.1242 - 70ms/epoch - 799us/step\n",
      "Epoch 18/200\n",
      "88/88 - 0s - loss: 0.7533 - acc: 0.6932 - mae: 0.1237 - 71ms/epoch - 805us/step\n",
      "Epoch 19/200\n",
      "88/88 - 0s - loss: 0.7522 - acc: 0.6850 - mae: 0.1239 - 73ms/epoch - 824us/step\n",
      "Epoch 20/200\n",
      "88/88 - 0s - loss: 0.7446 - acc: 0.6880 - mae: 0.1230 - 75ms/epoch - 850us/step\n",
      "Epoch 21/200\n",
      "88/88 - 0s - loss: 0.7593 - acc: 0.6805 - mae: 0.1238 - 82ms/epoch - 929us/step\n",
      "Epoch 22/200\n",
      "88/88 - 0s - loss: 0.7448 - acc: 0.6875 - mae: 0.1229 - 75ms/epoch - 857us/step\n",
      "Epoch 23/200\n",
      "88/88 - 0s - loss: 0.7429 - acc: 0.6873 - mae: 0.1227 - 71ms/epoch - 812us/step\n",
      "Epoch 24/200\n",
      "88/88 - 0s - loss: 0.7436 - acc: 0.6875 - mae: 0.1221 - 72ms/epoch - 816us/step\n",
      "Epoch 25/200\n",
      "88/88 - 0s - loss: 0.7365 - acc: 0.6959 - mae: 0.1212 - 72ms/epoch - 816us/step\n",
      "Epoch 26/200\n",
      "88/88 - 0s - loss: 0.7427 - acc: 0.6939 - mae: 0.1219 - 75ms/epoch - 850us/step\n",
      "Epoch 27/200\n",
      "88/88 - 0s - loss: 0.7330 - acc: 0.6971 - mae: 0.1205 - 71ms/epoch - 808us/step\n",
      "Epoch 28/200\n",
      "88/88 - 0s - loss: 0.7348 - acc: 0.6962 - mae: 0.1206 - 72ms/epoch - 816us/step\n",
      "Epoch 29/200\n",
      "88/88 - 0s - loss: 0.7295 - acc: 0.6993 - mae: 0.1205 - 70ms/epoch - 799us/step\n",
      "Epoch 30/200\n",
      "88/88 - 0s - loss: 0.7273 - acc: 0.6977 - mae: 0.1204 - 71ms/epoch - 805us/step\n",
      "Epoch 31/200\n",
      "88/88 - 0s - loss: 0.7220 - acc: 0.7062 - mae: 0.1194 - 66ms/epoch - 748us/step\n",
      "Epoch 32/200\n",
      "88/88 - 0s - loss: 0.7338 - acc: 0.6930 - mae: 0.1208 - 69ms/epoch - 782us/step\n",
      "Epoch 33/200\n",
      "88/88 - 0s - loss: 0.7249 - acc: 0.7021 - mae: 0.1189 - 67ms/epoch - 759us/step\n",
      "Epoch 34/200\n",
      "88/88 - 0s - loss: 0.7266 - acc: 0.6957 - mae: 0.1194 - 69ms/epoch - 782us/step\n",
      "Epoch 35/200\n",
      "88/88 - 0s - loss: 0.7179 - acc: 0.7089 - mae: 0.1185 - 68ms/epoch - 771us/step\n",
      "Epoch 36/200\n",
      "88/88 - 0s - loss: 0.7254 - acc: 0.6966 - mae: 0.1194 - 69ms/epoch - 782us/step\n",
      "Epoch 37/200\n",
      "88/88 - 0s - loss: 0.7127 - acc: 0.6982 - mae: 0.1178 - 68ms/epoch - 771us/step\n",
      "Epoch 38/200\n",
      "88/88 - 0s - loss: 0.7086 - acc: 0.7080 - mae: 0.1175 - 70ms/epoch - 793us/step\n",
      "Epoch 39/200\n",
      "88/88 - 0s - loss: 0.7060 - acc: 0.7059 - mae: 0.1168 - 92ms/epoch - 1ms/step\n",
      "Epoch 40/200\n",
      "88/88 - 0s - loss: 0.7165 - acc: 0.7016 - mae: 0.1178 - 70ms/epoch - 793us/step\n",
      "Epoch 41/200\n",
      "88/88 - 0s - loss: 0.7127 - acc: 0.7078 - mae: 0.1173 - 70ms/epoch - 793us/step\n",
      "Epoch 42/200\n",
      "88/88 - 0s - loss: 0.7087 - acc: 0.7050 - mae: 0.1175 - 70ms/epoch - 793us/step\n",
      "Epoch 43/200\n",
      "88/88 - 0s - loss: 0.7037 - acc: 0.7068 - mae: 0.1164 - 70ms/epoch - 793us/step\n",
      "Epoch 44/200\n",
      "88/88 - 0s - loss: 0.7066 - acc: 0.7041 - mae: 0.1163 - 68ms/epoch - 771us/step\n",
      "Epoch 45/200\n",
      "88/88 - 0s - loss: 0.7061 - acc: 0.7084 - mae: 0.1166 - 71ms/epoch - 805us/step\n",
      "Epoch 46/200\n",
      "88/88 - 0s - loss: 0.7033 - acc: 0.7037 - mae: 0.1160 - 66ms/epoch - 748us/step\n",
      "Epoch 47/200\n",
      "88/88 - 0s - loss: 0.6986 - acc: 0.7100 - mae: 0.1150 - 65ms/epoch - 744us/step\n",
      "Epoch 48/200\n",
      "88/88 - 0s - loss: 0.6958 - acc: 0.7139 - mae: 0.1150 - 110ms/epoch - 1ms/step\n",
      "Epoch 49/200\n",
      "88/88 - 0s - loss: 0.6951 - acc: 0.7132 - mae: 0.1143 - 73ms/epoch - 833us/step\n",
      "Epoch 50/200\n",
      "88/88 - 0s - loss: 0.6901 - acc: 0.7173 - mae: 0.1146 - 124ms/epoch - 1ms/step\n",
      "Epoch 51/200\n",
      "88/88 - 0s - loss: 0.6982 - acc: 0.7064 - mae: 0.1151 - 131ms/epoch - 1ms/step\n",
      "Epoch 52/200\n",
      "88/88 - 0s - loss: 0.6888 - acc: 0.7125 - mae: 0.1145 - 98ms/epoch - 1ms/step\n",
      "Epoch 53/200\n",
      "88/88 - 0s - loss: 0.6837 - acc: 0.7214 - mae: 0.1139 - 93ms/epoch - 1ms/step\n",
      "Epoch 54/200\n",
      "88/88 - 0s - loss: 0.7037 - acc: 0.7066 - mae: 0.1147 - 94ms/epoch - 1ms/step\n",
      "Epoch 55/200\n",
      "88/88 - 0s - loss: 0.6883 - acc: 0.7134 - mae: 0.1139 - 85ms/epoch - 963us/step\n",
      "Epoch 56/200\n",
      "88/88 - 0s - loss: 0.6820 - acc: 0.7187 - mae: 0.1126 - 72ms/epoch - 816us/step\n",
      "Epoch 57/200\n",
      "88/88 - 0s - loss: 0.6830 - acc: 0.7182 - mae: 0.1124 - 75ms/epoch - 850us/step\n",
      "Epoch 58/200\n",
      "88/88 - 0s - loss: 0.6832 - acc: 0.7198 - mae: 0.1130 - 90ms/epoch - 1ms/step\n",
      "Epoch 59/200\n",
      "88/88 - 0s - loss: 0.6772 - acc: 0.7216 - mae: 0.1121 - 77ms/epoch - 873us/step\n",
      "Epoch 60/200\n",
      "88/88 - 0s - loss: 0.6756 - acc: 0.7207 - mae: 0.1120 - 83ms/epoch - 942us/step\n",
      "Epoch 61/200\n",
      "88/88 - 0s - loss: 0.6771 - acc: 0.7146 - mae: 0.1128 - 82ms/epoch - 931us/step\n",
      "Epoch 62/200\n",
      "88/88 - 0s - loss: 0.6835 - acc: 0.7162 - mae: 0.1126 - 74ms/epoch - 839us/step\n",
      "Epoch 63/200\n",
      "88/88 - 0s - loss: 0.6724 - acc: 0.7223 - mae: 0.1119 - 72ms/epoch - 816us/step\n",
      "Epoch 64/200\n",
      "88/88 - 0s - loss: 0.6748 - acc: 0.7275 - mae: 0.1115 - 75ms/epoch - 850us/step\n",
      "Epoch 65/200\n",
      "88/88 - 0s - loss: 0.6703 - acc: 0.7287 - mae: 0.1112 - 77ms/epoch - 873us/step\n",
      "Epoch 66/200\n",
      "88/88 - 0s - loss: 0.6665 - acc: 0.7266 - mae: 0.1103 - 78ms/epoch - 891us/step\n",
      "Epoch 67/200\n",
      "88/88 - 0s - loss: 0.6678 - acc: 0.7250 - mae: 0.1106 - 76ms/epoch - 860us/step\n",
      "Epoch 68/200\n",
      "88/88 - 0s - loss: 0.6663 - acc: 0.7296 - mae: 0.1101 - 70ms/epoch - 793us/step\n",
      "Epoch 69/200\n",
      "88/88 - 0s - loss: 0.6547 - acc: 0.7296 - mae: 0.1094 - 67ms/epoch - 759us/step\n",
      "Epoch 70/200\n",
      "88/88 - 0s - loss: 0.6588 - acc: 0.7305 - mae: 0.1092 - 71ms/epoch - 805us/step\n",
      "Epoch 71/200\n",
      "88/88 - 0s - loss: 0.6651 - acc: 0.7280 - mae: 0.1100 - 71ms/epoch - 805us/step\n",
      "Epoch 72/200\n",
      "88/88 - 0s - loss: 0.6586 - acc: 0.7250 - mae: 0.1093 - 69ms/epoch - 782us/step\n",
      "Epoch 73/200\n",
      "88/88 - 0s - loss: 0.6509 - acc: 0.7389 - mae: 0.1081 - 73ms/epoch - 827us/step\n",
      "Epoch 74/200\n",
      "88/88 - 0s - loss: 0.6522 - acc: 0.7316 - mae: 0.1081 - 70ms/epoch - 793us/step\n",
      "Epoch 75/200\n",
      "88/88 - 0s - loss: 0.6526 - acc: 0.7355 - mae: 0.1085 - 75ms/epoch - 850us/step\n",
      "Epoch 76/200\n",
      "88/88 - 0s - loss: 0.6563 - acc: 0.7312 - mae: 0.1082 - 69ms/epoch - 782us/step\n",
      "Epoch 77/200\n",
      "88/88 - 0s - loss: 0.6575 - acc: 0.7262 - mae: 0.1089 - 87ms/epoch - 986us/step\n",
      "Epoch 78/200\n",
      "88/88 - 0s - loss: 0.6547 - acc: 0.7312 - mae: 0.1075 - 71ms/epoch - 805us/step\n",
      "Epoch 79/200\n",
      "88/88 - 0s - loss: 0.6512 - acc: 0.7355 - mae: 0.1081 - 71ms/epoch - 805us/step\n",
      "Epoch 80/200\n",
      "88/88 - 0s - loss: 0.6416 - acc: 0.7430 - mae: 0.1067 - 67ms/epoch - 759us/step\n",
      "Epoch 81/200\n",
      "88/88 - 0s - loss: 0.6460 - acc: 0.7307 - mae: 0.1070 - 66ms/epoch - 748us/step\n",
      "Epoch 82/200\n",
      "88/88 - 0s - loss: 0.6467 - acc: 0.7373 - mae: 0.1072 - 66ms/epoch - 748us/step\n",
      "Epoch 83/200\n",
      "88/88 - 0s - loss: 0.6425 - acc: 0.7382 - mae: 0.1056 - 94ms/epoch - 1ms/step\n",
      "Epoch 84/200\n",
      "88/88 - 0s - loss: 0.6399 - acc: 0.7396 - mae: 0.1066 - 105ms/epoch - 1ms/step\n",
      "Epoch 85/200\n",
      "88/88 - 0s - loss: 0.6441 - acc: 0.7335 - mae: 0.1062 - 103ms/epoch - 1ms/step\n",
      "Epoch 86/200\n",
      "88/88 - 0s - loss: 0.6422 - acc: 0.7387 - mae: 0.1065 - 94ms/epoch - 1ms/step\n",
      "Epoch 87/200\n",
      "88/88 - 0s - loss: 0.6430 - acc: 0.7387 - mae: 0.1060 - 70ms/epoch - 793us/step\n",
      "Epoch 88/200\n",
      "88/88 - 0s - loss: 0.6446 - acc: 0.7371 - mae: 0.1065 - 70ms/epoch - 793us/step\n",
      "Epoch 89/200\n",
      "88/88 - 0s - loss: 0.6352 - acc: 0.7414 - mae: 0.1051 - 66ms/epoch - 748us/step\n"
     ]
    },
    {
     "name": "stdout",
     "output_type": "stream",
     "text": [
      "Epoch 90/200\n",
      "88/88 - 0s - loss: 0.6185 - acc: 0.7478 - mae: 0.1039 - 75ms/epoch - 850us/step\n",
      "Epoch 91/200\n",
      "88/88 - 0s - loss: 0.6258 - acc: 0.7480 - mae: 0.1041 - 106ms/epoch - 1ms/step\n",
      "Epoch 92/200\n",
      "88/88 - 0s - loss: 0.6283 - acc: 0.7398 - mae: 0.1042 - 65ms/epoch - 737us/step\n",
      "Epoch 93/200\n",
      "88/88 - 0s - loss: 0.6368 - acc: 0.7355 - mae: 0.1049 - 69ms/epoch - 782us/step\n",
      "Epoch 94/200\n",
      "88/88 - 0s - loss: 0.6196 - acc: 0.7519 - mae: 0.1031 - 66ms/epoch - 748us/step\n",
      "Epoch 95/200\n",
      "88/88 - 0s - loss: 0.6272 - acc: 0.7394 - mae: 0.1037 - 70ms/epoch - 793us/step\n",
      "Epoch 96/200\n",
      "88/88 - 0s - loss: 0.6226 - acc: 0.7439 - mae: 0.1033 - 67ms/epoch - 759us/step\n",
      "Epoch 97/200\n",
      "88/88 - 0s - loss: 0.6346 - acc: 0.7387 - mae: 0.1048 - 100ms/epoch - 1ms/step\n",
      "Epoch 98/200\n",
      "88/88 - 0s - loss: 0.6292 - acc: 0.7451 - mae: 0.1038 - 105ms/epoch - 1ms/step\n",
      "Epoch 99/200\n",
      "88/88 - 0s - loss: 0.6102 - acc: 0.7489 - mae: 0.1020 - 92ms/epoch - 1ms/step\n",
      "Epoch 100/200\n",
      "88/88 - 0s - loss: 0.6133 - acc: 0.7564 - mae: 0.1018 - 102ms/epoch - 1ms/step\n",
      "Epoch 101/200\n",
      "88/88 - 0s - loss: 0.6125 - acc: 0.7485 - mae: 0.1020 - 83ms/epoch - 941us/step\n",
      "Epoch 102/200\n",
      "88/88 - 0s - loss: 0.6246 - acc: 0.7446 - mae: 0.1028 - 74ms/epoch - 839us/step\n",
      "Epoch 103/200\n",
      "88/88 - 0s - loss: 0.6164 - acc: 0.7485 - mae: 0.1024 - 74ms/epoch - 839us/step\n",
      "Epoch 104/200\n",
      "88/88 - 0s - loss: 0.6091 - acc: 0.7478 - mae: 0.1012 - 71ms/epoch - 803us/step\n",
      "Epoch 105/200\n",
      "88/88 - 0s - loss: 0.6115 - acc: 0.7498 - mae: 0.1015 - 73ms/epoch - 827us/step\n",
      "Epoch 106/200\n",
      "88/88 - 0s - loss: 0.6057 - acc: 0.7578 - mae: 0.1006 - 74ms/epoch - 839us/step\n",
      "Epoch 107/200\n",
      "88/88 - 0s - loss: 0.6026 - acc: 0.7526 - mae: 0.1004 - 68ms/epoch - 771us/step\n",
      "Epoch 108/200\n",
      "88/88 - 0s - loss: 0.6066 - acc: 0.7489 - mae: 0.1013 - 71ms/epoch - 805us/step\n",
      "Epoch 109/200\n",
      "88/88 - 0s - loss: 0.5992 - acc: 0.7592 - mae: 0.0991 - 71ms/epoch - 805us/step\n",
      "Epoch 110/200\n",
      "88/88 - 0s - loss: 0.6073 - acc: 0.7537 - mae: 0.1003 - 66ms/epoch - 748us/step\n",
      "Epoch 111/200\n",
      "88/88 - 0s - loss: 0.6050 - acc: 0.7530 - mae: 0.1007 - 67ms/epoch - 759us/step\n",
      "Epoch 112/200\n",
      "88/88 - 0s - loss: 0.5959 - acc: 0.7567 - mae: 0.0996 - 69ms/epoch - 782us/step\n",
      "Epoch 113/200\n",
      "88/88 - 0s - loss: 0.5994 - acc: 0.7532 - mae: 0.0990 - 68ms/epoch - 771us/step\n",
      "Epoch 114/200\n",
      "88/88 - 0s - loss: 0.6041 - acc: 0.7551 - mae: 0.1006 - 70ms/epoch - 793us/step\n",
      "Epoch 115/200\n",
      "88/88 - 0s - loss: 0.5933 - acc: 0.7651 - mae: 0.0985 - 84ms/epoch - 952us/step\n",
      "Epoch 116/200\n",
      "88/88 - 0s - loss: 0.6043 - acc: 0.7510 - mae: 0.0999 - 106ms/epoch - 1ms/step\n",
      "Epoch 117/200\n",
      "88/88 - 0s - loss: 0.5951 - acc: 0.7628 - mae: 0.0991 - 79ms/epoch - 895us/step\n",
      "Epoch 118/200\n",
      "88/88 - 0s - loss: 0.5874 - acc: 0.7592 - mae: 0.0982 - 75ms/epoch - 850us/step\n",
      "Epoch 119/200\n",
      "88/88 - 0s - loss: 0.5812 - acc: 0.7660 - mae: 0.0972 - 76ms/epoch - 861us/step\n",
      "Epoch 120/200\n",
      "88/88 - 0s - loss: 0.5914 - acc: 0.7648 - mae: 0.0981 - 75ms/epoch - 850us/step\n",
      "Epoch 121/200\n",
      "88/88 - 0s - loss: 0.5857 - acc: 0.7580 - mae: 0.0975 - 79ms/epoch - 897us/step\n",
      "Epoch 122/200\n",
      "88/88 - 0s - loss: 0.5881 - acc: 0.7651 - mae: 0.0976 - 76ms/epoch - 860us/step\n",
      "Epoch 123/200\n",
      "88/88 - 0s - loss: 0.5854 - acc: 0.7594 - mae: 0.0974 - 81ms/epoch - 918us/step\n",
      "Epoch 124/200\n",
      "88/88 - 0s - loss: 0.5746 - acc: 0.7687 - mae: 0.0958 - 73ms/epoch - 827us/step\n",
      "Epoch 125/200\n",
      "88/88 - 0s - loss: 0.5777 - acc: 0.7605 - mae: 0.0967 - 74ms/epoch - 839us/step\n",
      "Epoch 126/200\n",
      "88/88 - 0s - loss: 0.5759 - acc: 0.7655 - mae: 0.0962 - 72ms/epoch - 816us/step\n",
      "Epoch 127/200\n",
      "88/88 - 0s - loss: 0.5768 - acc: 0.7733 - mae: 0.0959 - 74ms/epoch - 839us/step\n",
      "Epoch 128/200\n",
      "88/88 - 0s - loss: 0.5757 - acc: 0.7696 - mae: 0.0959 - 96ms/epoch - 1ms/step\n",
      "Epoch 129/200\n",
      "88/88 - 0s - loss: 0.5792 - acc: 0.7657 - mae: 0.0963 - 77ms/epoch - 873us/step\n",
      "Epoch 130/200\n",
      "88/88 - 0s - loss: 0.5899 - acc: 0.7598 - mae: 0.0976 - 73ms/epoch - 827us/step\n",
      "Epoch 131/200\n",
      "88/88 - 0s - loss: 0.5651 - acc: 0.7721 - mae: 0.0945 - 73ms/epoch - 827us/step\n",
      "Epoch 132/200\n",
      "88/88 - 0s - loss: 0.5665 - acc: 0.7737 - mae: 0.0948 - 75ms/epoch - 850us/step\n",
      "Epoch 133/200\n",
      "88/88 - 0s - loss: 0.5740 - acc: 0.7635 - mae: 0.0955 - 70ms/epoch - 793us/step\n",
      "Epoch 134/200\n",
      "88/88 - 0s - loss: 0.5695 - acc: 0.7653 - mae: 0.0948 - 74ms/epoch - 839us/step\n",
      "Epoch 135/200\n",
      "88/88 - 0s - loss: 0.5688 - acc: 0.7726 - mae: 0.0951 - 73ms/epoch - 827us/step\n",
      "Epoch 136/200\n",
      "88/88 - 0s - loss: 0.5661 - acc: 0.7689 - mae: 0.0935 - 77ms/epoch - 873us/step\n",
      "Epoch 137/200\n",
      "88/88 - 0s - loss: 0.5701 - acc: 0.7721 - mae: 0.0951 - 72ms/epoch - 823us/step\n",
      "Epoch 138/200\n",
      "88/88 - 0s - loss: 0.5522 - acc: 0.7762 - mae: 0.0927 - 74ms/epoch - 839us/step\n",
      "Epoch 139/200\n",
      "88/88 - 0s - loss: 0.5544 - acc: 0.7789 - mae: 0.0928 - 72ms/epoch - 816us/step\n",
      "Epoch 140/200\n",
      "88/88 - 0s - loss: 0.5579 - acc: 0.7717 - mae: 0.0931 - 76ms/epoch - 861us/step\n",
      "Epoch 141/200\n",
      "88/88 - 0s - loss: 0.5544 - acc: 0.7721 - mae: 0.0932 - 71ms/epoch - 803us/step\n",
      "Epoch 142/200\n",
      "88/88 - 0s - loss: 0.5619 - acc: 0.7712 - mae: 0.0933 - 97ms/epoch - 1ms/step\n",
      "Epoch 143/200\n",
      "88/88 - 0s - loss: 0.5518 - acc: 0.7728 - mae: 0.0929 - 72ms/epoch - 816us/step\n",
      "Epoch 144/200\n",
      "88/88 - 0s - loss: 0.5691 - acc: 0.7748 - mae: 0.0936 - 73ms/epoch - 827us/step\n",
      "Epoch 145/200\n",
      "88/88 - 0s - loss: 0.5560 - acc: 0.7748 - mae: 0.0928 - 74ms/epoch - 839us/step\n",
      "Epoch 146/200\n",
      "88/88 - 0s - loss: 0.5563 - acc: 0.7814 - mae: 0.0926 - 74ms/epoch - 839us/step\n",
      "Epoch 147/200\n",
      "88/88 - 0s - loss: 0.5587 - acc: 0.7785 - mae: 0.0922 - 72ms/epoch - 816us/step\n",
      "Epoch 148/200\n",
      "88/88 - 0s - loss: 0.5501 - acc: 0.7769 - mae: 0.0918 - 78ms/epoch - 884us/step\n",
      "Epoch 149/200\n",
      "88/88 - 0s - loss: 0.5631 - acc: 0.7776 - mae: 0.0926 - 73ms/epoch - 827us/step\n",
      "Epoch 150/200\n",
      "88/88 - 0s - loss: 0.5365 - acc: 0.7844 - mae: 0.0904 - 74ms/epoch - 839us/step\n",
      "Epoch 151/200\n",
      "88/88 - 0s - loss: 0.5540 - acc: 0.7773 - mae: 0.0915 - 73ms/epoch - 827us/step\n",
      "Epoch 152/200\n",
      "88/88 - 0s - loss: 0.5481 - acc: 0.7814 - mae: 0.0903 - 70ms/epoch - 793us/step\n",
      "Epoch 153/200\n",
      "88/88 - 0s - loss: 0.5495 - acc: 0.7824 - mae: 0.0912 - 74ms/epoch - 839us/step\n",
      "Epoch 154/200\n",
      "88/88 - 0s - loss: 0.5492 - acc: 0.7735 - mae: 0.0917 - 74ms/epoch - 839us/step\n",
      "Epoch 155/200\n",
      "88/88 - 0s - loss: 0.5366 - acc: 0.7839 - mae: 0.0902 - 77ms/epoch - 872us/step\n",
      "Epoch 156/200\n",
      "88/88 - 0s - loss: 0.5351 - acc: 0.7801 - mae: 0.0897 - 90ms/epoch - 1ms/step\n",
      "Epoch 157/200\n",
      "88/88 - 0s - loss: 0.5457 - acc: 0.7792 - mae: 0.0902 - 74ms/epoch - 839us/step\n",
      "Epoch 158/200\n",
      "88/88 - 0s - loss: 0.5344 - acc: 0.7860 - mae: 0.0898 - 77ms/epoch - 873us/step\n",
      "Epoch 159/200\n",
      "88/88 - 0s - loss: 0.5513 - acc: 0.7801 - mae: 0.0913 - 80ms/epoch - 906us/step\n",
      "Epoch 160/200\n",
      "88/88 - 0s - loss: 0.5531 - acc: 0.7785 - mae: 0.0915 - 78ms/epoch - 881us/step\n",
      "Epoch 161/200\n",
      "88/88 - 0s - loss: 0.5347 - acc: 0.7908 - mae: 0.0895 - 74ms/epoch - 839us/step\n",
      "Epoch 162/200\n",
      "88/88 - 0s - loss: 0.5444 - acc: 0.7796 - mae: 0.0901 - 77ms/epoch - 873us/step\n",
      "Epoch 163/200\n",
      "88/88 - 0s - loss: 0.5307 - acc: 0.7839 - mae: 0.0890 - 74ms/epoch - 839us/step\n",
      "Epoch 164/200\n",
      "88/88 - 0s - loss: 0.5262 - acc: 0.7901 - mae: 0.0881 - 83ms/epoch - 941us/step\n",
      "Epoch 165/200\n",
      "88/88 - 0s - loss: 0.5380 - acc: 0.7792 - mae: 0.0891 - 76ms/epoch - 861us/step\n",
      "Epoch 166/200\n",
      "88/88 - 0s - loss: 0.5221 - acc: 0.7930 - mae: 0.0876 - 80ms/epoch - 907us/step\n",
      "Epoch 167/200\n",
      "88/88 - 0s - loss: 0.5282 - acc: 0.7885 - mae: 0.0884 - 74ms/epoch - 839us/step\n",
      "Epoch 168/200\n",
      "88/88 - 0s - loss: 0.5292 - acc: 0.7901 - mae: 0.0877 - 84ms/epoch - 952us/step\n",
      "Epoch 169/200\n",
      "88/88 - 0s - loss: 0.5200 - acc: 0.7946 - mae: 0.0871 - 78ms/epoch - 884us/step\n",
      "Epoch 170/200\n",
      "88/88 - 0s - loss: 0.5200 - acc: 0.7944 - mae: 0.0865 - 76ms/epoch - 861us/step\n",
      "Epoch 171/200\n",
      "88/88 - 0s - loss: 0.5237 - acc: 0.7867 - mae: 0.0873 - 83ms/epoch - 941us/step\n",
      "Epoch 172/200\n",
      "88/88 - 0s - loss: 0.5200 - acc: 0.7864 - mae: 0.0862 - 85ms/epoch - 963us/step\n",
      "Epoch 173/200\n",
      "88/88 - 0s - loss: 0.5135 - acc: 0.7955 - mae: 0.0862 - 68ms/epoch - 771us/step\n",
      "Epoch 174/200\n",
      "88/88 - 0s - loss: 0.5196 - acc: 0.7917 - mae: 0.0869 - 77ms/epoch - 874us/step\n",
      "Epoch 175/200\n",
      "88/88 - 0s - loss: 0.5121 - acc: 0.7958 - mae: 0.0864 - 74ms/epoch - 836us/step\n",
      "Epoch 176/200\n",
      "88/88 - 0s - loss: 0.5131 - acc: 0.7933 - mae: 0.0854 - 79ms/epoch - 894us/step\n",
      "Epoch 177/200\n",
      "88/88 - 0s - loss: 0.5045 - acc: 0.8026 - mae: 0.0848 - 73ms/epoch - 827us/step\n"
     ]
    },
    {
     "name": "stdout",
     "output_type": "stream",
     "text": [
      "Epoch 178/200\n",
      "88/88 - 0s - loss: 0.5307 - acc: 0.7910 - mae: 0.0871 - 79ms/epoch - 895us/step\n",
      "Epoch 179/200\n",
      "88/88 - 0s - loss: 0.5019 - acc: 0.8026 - mae: 0.0848 - 79ms/epoch - 897us/step\n",
      "Epoch 180/200\n",
      "88/88 - 0s - loss: 0.5158 - acc: 0.7912 - mae: 0.0855 - 76ms/epoch - 861us/step\n",
      "Epoch 181/200\n",
      "88/88 - 0s - loss: 0.5088 - acc: 0.7967 - mae: 0.0854 - 83ms/epoch - 941us/step\n",
      "Epoch 182/200\n",
      "88/88 - 0s - loss: 0.5054 - acc: 0.7962 - mae: 0.0844 - 74ms/epoch - 839us/step\n",
      "Epoch 183/200\n",
      "88/88 - 0s - loss: 0.5171 - acc: 0.7896 - mae: 0.0855 - 75ms/epoch - 850us/step\n",
      "Epoch 184/200\n",
      "88/88 - 0s - loss: 0.5087 - acc: 0.7971 - mae: 0.0850 - 69ms/epoch - 782us/step\n",
      "Epoch 185/200\n",
      "88/88 - 0s - loss: 0.5166 - acc: 0.7917 - mae: 0.0859 - 75ms/epoch - 850us/step\n",
      "Epoch 186/200\n",
      "88/88 - 0s - loss: 0.5226 - acc: 0.7846 - mae: 0.0866 - 77ms/epoch - 873us/step\n",
      "Epoch 187/200\n",
      "88/88 - 0s - loss: 0.4994 - acc: 0.8035 - mae: 0.0841 - 74ms/epoch - 839us/step\n",
      "Epoch 188/200\n",
      "88/88 - 0s - loss: 0.5049 - acc: 0.7983 - mae: 0.0843 - 78ms/epoch - 884us/step\n",
      "Epoch 189/200\n",
      "88/88 - 0s - loss: 0.5048 - acc: 0.8030 - mae: 0.0840 - 82ms/epoch - 929us/step\n",
      "Epoch 190/200\n",
      "88/88 - 0s - loss: 0.5067 - acc: 0.8008 - mae: 0.0845 - 72ms/epoch - 816us/step\n",
      "Epoch 191/200\n",
      "88/88 - 0s - loss: 0.5140 - acc: 0.7976 - mae: 0.0845 - 78ms/epoch - 884us/step\n",
      "Epoch 192/200\n",
      "88/88 - 0s - loss: 0.4921 - acc: 0.8035 - mae: 0.0827 - 76ms/epoch - 861us/step\n",
      "Epoch 193/200\n",
      "88/88 - 0s - loss: 0.4887 - acc: 0.8074 - mae: 0.0819 - 74ms/epoch - 839us/step\n",
      "Epoch 194/200\n",
      "88/88 - 0s - loss: 0.4948 - acc: 0.8060 - mae: 0.0826 - 83ms/epoch - 941us/step\n",
      "Epoch 195/200\n",
      "88/88 - 0s - loss: 0.4839 - acc: 0.8124 - mae: 0.0815 - 102ms/epoch - 1ms/step\n",
      "Epoch 196/200\n",
      "88/88 - 0s - loss: 0.4850 - acc: 0.8106 - mae: 0.0814 - 92ms/epoch - 1ms/step\n",
      "Epoch 197/200\n",
      "88/88 - 0s - loss: 0.4920 - acc: 0.8046 - mae: 0.0826 - 85ms/epoch - 964us/step\n",
      "Epoch 198/200\n",
      "88/88 - 0s - loss: 0.4892 - acc: 0.8062 - mae: 0.0819 - 75ms/epoch - 850us/step\n",
      "Epoch 199/200\n",
      "88/88 - 0s - loss: 0.4833 - acc: 0.8081 - mae: 0.0816 - 72ms/epoch - 822us/step\n",
      "Epoch 200/200\n",
      "88/88 - 0s - loss: 0.4859 - acc: 0.8030 - mae: 0.0818 - 72ms/epoch - 816us/step\n"
     ]
    }
   ],
   "source": [
    "#batch_size는 몇개 학습하고 업데이트하고 다시 학습할것인지 정하는 것\n",
    "history = model.fit(X_train, y_train, epochs=200, batch_size=50, verbose=2)\n"
   ]
  },
  {
   "cell_type": "markdown",
   "metadata": {},
   "source": [
    "## epochs를 401번 학습시킨 후(트레인 데이터의 학습 결과)\n",
    "## loss: 0.4859 - acc: 0.8030 - mae: 0.0818 \n",
    "#\n",
    "## 테스트 데이터의 학습 결과를 비교해보자.\n",
    "## acc: train< test 이 되어야한다.(반대가 되면 오버피팅)\n"
   ]
  },
  {
   "cell_type": "code",
   "execution_count": 27,
   "metadata": {},
   "outputs": [
    {
     "name": "stdout",
     "output_type": "stream",
     "text": [
      "35/35 [==============================] - 0s 1ms/step - loss: 1.6139 - acc: 0.5536 - mae: 0.1379\n"
     ]
    },
    {
     "data": {
      "text/plain": [
       "[1.6139088869094849, 0.553636372089386, 0.13789838552474976]"
      ]
     },
     "execution_count": 27,
     "metadata": {},
     "output_type": "execute_result"
    }
   ],
   "source": [
    "test_result = model.evaluate(X_test, y_test)\n",
    "test_result"
   ]
  },
  {
   "cell_type": "markdown",
   "metadata": {},
   "source": [
    "## overfitting이 되었음!\n",
    "## trian=>loss: 0.4859 - acc: 0.8030 - mae: 0.0818\n",
    "## test=> loss: 1.6139 - acc: 0.5536 - mae: 0.1379\n",
    "## loss, mae는 적을수록 좋다\n",
    "## acc는 클수록 좋다."
   ]
  },
  {
   "cell_type": "code",
   "execution_count": 28,
   "metadata": {},
   "outputs": [
    {
     "data": {
      "text/plain": [
       "array([7.9259272e-14, 6.9605153e-07, 9.9307357e-04, 4.0799016e-03,\n",
       "       9.8735285e-01, 7.5735170e-03, 2.5846209e-12], dtype=float32)"
      ]
     },
     "execution_count": 28,
     "metadata": {},
     "output_type": "execute_result"
    }
   ],
   "source": [
    "## 다중분류에서는 predict를 할 때 각 항목이 될 가능성을 계산해준다.\n",
    "y_pred = model.predict(X_test)\n",
    "y_pred[0]\n",
    "#3이 될 확률: 7.9259272e-14(소수점14자리)"
   ]
  },
  {
   "cell_type": "code",
   "execution_count": 31,
   "metadata": {},
   "outputs": [
    {
     "data": {
      "text/plain": [
       "7"
      ]
     },
     "execution_count": 31,
     "metadata": {},
     "output_type": "execute_result"
    }
   ],
   "source": [
    "#몇번째가 가장 될 확률이 높은지 찾아보자(argmax함수사용)\n",
    "y_pred0_index = np.argmax(y_pred[0])\n",
    "# 아까 빼주었던 3을 더해 원래 값을 구해보자.\n",
    "y_pred0_index + 3"
   ]
  },
  {
   "cell_type": "code",
   "execution_count": 32,
   "metadata": {},
   "outputs": [
    {
     "data": {
      "text/plain": [
       "array([1., 0.], dtype=float32)"
      ]
     },
     "execution_count": 32,
     "metadata": {},
     "output_type": "execute_result"
    }
   ],
   "source": [
    "y_test[0][5:]"
   ]
  },
  {
   "cell_type": "code",
   "execution_count": 33,
   "metadata": {},
   "outputs": [
    {
     "data": {
      "text/plain": [
       "1100"
      ]
     },
     "execution_count": 33,
     "metadata": {},
     "output_type": "execute_result"
    }
   ],
   "source": [
    "len(y_pred)"
   ]
  },
  {
   "cell_type": "code",
   "execution_count": 35,
   "metadata": {},
   "outputs": [
    {
     "data": {
      "text/plain": [
       "array([7, 6, 5, ..., 6, 7, 7], dtype=int64)"
      ]
     },
     "execution_count": 35,
     "metadata": {},
     "output_type": "execute_result"
    }
   ],
   "source": [
    "y_pred_test = np.argmax(y_pred,axis=-1) + 3#행 기준 최대값 찾기\n",
    "y_pred_test"
   ]
  },
  {
   "cell_type": "code",
   "execution_count": 38,
   "metadata": {},
   "outputs": [
    {
     "data": {
      "text/plain": [
       "array([8, 5, 5, ..., 6, 7, 8], dtype=int64)"
      ]
     },
     "execution_count": 38,
     "metadata": {},
     "output_type": "execute_result"
    }
   ],
   "source": [
    "y_test_ = np.argmax(y_test, axis=-1)+3\n",
    "y_test_"
   ]
  },
  {
   "cell_type": "code",
   "execution_count": 39,
   "metadata": {},
   "outputs": [
    {
     "name": "stdout",
     "output_type": "stream",
     "text": [
      "0.5536363636363636\n"
     ]
    }
   ],
   "source": [
    "from sklearn.metrics import accuracy_score, precision_score, recall_score, confusion_matrix\n",
    "\n",
    "print(accuracy_score(y_test_, y_pred_test))"
   ]
  },
  {
   "cell_type": "code",
   "execution_count": 41,
   "metadata": {},
   "outputs": [
    {
     "data": {
      "text/plain": [
       "array([[  0,   0,   1,   0,   0,   0,   0],\n",
       "       [  1,   8,  19,  12,   1,   0,   0],\n",
       "       [  1,   8, 242,  79,  16,   0,   0],\n",
       "       [  1,   5, 152, 258,  77,   0,   0],\n",
       "       [  0,   0,  15,  74,  95,   1,   0],\n",
       "       [  0,   0,   2,   7,  16,   6,   0],\n",
       "       [  0,   0,   0,   0,   3,   0,   0]], dtype=int64)"
      ]
     },
     "execution_count": 41,
     "metadata": {},
     "output_type": "execute_result"
    }
   ],
   "source": [
    "#대각선이 맞춘것 나머지가 혼동한 것 위에서부터 순서대로 3,4,5,...,9이다.\n",
    "confusion_matrix(y_test_, y_pred_test)"
   ]
  },
  {
   "cell_type": "code",
   "execution_count": 46,
   "metadata": {},
   "outputs": [
    {
     "data": {
      "image/png": "[encoded data removed]",
      "text/plain": [
       "<Figure size 432x288 with 1 Axes>"
      ]
     },
     "metadata": {
      "needs_background": "light"
     },
     "output_type": "display_data"
    }
   ],
   "source": [
    "import matplotlib.pyplot as plt\n",
    "plt.plot(history.history['mae'])\n",
    "plt.plot(history.history['loss'])\n",
    "plt.plot(history.history['acc'])\n",
    "plt.legend(['mae','loss','acc'])\n",
    "plt.grid()\n",
    "plt.show()"
   ]
  },
  {
   "cell_type": "code",
   "execution_count": null,
   "metadata": {},
   "outputs": [],
   "source": []
  }
 ],
 "metadata": {
  "kernelspec": {
   "display_name": "Python 3",
   "language": "python",
   "name": "python3"
  },
  "language_info": {
   "codemirror_mode": {
    "name": "ipython",
    "version": 3
   },
   "file_extension": ".py",
   "mimetype": "text/x-python",
   "name": "python",
   "nbconvert_exporter": "python",
   "pygments_lexer": "ipython3",
   "version": "3.7.4"
  }
 },
 "nbformat": 4,
 "nbformat_minor": 2
}
