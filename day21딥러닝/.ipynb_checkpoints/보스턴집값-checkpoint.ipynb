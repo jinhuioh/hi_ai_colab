{
 "cells": [
  {
   "cell_type": "code",
   "execution_count": 1,
   "metadata": {},
   "outputs": [
    {
     "name": "stdout",
     "output_type": "stream",
     "text": [
      "2.7.0\n"
     ]
    }
   ],
   "source": [
    "import pandas as pd\n",
    "import numpy as np\n",
    "import random\n",
    "import tensorflow as tf\n",
    "print(tf.__version__)"
   ]
  },
  {
   "cell_type": "code",
   "execution_count": 2,
   "metadata": {},
   "outputs": [],
   "source": [
    "#사이킷런에 들어있는 보스턴 집값 데이터를 불러오자.\n",
    "from sklearn import datasets"
   ]
  },
  {
   "cell_type": "code",
   "execution_count": 13,
   "metadata": {},
   "outputs": [],
   "source": [
    "from sklearn.model_selection import train_test_split\n",
    "from sklearn.preprocessing import MinMaxScaler"
   ]
  },
  {
   "cell_type": "code",
   "execution_count": 6,
   "metadata": {},
   "outputs": [
    {
     "data": {
      "text/plain": [
       "sklearn.utils.Bunch"
      ]
     },
     "execution_count": 6,
     "metadata": {},
     "output_type": "execute_result"
    }
   ],
   "source": [
    "housing = datasets.load_boston()\n",
    "#sklearn.untils.Bunch: dictionary객체로 만들어 놓은 것\n",
    "type(housing)"
   ]
  },
  {
   "cell_type": "code",
   "execution_count": 7,
   "metadata": {},
   "outputs": [
    {
     "data": {
      "text/plain": [
       "dict_keys(['data', 'target', 'feature_names', 'DESCR', 'filename'])"
      ]
     },
     "execution_count": 7,
     "metadata": {},
     "output_type": "execute_result"
    }
   ],
   "source": [
    "housing.keys()"
   ]
  },
  {
   "cell_type": "code",
   "execution_count": 8,
   "metadata": {},
   "outputs": [
    {
     "data": {
      "text/plain": [
       "array([[6.3200e-03, 1.8000e+01, 2.3100e+00, ..., 1.5300e+01, 3.9690e+02,\n",
       "        4.9800e+00],\n",
       "       [2.7310e-02, 0.0000e+00, 7.0700e+00, ..., 1.7800e+01, 3.9690e+02,\n",
       "        9.1400e+00],\n",
       "       [2.7290e-02, 0.0000e+00, 7.0700e+00, ..., 1.7800e+01, 3.9283e+02,\n",
       "        4.0300e+00],\n",
       "       ...,\n",
       "       [6.0760e-02, 0.0000e+00, 1.1930e+01, ..., 2.1000e+01, 3.9690e+02,\n",
       "        5.6400e+00],\n",
       "       [1.0959e-01, 0.0000e+00, 1.1930e+01, ..., 2.1000e+01, 3.9345e+02,\n",
       "        6.4800e+00],\n",
       "       [4.7410e-02, 0.0000e+00, 1.1930e+01, ..., 2.1000e+01, 3.9690e+02,\n",
       "        7.8800e+00]])"
      ]
     },
     "execution_count": 8,
     "metadata": {},
     "output_type": "execute_result"
    }
   ],
   "source": [
    "housing.data"
   ]
  },
  {
   "cell_type": "code",
   "execution_count": 4,
   "metadata": {
    "scrolled": true
   },
   "outputs": [
    {
     "data": {
      "text/plain": [
       "array([[6.3200e-03, 1.8000e+01, 2.3100e+00, ..., 1.5300e+01, 3.9690e+02,\n",
       "        4.9800e+00],\n",
       "       [2.7310e-02, 0.0000e+00, 7.0700e+00, ..., 1.7800e+01, 3.9690e+02,\n",
       "        9.1400e+00],\n",
       "       [2.7290e-02, 0.0000e+00, 7.0700e+00, ..., 1.7800e+01, 3.9283e+02,\n",
       "        4.0300e+00],\n",
       "       ...,\n",
       "       [6.0760e-02, 0.0000e+00, 1.1930e+01, ..., 2.1000e+01, 3.9690e+02,\n",
       "        5.6400e+00],\n",
       "       [1.0959e-01, 0.0000e+00, 1.1930e+01, ..., 2.1000e+01, 3.9345e+02,\n",
       "        6.4800e+00],\n",
       "       [4.7410e-02, 0.0000e+00, 1.1930e+01, ..., 2.1000e+01, 3.9690e+02,\n",
       "        7.8800e+00]])"
      ]
     },
     "execution_count": 4,
     "metadata": {},
     "output_type": "execute_result"
    }
   ],
   "source": [
    "#문제\n",
    "X_data = housing.data\n",
    "X_data"
   ]
  },
  {
   "cell_type": "code",
   "execution_count": 5,
   "metadata": {},
   "outputs": [
    {
     "data": {
      "text/plain": [
       "array([24. , 21.6, 34.7, 33.4, 36.2, 28.7, 22.9, 27.1, 16.5, 18.9, 15. ,\n",
       "       18.9, 21.7, 20.4, 18.2, 19.9, 23.1, 17.5, 20.2, 18.2, 13.6, 19.6,\n",
       "       15.2, 14.5, 15.6, 13.9, 16.6, 14.8, 18.4, 21. , 12.7, 14.5, 13.2,\n",
       "       13.1, 13.5, 18.9, 20. , 21. , 24.7, 30.8, 34.9, 26.6, 25.3, 24.7,\n",
       "       21.2, 19.3, 20. , 16.6, 14.4, 19.4, 19.7, 20.5, 25. , 23.4, 18.9,\n",
       "       35.4, 24.7, 31.6, 23.3, 19.6, 18.7, 16. , 22.2, 25. , 33. , 23.5,\n",
       "       19.4, 22. , 17.4, 20.9, 24.2, 21.7, 22.8, 23.4, 24.1, 21.4, 20. ,\n",
       "       20.8, 21.2, 20.3, 28. , 23.9, 24.8, 22.9, 23.9, 26.6, 22.5, 22.2,\n",
       "       23.6, 28.7, 22.6, 22. , 22.9, 25. , 20.6, 28.4, 21.4, 38.7, 43.8,\n",
       "       33.2, 27.5, 26.5, 18.6, 19.3, 20.1, 19.5, 19.5, 20.4, 19.8, 19.4,\n",
       "       21.7, 22.8, 18.8, 18.7, 18.5, 18.3, 21.2, 19.2, 20.4, 19.3, 22. ,\n",
       "       20.3, 20.5, 17.3, 18.8, 21.4, 15.7, 16.2, 18. , 14.3, 19.2, 19.6,\n",
       "       23. , 18.4, 15.6, 18.1, 17.4, 17.1, 13.3, 17.8, 14. , 14.4, 13.4,\n",
       "       15.6, 11.8, 13.8, 15.6, 14.6, 17.8, 15.4, 21.5, 19.6, 15.3, 19.4,\n",
       "       17. , 15.6, 13.1, 41.3, 24.3, 23.3, 27. , 50. , 50. , 50. , 22.7,\n",
       "       25. , 50. , 23.8, 23.8, 22.3, 17.4, 19.1, 23.1, 23.6, 22.6, 29.4,\n",
       "       23.2, 24.6, 29.9, 37.2, 39.8, 36.2, 37.9, 32.5, 26.4, 29.6, 50. ,\n",
       "       32. , 29.8, 34.9, 37. , 30.5, 36.4, 31.1, 29.1, 50. , 33.3, 30.3,\n",
       "       34.6, 34.9, 32.9, 24.1, 42.3, 48.5, 50. , 22.6, 24.4, 22.5, 24.4,\n",
       "       20. , 21.7, 19.3, 22.4, 28.1, 23.7, 25. , 23.3, 28.7, 21.5, 23. ,\n",
       "       26.7, 21.7, 27.5, 30.1, 44.8, 50. , 37.6, 31.6, 46.7, 31.5, 24.3,\n",
       "       31.7, 41.7, 48.3, 29. , 24. , 25.1, 31.5, 23.7, 23.3, 22. , 20.1,\n",
       "       22.2, 23.7, 17.6, 18.5, 24.3, 20.5, 24.5, 26.2, 24.4, 24.8, 29.6,\n",
       "       42.8, 21.9, 20.9, 44. , 50. , 36. , 30.1, 33.8, 43.1, 48.8, 31. ,\n",
       "       36.5, 22.8, 30.7, 50. , 43.5, 20.7, 21.1, 25.2, 24.4, 35.2, 32.4,\n",
       "       32. , 33.2, 33.1, 29.1, 35.1, 45.4, 35.4, 46. , 50. , 32.2, 22. ,\n",
       "       20.1, 23.2, 22.3, 24.8, 28.5, 37.3, 27.9, 23.9, 21.7, 28.6, 27.1,\n",
       "       20.3, 22.5, 29. , 24.8, 22. , 26.4, 33.1, 36.1, 28.4, 33.4, 28.2,\n",
       "       22.8, 20.3, 16.1, 22.1, 19.4, 21.6, 23.8, 16.2, 17.8, 19.8, 23.1,\n",
       "       21. , 23.8, 23.1, 20.4, 18.5, 25. , 24.6, 23. , 22.2, 19.3, 22.6,\n",
       "       19.8, 17.1, 19.4, 22.2, 20.7, 21.1, 19.5, 18.5, 20.6, 19. , 18.7,\n",
       "       32.7, 16.5, 23.9, 31.2, 17.5, 17.2, 23.1, 24.5, 26.6, 22.9, 24.1,\n",
       "       18.6, 30.1, 18.2, 20.6, 17.8, 21.7, 22.7, 22.6, 25. , 19.9, 20.8,\n",
       "       16.8, 21.9, 27.5, 21.9, 23.1, 50. , 50. , 50. , 50. , 50. , 13.8,\n",
       "       13.8, 15. , 13.9, 13.3, 13.1, 10.2, 10.4, 10.9, 11.3, 12.3,  8.8,\n",
       "        7.2, 10.5,  7.4, 10.2, 11.5, 15.1, 23.2,  9.7, 13.8, 12.7, 13.1,\n",
       "       12.5,  8.5,  5. ,  6.3,  5.6,  7.2, 12.1,  8.3,  8.5,  5. , 11.9,\n",
       "       27.9, 17.2, 27.5, 15. , 17.2, 17.9, 16.3,  7. ,  7.2,  7.5, 10.4,\n",
       "        8.8,  8.4, 16.7, 14.2, 20.8, 13.4, 11.7,  8.3, 10.2, 10.9, 11. ,\n",
       "        9.5, 14.5, 14.1, 16.1, 14.3, 11.7, 13.4,  9.6,  8.7,  8.4, 12.8,\n",
       "       10.5, 17.1, 18.4, 15.4, 10.8, 11.8, 14.9, 12.6, 14.1, 13. , 13.4,\n",
       "       15.2, 16.1, 17.8, 14.9, 14.1, 12.7, 13.5, 14.9, 20. , 16.4, 17.7,\n",
       "       19.5, 20.2, 21.4, 19.9, 19. , 19.1, 19.1, 20.1, 19.9, 19.6, 23.2,\n",
       "       29.8, 13.8, 13.3, 16.7, 12. , 14.6, 21.4, 23. , 23.7, 25. , 21.8,\n",
       "       20.6, 21.2, 19.1, 20.6, 15.2,  7. ,  8.1, 13.6, 20.1, 21.8, 24.5,\n",
       "       23.1, 19.7, 18.3, 21.2, 17.5, 16.8, 22.4, 20.6, 23.9, 22. , 11.9])"
      ]
     },
     "execution_count": 5,
     "metadata": {},
     "output_type": "execute_result"
    }
   ],
   "source": [
    "#답(집 값)\n",
    "y_data = housing.target\n",
    "y_data"
   ]
  },
  {
   "cell_type": "code",
   "execution_count": 9,
   "metadata": {},
   "outputs": [
    {
     "data": {
      "text/plain": [
       "(506, 13)"
      ]
     },
     "execution_count": 9,
     "metadata": {},
     "output_type": "execute_result"
    }
   ],
   "source": [
    "X_data.shape"
   ]
  },
  {
   "cell_type": "code",
   "execution_count": 10,
   "metadata": {},
   "outputs": [
    {
     "data": {
      "text/plain": [
       "(506,)"
      ]
     },
     "execution_count": 10,
     "metadata": {},
     "output_type": "execute_result"
    }
   ],
   "source": [
    "y_data.shape"
   ]
  },
  {
   "cell_type": "code",
   "execution_count": 11,
   "metadata": {},
   "outputs": [
    {
     "data": {
      "text/plain": [
       "array(['CRIM', 'ZN', 'INDUS', 'CHAS', 'NOX', 'RM', 'AGE', 'DIS', 'RAD',\n",
       "       'TAX', 'PTRATIO', 'B', 'LSTAT'], dtype='<U7')"
      ]
     },
     "execution_count": 11,
     "metadata": {},
     "output_type": "execute_result"
    }
   ],
   "source": [
    "housing.feature_names"
   ]
  },
  {
   "cell_type": "code",
   "execution_count": 14,
   "metadata": {},
   "outputs": [
    {
     "data": {
      "text/plain": [
       "array([[0.00000000e+00, 1.80000000e-01, 6.78152493e-02, ...,\n",
       "        2.87234043e-01, 1.00000000e+00, 8.96799117e-02],\n",
       "       [2.35922539e-04, 0.00000000e+00, 2.42302053e-01, ...,\n",
       "        5.53191489e-01, 1.00000000e+00, 2.04470199e-01],\n",
       "       [2.35697744e-04, 0.00000000e+00, 2.42302053e-01, ...,\n",
       "        5.53191489e-01, 9.89737254e-01, 6.34657837e-02],\n",
       "       ...,\n",
       "       [6.11892474e-04, 0.00000000e+00, 4.20454545e-01, ...,\n",
       "        8.93617021e-01, 1.00000000e+00, 1.07891832e-01],\n",
       "       [1.16072990e-03, 0.00000000e+00, 4.20454545e-01, ...,\n",
       "        8.93617021e-01, 9.91300620e-01, 1.31070640e-01],\n",
       "       [4.61841693e-04, 0.00000000e+00, 4.20454545e-01, ...,\n",
       "        8.93617021e-01, 1.00000000e+00, 1.69701987e-01]])"
      ]
     },
     "execution_count": 14,
     "metadata": {},
     "output_type": "execute_result"
    }
   ],
   "source": [
    "scaler = MinMaxScaler()\n",
    "X_data_scaled = scaler.fit_transform(X_data)\n",
    "X_data_scaled"
   ]
  },
  {
   "cell_type": "code",
   "execution_count": 16,
   "metadata": {},
   "outputs": [
    {
     "name": "stdout",
     "output_type": "stream",
     "text": [
      "(455, 13) (455,)\n",
      "(51, 13) (51,)\n"
     ]
    }
   ],
   "source": [
    "#y값은 스케일링 하지 않는다.(답이기 때문)\n",
    "X_train, X_test, y_train, y_test = train_test_split(X_data_scaled, y_data, \n",
    "                                                    test_size=0.1, \n",
    "                                                    shuffle=True, \n",
    "                                                    random_state=11)\n",
    "print(X_train.shape, y_train.shape)\n",
    "print(X_test.shape, y_test.shape)"
   ]
  },
  {
   "cell_type": "code",
   "execution_count": 18,
   "metadata": {},
   "outputs": [],
   "source": [
    "# Layer를 순서대로 쌓아줄 객체 필요 Sequantial\n",
    "# 각 Layer는 Dense객체\n",
    "# 심층 신경망\n",
    "from tensorflow.keras import Sequential\n",
    "from tensorflow.keras.layers import Dense"
   ]
  },
  {
   "cell_type": "code",
   "execution_count": 19,
   "metadata": {},
   "outputs": [
    {
     "name": "stdout",
     "output_type": "stream",
     "text": [
      "Model: \"sequential\"\n",
      "_________________________________________________________________\n",
      " Layer (type)                Output Shape              Param #   \n",
      "=================================================================\n",
      " dense (Dense)               (None, 128)               1792      \n",
      "                                                                 \n",
      " dense_1 (Dense)             (None, 64)                8256      \n",
      "                                                                 \n",
      " dense_2 (Dense)             (None, 32)                2080      \n",
      "                                                                 \n",
      " dense_3 (Dense)             (None, 16)                528       \n",
      "                                                                 \n",
      " dense_4 (Dense)             (None, 1)                 17        \n",
      "                                                                 \n",
      "=================================================================\n",
      "Total params: 12,673\n",
      "Trainable params: 12,673\n",
      "Non-trainable params: 0\n",
      "_________________________________________________________________\n"
     ]
    }
   ],
   "source": [
    "#레이어를 순서대로 쌓을 수 있도록 객체를 생성\n",
    "model = Sequential()\n",
    "model.add(Dense(128, activation='relu', input_dim=13))\n",
    "model.add(Dense(64, activation='relu'))\n",
    "model.add(Dense(32, activation='relu'))\n",
    "model.add(Dense(16, activation='relu'))\n",
    "model.add(Dense(1, activation='linear'))##회귀이기 때문에 linear\n",
    "##회귀일때, 마지막 출력층의 활성화함수\n",
    "\n",
    "##쌓은 것으로 모델 셋팅을 하세요\n",
    "model.compile(optimizer='adam', loss='mse', metrics=['mae'])\n",
    "# 모델에 세팅한 내용을 요약해서 프린트\n",
    "model.summary()"
   ]
  },
  {
   "cell_type": "code",
   "execution_count": 20,
   "metadata": {},
   "outputs": [
    {
     "name": "stdout",
     "output_type": "stream",
     "text": [
      "Epoch 1/100\n",
      "15/15 - 0s - loss: 588.0482 - mae: 22.4259 - 406ms/epoch - 27ms/step\n",
      "Epoch 2/100\n",
      "15/15 - 0s - loss: 528.0491 - mae: 20.9742 - 17ms/epoch - 1ms/step\n",
      "Epoch 3/100\n",
      "15/15 - 0s - loss: 374.3393 - mae: 16.6318 - 15ms/epoch - 994us/step\n",
      "Epoch 4/100\n",
      "15/15 - 0s - loss: 165.1369 - mae: 10.0527 - 16ms/epoch - 1ms/step\n",
      "Epoch 5/100\n",
      "15/15 - 0s - loss: 127.7412 - mae: 8.7176 - 15ms/epoch - 1ms/step\n",
      "Epoch 6/100\n",
      "15/15 - 0s - loss: 102.0110 - mae: 7.4952 - 16ms/epoch - 1ms/step\n",
      "Epoch 7/100\n",
      "15/15 - 0s - loss: 84.7190 - mae: 6.9357 - 13ms/epoch - 852us/step\n",
      "Epoch 8/100\n",
      "15/15 - 0s - loss: 70.5833 - mae: 6.0764 - 17ms/epoch - 1ms/step\n",
      "Epoch 9/100\n",
      "15/15 - 0s - loss: 59.3836 - mae: 5.6090 - 15ms/epoch - 975us/step\n",
      "Epoch 10/100\n",
      "15/15 - 0s - loss: 52.9442 - mae: 5.1275 - 15ms/epoch - 995us/step\n",
      "Epoch 11/100\n",
      "15/15 - 0s - loss: 48.1908 - mae: 4.8502 - 13ms/epoch - 864us/step\n",
      "Epoch 12/100\n",
      "15/15 - 0s - loss: 44.7216 - mae: 4.6989 - 14ms/epoch - 931us/step\n",
      "Epoch 13/100\n",
      "15/15 - 0s - loss: 41.7084 - mae: 4.6290 - 14ms/epoch - 931us/step\n",
      "Epoch 14/100\n",
      "15/15 - 0s - loss: 38.0716 - mae: 4.2668 - 14ms/epoch - 931us/step\n",
      "Epoch 15/100\n",
      "15/15 - 0s - loss: 34.9164 - mae: 4.0277 - 13ms/epoch - 864us/step\n",
      "Epoch 16/100\n",
      "15/15 - 0s - loss: 33.6687 - mae: 4.2025 - 12ms/epoch - 798us/step\n",
      "Epoch 17/100\n",
      "15/15 - 0s - loss: 29.6278 - mae: 3.8272 - 12ms/epoch - 798us/step\n",
      "Epoch 18/100\n",
      "15/15 - 0s - loss: 26.5864 - mae: 3.4876 - 13ms/epoch - 864us/step\n",
      "Epoch 19/100\n",
      "15/15 - 0s - loss: 25.7741 - mae: 3.6073 - 14ms/epoch - 931us/step\n",
      "Epoch 20/100\n",
      "15/15 - 0s - loss: 23.7419 - mae: 3.3836 - 14ms/epoch - 931us/step\n",
      "Epoch 21/100\n",
      "15/15 - 0s - loss: 23.0518 - mae: 3.2282 - 14ms/epoch - 931us/step\n",
      "Epoch 22/100\n",
      "15/15 - 0s - loss: 21.3385 - mae: 3.1351 - 13ms/epoch - 864us/step\n",
      "Epoch 23/100\n",
      "15/15 - 0s - loss: 21.6614 - mae: 3.2522 - 14ms/epoch - 931us/step\n",
      "Epoch 24/100\n",
      "15/15 - 0s - loss: 20.4737 - mae: 3.1409 - 13ms/epoch - 864us/step\n",
      "Epoch 25/100\n",
      "15/15 - 0s - loss: 19.8077 - mae: 2.9981 - 14ms/epoch - 931us/step\n",
      "Epoch 26/100\n",
      "15/15 - 0s - loss: 19.6954 - mae: 3.0663 - 11ms/epoch - 731us/step\n",
      "Epoch 27/100\n",
      "15/15 - 0s - loss: 19.2964 - mae: 3.0000 - 12ms/epoch - 798us/step\n",
      "Epoch 28/100\n",
      "15/15 - 0s - loss: 20.0861 - mae: 3.0769 - 14ms/epoch - 931us/step\n",
      "Epoch 29/100\n",
      "15/15 - 0s - loss: 19.0954 - mae: 3.0294 - 12ms/epoch - 798us/step\n",
      "Epoch 30/100\n",
      "15/15 - 0s - loss: 18.7718 - mae: 3.0072 - 14ms/epoch - 931us/step\n",
      "Epoch 31/100\n",
      "15/15 - 0s - loss: 18.0546 - mae: 2.9259 - 13ms/epoch - 864us/step\n",
      "Epoch 32/100\n",
      "15/15 - 0s - loss: 18.0564 - mae: 2.9813 - 14ms/epoch - 931us/step\n",
      "Epoch 33/100\n",
      "15/15 - 0s - loss: 17.7781 - mae: 2.8846 - 13ms/epoch - 864us/step\n",
      "Epoch 34/100\n",
      "15/15 - 0s - loss: 17.6006 - mae: 2.9270 - 11ms/epoch - 731us/step\n",
      "Epoch 35/100\n",
      "15/15 - 0s - loss: 17.8124 - mae: 2.8609 - 12ms/epoch - 798us/step\n",
      "Epoch 36/100\n",
      "15/15 - 0s - loss: 17.2810 - mae: 2.8917 - 13ms/epoch - 864us/step\n",
      "Epoch 37/100\n",
      "15/15 - 0s - loss: 16.6590 - mae: 2.8328 - 13ms/epoch - 864us/step\n",
      "Epoch 38/100\n",
      "15/15 - 0s - loss: 16.0157 - mae: 2.7501 - 17ms/epoch - 1ms/step\n",
      "Epoch 39/100\n",
      "15/15 - 0s - loss: 16.8271 - mae: 2.7871 - 16ms/epoch - 1ms/step\n",
      "Epoch 40/100\n",
      "15/15 - 0s - loss: 16.9556 - mae: 2.8742 - 12ms/epoch - 798us/step\n",
      "Epoch 41/100\n",
      "15/15 - 0s - loss: 15.7196 - mae: 2.7245 - 15ms/epoch - 997us/step\n",
      "Epoch 42/100\n",
      "15/15 - 0s - loss: 15.2788 - mae: 2.6611 - 14ms/epoch - 931us/step\n",
      "Epoch 43/100\n",
      "15/15 - 0s - loss: 16.1990 - mae: 2.8420 - 14ms/epoch - 931us/step\n",
      "Epoch 44/100\n",
      "15/15 - 0s - loss: 14.9600 - mae: 2.7066 - 14ms/epoch - 931us/step\n",
      "Epoch 45/100\n",
      "15/15 - 0s - loss: 17.3150 - mae: 2.9475 - 15ms/epoch - 997us/step\n",
      "Epoch 46/100\n",
      "15/15 - 0s - loss: 15.1905 - mae: 2.7642 - 15ms/epoch - 997us/step\n",
      "Epoch 47/100\n",
      "15/15 - 0s - loss: 14.8376 - mae: 2.6883 - 14ms/epoch - 931us/step\n",
      "Epoch 48/100\n",
      "15/15 - 0s - loss: 14.5499 - mae: 2.6901 - 13ms/epoch - 864us/step\n",
      "Epoch 49/100\n",
      "15/15 - 0s - loss: 14.6338 - mae: 2.6263 - 13ms/epoch - 864us/step\n",
      "Epoch 50/100\n",
      "15/15 - 0s - loss: 13.9242 - mae: 2.6442 - 11ms/epoch - 731us/step\n",
      "Epoch 51/100\n",
      "15/15 - 0s - loss: 13.2518 - mae: 2.5657 - 13ms/epoch - 864us/step\n",
      "Epoch 52/100\n",
      "15/15 - 0s - loss: 13.2577 - mae: 2.5331 - 14ms/epoch - 931us/step\n",
      "Epoch 53/100\n",
      "15/15 - 0s - loss: 13.0083 - mae: 2.5188 - 12ms/epoch - 798us/step\n",
      "Epoch 54/100\n",
      "15/15 - 0s - loss: 16.7793 - mae: 2.9204 - 15ms/epoch - 997us/step\n",
      "Epoch 55/100\n",
      "15/15 - 0s - loss: 13.8225 - mae: 2.6319 - 14ms/epoch - 931us/step\n",
      "Epoch 56/100\n",
      "15/15 - 0s - loss: 13.0933 - mae: 2.5586 - 15ms/epoch - 997us/step\n",
      "Epoch 57/100\n",
      "15/15 - 0s - loss: 12.4975 - mae: 2.4935 - 13ms/epoch - 867us/step\n",
      "Epoch 58/100\n",
      "15/15 - 0s - loss: 12.0285 - mae: 2.4222 - 14ms/epoch - 931us/step\n",
      "Epoch 59/100\n",
      "15/15 - 0s - loss: 12.5981 - mae: 2.5388 - 13ms/epoch - 864us/step\n",
      "Epoch 60/100\n",
      "15/15 - 0s - loss: 12.1158 - mae: 2.4091 - 11ms/epoch - 731us/step\n",
      "Epoch 61/100\n",
      "15/15 - 0s - loss: 12.3842 - mae: 2.4663 - 12ms/epoch - 798us/step\n",
      "Epoch 62/100\n",
      "15/15 - 0s - loss: 11.3345 - mae: 2.3831 - 15ms/epoch - 997us/step\n",
      "Epoch 63/100\n",
      "15/15 - 0s - loss: 11.7141 - mae: 2.4070 - 13ms/epoch - 864us/step\n",
      "Epoch 64/100\n",
      "15/15 - 0s - loss: 11.2852 - mae: 2.3748 - 13ms/epoch - 865us/step\n",
      "Epoch 65/100\n",
      "15/15 - 0s - loss: 11.0847 - mae: 2.3502 - 14ms/epoch - 931us/step\n",
      "Epoch 66/100\n",
      "15/15 - 0s - loss: 10.7273 - mae: 2.3176 - 13ms/epoch - 864us/step\n",
      "Epoch 67/100\n",
      "15/15 - 0s - loss: 10.6990 - mae: 2.3044 - 12ms/epoch - 798us/step\n",
      "Epoch 68/100\n",
      "15/15 - 0s - loss: 10.6260 - mae: 2.2913 - 12ms/epoch - 798us/step\n",
      "Epoch 69/100\n",
      "15/15 - 0s - loss: 12.6470 - mae: 2.4986 - 12ms/epoch - 798us/step\n",
      "Epoch 70/100\n",
      "15/15 - 0s - loss: 11.3830 - mae: 2.4301 - 13ms/epoch - 864us/step\n",
      "Epoch 71/100\n",
      "15/15 - 0s - loss: 10.3917 - mae: 2.2817 - 13ms/epoch - 864us/step\n",
      "Epoch 72/100\n",
      "15/15 - 0s - loss: 10.1464 - mae: 2.2693 - 13ms/epoch - 864us/step\n",
      "Epoch 73/100\n",
      "15/15 - 0s - loss: 9.9802 - mae: 2.2534 - 12ms/epoch - 798us/step\n",
      "Epoch 74/100\n",
      "15/15 - 0s - loss: 9.8966 - mae: 2.2303 - 10ms/epoch - 665us/step\n",
      "Epoch 75/100\n",
      "15/15 - 0s - loss: 9.7830 - mae: 2.2030 - 12ms/epoch - 798us/step\n",
      "Epoch 76/100\n",
      "15/15 - 0s - loss: 9.7068 - mae: 2.2282 - 13ms/epoch - 864us/step\n",
      "Epoch 77/100\n",
      "15/15 - 0s - loss: 10.5577 - mae: 2.3087 - 14ms/epoch - 931us/step\n",
      "Epoch 78/100\n",
      "15/15 - 0s - loss: 11.3421 - mae: 2.4362 - 14ms/epoch - 904us/step\n",
      "Epoch 79/100\n",
      "15/15 - 0s - loss: 9.8654 - mae: 2.2840 - 14ms/epoch - 931us/step\n",
      "Epoch 80/100\n",
      "15/15 - 0s - loss: 9.5331 - mae: 2.2647 - 12ms/epoch - 798us/step\n",
      "Epoch 81/100\n",
      "15/15 - 0s - loss: 10.3293 - mae: 2.3409 - 11ms/epoch - 731us/step\n",
      "Epoch 82/100\n",
      "15/15 - 0s - loss: 9.4593 - mae: 2.2162 - 13ms/epoch - 864us/step\n",
      "Epoch 83/100\n",
      "15/15 - 0s - loss: 9.6569 - mae: 2.2433 - 14ms/epoch - 931us/step\n",
      "Epoch 84/100\n",
      "15/15 - 0s - loss: 9.0635 - mae: 2.1559 - 15ms/epoch - 997us/step\n",
      "Epoch 85/100\n",
      "15/15 - 0s - loss: 9.5068 - mae: 2.2277 - 13ms/epoch - 868us/step\n",
      "Epoch 86/100\n",
      "15/15 - 0s - loss: 10.6600 - mae: 2.3870 - 14ms/epoch - 931us/step\n",
      "Epoch 87/100\n",
      "15/15 - 0s - loss: 9.4832 - mae: 2.2662 - 13ms/epoch - 864us/step\n",
      "Epoch 88/100\n",
      "15/15 - 0s - loss: 8.7047 - mae: 2.1394 - 12ms/epoch - 798us/step\n",
      "Epoch 89/100\n",
      "15/15 - 0s - loss: 8.9648 - mae: 2.1462 - 11ms/epoch - 731us/step\n",
      "Epoch 90/100\n",
      "15/15 - 0s - loss: 8.8984 - mae: 2.1222 - 12ms/epoch - 798us/step\n",
      "Epoch 91/100\n",
      "15/15 - 0s - loss: 8.6694 - mae: 2.1071 - 13ms/epoch - 864us/step\n",
      "Epoch 92/100\n",
      "15/15 - 0s - loss: 8.3550 - mae: 2.0891 - 13ms/epoch - 864us/step\n",
      "Epoch 93/100\n",
      "15/15 - 0s - loss: 8.3410 - mae: 2.0693 - 14ms/epoch - 931us/step\n",
      "Epoch 94/100\n",
      "15/15 - 0s - loss: 9.2589 - mae: 2.1965 - 13ms/epoch - 864us/step\n",
      "Epoch 95/100\n",
      "15/15 - 0s - loss: 8.8503 - mae: 2.1213 - 12ms/epoch - 798us/step\n",
      "Epoch 96/100\n",
      "15/15 - 0s - loss: 8.6050 - mae: 2.1299 - 13ms/epoch - 864us/step\n",
      "Epoch 97/100\n",
      "15/15 - 0s - loss: 8.5997 - mae: 2.1405 - 13ms/epoch - 864us/step\n",
      "Epoch 98/100\n",
      "15/15 - 0s - loss: 8.3455 - mae: 2.0596 - 15ms/epoch - 997us/step\n",
      "Epoch 99/100\n",
      "15/15 - 0s - loss: 8.6440 - mae: 2.1325 - 13ms/epoch - 864us/step\n",
      "Epoch 100/100\n",
      "15/15 - 0s - loss: 9.0682 - mae: 2.1807 - 14ms/epoch - 931us/step\n"
     ]
    },
    {
     "data": {
      "text/plain": [
       "<keras.callbacks.History at 0x20f386d4348>"
      ]
     },
     "execution_count": 20,
     "metadata": {},
     "output_type": "execute_result"
    }
   ],
   "source": [
    "history = model.fit(X_train, y_train, epochs=100, batch_size=32, verbose=2)\n",
    "history"
   ]
  },
  {
   "cell_type": "code",
   "execution_count": 22,
   "metadata": {},
   "outputs": [
    {
     "name": "stdout",
     "output_type": "stream",
     "text": [
      "2/2 [==============================] - 0s 2ms/step - loss: 9.8975 - mae: 2.1971\n"
     ]
    },
    {
     "data": {
      "text/plain": [
       "[9.89749526977539, 2.1971302032470703]"
      ]
     },
     "execution_count": 22,
     "metadata": {},
     "output_type": "execute_result"
    }
   ],
   "source": [
    "#평가비교해보자\n",
    "eval_test = model.evaluate(X_test, y_test)\n",
    "eval_Test"
   ]
  },
  {
   "cell_type": "code",
   "execution_count": 25,
   "metadata": {},
   "outputs": [
    {
     "data": {
      "text/plain": [
       "array([[22.777563],\n",
       "       [13.667713],\n",
       "       [25.198574],\n",
       "       [24.085089],\n",
       "       [ 9.344725]], dtype=float32)"
      ]
     },
     "execution_count": 25,
     "metadata": {},
     "output_type": "execute_result"
    }
   ],
   "source": [
    "pred_test = model.predict(X_test)\n",
    "pred_test[:5]"
   ]
  },
  {
   "cell_type": "code",
   "execution_count": 26,
   "metadata": {},
   "outputs": [
    {
     "data": {
      "text/plain": [
       "array([23.4,  8.1, 22. , 15. , 10.4])"
      ]
     },
     "execution_count": 26,
     "metadata": {},
     "output_type": "execute_result"
    }
   ],
   "source": [
    "y_test[:5]"
   ]
  },
  {
   "cell_type": "code",
   "execution_count": 27,
   "metadata": {},
   "outputs": [
    {
     "data": {
      "text/plain": [
       "51"
      ]
     },
     "execution_count": 27,
     "metadata": {},
     "output_type": "execute_result"
    }
   ],
   "source": [
    "len(pred_test)"
   ]
  },
  {
   "cell_type": "code",
   "execution_count": 29,
   "metadata": {},
   "outputs": [
    {
     "data": {
      "text/plain": [
       "array([[20.125523],\n",
       "       [24.334118],\n",
       "       [17.523878],\n",
       "       [18.9113  ],\n",
       "       [23.166786]], dtype=float32)"
      ]
     },
     "execution_count": 29,
     "metadata": {},
     "output_type": "execute_result"
    }
   ],
   "source": [
    "pred_test[46:]"
   ]
  },
  {
   "cell_type": "code",
   "execution_count": 31,
   "metadata": {},
   "outputs": [
    {
     "data": {
      "text/plain": [
       "array([20.1, 22. , 16.7, 18.7, 19.6])"
      ]
     },
     "execution_count": 31,
     "metadata": {},
     "output_type": "execute_result"
    }
   ],
   "source": [
    "y_test[46:]"
   ]
  },
  {
   "cell_type": "code",
   "execution_count": 32,
   "metadata": {},
   "outputs": [
    {
     "data": {
      "text/plain": [
       "0.872357500307899"
      ]
     },
     "execution_count": 32,
     "metadata": {},
     "output_type": "execute_result"
    }
   ],
   "source": [
    "#R2는 1에 가까울수록 좋다.\n",
    "from sklearn.metrics import r2_score\n",
    "R2 = r2_score(y_test, pred_test, multioutput='variance_weighted')\n",
    "R2"
   ]
  },
  {
   "cell_type": "code",
   "execution_count": 34,
   "metadata": {},
   "outputs": [
    {
     "data": {
      "text/plain": [
       "[22.42586326599121,\n",
       " 20.97417640686035,\n",
       " 16.631839752197266,\n",
       " 10.052700996398926,\n",
       " 8.717604637145996]"
      ]
     },
     "execution_count": 34,
     "metadata": {},
     "output_type": "execute_result"
    }
   ],
   "source": [
    "history.history['mae'][:5]"
   ]
  },
  {
   "cell_type": "code",
   "execution_count": null,
   "metadata": {},
   "outputs": [],
   "source": [
    "import matplotlib.py[history,]"
   ]
  }
 ],
 "metadata": {
  "kernelspec": {
   "display_name": "Python 3",
   "language": "python",
   "name": "python3"
  },
  "language_info": {
   "codemirror_mode": {
    "name": "ipython",
    "version": 3
   },
   "file_extension": ".py",
   "mimetype": "text/x-python",
   "name": "python",
   "nbconvert_exporter": "python",
   "pygments_lexer": "ipython3",
   "version": "3.7.4"
  }
 },
 "nbformat": 4,
 "nbformat_minor": 2
}
