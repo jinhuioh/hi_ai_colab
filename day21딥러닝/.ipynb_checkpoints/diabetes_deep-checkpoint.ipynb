{
 "cells": [
  {
   "cell_type": "code",
   "execution_count": 1,
   "metadata": {},
   "outputs": [
    {
     "name": "stdout",
     "output_type": "stream",
     "text": [
      "2.7.0\n"
     ]
    }
   ],
   "source": [
    "import pandas as pd\n",
    "import numpy as np\n",
    "import random\n",
    "import tensorflow as tf\n",
    "print(tf.__version__)"
   ]
  },
  {
   "cell_type": "code",
   "execution_count": 2,
   "metadata": {},
   "outputs": [],
   "source": [
    "import warnings\n",
    "warnings.filterwarnings(action='ignore')\n"
   ]
  },
  {
   "cell_type": "code",
   "execution_count": 3,
   "metadata": {},
   "outputs": [],
   "source": [
    "from sklearn.datasets import load_diabetes\n",
    "\n",
    "diabetes=load_diabetes()"
   ]
  },
  {
   "cell_type": "code",
   "execution_count": 4,
   "metadata": {},
   "outputs": [
    {
     "data": {
      "text/plain": [
       "array([[ 0.03807591,  0.05068012,  0.06169621, ..., -0.00259226,\n",
       "         0.01990842, -0.01764613],\n",
       "       [-0.00188202, -0.04464164, -0.05147406, ..., -0.03949338,\n",
       "        -0.06832974, -0.09220405],\n",
       "       [ 0.08529891,  0.05068012,  0.04445121, ..., -0.00259226,\n",
       "         0.00286377, -0.02593034],\n",
       "       ...,\n",
       "       [ 0.04170844,  0.05068012, -0.01590626, ..., -0.01107952,\n",
       "        -0.04687948,  0.01549073],\n",
       "       [-0.04547248, -0.04464164,  0.03906215, ...,  0.02655962,\n",
       "         0.04452837, -0.02593034],\n",
       "       [-0.04547248, -0.04464164, -0.0730303 , ..., -0.03949338,\n",
       "        -0.00421986,  0.00306441]])"
      ]
     },
     "execution_count": 4,
     "metadata": {},
     "output_type": "execute_result"
    }
   ],
   "source": [
    "X_data = diabetes.data\n",
    "X_data"
   ]
  },
  {
   "cell_type": "code",
   "execution_count": 5,
   "metadata": {},
   "outputs": [
    {
     "data": {
      "text/plain": [
       "array([151.,  75., 141., 206., 135.,  97., 138.,  63., 110., 310., 101.,\n",
       "        69., 179., 185., 118., 171., 166., 144.,  97., 168.,  68.,  49.,\n",
       "        68., 245., 184., 202., 137.,  85., 131., 283., 129.,  59., 341.,\n",
       "        87.,  65., 102., 265., 276., 252.,  90., 100.,  55.,  61.,  92.,\n",
       "       259.,  53., 190., 142.,  75., 142., 155., 225.,  59., 104., 182.,\n",
       "       128.,  52.,  37., 170., 170.,  61., 144.,  52., 128.,  71., 163.,\n",
       "       150.,  97., 160., 178.,  48., 270., 202., 111.,  85.,  42., 170.,\n",
       "       200., 252., 113., 143.,  51.,  52., 210.,  65., 141.,  55., 134.,\n",
       "        42., 111.,  98., 164.,  48.,  96.,  90., 162., 150., 279.,  92.,\n",
       "        83., 128., 102., 302., 198.,  95.,  53., 134., 144., 232.,  81.,\n",
       "       104.,  59., 246., 297., 258., 229., 275., 281., 179., 200., 200.,\n",
       "       173., 180.,  84., 121., 161.,  99., 109., 115., 268., 274., 158.,\n",
       "       107.,  83., 103., 272.,  85., 280., 336., 281., 118., 317., 235.,\n",
       "        60., 174., 259., 178., 128.,  96., 126., 288.,  88., 292.,  71.,\n",
       "       197., 186.,  25.,  84.,  96., 195.,  53., 217., 172., 131., 214.,\n",
       "        59.,  70., 220., 268., 152.,  47.,  74., 295., 101., 151., 127.,\n",
       "       237., 225.,  81., 151., 107.,  64., 138., 185., 265., 101., 137.,\n",
       "       143., 141.,  79., 292., 178.,  91., 116.,  86., 122.,  72., 129.,\n",
       "       142.,  90., 158.,  39., 196., 222., 277.,  99., 196., 202., 155.,\n",
       "        77., 191.,  70.,  73.,  49.,  65., 263., 248., 296., 214., 185.,\n",
       "        78.,  93., 252., 150.,  77., 208.,  77., 108., 160.,  53., 220.,\n",
       "       154., 259.,  90., 246., 124.,  67.,  72., 257., 262., 275., 177.,\n",
       "        71.,  47., 187., 125.,  78.,  51., 258., 215., 303., 243.,  91.,\n",
       "       150., 310., 153., 346.,  63.,  89.,  50.,  39., 103., 308., 116.,\n",
       "       145.,  74.,  45., 115., 264.,  87., 202., 127., 182., 241.,  66.,\n",
       "        94., 283.,  64., 102., 200., 265.,  94., 230., 181., 156., 233.,\n",
       "        60., 219.,  80.,  68., 332., 248.,  84., 200.,  55.,  85.,  89.,\n",
       "        31., 129.,  83., 275.,  65., 198., 236., 253., 124.,  44., 172.,\n",
       "       114., 142., 109., 180., 144., 163., 147.,  97., 220., 190., 109.,\n",
       "       191., 122., 230., 242., 248., 249., 192., 131., 237.,  78., 135.,\n",
       "       244., 199., 270., 164.,  72.,  96., 306.,  91., 214.,  95., 216.,\n",
       "       263., 178., 113., 200., 139., 139.,  88., 148.,  88., 243.,  71.,\n",
       "        77., 109., 272.,  60.,  54., 221.,  90., 311., 281., 182., 321.,\n",
       "        58., 262., 206., 233., 242., 123., 167.,  63., 197.,  71., 168.,\n",
       "       140., 217., 121., 235., 245.,  40.,  52., 104., 132.,  88.,  69.,\n",
       "       219.,  72., 201., 110.,  51., 277.,  63., 118.,  69., 273., 258.,\n",
       "        43., 198., 242., 232., 175.,  93., 168., 275., 293., 281.,  72.,\n",
       "       140., 189., 181., 209., 136., 261., 113., 131., 174., 257.,  55.,\n",
       "        84.,  42., 146., 212., 233.,  91., 111., 152., 120.,  67., 310.,\n",
       "        94., 183.,  66., 173.,  72.,  49.,  64.,  48., 178., 104., 132.,\n",
       "       220.,  57.])"
      ]
     },
     "execution_count": 5,
     "metadata": {},
     "output_type": "execute_result"
    }
   ],
   "source": [
    "y_data = diabetes.target\n",
    "y_data"
   ]
  },
  {
   "cell_type": "code",
   "execution_count": 6,
   "metadata": {},
   "outputs": [
    {
     "data": {
      "text/plain": [
       "['age', 'sex', 'bmi', 'bp', 's1', 's2', 's3', 's4', 's5', 's6']"
      ]
     },
     "execution_count": 6,
     "metadata": {},
     "output_type": "execute_result"
    }
   ],
   "source": [
    "diabetes.feature_names"
   ]
  },
  {
   "cell_type": "markdown",
   "metadata": {},
   "source": [
    "#### 전처리"
   ]
  },
  {
   "cell_type": "code",
   "execution_count": 7,
   "metadata": {},
   "outputs": [],
   "source": [
    "from sklearn.model_selection import train_test_split\n",
    "from sklearn.preprocessing import MinMaxScaler"
   ]
  },
  {
   "cell_type": "code",
   "execution_count": 8,
   "metadata": {},
   "outputs": [
    {
     "data": {
      "text/plain": [
       "array([[0.66666667, 1.        , 0.58264463, ..., 0.28208745, 0.56221737,\n",
       "        0.43939394],\n",
       "       [0.48333333, 0.        , 0.14876033, ..., 0.14104372, 0.22244301,\n",
       "        0.16666667],\n",
       "       [0.88333333, 1.        , 0.51652893, ..., 0.28208745, 0.49658437,\n",
       "        0.40909091],\n",
       "       ...,\n",
       "       [0.68333333, 1.        , 0.28512397, ..., 0.24964739, 0.30504048,\n",
       "        0.56060606],\n",
       "       [0.28333333, 0.        , 0.49586777, ..., 0.39351199, 0.65702021,\n",
       "        0.40909091],\n",
       "       [0.28333333, 0.        , 0.0661157 , ..., 0.14104372, 0.46930778,\n",
       "        0.51515152]])"
      ]
     },
     "execution_count": 8,
     "metadata": {},
     "output_type": "execute_result"
    }
   ],
   "source": [
    "scaler = MinMaxScaler()\n",
    "X_data_scaled = scaler.fit_transform(X_data)\n",
    "X_data_scaled"
   ]
  },
  {
   "cell_type": "code",
   "execution_count": 9,
   "metadata": {},
   "outputs": [
    {
     "name": "stdout",
     "output_type": "stream",
     "text": [
      "(397, 10) (397,)\n",
      "(45, 10) (45,)\n"
     ]
    }
   ],
   "source": [
    "X_train, X_test, y_train, y_test = train_test_split(X_data_scaled, y_data, \n",
    "                                                    test_size=0.1, \n",
    "                                                    shuffle=True, \n",
    "                                                    random_state=11)\n",
    "print(X_train.shape, y_train.shape)\n",
    "print(X_test.shape, y_test.shape)"
   ]
  },
  {
   "cell_type": "markdown",
   "metadata": {},
   "source": [
    "### model만들기"
   ]
  },
  {
   "cell_type": "code",
   "execution_count": 10,
   "metadata": {},
   "outputs": [],
   "source": [
    "from tensorflow.keras import Sequential\n",
    "from tensorflow.keras.layers import Dense"
   ]
  },
  {
   "cell_type": "code",
   "execution_count": 11,
   "metadata": {},
   "outputs": [
    {
     "name": "stdout",
     "output_type": "stream",
     "text": [
      "Model: \"sequential\"\n",
      "_________________________________________________________________\n",
      " Layer (type)                Output Shape              Param #   \n",
      "=================================================================\n",
      " dense (Dense)               (None, 128)               1408      \n",
      "                                                                 \n",
      " dense_1 (Dense)             (None, 64)                8256      \n",
      "                                                                 \n",
      " dense_2 (Dense)             (None, 32)                2080      \n",
      "                                                                 \n",
      " dense_3 (Dense)             (None, 16)                528       \n",
      "                                                                 \n",
      " dense_4 (Dense)             (None, 1)                 17        \n",
      "                                                                 \n",
      "=================================================================\n",
      "Total params: 12,289\n",
      "Trainable params: 12,289\n",
      "Non-trainable params: 0\n",
      "_________________________________________________________________\n"
     ]
    }
   ],
   "source": [
    "from tensorflow.keras import Sequential\n",
    "from tensorflow.keras.layers import Dense\n",
    "\n",
    "\n",
    "def build_model(num_input=1):\n",
    "    model = Sequential()##Layer 쌓을 수 있도록 객체를 생성 \n",
    "    model.add(Dense(128, activation='relu', input_dim=num_input))\n",
    "    model.add(Dense(64, activation='relu'))\n",
    "    model.add(Dense(32, activation='relu'))\n",
    "    model.add(Dense(16, activation='linear'))\n",
    "    model.add(Dense(1, activation='linear'))\n",
    "\n",
    "    model.compile(optimizer='adam', loss='mse', metrics=['mae'])\n",
    "\n",
    "    return model\n",
    "\n",
    "model = build_model(num_input=10)\n",
    "model.summary()"
   ]
  },
  {
   "cell_type": "code",
   "execution_count": 12,
   "metadata": {},
   "outputs": [
    {
     "name": "stdout",
     "output_type": "stream",
     "text": [
      "Epoch 1/100\n",
      "13/13 - 0s - loss: 28890.4707 - mae: 152.0774 - 365ms/epoch - 28ms/step\n",
      "Epoch 2/100\n",
      "13/13 - 0s - loss: 28286.4004 - mae: 150.1071 - 15ms/epoch - 1ms/step\n",
      "Epoch 3/100\n",
      "13/13 - 0s - loss: 26397.0156 - mae: 143.9154 - 15ms/epoch - 1ms/step\n",
      "Epoch 4/100\n",
      "13/13 - 0s - loss: 20969.9805 - mae: 124.2430 - 14ms/epoch - 1ms/step\n",
      "Epoch 5/100\n",
      "13/13 - 0s - loss: 10487.3477 - mae: 79.7626 - 12ms/epoch - 935us/step\n",
      "Epoch 6/100\n",
      "13/13 - 0s - loss: 5413.9014 - mae: 61.8004 - 12ms/epoch - 885us/step\n",
      "Epoch 7/100\n",
      "13/13 - 0s - loss: 4761.2358 - mae: 58.1852 - 12ms/epoch - 930us/step\n",
      "Epoch 8/100\n",
      "13/13 - 0s - loss: 4626.8662 - mae: 56.7654 - 15ms/epoch - 1ms/step\n",
      "Epoch 9/100\n",
      "13/13 - 0s - loss: 4409.5664 - mae: 56.2363 - 13ms/epoch - 980us/step\n",
      "Epoch 10/100\n",
      "13/13 - 0s - loss: 4291.4351 - mae: 55.5479 - 12ms/epoch - 954us/step\n",
      "Epoch 11/100\n",
      "13/13 - 0s - loss: 4201.7139 - mae: 54.5870 - 11ms/epoch - 824us/step\n",
      "Epoch 12/100\n",
      "13/13 - 0s - loss: 4044.9204 - mae: 53.8629 - 12ms/epoch - 903us/step\n",
      "Epoch 13/100\n",
      "13/13 - 0s - loss: 3937.2153 - mae: 53.2509 - 14ms/epoch - 1ms/step\n",
      "Epoch 14/100\n",
      "13/13 - 0s - loss: 3841.6685 - mae: 52.2496 - 12ms/epoch - 935us/step\n",
      "Epoch 15/100\n",
      "13/13 - 0s - loss: 3724.1077 - mae: 51.5446 - 12ms/epoch - 914us/step\n",
      "Epoch 16/100\n",
      "13/13 - 0s - loss: 3628.7173 - mae: 50.8982 - 12ms/epoch - 920us/step\n",
      "Epoch 17/100\n",
      "13/13 - 0s - loss: 3524.2781 - mae: 49.9906 - 13ms/epoch - 979us/step\n",
      "Epoch 18/100\n",
      "13/13 - 0s - loss: 3434.3315 - mae: 49.2442 - 15ms/epoch - 1ms/step\n",
      "Epoch 19/100\n",
      "13/13 - 0s - loss: 3353.1384 - mae: 48.7517 - 13ms/epoch - 993us/step\n",
      "Epoch 20/100\n",
      "13/13 - 0s - loss: 3314.4155 - mae: 47.9055 - 12ms/epoch - 928us/step\n",
      "Epoch 21/100\n",
      "13/13 - 0s - loss: 3236.0503 - mae: 47.6594 - 14ms/epoch - 1ms/step\n",
      "Epoch 22/100\n",
      "13/13 - 0s - loss: 3158.4915 - mae: 46.5702 - 15ms/epoch - 1ms/step\n",
      "Epoch 23/100\n",
      "13/13 - 0s - loss: 3084.2903 - mae: 46.1231 - 14ms/epoch - 1ms/step\n",
      "Epoch 24/100\n",
      "13/13 - 0s - loss: 3069.3643 - mae: 45.7113 - 13ms/epoch - 994us/step\n",
      "Epoch 25/100\n",
      "13/13 - 0s - loss: 3020.2478 - mae: 45.3809 - 14ms/epoch - 1ms/step\n",
      "Epoch 26/100\n",
      "13/13 - 0s - loss: 2991.7368 - mae: 45.0529 - 15ms/epoch - 1ms/step\n",
      "Epoch 27/100\n",
      "13/13 - 0s - loss: 2975.1243 - mae: 44.8963 - 13ms/epoch - 1ms/step\n",
      "Epoch 28/100\n",
      "13/13 - 0s - loss: 3022.8774 - mae: 44.8100 - 12ms/epoch - 886us/step\n",
      "Epoch 29/100\n",
      "13/13 - 0s - loss: 2957.2715 - mae: 44.5891 - 11ms/epoch - 840us/step\n",
      "Epoch 30/100\n",
      "13/13 - 0s - loss: 2916.1218 - mae: 44.0883 - 13ms/epoch - 979us/step\n",
      "Epoch 31/100\n",
      "13/13 - 0s - loss: 2913.8323 - mae: 44.1322 - 15ms/epoch - 1ms/step\n",
      "Epoch 32/100\n",
      "13/13 - 0s - loss: 2958.7205 - mae: 44.4692 - 14ms/epoch - 1ms/step\n",
      "Epoch 33/100\n",
      "13/13 - 0s - loss: 2898.0923 - mae: 43.9636 - 14ms/epoch - 1ms/step\n",
      "Epoch 34/100\n",
      "13/13 - 0s - loss: 2895.5710 - mae: 43.8019 - 13ms/epoch - 998us/step\n",
      "Epoch 35/100\n",
      "13/13 - 0s - loss: 2883.1533 - mae: 43.9243 - 14ms/epoch - 1ms/step\n",
      "Epoch 36/100\n",
      "13/13 - 0s - loss: 2916.1335 - mae: 43.6734 - 12ms/epoch - 937us/step\n",
      "Epoch 37/100\n",
      "13/13 - 0s - loss: 2894.9226 - mae: 44.0457 - 12ms/epoch - 914us/step\n",
      "Epoch 38/100\n",
      "13/13 - 0s - loss: 2905.0894 - mae: 43.6979 - 12ms/epoch - 908us/step\n",
      "Epoch 39/100\n",
      "13/13 - 0s - loss: 2855.3943 - mae: 43.5707 - 15ms/epoch - 1ms/step\n",
      "Epoch 40/100\n",
      "13/13 - 0s - loss: 2846.5884 - mae: 43.3339 - 15ms/epoch - 1ms/step\n",
      "Epoch 41/100\n",
      "13/13 - 0s - loss: 2864.7058 - mae: 43.4305 - 14ms/epoch - 1ms/step\n",
      "Epoch 42/100\n",
      "13/13 - 0s - loss: 2886.8013 - mae: 43.3958 - 13ms/epoch - 1ms/step\n",
      "Epoch 43/100\n",
      "13/13 - 0s - loss: 2866.8240 - mae: 43.4241 - 13ms/epoch - 993us/step\n",
      "Epoch 44/100\n",
      "13/13 - 0s - loss: 2847.0601 - mae: 43.2104 - 15ms/epoch - 1ms/step\n",
      "Epoch 45/100\n",
      "13/13 - 0s - loss: 2915.7681 - mae: 44.0091 - 14ms/epoch - 1ms/step\n",
      "Epoch 46/100\n",
      "13/13 - 0s - loss: 2891.8655 - mae: 43.7362 - 14ms/epoch - 1ms/step\n",
      "Epoch 47/100\n",
      "13/13 - 0s - loss: 2833.3325 - mae: 43.1553 - 12ms/epoch - 945us/step\n",
      "Epoch 48/100\n",
      "13/13 - 0s - loss: 2845.1677 - mae: 43.2957 - 12ms/epoch - 951us/step\n",
      "Epoch 49/100\n",
      "13/13 - 0s - loss: 2855.7346 - mae: 43.5455 - 14ms/epoch - 1ms/step\n",
      "Epoch 50/100\n",
      "13/13 - 0s - loss: 2828.3308 - mae: 43.1557 - 13ms/epoch - 1ms/step\n",
      "Epoch 51/100\n",
      "13/13 - 0s - loss: 2828.4241 - mae: 43.2041 - 14ms/epoch - 1ms/step\n",
      "Epoch 52/100\n",
      "13/13 - 0s - loss: 2848.6116 - mae: 43.3561 - 13ms/epoch - 988us/step\n",
      "Epoch 53/100\n",
      "13/13 - 0s - loss: 2822.7693 - mae: 43.1046 - 13ms/epoch - 1ms/step\n",
      "Epoch 54/100\n",
      "13/13 - 0s - loss: 2819.9487 - mae: 43.1848 - 11ms/epoch - 873us/step\n",
      "Epoch 55/100\n",
      "13/13 - 0s - loss: 2828.4773 - mae: 43.1897 - 15ms/epoch - 1ms/step\n",
      "Epoch 56/100\n",
      "13/13 - 0s - loss: 2929.7598 - mae: 43.6376 - 11ms/epoch - 826us/step\n",
      "Epoch 57/100\n",
      "13/13 - 0s - loss: 2886.5969 - mae: 43.5899 - 11ms/epoch - 874us/step\n",
      "Epoch 58/100\n",
      "13/13 - 0s - loss: 2820.4944 - mae: 43.1461 - 13ms/epoch - 1ms/step\n",
      "Epoch 59/100\n",
      "13/13 - 0s - loss: 2806.7966 - mae: 43.0800 - 15ms/epoch - 1ms/step\n",
      "Epoch 60/100\n",
      "13/13 - 0s - loss: 2806.9917 - mae: 43.0135 - 11ms/epoch - 846us/step\n",
      "Epoch 61/100\n",
      "13/13 - 0s - loss: 2809.3633 - mae: 43.0151 - 11ms/epoch - 876us/step\n",
      "Epoch 62/100\n",
      "13/13 - 0s - loss: 2817.5269 - mae: 42.9891 - 12ms/epoch - 894us/step\n",
      "Epoch 63/100\n",
      "13/13 - 0s - loss: 2823.8384 - mae: 43.1976 - 15ms/epoch - 1ms/step\n",
      "Epoch 64/100\n",
      "13/13 - 0s - loss: 2800.1609 - mae: 43.0577 - 12ms/epoch - 912us/step\n",
      "Epoch 65/100\n",
      "13/13 - 0s - loss: 2826.6074 - mae: 42.9891 - 14ms/epoch - 1ms/step\n",
      "Epoch 66/100\n",
      "13/13 - 0s - loss: 2821.6921 - mae: 43.1750 - 15ms/epoch - 1ms/step\n",
      "Epoch 67/100\n",
      "13/13 - 0s - loss: 2852.6536 - mae: 43.2488 - 14ms/epoch - 1ms/step\n",
      "Epoch 68/100\n",
      "13/13 - 0s - loss: 2789.0051 - mae: 42.8524 - 13ms/epoch - 1ms/step\n",
      "Epoch 69/100\n",
      "13/13 - 0s - loss: 2799.1824 - mae: 42.9659 - 12ms/epoch - 921us/step\n",
      "Epoch 70/100\n",
      "13/13 - 0s - loss: 2816.9797 - mae: 42.9633 - 10ms/epoch - 788us/step\n",
      "Epoch 71/100\n",
      "13/13 - 0s - loss: 2815.3035 - mae: 43.2853 - 12ms/epoch - 940us/step\n",
      "Epoch 72/100\n",
      "13/13 - 0s - loss: 2821.9880 - mae: 43.0481 - 14ms/epoch - 1ms/step\n",
      "Epoch 73/100\n",
      "13/13 - 0s - loss: 2777.2769 - mae: 42.8731 - 14ms/epoch - 1ms/step\n",
      "Epoch 74/100\n",
      "13/13 - 0s - loss: 2792.9272 - mae: 42.7811 - 12ms/epoch - 914us/step\n",
      "Epoch 75/100\n",
      "13/13 - 0s - loss: 2814.0112 - mae: 43.3179 - 11ms/epoch - 874us/step\n",
      "Epoch 76/100\n",
      "13/13 - 0s - loss: 2852.4207 - mae: 43.3285 - 12ms/epoch - 938us/step\n",
      "Epoch 77/100\n",
      "13/13 - 0s - loss: 2772.1279 - mae: 42.7785 - 13ms/epoch - 996us/step\n",
      "Epoch 78/100\n",
      "13/13 - 0s - loss: 2771.6252 - mae: 42.6226 - 13ms/epoch - 1ms/step\n",
      "Epoch 79/100\n",
      "13/13 - 0s - loss: 2812.9453 - mae: 43.0892 - 11ms/epoch - 866us/step\n",
      "Epoch 80/100\n",
      "13/13 - 0s - loss: 2770.1672 - mae: 42.7488 - 12ms/epoch - 892us/step\n",
      "Epoch 81/100\n",
      "13/13 - 0s - loss: 2785.3188 - mae: 42.8979 - 11ms/epoch - 817us/step\n",
      "Epoch 82/100\n",
      "13/13 - 0s - loss: 2771.8735 - mae: 42.6910 - 14ms/epoch - 1ms/step\n",
      "Epoch 83/100\n",
      "13/13 - 0s - loss: 2772.1558 - mae: 42.7040 - 13ms/epoch - 1ms/step\n",
      "Epoch 84/100\n",
      "13/13 - 0s - loss: 2782.4131 - mae: 42.7556 - 14ms/epoch - 1ms/step\n",
      "Epoch 85/100\n",
      "13/13 - 0s - loss: 2825.5586 - mae: 42.8114 - 10ms/epoch - 735us/step\n",
      "Epoch 86/100\n",
      "13/13 - 0s - loss: 2775.3442 - mae: 42.7765 - 11ms/epoch - 837us/step\n",
      "Epoch 87/100\n",
      "13/13 - 0s - loss: 2784.2947 - mae: 42.7268 - 13ms/epoch - 974us/step\n",
      "Epoch 88/100\n",
      "13/13 - 0s - loss: 2778.6829 - mae: 42.7806 - 13ms/epoch - 967us/step\n",
      "Epoch 89/100\n",
      "13/13 - 0s - loss: 2795.0781 - mae: 43.0155 - 11ms/epoch - 871us/step\n",
      "Epoch 90/100\n",
      "13/13 - 0s - loss: 2765.1499 - mae: 42.7650 - 11ms/epoch - 827us/step\n",
      "Epoch 91/100\n",
      "13/13 - 0s - loss: 2757.8943 - mae: 42.8519 - 13ms/epoch - 966us/step\n",
      "Epoch 92/100\n",
      "13/13 - 0s - loss: 2770.8425 - mae: 42.8303 - 14ms/epoch - 1ms/step\n",
      "Epoch 93/100\n",
      "13/13 - 0s - loss: 2764.6348 - mae: 42.5581 - 14ms/epoch - 1ms/step\n",
      "Epoch 94/100\n",
      "13/13 - 0s - loss: 2747.3032 - mae: 42.5656 - 13ms/epoch - 973us/step\n",
      "Epoch 95/100\n",
      "13/13 - 0s - loss: 2792.7507 - mae: 42.8507 - 10ms/epoch - 791us/step\n",
      "Epoch 96/100\n",
      "13/13 - 0s - loss: 2763.6445 - mae: 42.8670 - 12ms/epoch - 908us/step\n",
      "Epoch 97/100\n",
      "13/13 - 0s - loss: 2761.7388 - mae: 42.5681 - 12ms/epoch - 908us/step\n",
      "Epoch 98/100\n",
      "13/13 - 0s - loss: 2734.0425 - mae: 42.4452 - 12ms/epoch - 943us/step\n",
      "Epoch 99/100\n",
      "13/13 - 0s - loss: 2743.3137 - mae: 42.4333 - 12ms/epoch - 929us/step\n",
      "Epoch 100/100\n",
      "13/13 - 0s - loss: 2761.0911 - mae: 42.6833 - 11ms/epoch - 860us/step\n"
     ]
    },
    {
     "data": {
      "text/plain": [
       "<keras.callbacks.History at 0x2a27555ca00>"
      ]
     },
     "execution_count": 12,
     "metadata": {},
     "output_type": "execute_result"
    }
   ],
   "source": [
    "history = model.fit(X_train, y_train, epochs=100, batch_size=32, verbose=2)\n",
    "history #  epochs: 훈련 데이터셋에 포함된 모든 데이터들이 한 번씩 모델을 통과한 횟수로, 모든 학습 데이터셋을 학습하는 횟수를 의미\n",
    "# verbose : 자세히 보여줘라"
   ]
  },
  {
   "cell_type": "code",
   "execution_count": 13,
   "metadata": {},
   "outputs": [
    {
     "data": {
      "text/plain": [
       "[152.07742309570312, 150.1071319580078, 143.9154052734375]"
      ]
     },
     "execution_count": 13,
     "metadata": {},
     "output_type": "execute_result"
    }
   ],
   "source": [
    "history.history['mae'][:3]"
   ]
  },
  {
   "cell_type": "code",
   "execution_count": 14,
   "metadata": {},
   "outputs": [
    {
     "data": {
      "text/plain": [
       "[28890.470703125, 28286.400390625, 26397.015625]"
      ]
     },
     "execution_count": 14,
     "metadata": {},
     "output_type": "execute_result"
    }
   ],
   "source": [
    "history.history['loss'][:3]"
   ]
  },
  {
   "cell_type": "code",
   "execution_count": 15,
   "metadata": {},
   "outputs": [
    {
     "name": "stdout",
     "output_type": "stream",
     "text": [
      "2/2 [==============================] - 0s 2ms/step - loss: 3244.7573 - mae: 43.2143\n"
     ]
    },
    {
     "data": {
      "text/plain": [
       "[3244.75732421875, 43.21425247192383]"
      ]
     },
     "execution_count": 15,
     "metadata": {},
     "output_type": "execute_result"
    }
   ],
   "source": [
    "eva_test=model.evaluate(X_test, y_test)\n",
    "eva_test"
   ]
  },
  {
   "cell_type": "code",
   "execution_count": 16,
   "metadata": {},
   "outputs": [
    {
     "data": {
      "text/plain": [
       "array([[109.44485],\n",
       "       [ 81.24968],\n",
       "       [157.57396],\n",
       "       [181.55289],\n",
       "       [ 70.49151]], dtype=float32)"
      ]
     },
     "execution_count": 16,
     "metadata": {},
     "output_type": "execute_result"
    }
   ],
   "source": [
    "pred_test = model.predict(X_test)\n",
    "pred_test[:5]"
   ]
  },
  {
   "cell_type": "code",
   "execution_count": 17,
   "metadata": {},
   "outputs": [
    {
     "data": {
      "text/plain": [
       "array([ 79.,  55., 109., 178.,  39.])"
      ]
     },
     "execution_count": 17,
     "metadata": {},
     "output_type": "execute_result"
    }
   ],
   "source": [
    "y_test[:5]"
   ]
  },
  {
   "cell_type": "code",
   "execution_count": 18,
   "metadata": {},
   "outputs": [
    {
     "data": {
      "text/plain": [
       "0.5589988387482967"
      ]
     },
     "execution_count": 18,
     "metadata": {},
     "output_type": "execute_result"
    }
   ],
   "source": [
    "from sklearn.metrics import r2_score\n",
    "R2 = r2_score(y_test, pred_test, multioutput='variance_weighted')\n",
    "R2"
   ]
  },
  {
   "cell_type": "code",
   "execution_count": 20,
   "metadata": {},
   "outputs": [
    {
     "data": {
      "image/png": "[encoded data removed]",
      "text/plain": [
       "<Figure size 432x288 with 1 Axes>"
      ]
     },
     "metadata": {
      "needs_background": "light"
     },
     "output_type": "display_data"
    }
   ],
   "source": [
    "import matplotlib.pyplot as plt\n",
    "\n",
    "plt.plot(y_test,marker = 'o',label='realY')\n",
    "\n",
    "plt.plot(pred_test,marker = 'o',label='predict')\n",
    "\n",
    "plt.legend()\n",
    "\n",
    "plt.show()"
   ]
  },
  {
   "cell_type": "code",
   "execution_count": null,
   "metadata": {},
   "outputs": [],
   "source": []
  }
 ],
 "metadata": {
  "kernelspec": {
   "display_name": "Python 3",
   "language": "python",
   "name": "python3"
  },
  "language_info": {
   "codemirror_mode": {
    "name": "ipython",
    "version": 3
   },
   "file_extension": ".py",
   "mimetype": "text/x-python",
   "name": "python",
   "nbconvert_exporter": "python",
   "pygments_lexer": "ipython3",
   "version": "3.7.4"
  }
 },
 "nbformat": 4,
 "nbformat_minor": 5
}
