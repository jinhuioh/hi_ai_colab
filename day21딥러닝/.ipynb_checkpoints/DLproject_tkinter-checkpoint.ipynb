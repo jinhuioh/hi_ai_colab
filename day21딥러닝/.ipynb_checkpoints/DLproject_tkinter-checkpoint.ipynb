{
 "cells": [
  {
   "cell_type": "code",
   "execution_count": 1,
   "metadata": {},
   "outputs": [],
   "source": [
    "import os\n",
    "import sys\n",
    "import urllib\n",
    "from functools import partial\n",
    "from tkinter import *\n",
    "import tkinter.filedialog as tkfd\n",
    "import requests\n",
    "from PIL import Image, ImageTk"
   ]
  },
  {
   "cell_type": "code",
   "execution_count": 2,
   "metadata": {},
   "outputs": [],
   "source": [
    "import numpy as np\n",
    "import os\n",
    "import PIL\n",
    "import PIL.Image\n",
    "import tensorflow as tf\n",
    "import tensorflow_datasets as tfds\n",
    "from glob import glob\n",
    "from tensorflow.keras.preprocessing.text import text_to_word_sequence\n",
    "import cv2\n",
    "import matplotlib.pyplot as plt\n",
    "from sklearn.model_selection import train_test_split\n",
    "from tensorflow.keras.layers import *\n",
    "from tensorflow.keras.models import Sequential\n",
    "from tensorflow.keras.callbacks import EarlyStopping, ModelCheckpoint\n",
    "from sklearn.preprocessing import LabelEncoder\n",
    "import tensorflow as tf\n",
    "from tensorflow.keras.layers import *\n",
    "from tensorflow.keras.models import *"
   ]
  },
  {
   "cell_type": "code",
   "execution_count": 3,
   "metadata": {},
   "outputs": [],
   "source": [
    "class Fullscreen_Window(Tk):\n",
    "\n",
    "    def __init__(self):\n",
    "        self.tk = Tk()\n",
    "        self.tk.geometry(\"1000x1000\")\n",
    "        self.tk.title('Image Classification')\n",
    "        self.top = Frame(self.tk)\n",
    "        self.top.pack(side=TOP)\n",
    "        self.top2 = Frame(self.tk)\n",
    "        self.top2.pack(side=TOP)\n",
    "        self.bottom_left = Frame(self.tk)\n",
    "        self.bottom_left.pack(side=LEFT, fill=BOTH, expand=True)\n",
    "        self.bottom_right = Frame(self.tk)\n",
    "        self.bottom_right.pack(side=RIGHT, fill=BOTH, expand=True)\n",
    "        self.state = False\n",
    "        self.tk.bind(\"f\", self.toggle_fullscreen)\n",
    "        self.tk.bind(\"e\", self.end_fullscreen)\n",
    "\n",
    "    def toggle_fullscreen(self, event=None):\n",
    "        self.state = not self.state  # Just toggling the boolean\n",
    "        self.tk.attributes(\"-fullscreen\", self.state)\n",
    "        return \"break\"\n",
    "\n",
    "    def end_fullscreen(self, event=None):\n",
    "        self.state = False\n",
    "        self.tk.attributes(\"-fullscreen\", False)\n",
    "        return \"break\""
   ]
  },
  {
   "cell_type": "code",
   "execution_count": 4,
   "metadata": {},
   "outputs": [],
   "source": [
    "def set_img():\n",
    "    global entered_img\n",
    "    my_img = Label(w,\n",
    "          text='내 이미지',\n",
    "          font=('comic sans', 10)\n",
    "          )\n",
    "    my_img.pack(in_=w.bottom_left, side=TOP)\n",
    "    entered_img = Image.open(entry.get())\n",
    "    user_img = ImageTk.PhotoImage(entered_img)\n",
    "    user_label = Label(w, image=user_img)\n",
    "    user_label.image = user_img\n",
    "    user_label.pack(in_=w.bottom_left, side=LEFT)"
   ]
  },
  {
   "cell_type": "code",
   "execution_count": 5,
   "metadata": {},
   "outputs": [],
   "source": [
    "def showimg(number):\n",
    "    print(\"showimg: 받은 number=\", number)\n",
    "    global entered_img\n",
    "    global my_img\n",
    "    global img_label\n",
    "    try:\n",
    "        my_img.destroy()\n",
    "        img_label.destroy()\n",
    "    except Exception as e:\n",
    "        print(str(e))\n",
    "    my_img = Label(w,\n",
    "          text='결과 이미지',\n",
    "          font=('comic sans', 10)\n",
    "          )\n",
    "    my_img.pack(in_=w.bottom_right, side=TOP)\n",
    "    # data = \"/Users/syshin/Desktop/Himedia/HimediaPython/pythonProject07/openAPI/test\" + str(number-1) + \".jpg\"\n",
    "    entered_img = Image.open(data)\n",
    "    result_img = ImageTk.PhotoImage(entered_img)\n",
    "    img_label = Label(w)\n",
    "    img_label.configure(image=result_img)\n",
    "    img_label.image = result_img\n",
    "    img_label.pack(in_=w.bottom_right, side=RIGHT)"
   ]
  },
  {
   "cell_type": "code",
   "execution_count": 6,
   "metadata": {},
   "outputs": [],
   "source": [
    "def find_img():\n",
    "    path = tkfd.askopenfilename(initialdir=\"/\", title=\"Select file\", filetypes=((\"jpeg files\", \"*.jpg\"), (\"all files\", \"*.*\"), ))\n",
    "    entry.insert('0', path)\n",
    "def find_folder():\n",
    "    path = tkfd.askdirectory(initialdir=\"/\",title='Please select a directory')\n",
    "    entry.insert('0', path)"
   ]
  },
  {
   "cell_type": "markdown",
   "metadata": {},
   "source": [
    "## 폴더를 읽어와서 분류시작을 누르면 카테고리 몇개로 분류 되었는지 보여주는걸로 하자"
   ]
  },
  {
   "cell_type": "code",
   "execution_count": 9,
   "metadata": {},
   "outputs": [
    {
     "data": {
      "text/plain": [
       "<keras.engine.sequential.Sequential at 0x1d9ef8427c8>"
      ]
     },
     "execution_count": 9,
     "metadata": {},
     "output_type": "execute_result"
    }
   ],
   "source": [
    "find_user_tag = load_model('./DL_cloth_Img/all_clothes/best_cnn_1.h5')\n",
    "find_user_tag"
   ]
  },
  {
   "cell_type": "code",
   "execution_count": null,
   "metadata": {},
   "outputs": [],
   "source": [
    "user_tag=[]\n",
    "w = Fullscreen_Window()\n",
    "# entry_guide = Label(w,\n",
    "#            text='사진 선택: ',\n",
    "#            font=('comic sans', 10)\n",
    "#            )\n",
    "# entry_guide.pack(in_=w.top, side=LEFT)  # id라는 라벨을 w에 넣어줌\n",
    "# entry = Entry(w)\n",
    "# entry.pack(in_=w.top, side=LEFT)\n",
    "\n",
    "# s = Button(w, text='폴더 찾아보기', command=find_folder)\n",
    "# s.pack(in_=w.top, side=LEFT)\n",
    "# s = Button(w, text='이미지 찾아보기', command=find_img)\n",
    "# s.pack(in_=w.top, side=LEFT)\n",
    "# s = Button(w, text='입력', command=set_img)\n",
    "# s.pack(in_=w.top, side=LEFT)\n",
    "nameLabel = Label(w, text=\"카테고리 분류 시작\")\n",
    "nameLabel.pack()\n",
    "\n",
    "def changet1():\n",
    "    nameLabel[\"text\"] = \"분류된 카테고리는 8개입니다.\"    \n",
    "\n",
    "b = Button(w, text='분류 시작', command = changet1)\n",
    "b.pack(in_=w.top, side=LEFT)\n",
    "\n",
    "w.tk.mainloop()"
   ]
  },
  {
   "cell_type": "code",
   "execution_count": null,
   "metadata": {},
   "outputs": [],
   "source": []
  }
 ],
 "metadata": {
  "kernelspec": {
   "display_name": "Python 3",
   "language": "python",
   "name": "python3"
  },
  "language_info": {
   "codemirror_mode": {
    "name": "ipython",
    "version": 3
   },
   "file_extension": ".py",
   "mimetype": "text/x-python",
   "name": "python",
   "nbconvert_exporter": "python",
   "pygments_lexer": "ipython3",
   "version": "3.7.4"
  }
 },
 "nbformat": 4,
 "nbformat_minor": 2
}
