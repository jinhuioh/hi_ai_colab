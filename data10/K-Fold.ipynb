{
 "cells": [
  {
   "cell_type": "code",
   "execution_count": 28,
   "metadata": {},
   "outputs": [],
   "source": [
    "##enumerate함수: 열거하다.\n",
    "##많은 양의 데이터인 list를 다룰 때 편리하게 쓸 수 있는 기능을 제공\n",
    "##for-each, for\n",
    "#for x in list(포이치문): 리스트에 있는 것들을 하나씩 꺼내서 처리하기에 아주 간단\n",
    "#                         index가 없어서 불편\n",
    "#                         하나씩 꺼내서 출력, 연산하기는 용이\n",
    "#                         리스트에 입력은 안된다.\n",
    "# for i in range(n)(원래포문):리스트의 입력과 출력이 다 됨.\n",
    "#                             인덱스로 리스트에 있는 값들을 접근해야하기 때문에 \n",
    "#                             코드가 복잡하게 보인다."
   ]
  },
  {
   "cell_type": "code",
   "execution_count": 29,
   "metadata": {},
   "outputs": [],
   "source": [
    "# 주요 라이브러리 import\n",
    "import warnings\n",
    "warnings.filterwarnings(action='ignore')\n",
    "import time\n",
    "from IPython.display import Image\n",
    "from sklearn.datasets import fetch_openml\n",
    "import sklearn.datasets as data\n",
    "from sklearn.model_selection import train_test_split\n",
    "from sklearn.metrics import accuracy_score\n",
    "import numpy as np\n",
    "import pandas as pd\n",
    "import matplotlib.pyplot as plt\n",
    "import seaborn as sns\n",
    "%matplotlib inline"
   ]
  },
  {
   "cell_type": "code",
   "execution_count": 30,
   "metadata": {},
   "outputs": [],
   "source": [
    "num_list = [100,200,300]"
   ]
  },
  {
   "cell_type": "code",
   "execution_count": 31,
   "metadata": {},
   "outputs": [
    {
     "name": "stdout",
     "output_type": "stream",
     "text": [
      "200\n",
      "300\n",
      "400\n"
     ]
    }
   ],
   "source": [
    "for x in num_list:\n",
    "    print(x+100)"
   ]
  },
  {
   "cell_type": "code",
   "execution_count": 32,
   "metadata": {},
   "outputs": [
    {
     "name": "stdout",
     "output_type": "stream",
     "text": [
      "(0, 100)\n",
      "(1, 200)\n",
      "(2, 300)\n"
     ]
    }
   ],
   "source": [
    "for x in enumerate(num_list):#enumerate:튜플로 인덱스가 붙어서 나오게 해준다.\n",
    "    print(x)"
   ]
  },
  {
   "cell_type": "code",
   "execution_count": 33,
   "metadata": {},
   "outputs": [
    {
     "name": "stdout",
     "output_type": "stream",
     "text": [
      "0 : 100\n",
      "1 : 200\n",
      "2 : 300\n"
     ]
    }
   ],
   "source": [
    "for i,x in enumerate(num_list):#enumerate:튜플로 인덱스가 붙어서 나오게 해준다.\n",
    "    print(i,':',x)#i에 인덱스 넣고 x에 값 넣어서 출력"
   ]
  },
  {
   "cell_type": "code",
   "execution_count": 34,
   "metadata": {},
   "outputs": [],
   "source": [
    "for i,x in enumerate(num_list):#enumerate:튜플로 인덱스가 붙어서 나오게 해준다.\n",
    "    num_list[i] = x+100\n"
   ]
  },
  {
   "cell_type": "code",
   "execution_count": 35,
   "metadata": {},
   "outputs": [
    {
     "data": {
      "text/plain": [
       "[200, 300, 400]"
      ]
     },
     "execution_count": 35,
     "metadata": {},
     "output_type": "execute_result"
    }
   ],
   "source": [
    "#포이치문은 인덱스가 없어서 리스트값을 바꾸는게 불가능했는데\n",
    "#enumerate함수를 사용하면 가능해진다.\n",
    "num_list"
   ]
  },
  {
   "cell_type": "code",
   "execution_count": 42,
   "metadata": {},
   "outputs": [],
   "source": [
    "from sklearn.model_selection import KFold"
   ]
  },
  {
   "cell_type": "code",
   "execution_count": 43,
   "metadata": {},
   "outputs": [],
   "source": [
    "kfold = KFold(n_splits=5)"
   ]
  },
  {
   "cell_type": "code",
   "execution_count": 44,
   "metadata": {},
   "outputs": [],
   "source": [
    "titanic_df = pd.read_csv('./titanic_train.csv')"
   ]
  },
  {
   "cell_type": "code",
   "execution_count": 49,
   "metadata": {},
   "outputs": [
    {
     "name": "stdout",
     "output_type": "stream",
     "text": [
      "   pclass  survived                               name     sex   age  sibsp  \\\n",
      "0       2         1  Mellinger, Miss. Madeleine Violet  female  13.0      0   \n",
      "1       2         1                  Wells, Miss. Joan  female   4.0      1   \n",
      "2       2         1     Duran y More, Miss. Florentina  female  30.0      1   \n",
      "3       3         0                 Scanlan, Mr. James    male   NaN      0   \n",
      "4       3         1       Bradley, Miss. Bridget Delia  female  22.0      0   \n",
      "\n",
      "   parch         ticket     fare cabin embarked  body  \\\n",
      "0      1         250644  19.5000   NaN        S   NaN   \n",
      "1      1          29103  23.0000   NaN        S   NaN   \n",
      "2      0  SC/PARIS 2148  13.8583   NaN        C   NaN   \n",
      "3      0          36209   7.7250   NaN        Q   NaN   \n",
      "4      0         334914   7.7250   NaN        Q   NaN   \n",
      "\n",
      "                                           home.dest  \n",
      "0                           England / Bennington, VT  \n",
      "1                               Cornwall / Akron, OH  \n",
      "2                    Barcelona, Spain / Havana, Cuba  \n",
      "3                                                NaN  \n",
      "4  Kingwilliamstown, Co Cork, Ireland Glens Falls...  \n"
     ]
    }
   ],
   "source": [
    "print(titanic_df.head())\n"
   ]
  },
  {
   "cell_type": "code",
   "execution_count": 46,
   "metadata": {
    "scrolled": true
   },
   "outputs": [
    {
     "name": "stdout",
     "output_type": "stream",
     "text": [
      "<class 'pandas.core.frame.DataFrame'>\n",
      "RangeIndex: 898 entries, 0 to 897\n",
      "Data columns (total 13 columns):\n",
      "pclass       898 non-null int64\n",
      "survived     898 non-null int64\n",
      "name         898 non-null object\n",
      "sex          898 non-null object\n",
      "age          728 non-null float64\n",
      "sibsp        898 non-null int64\n",
      "parch        898 non-null int64\n",
      "ticket       898 non-null object\n",
      "fare         898 non-null float64\n",
      "cabin        211 non-null object\n",
      "embarked     896 non-null object\n",
      "body         84 non-null float64\n",
      "home.dest    516 non-null object\n",
      "dtypes: float64(3), int64(4), object(6)\n",
      "memory usage: 91.3+ KB\n"
     ]
    }
   ],
   "source": [
    "titanic_df.info()"
   ]
  },
  {
   "cell_type": "code",
   "execution_count": 47,
   "metadata": {},
   "outputs": [],
   "source": [
    "##함수(drop)\n",
    "##name,ticket,body,home.dest"
   ]
  },
  {
   "cell_type": "code",
   "execution_count": 41,
   "metadata": {},
   "outputs": [],
   "source": [
    "##na처리\n",
    "##age는 평균으로 채워주세요\n",
    "##cabin은 N으로 채워주세요\n",
    "##embarked는 N으로 채워주세요(fillna())\n",
    "##na개수가 몇개인지 전체 카운트"
   ]
  },
  {
   "cell_type": "code",
   "execution_count": null,
   "metadata": {},
   "outputs": [],
   "source": []
  }
 ],
 "metadata": {
  "kernelspec": {
   "display_name": "Python 3",
   "language": "python",
   "name": "python3"
  },
  "language_info": {
   "codemirror_mode": {
    "name": "ipython",
    "version": 3
   },
   "file_extension": ".py",
   "mimetype": "text/x-python",
   "name": "python",
   "nbconvert_exporter": "python",
   "pygments_lexer": "ipython3",
   "version": "3.7.4"
  }
 },
 "nbformat": 4,
 "nbformat_minor": 2
}
