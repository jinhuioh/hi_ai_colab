{
 "cells": [
  {
   "cell_type": "code",
   "execution_count": 1,
   "metadata": {},
   "outputs": [],
   "source": [
    "##enumerate함수: 열거하다.\n",
    "##많은 양의 데이터인 list를 다룰 때 편리하게 쓸 수 있는 기능을 제공\n",
    "##for-each, for\n",
    "#for x in list(포이치문): 리스트에 있는 것들을 하나씩 꺼내서 처리하기에 아주 간단\n",
    "#                         index가 없어서 불편\n",
    "#                         하나씩 꺼내서 출력, 연산하기는 용이\n",
    "#                         리스트에 입력은 안된다.\n",
    "# for i in range(n)(원래포문):리스트의 입력과 출력이 다 됨.\n",
    "#                             인덱스로 리스트에 있는 값들을 접근해야하기 때문에 \n",
    "#                             코드가 복잡하게 보인다."
   ]
  },
  {
   "cell_type": "code",
   "execution_count": 3,
   "metadata": {},
   "outputs": [],
   "source": [
    "num_list = [100,200,300]"
   ]
  },
  {
   "cell_type": "code",
   "execution_count": 4,
   "metadata": {},
   "outputs": [
    {
     "name": "stdout",
     "output_type": "stream",
     "text": [
      "200\n",
      "300\n",
      "400\n"
     ]
    }
   ],
   "source": [
    "for x in num_list:\n",
    "    print(x+100)"
   ]
  },
  {
   "cell_type": "code",
   "execution_count": 6,
   "metadata": {},
   "outputs": [
    {
     "name": "stdout",
     "output_type": "stream",
     "text": [
      "(0, 100)\n",
      "(1, 200)\n",
      "(2, 300)\n"
     ]
    }
   ],
   "source": [
    "for x in enumerate(num_list):#enumerate:튜플로 인덱스가 붙어서 나오게 해준다.\n",
    "    print(x)"
   ]
  },
  {
   "cell_type": "code",
   "execution_count": 8,
   "metadata": {},
   "outputs": [
    {
     "name": "stdout",
     "output_type": "stream",
     "text": [
      "0 : 100\n",
      "1 : 200\n",
      "2 : 300\n"
     ]
    }
   ],
   "source": [
    "for i,x in enumerate(num_list):#enumerate:튜플로 인덱스가 붙어서 나오게 해준다.\n",
    "    print(i,':',x)#i에 인덱스 넣고 x에 값 넣어서 출력"
   ]
  },
  {
   "cell_type": "code",
   "execution_count": 9,
   "metadata": {},
   "outputs": [],
   "source": [
    "for i,x in enumerate(num_list):#enumerate:튜플로 인덱스가 붙어서 나오게 해준다.\n",
    "    num_list[i] = x+100\n"
   ]
  },
  {
   "cell_type": "code",
   "execution_count": 10,
   "metadata": {},
   "outputs": [
    {
     "data": {
      "text/plain": [
       "[200, 300, 400]"
      ]
     },
     "execution_count": 10,
     "metadata": {},
     "output_type": "execute_result"
    }
   ],
   "source": [
    "#포이치문은 인덱스가 없어서 리스트값을 바꾸는게 불가능했는데\n",
    "#enumerate함수를 사용하면 가능해진다.\n",
    "num_list"
   ]
  },
  {
   "cell_type": "code",
   "execution_count": null,
   "metadata": {},
   "outputs": [],
   "source": []
  }
 ],
 "metadata": {
  "kernelspec": {
   "display_name": "Python 3",
   "language": "python",
   "name": "python3"
  },
  "language_info": {
   "codemirror_mode": {
    "name": "ipython",
    "version": 3
   },
   "file_extension": ".py",
   "mimetype": "text/x-python",
   "name": "python",
   "nbconvert_exporter": "python",
   "pygments_lexer": "ipython3",
   "version": "3.7.4"
  }
 },
 "nbformat": 4,
 "nbformat_minor": 2
}
