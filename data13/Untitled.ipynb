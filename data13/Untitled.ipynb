{
 "cells": [
  {
   "cell_type": "code",
   "execution_count": 1,
   "metadata": {},
   "outputs": [],
   "source": [
    "def call1(a,b,c):\n",
    "    print(a,b,c)"
   ]
  },
  {
   "cell_type": "code",
   "execution_count": 3,
   "metadata": {},
   "outputs": [
    {
     "name": "stdout",
     "output_type": "stream",
     "text": [
      "10 20 30\n"
     ]
    }
   ],
   "source": [
    "call1(10,20,30)"
   ]
  },
  {
   "cell_type": "code",
   "execution_count": 8,
   "metadata": {},
   "outputs": [],
   "source": [
    "def call2(a,b,c=50):\n",
    "    print(a,b,c)"
   ]
  },
  {
   "cell_type": "code",
   "execution_count": 10,
   "metadata": {},
   "outputs": [
    {
     "name": "stdout",
     "output_type": "stream",
     "text": [
      "10 2 50\n"
     ]
    }
   ],
   "source": [
    "call2(10,2)#default매개변수 c=50을 미리 지정해 사용."
   ]
  },
  {
   "cell_type": "code",
   "execution_count": 11,
   "metadata": {},
   "outputs": [],
   "source": [
    "#Default매개변수는 반드시 뒤에 위치시켜야 한다.\n"
   ]
  },
  {
   "cell_type": "code",
   "execution_count": 12,
   "metadata": {},
   "outputs": [],
   "source": [
    "def call4(a,b,c):\n",
    "    print(a,b,c)"
   ]
  },
  {
   "cell_type": "code",
   "execution_count": 13,
   "metadata": {},
   "outputs": [
    {
     "name": "stdout",
     "output_type": "stream",
     "text": [
      "100 300 200\n"
     ]
    }
   ],
   "source": [
    "call4(a=100, c=200, b=300)#키워드 파라메터, 순서상관없음!!"
   ]
  },
  {
   "cell_type": "code",
   "execution_count": 15,
   "metadata": {},
   "outputs": [],
   "source": [
    "##파이썬 오버라이딩은 지원함\n",
    "##오버로딩은 지원하지 않는다.\n",
    "\n",
    "##오버라이딩(재정의): 상속했을 때 자식클래스의 함수를 재정의하여 기능을 변경\n",
    "##오버로딩(다형성): 하나의 이름으로 다양한 형태를 구현할 수 있는 기능\n",
    "\n",
    "##public void add(int x ,int y)\n",
    "##public void add(int x)\n",
    "\n",
    "##자바는 하나의 함수 이름으로 다양한 입력값의 형태를 정의 가능\n",
    "##자바는 오버로딩가능\n",
    "##파이썬은 오버로딩 불가능.\n",
    "##입력값으로 튜플과 딕셔너리를 여러개 넣을 수 있기 때문에 \n",
    "##파이썬 함수의 입력값은 0~무한대의 개수를 가지게 정의 할 수 있다.\n",
    "##가변 매개변수라고 부른다."
   ]
  },
  {
   "cell_type": "code",
   "execution_count": 16,
   "metadata": {},
   "outputs": [],
   "source": [
    "def call5(*a,b):\n",
    "    print(a)\n",
    "    print(b)"
   ]
  },
  {
   "cell_type": "code",
   "execution_count": null,
   "metadata": {},
   "outputs": [],
   "source": [
    "#python.exe프로그램이 한 줄을 읽어서 실행을 바로 해준다.\n",
    "#번역기 b=5라고 지정해줘야 오류안남!!"
   ]
  },
  {
   "cell_type": "code",
   "execution_count": 20,
   "metadata": {},
   "outputs": [
    {
     "name": "stdout",
     "output_type": "stream",
     "text": [
      "((1, 2, 3),)\n",
      "5\n"
     ]
    }
   ],
   "source": [
    "#call5((1,2,3),5)#이렇게쓰면 오류!!!\n",
    "call5((1,2,3),b=5)#위치 가변 매개변수는 보통 단독으로 많이쓰임\n",
    "#위치 가변 매개변수를 쓸 때는 \n",
    "##다른 매개변수는 키워드(파라메터명)를 반드시 써주어야 헷갈리지 않는다."
   ]
  },
  {
   "cell_type": "code",
   "execution_count": 17,
   "metadata": {},
   "outputs": [],
   "source": [
    "def call6(*a):\n",
    "    print(a)"
   ]
  },
  {
   "cell_type": "code",
   "execution_count": 21,
   "metadata": {
    "scrolled": true
   },
   "outputs": [
    {
     "name": "stdout",
     "output_type": "stream",
     "text": [
      "(1, 2, 3, 4, 5)\n"
     ]
    }
   ],
   "source": [
    "call6(1,2,3,4,5)#쉬프트텝누르면 자세하게 볼 수 있음."
   ]
  },
  {
   "cell_type": "code",
   "execution_count": 23,
   "metadata": {},
   "outputs": [
    {
     "name": "stdout",
     "output_type": "stream",
     "text": [
      "(1, 2, 3, 4, 5, (1, 2, 3))\n"
     ]
    }
   ],
   "source": [
    "call6(1,2,3,4,5,(1,2,3))"
   ]
  },
  {
   "cell_type": "code",
   "execution_count": 26,
   "metadata": {},
   "outputs": [
    {
     "name": "stdout",
     "output_type": "stream",
     "text": [
      "(1, 2, 3, 4, 5, {'name': 'hong'})\n"
     ]
    }
   ],
   "source": [
    "call6(1,2,3,4,5,{'name':'hong'})"
   ]
  },
  {
   "cell_type": "code",
   "execution_count": 24,
   "metadata": {},
   "outputs": [],
   "source": [
    "#파이썬에서는 파라메터의 개수가 정확히 몇개인지 확인하려면\n",
    "##함수의 정의를 보고 확인해야한다.(shift+tab)"
   ]
  },
  {
   "cell_type": "code",
   "execution_count": 27,
   "metadata": {},
   "outputs": [],
   "source": [
    "def call7(**kwargs):#kwargs=키워드아규먼트(키워드랑 같이쓰는 변수)라는 의미\n",
    "    print(kwargs)"
   ]
  },
  {
   "cell_type": "code",
   "execution_count": null,
   "metadata": {},
   "outputs": [],
   "source": [
    "call7({'name':'hong'})"
   ]
  }
 ],
 "metadata": {
  "kernelspec": {
   "display_name": "Python 3",
   "language": "python",
   "name": "python3"
  },
  "language_info": {
   "codemirror_mode": {
    "name": "ipython",
    "version": 3
   },
   "file_extension": ".py",
   "mimetype": "text/x-python",
   "name": "python",
   "nbconvert_exporter": "python",
   "pygments_lexer": "ipython3",
   "version": "3.7.4"
  }
 },
 "nbformat": 4,
 "nbformat_minor": 2
}
