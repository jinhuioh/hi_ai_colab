{
 "cells": [
  {
   "cell_type": "code",
   "execution_count": 1,
   "metadata": {},
   "outputs": [],
   "source": [
    "import pandas as pd\n",
    "import numpy as np\n",
    "\n",
    "# 주요 라이브러리 import\n",
    "import warnings\n",
    "warnings.filterwarnings(action='ignore')\n",
    "import time\n",
    "from IPython.display import Image\n",
    "from sklearn.datasets import fetch_openml\n",
    "import sklearn.datasets as data\n",
    "from sklearn.model_selection import train_test_split\n",
    "from sklearn.metrics import accuracy_score\n",
    "import numpy as np\n",
    "import pandas as pd\n",
    "import matplotlib.pyplot as plt\n",
    "import seaborn as sns\n",
    "%matplotlib inline\n",
    "from sklearn.preprocessing import LabelEncoder#라벨인코더 임포트\n",
    "from sklearn.model_selection import KFold\n",
    "\n",
    "from sklearn.tree import DecisionTreeClassifier\n",
    "from sklearn.ensemble import RandomForestClassifier\n",
    "from sklearn.linear_model import LogisticRegression\n",
    "from sklearn.svm import SVC\n",
    "from sklearn.metrics import accuracy_score\n",
    "\n",
    "from pandas.plotting import parallel_coordinates#코디네이츠 그래프 그릴 때 필요한 라이브러리\n",
    "from sklearn.model_selection import train_test_split\n",
    "\n",
    "from sklearn.neighbors import KNeighborsClassifier#모델링 중 하나\n",
    "#cross_val_score: 다양한 셈플링을 해서 여러번 테스트-->평균치를 구해본다.\n",
    "from sklearn.model_selection import cross_val_score#crossvaludation해주는거\n",
    "from sklearn.metrics import *\n",
    "\n",
    "from sklearn.model_selection import GridSearchCV#그리드서치\n",
    "from sklearn.preprocessing import StandardScaler #표준화(평균을 기준)\n",
    "from sklearn.preprocessing import MinMaxScaler # 정규화(정해진 규칙 기준, mix-max기준)\n",
    "#이거 임포트 해줘야 차트에서 오류안남!!! 한글파일때문에 오류나는거.\n",
    "from matplotlib import rc, font_manager\n",
    "import matplotlib.font_manager as fm\n",
    "# 디렉토리 및 파일 이름에 맞추어 변경\n",
    "font_location = 'C:/Windows/Fonts/malgun.ttf'#윈도우안에있는 폰트파일주소.\n",
    "#font_location = '../NanumGothic.ttf'\n",
    "font_name = fm.FontProperties(fname=font_location).get_name()\n",
    "rc('font', family=font_name)"
   ]
  },
  {
   "cell_type": "code",
   "execution_count": null,
   "metadata": {},
   "outputs": [],
   "source": []
  }
 ],
 "metadata": {
  "kernelspec": {
   "display_name": "Python 3",
   "language": "python",
   "name": "python3"
  },
  "language_info": {
   "codemirror_mode": {
    "name": "ipython",
    "version": 3
   },
   "file_extension": ".py",
   "mimetype": "text/x-python",
   "name": "python",
   "nbconvert_exporter": "python",
   "pygments_lexer": "ipython3",
   "version": "3.7.4"
  }
 },
 "nbformat": 4,
 "nbformat_minor": 2
}
