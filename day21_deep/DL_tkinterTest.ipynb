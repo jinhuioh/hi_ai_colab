{
 "cells": [
  {
   "cell_type": "code",
   "execution_count": 3,
   "metadata": {},
   "outputs": [],
   "source": [
    "from tkinter import *\n",
    "from tkinter.ttk import *\n",
    "import tkinter.font as font\n",
    "from tkinter import filedialog\n",
    "import os\n",
    "from PIL import ImageTk, Image\n",
    "import tensorflow as tf\n",
    "import cv2\n",
    "from keras.utils import np_utils\n",
    "from keras.datasets import mnist\n",
    "from keras.models import Sequential\n",
    "from keras.layers import Dense, Activation\n",
    "import numpy as np\n",
    "from numpy import argmax\n",
    "\n",
    "# 1. 실무에 사용할 데이터 준비하기\n",
    "\n",
    "# 2. 모델 불러오기\n",
    "from keras.models import load_model"
   ]
  },
  {
   "cell_type": "code",
   "execution_count": 8,
   "metadata": {},
   "outputs": [],
   "source": [
    "def call():\n",
    "    class_names = ['blouse', 'dress', 'jacket', 'pants', 'shorts',\n",
    "                   'skirt', 'sweater', 'Tshirt']\n",
    "    # 이미지마다 크기가 다 다르다.-> 픽셀 사이즈 동일해게 해주어야 전처리가 가능하다.\n",
    "    data_height = 100\n",
    "    data_width = 100\n",
    "    channel_n = 3\n",
    "    images = np.zeros((1, data_height, data_width, channel_n))\n",
    "    ## 이미지 읽고, 스케일링, 리사이징\n",
    "    print(path,'--------------')\n",
    "    image = cv2.imread(path)\n",
    "    print(image)\n",
    "    image = cv2.resize(image, (data_height, data_width)) / 255\n",
    "    images[0, :, :, :] = image\n",
    "    \n",
    "    model = load_model('C:/Users/hi/Anaconda3/jupiter/day21_deep/DL_cloth_Img/all_clothes/best_cnn_1.h5')\n",
    "\n",
    "    # 3. 모델 사용하기\n",
    "    yhat = model.predict(images)\n",
    "    np.argmax(yhat)\n",
    "    class_names[np.argmax(yhat)]\n",
    "   \n",
    "    print('Predict : ' +  class_names[np.argmax(yhat)])\n",
    "    my_img = Label(window ,\n",
    "          text=class_names[np.argmax(yhat)],\n",
    "          font=('comic sans', 10)\n",
    "          )\n",
    "    my_img.pack()"
   ]
  },
  {
   "cell_type": "code",
   "execution_count": 9,
   "metadata": {},
   "outputs": [
    {
     "name": "stdout",
     "output_type": "stream",
     "text": [
      "C:/Users/hi/Anaconda3/jupiter/day21_deep/DL_cloth_Img/all_clothes/blouse.0 (6).jpg --------------\n",
      "[[[255 255 255]\n",
      "  [255 255 255]\n",
      "  [255 255 255]\n",
      "  ...\n",
      "  [255 255 255]\n",
      "  [255 255 255]\n",
      "  [255 255 255]]\n",
      "\n",
      " [[255 255 255]\n",
      "  [255 255 255]\n",
      "  [255 255 255]\n",
      "  ...\n",
      "  [255 255 255]\n",
      "  [255 255 255]\n",
      "  [255 255 255]]\n",
      "\n",
      " [[255 255 255]\n",
      "  [255 255 255]\n",
      "  [255 255 255]\n",
      "  ...\n",
      "  [255 255 255]\n",
      "  [255 255 255]\n",
      "  [255 255 255]]\n",
      "\n",
      " ...\n",
      "\n",
      " [[255 255 255]\n",
      "  [255 255 255]\n",
      "  [255 255 255]\n",
      "  ...\n",
      "  [255 255 255]\n",
      "  [255 255 255]\n",
      "  [255 255 255]]\n",
      "\n",
      " [[255 255 255]\n",
      "  [255 255 255]\n",
      "  [255 255 255]\n",
      "  ...\n",
      "  [255 255 255]\n",
      "  [255 255 255]\n",
      "  [255 255 255]]\n",
      "\n",
      " [[255 255 255]\n",
      "  [255 255 255]\n",
      "  [255 255 255]\n",
      "  ...\n",
      "  [255 255 255]\n",
      "  [255 255 255]\n",
      "  [255 255 255]]]\n",
      "Predict : blouse\n"
     ]
    }
   ],
   "source": [
    "#기본 설정\n",
    "window = Tk()\n",
    "\n",
    "window.title('GUI')\n",
    "window.geometry(\"500x500\")\n",
    "\n",
    "#사진입력\n",
    "label = Label(window, text = '사진입력').pack()\n",
    "\n",
    "#분류버튼\n",
    "button = Button(window, \n",
    "                text=\"image classification\", \n",
    "                width=40,\n",
    "                command=call\n",
    "               )\n",
    "button.pack()\n",
    "\n",
    "#파일 첨부하기\n",
    "path = filedialog.askopenfilename(filetypes=[('Image File','jpg'), ('Image File','jpg'), ('Image File','jpg')])\n",
    "path=path.replace('\\\\','/')\n",
    "\n",
    "if path == '':exit()\n",
    "image=ImageTk.PhotoImage(Image.open(path))  \n",
    "label=Label(window, image=image) #라벨 생성, 라벨에는 앞서 선언한 이미지가 들어감.\n",
    "label.pack()\n",
    "window.mainloop()"
   ]
  },
  {
   "cell_type": "code",
   "execution_count": 8,
   "metadata": {},
   "outputs": [
    {
     "data": {
      "text/plain": [
       "'4.5.5'"
      ]
     },
     "execution_count": 8,
     "metadata": {},
     "output_type": "execute_result"
    }
   ],
   "source": [
    "cv2.__version__"
   ]
  },
  {
   "cell_type": "code",
   "execution_count": null,
   "metadata": {},
   "outputs": [],
   "source": []
  }
 ],
 "metadata": {
  "kernelspec": {
   "display_name": "Python 3",
   "language": "python",
   "name": "python3"
  },
  "language_info": {
   "codemirror_mode": {
    "name": "ipython",
    "version": 3
   },
   "file_extension": ".py",
   "mimetype": "text/x-python",
   "name": "python",
   "nbconvert_exporter": "python",
   "pygments_lexer": "ipython3",
   "version": "3.7.4"
  }
 },
 "nbformat": 4,
 "nbformat_minor": 2
}
