{
  "nbformat": 4,
  "nbformat_minor": 0,
  "metadata": {
    "colab": {
      "name": "협업필터링 유사도 측정(코사인유사도)",
      "provenance": [],
      "collapsed_sections": [],
      "authorship_tag": "ABX9TyPeQIYOQBtG6sbMdgflyftx",
      "include_colab_link": true
    },
    "kernelspec": {
      "name": "python3",
      "display_name": "Python 3"
    },
    "language_info": {
      "name": "python"
    }
  },
  "cells": [
    {
      "cell_type": "markdown",
      "metadata": {
        "id": "view-in-github",
        "colab_type": "text"
      },
      "source": [
        "<a href=\"https://colab.research.google.com/github/jinhuioh/hi_ai_himedia/blob/master/%ED%98%91%EC%97%85%ED%95%84%ED%84%B0%EB%A7%81_%EC%9C%A0%EC%82%AC%EB%8F%84_%EC%B8%A1%EC%A0%95(%EC%BD%94%EC%82%AC%EC%9D%B8%EC%9C%A0%EC%82%AC%EB%8F%84).ipynb\" target=\"_parent\"><img src=\"https://colab.research.google.com/assets/colab-badge.svg\" alt=\"Open In Colab\"/></a>"
      ]
    },
    {
      "cell_type": "code",
      "execution_count": 1,
      "metadata": {
        "id": "Fh0gY7ZT6KAg"
      },
      "outputs": [],
      "source": [
        "import mlxtend #apiori알고리즘 관련 라이브러리\n",
        "import numpy as np\n",
        "import pandas as pd\n",
        "import warnings\n",
        "warnings.filterwarnings(action='ignore')\n",
        "\n",
        "from mlxtend.preprocessing import TransactionEncoder\n",
        "from sklearn.feature_extraction.text import TfidfVectorizer\n",
        "from sklearn.metrics.pairwise import cosine_similarity, euclidean_distances"
      ]
    },
    {
      "cell_type": "code",
      "source": [
        "#코렙한글쓰기.\n",
        "import matplotlib as mpl\n",
        "import matplotlib.pyplot as plt\n",
        "import matplotlib.font_manager as fm  # 폰트 관련 용도\n",
        " \n",
        "%config InlineBackend.figure_format = 'retina'\n",
        " ###설치!!!런타임 재시작시 지우고 실행시켜야 합니다.\n",
        "#!apt -qq -y install fonts-nanum\n"
      ],
      "metadata": {
        "id": "rG14nwsqt4CK"
      },
      "execution_count": 2,
      "outputs": []
    },
    {
      "cell_type": "code",
      "source": [
        "import matplotlib.font_manager as fm\n",
        "fontpath = '/usr/share/fonts/truetype/nanum/NanumBarunGothic.ttf'\n",
        "font_name = fm.FontProperties(fname=fontpath, size=9).get_name()\n",
        "plt.rc('font', family=font_name) \n",
        "print(font_name)"
      ],
      "metadata": {
        "colab": {
          "base_uri": "https://localhost:8080/"
        },
        "id": "n3SB5asRuBuW",
        "outputId": "4201ea55-c39d-49e2-fb94-4cb2c83f4af9"
      },
      "execution_count": 3,
      "outputs": [
        {
          "output_type": "stream",
          "name": "stdout",
          "text": [
            "NanumBarunGothic\n"
          ]
        }
      ]
    },
    {
      "cell_type": "code",
      "source": [
        "#fm._rebuild()# 여기까지하고 런타임 다시 시작!!-----> 이 셀부터 설치빼고 다시 실행"
      ],
      "metadata": {
        "id": "GyWQnXBjuD5G"
      },
      "execution_count": 4,
      "outputs": []
    },
    {
      "cell_type": "code",
      "source": [
        "\n",
        "data = np.array([\n",
        "    ['우유', '기저귀', '쥬스'],\n",
        "    ['양상추', '기저귀', '맥주'],\n",
        "    ['우유', '양상추', '기저귀', '쥬스'],\n",
        "    ['양상추', '맥주']\n",
        "])"
      ],
      "metadata": {
        "id": "BTUL-tf96n5D"
      },
      "execution_count": 5,
      "outputs": []
    },
    {
      "cell_type": "code",
      "source": [
        "\n",
        "te = TransactionEncoder()"
      ],
      "metadata": {
        "id": "sHTMq9zF6q76"
      },
      "execution_count": 6,
      "outputs": []
    },
    {
      "cell_type": "code",
      "source": [
        "#2차행렬 T/F로 인코딩하고 바꿔주기.\n",
        "te_ary = te.fit(data).transform(data)\n",
        "te_ary"
      ],
      "metadata": {
        "colab": {
          "base_uri": "https://localhost:8080/"
        },
        "id": "NfHPNide6uMK",
        "outputId": "c7ac927b-b70f-42ea-b3d6-e437848ef561"
      },
      "execution_count": 7,
      "outputs": [
        {
          "output_type": "execute_result",
          "data": {
            "text/plain": [
              "array([[ True, False, False,  True,  True],\n",
              "       [ True,  True,  True, False, False],\n",
              "       [ True, False,  True,  True,  True],\n",
              "       [False,  True,  True, False, False]])"
            ]
          },
          "metadata": {},
          "execution_count": 7
        }
      ]
    },
    {
      "cell_type": "code",
      "source": [
        "df = pd.DataFrame(te_ary, columns=te.columns_)"
      ],
      "metadata": {
        "id": "npMJ79CL61Xy"
      },
      "execution_count": 8,
      "outputs": []
    },
    {
      "cell_type": "code",
      "source": [
        "df"
      ],
      "metadata": {
        "colab": {
          "base_uri": "https://localhost:8080/",
          "height": 175
        },
        "id": "JWAPe0vR7DiZ",
        "outputId": "5cc5bf8b-4e8b-425a-db03-9d37e0c953c0"
      },
      "execution_count": 9,
      "outputs": [
        {
          "output_type": "execute_result",
          "data": {
            "text/plain": [
              "     기저귀     맥주    양상추     우유     쥬스\n",
              "0   True  False  False   True   True\n",
              "1   True   True   True  False  False\n",
              "2   True  False   True   True   True\n",
              "3  False   True   True  False  False"
            ],
            "text/html": [
              "\n",
              "  <div id=\"df-293a941e-be3d-4960-9dd9-0909af803884\">\n",
              "    <div class=\"colab-df-container\">\n",
              "      <div>\n",
              "<style scoped>\n",
              "    .dataframe tbody tr th:only-of-type {\n",
              "        vertical-align: middle;\n",
              "    }\n",
              "\n",
              "    .dataframe tbody tr th {\n",
              "        vertical-align: top;\n",
              "    }\n",
              "\n",
              "    .dataframe thead th {\n",
              "        text-align: right;\n",
              "    }\n",
              "</style>\n",
              "<table border=\"1\" class=\"dataframe\">\n",
              "  <thead>\n",
              "    <tr style=\"text-align: right;\">\n",
              "      <th></th>\n",
              "      <th>기저귀</th>\n",
              "      <th>맥주</th>\n",
              "      <th>양상추</th>\n",
              "      <th>우유</th>\n",
              "      <th>쥬스</th>\n",
              "    </tr>\n",
              "  </thead>\n",
              "  <tbody>\n",
              "    <tr>\n",
              "      <th>0</th>\n",
              "      <td>True</td>\n",
              "      <td>False</td>\n",
              "      <td>False</td>\n",
              "      <td>True</td>\n",
              "      <td>True</td>\n",
              "    </tr>\n",
              "    <tr>\n",
              "      <th>1</th>\n",
              "      <td>True</td>\n",
              "      <td>True</td>\n",
              "      <td>True</td>\n",
              "      <td>False</td>\n",
              "      <td>False</td>\n",
              "    </tr>\n",
              "    <tr>\n",
              "      <th>2</th>\n",
              "      <td>True</td>\n",
              "      <td>False</td>\n",
              "      <td>True</td>\n",
              "      <td>True</td>\n",
              "      <td>True</td>\n",
              "    </tr>\n",
              "    <tr>\n",
              "      <th>3</th>\n",
              "      <td>False</td>\n",
              "      <td>True</td>\n",
              "      <td>True</td>\n",
              "      <td>False</td>\n",
              "      <td>False</td>\n",
              "    </tr>\n",
              "  </tbody>\n",
              "</table>\n",
              "</div>\n",
              "      <button class=\"colab-df-convert\" onclick=\"convertToInteractive('df-293a941e-be3d-4960-9dd9-0909af803884')\"\n",
              "              title=\"Convert this dataframe to an interactive table.\"\n",
              "              style=\"display:none;\">\n",
              "        \n",
              "  <svg xmlns=\"http://www.w3.org/2000/svg\" height=\"24px\"viewBox=\"0 0 24 24\"\n",
              "       width=\"24px\">\n",
              "    <path d=\"M0 0h24v24H0V0z\" fill=\"none\"/>\n",
              "    <path d=\"M18.56 5.44l.94 2.06.94-2.06 2.06-.94-2.06-.94-.94-2.06-.94 2.06-2.06.94zm-11 1L8.5 8.5l.94-2.06 2.06-.94-2.06-.94L8.5 2.5l-.94 2.06-2.06.94zm10 10l.94 2.06.94-2.06 2.06-.94-2.06-.94-.94-2.06-.94 2.06-2.06.94z\"/><path d=\"M17.41 7.96l-1.37-1.37c-.4-.4-.92-.59-1.43-.59-.52 0-1.04.2-1.43.59L10.3 9.45l-7.72 7.72c-.78.78-.78 2.05 0 2.83L4 21.41c.39.39.9.59 1.41.59.51 0 1.02-.2 1.41-.59l7.78-7.78 2.81-2.81c.8-.78.8-2.07 0-2.86zM5.41 20L4 18.59l7.72-7.72 1.47 1.35L5.41 20z\"/>\n",
              "  </svg>\n",
              "      </button>\n",
              "      \n",
              "  <style>\n",
              "    .colab-df-container {\n",
              "      display:flex;\n",
              "      flex-wrap:wrap;\n",
              "      gap: 12px;\n",
              "    }\n",
              "\n",
              "    .colab-df-convert {\n",
              "      background-color: #E8F0FE;\n",
              "      border: none;\n",
              "      border-radius: 50%;\n",
              "      cursor: pointer;\n",
              "      display: none;\n",
              "      fill: #1967D2;\n",
              "      height: 32px;\n",
              "      padding: 0 0 0 0;\n",
              "      width: 32px;\n",
              "    }\n",
              "\n",
              "    .colab-df-convert:hover {\n",
              "      background-color: #E2EBFA;\n",
              "      box-shadow: 0px 1px 2px rgba(60, 64, 67, 0.3), 0px 1px 3px 1px rgba(60, 64, 67, 0.15);\n",
              "      fill: #174EA6;\n",
              "    }\n",
              "\n",
              "    [theme=dark] .colab-df-convert {\n",
              "      background-color: #3B4455;\n",
              "      fill: #D2E3FC;\n",
              "    }\n",
              "\n",
              "    [theme=dark] .colab-df-convert:hover {\n",
              "      background-color: #434B5C;\n",
              "      box-shadow: 0px 1px 3px 1px rgba(0, 0, 0, 0.15);\n",
              "      filter: drop-shadow(0px 1px 2px rgba(0, 0, 0, 0.3));\n",
              "      fill: #FFFFFF;\n",
              "    }\n",
              "  </style>\n",
              "\n",
              "      <script>\n",
              "        const buttonEl =\n",
              "          document.querySelector('#df-293a941e-be3d-4960-9dd9-0909af803884 button.colab-df-convert');\n",
              "        buttonEl.style.display =\n",
              "          google.colab.kernel.accessAllowed ? 'block' : 'none';\n",
              "\n",
              "        async function convertToInteractive(key) {\n",
              "          const element = document.querySelector('#df-293a941e-be3d-4960-9dd9-0909af803884');\n",
              "          const dataTable =\n",
              "            await google.colab.kernel.invokeFunction('convertToInteractive',\n",
              "                                                     [key], {});\n",
              "          if (!dataTable) return;\n",
              "\n",
              "          const docLinkHtml = 'Like what you see? Visit the ' +\n",
              "            '<a target=\"_blank\" href=https://colab.research.google.com/notebooks/data_table.ipynb>data table notebook</a>'\n",
              "            + ' to learn more about interactive tables.';\n",
              "          element.innerHTML = '';\n",
              "          dataTable['output_type'] = 'display_data';\n",
              "          await google.colab.output.renderOutput(dataTable, element);\n",
              "          const docLink = document.createElement('div');\n",
              "          docLink.innerHTML = docLinkHtml;\n",
              "          element.appendChild(docLink);\n",
              "        }\n",
              "      </script>\n",
              "    </div>\n",
              "  </div>\n",
              "  "
            ]
          },
          "metadata": {},
          "execution_count": 9
        }
      ]
    },
    {
      "cell_type": "code",
      "source": [
        "#빈도수를 가지고 지지도를 그려보자.\n",
        "from mlxtend.frequent_patterns import apriori"
      ],
      "metadata": {
        "id": "iJZzFXyZ7D8Q"
      },
      "execution_count": 10,
      "outputs": []
    },
    {
      "cell_type": "code",
      "source": [
        "#지지도 0.5이상인 행만 추출\n",
        "result = apriori(df, min_support=0.5, use_colnames=True)\n",
        "result"
      ],
      "metadata": {
        "colab": {
          "base_uri": "https://localhost:8080/",
          "height": 394
        },
        "id": "N5-_46Cw7TXJ",
        "outputId": "6cbbab0c-cf11-4fd4-8584-1880953cf94c"
      },
      "execution_count": 11,
      "outputs": [
        {
          "output_type": "execute_result",
          "data": {
            "text/plain": [
              "    support       itemsets\n",
              "0      0.75          (기저귀)\n",
              "1      0.50           (맥주)\n",
              "2      0.75          (양상추)\n",
              "3      0.50           (우유)\n",
              "4      0.50           (쥬스)\n",
              "5      0.50     (기저귀, 양상추)\n",
              "6      0.50      (기저귀, 우유)\n",
              "7      0.50      (기저귀, 쥬스)\n",
              "8      0.50      (맥주, 양상추)\n",
              "9      0.50       (우유, 쥬스)\n",
              "10     0.50  (기저귀, 우유, 쥬스)"
            ],
            "text/html": [
              "\n",
              "  <div id=\"df-da3116e5-2a42-401b-bf60-ad9c68356a94\">\n",
              "    <div class=\"colab-df-container\">\n",
              "      <div>\n",
              "<style scoped>\n",
              "    .dataframe tbody tr th:only-of-type {\n",
              "        vertical-align: middle;\n",
              "    }\n",
              "\n",
              "    .dataframe tbody tr th {\n",
              "        vertical-align: top;\n",
              "    }\n",
              "\n",
              "    .dataframe thead th {\n",
              "        text-align: right;\n",
              "    }\n",
              "</style>\n",
              "<table border=\"1\" class=\"dataframe\">\n",
              "  <thead>\n",
              "    <tr style=\"text-align: right;\">\n",
              "      <th></th>\n",
              "      <th>support</th>\n",
              "      <th>itemsets</th>\n",
              "    </tr>\n",
              "  </thead>\n",
              "  <tbody>\n",
              "    <tr>\n",
              "      <th>0</th>\n",
              "      <td>0.75</td>\n",
              "      <td>(기저귀)</td>\n",
              "    </tr>\n",
              "    <tr>\n",
              "      <th>1</th>\n",
              "      <td>0.50</td>\n",
              "      <td>(맥주)</td>\n",
              "    </tr>\n",
              "    <tr>\n",
              "      <th>2</th>\n",
              "      <td>0.75</td>\n",
              "      <td>(양상추)</td>\n",
              "    </tr>\n",
              "    <tr>\n",
              "      <th>3</th>\n",
              "      <td>0.50</td>\n",
              "      <td>(우유)</td>\n",
              "    </tr>\n",
              "    <tr>\n",
              "      <th>4</th>\n",
              "      <td>0.50</td>\n",
              "      <td>(쥬스)</td>\n",
              "    </tr>\n",
              "    <tr>\n",
              "      <th>5</th>\n",
              "      <td>0.50</td>\n",
              "      <td>(기저귀, 양상추)</td>\n",
              "    </tr>\n",
              "    <tr>\n",
              "      <th>6</th>\n",
              "      <td>0.50</td>\n",
              "      <td>(기저귀, 우유)</td>\n",
              "    </tr>\n",
              "    <tr>\n",
              "      <th>7</th>\n",
              "      <td>0.50</td>\n",
              "      <td>(기저귀, 쥬스)</td>\n",
              "    </tr>\n",
              "    <tr>\n",
              "      <th>8</th>\n",
              "      <td>0.50</td>\n",
              "      <td>(맥주, 양상추)</td>\n",
              "    </tr>\n",
              "    <tr>\n",
              "      <th>9</th>\n",
              "      <td>0.50</td>\n",
              "      <td>(우유, 쥬스)</td>\n",
              "    </tr>\n",
              "    <tr>\n",
              "      <th>10</th>\n",
              "      <td>0.50</td>\n",
              "      <td>(기저귀, 우유, 쥬스)</td>\n",
              "    </tr>\n",
              "  </tbody>\n",
              "</table>\n",
              "</div>\n",
              "      <button class=\"colab-df-convert\" onclick=\"convertToInteractive('df-da3116e5-2a42-401b-bf60-ad9c68356a94')\"\n",
              "              title=\"Convert this dataframe to an interactive table.\"\n",
              "              style=\"display:none;\">\n",
              "        \n",
              "  <svg xmlns=\"http://www.w3.org/2000/svg\" height=\"24px\"viewBox=\"0 0 24 24\"\n",
              "       width=\"24px\">\n",
              "    <path d=\"M0 0h24v24H0V0z\" fill=\"none\"/>\n",
              "    <path d=\"M18.56 5.44l.94 2.06.94-2.06 2.06-.94-2.06-.94-.94-2.06-.94 2.06-2.06.94zm-11 1L8.5 8.5l.94-2.06 2.06-.94-2.06-.94L8.5 2.5l-.94 2.06-2.06.94zm10 10l.94 2.06.94-2.06 2.06-.94-2.06-.94-.94-2.06-.94 2.06-2.06.94z\"/><path d=\"M17.41 7.96l-1.37-1.37c-.4-.4-.92-.59-1.43-.59-.52 0-1.04.2-1.43.59L10.3 9.45l-7.72 7.72c-.78.78-.78 2.05 0 2.83L4 21.41c.39.39.9.59 1.41.59.51 0 1.02-.2 1.41-.59l7.78-7.78 2.81-2.81c.8-.78.8-2.07 0-2.86zM5.41 20L4 18.59l7.72-7.72 1.47 1.35L5.41 20z\"/>\n",
              "  </svg>\n",
              "      </button>\n",
              "      \n",
              "  <style>\n",
              "    .colab-df-container {\n",
              "      display:flex;\n",
              "      flex-wrap:wrap;\n",
              "      gap: 12px;\n",
              "    }\n",
              "\n",
              "    .colab-df-convert {\n",
              "      background-color: #E8F0FE;\n",
              "      border: none;\n",
              "      border-radius: 50%;\n",
              "      cursor: pointer;\n",
              "      display: none;\n",
              "      fill: #1967D2;\n",
              "      height: 32px;\n",
              "      padding: 0 0 0 0;\n",
              "      width: 32px;\n",
              "    }\n",
              "\n",
              "    .colab-df-convert:hover {\n",
              "      background-color: #E2EBFA;\n",
              "      box-shadow: 0px 1px 2px rgba(60, 64, 67, 0.3), 0px 1px 3px 1px rgba(60, 64, 67, 0.15);\n",
              "      fill: #174EA6;\n",
              "    }\n",
              "\n",
              "    [theme=dark] .colab-df-convert {\n",
              "      background-color: #3B4455;\n",
              "      fill: #D2E3FC;\n",
              "    }\n",
              "\n",
              "    [theme=dark] .colab-df-convert:hover {\n",
              "      background-color: #434B5C;\n",
              "      box-shadow: 0px 1px 3px 1px rgba(0, 0, 0, 0.15);\n",
              "      filter: drop-shadow(0px 1px 2px rgba(0, 0, 0, 0.3));\n",
              "      fill: #FFFFFF;\n",
              "    }\n",
              "  </style>\n",
              "\n",
              "      <script>\n",
              "        const buttonEl =\n",
              "          document.querySelector('#df-da3116e5-2a42-401b-bf60-ad9c68356a94 button.colab-df-convert');\n",
              "        buttonEl.style.display =\n",
              "          google.colab.kernel.accessAllowed ? 'block' : 'none';\n",
              "\n",
              "        async function convertToInteractive(key) {\n",
              "          const element = document.querySelector('#df-da3116e5-2a42-401b-bf60-ad9c68356a94');\n",
              "          const dataTable =\n",
              "            await google.colab.kernel.invokeFunction('convertToInteractive',\n",
              "                                                     [key], {});\n",
              "          if (!dataTable) return;\n",
              "\n",
              "          const docLinkHtml = 'Like what you see? Visit the ' +\n",
              "            '<a target=\"_blank\" href=https://colab.research.google.com/notebooks/data_table.ipynb>data table notebook</a>'\n",
              "            + ' to learn more about interactive tables.';\n",
              "          element.innerHTML = '';\n",
              "          dataTable['output_type'] = 'display_data';\n",
              "          await google.colab.output.renderOutput(dataTable, element);\n",
              "          const docLink = document.createElement('div');\n",
              "          docLink.innerHTML = docLinkHtml;\n",
              "          element.appendChild(docLink);\n",
              "        }\n",
              "      </script>\n",
              "    </div>\n",
              "  </div>\n",
              "  "
            ]
          },
          "metadata": {},
          "execution_count": 11
        }
      ]
    },
    {
      "cell_type": "code",
      "source": [
        "type(result)"
      ],
      "metadata": {
        "colab": {
          "base_uri": "https://localhost:8080/"
        },
        "id": "7WW35vQqC9aG",
        "outputId": "6f8fa0f5-89fa-4d13-a2ae-6cce09ddaa96"
      },
      "execution_count": 12,
      "outputs": [
        {
          "output_type": "execute_result",
          "data": {
            "text/plain": [
              "pandas.core.frame.DataFrame"
            ]
          },
          "metadata": {},
          "execution_count": 12
        }
      ]
    },
    {
      "cell_type": "code",
      "source": [
        "##쥬스+우유를 함께 산 사람에게 추천을 해준다면\n",
        "##맥주보다는 기저귀 추천해야함.\n",
        "##지지도 기반으로 판단!!!!"
      ],
      "metadata": {
        "id": "Oflh9c2-7JLI"
      },
      "execution_count": 13,
      "outputs": []
    },
    {
      "cell_type": "code",
      "source": [
        "#one-hot인코딩 방식의 테이블 필요!\n",
        "#실제로는 물건수가 아주 많음 => 0이 많은 2차원 행렬로 메모리소요 엄청남,시간오래걸림.\n",
        "#item 수 => 약380개(열)\n",
        "#유저 수 => 800개(행)\n",
        "# 0이 2차원 데이터 : 희소행렬(sparse matrix)\n",
        "#내가 산 물건을 다른안산사람들에게 아이템기반 추천.\n",
        "#TF-IDF, CounterVectorizor, TransactionEncoder도 같은 방식으로 메모리소요많고 오래걸린다.\n",
        "\n",
        "\n"
      ],
      "metadata": {
        "id": "cFgw2C-U9ioj"
      },
      "execution_count": 14,
      "outputs": []
    },
    {
      "cell_type": "code",
      "source": [
        "#result에서 마지막 itemsets컬럼값 추출(기저귀, 쥬스, 우유)\n",
        "## 쥬스, 우유와 함께 추천하면 좋을 item은??"
      ],
      "metadata": {
        "id": "qiBGVtHEBONg"
      },
      "execution_count": 15,
      "outputs": []
    },
    {
      "cell_type": "code",
      "source": [
        "choice = result.iloc[10,1]\n",
        "choice"
      ],
      "metadata": {
        "colab": {
          "base_uri": "https://localhost:8080/"
        },
        "id": "RzsFORIeC_5G",
        "outputId": "a8c2cacb-be00-42e7-cba6-822d9de5a3fc"
      },
      "execution_count": 16,
      "outputs": [
        {
          "output_type": "execute_result",
          "data": {
            "text/plain": [
              "frozenset({'기저귀', '우유', '쥬스'})"
            ]
          },
          "metadata": {},
          "execution_count": 16
        }
      ]
    },
    {
      "cell_type": "code",
      "source": [
        "list(items)[0]"
      ],
      "metadata": {
        "colab": {
          "base_uri": "https://localhost:8080/",
          "height": 172
        },
        "id": "ZVEl4pyzBnvx",
        "outputId": "9a84030f-d462-4e3c-a512-97a0d0581c67"
      },
      "execution_count": 17,
      "outputs": [
        {
          "output_type": "error",
          "ename": "NameError",
          "evalue": "ignored",
          "traceback": [
            "\u001b[0;31m---------------------------------------------------------------------------\u001b[0m",
            "\u001b[0;31mNameError\u001b[0m                                 Traceback (most recent call last)",
            "\u001b[0;32m<ipython-input-17-bd97f0b4a6f3>\u001b[0m in \u001b[0;36m<module>\u001b[0;34m()\u001b[0m\n\u001b[0;32m----> 1\u001b[0;31m \u001b[0mlist\u001b[0m\u001b[0;34m(\u001b[0m\u001b[0mitems\u001b[0m\u001b[0;34m)\u001b[0m\u001b[0;34m[\u001b[0m\u001b[0;36m0\u001b[0m\u001b[0;34m]\u001b[0m\u001b[0;34m\u001b[0m\u001b[0;34m\u001b[0m\u001b[0m\n\u001b[0m",
            "\u001b[0;31mNameError\u001b[0m: name 'items' is not defined"
          ]
        }
      ]
    },
    {
      "cell_type": "markdown",
      "source": [
        "# word2vec 을 사용하여 추천시스템 해보자\n",
        "## 자연어에서 특정한 단어를 중심으로 앞 뒤의 단어를 유추(예측)\n",
        "\n",
        "```\n",
        "# 코드로 형식 지정됨\n",
        "```\n",
        "\n"
      ],
      "metadata": {
        "id": "M_LQmqvzFT1N"
      }
    },
    {
      "cell_type": "code",
      "source": [
        "#word2vec설치\n",
        "!pip install gensim"
      ],
      "metadata": {
        "colab": {
          "base_uri": "https://localhost:8080/"
        },
        "id": "QfAPosikCt02",
        "outputId": "7b64a62e-8316-4985-a894-f4720513cd47"
      },
      "execution_count": 18,
      "outputs": [
        {
          "output_type": "stream",
          "name": "stdout",
          "text": [
            "Requirement already satisfied: gensim in /usr/local/lib/python3.7/dist-packages (3.6.0)\n",
            "Requirement already satisfied: smart-open>=1.2.1 in /usr/local/lib/python3.7/dist-packages (from gensim) (6.0.0)\n",
            "Requirement already satisfied: scipy>=0.18.1 in /usr/local/lib/python3.7/dist-packages (from gensim) (1.4.1)\n",
            "Requirement already satisfied: six>=1.5.0 in /usr/local/lib/python3.7/dist-packages (from gensim) (1.15.0)\n",
            "Requirement already satisfied: numpy>=1.11.3 in /usr/local/lib/python3.7/dist-packages (from gensim) (1.21.6)\n"
          ]
        }
      ]
    },
    {
      "cell_type": "code",
      "source": [
        "from gensim.models import Word2Vec"
      ],
      "metadata": {
        "id": "uk4ZzePNFgTr"
      },
      "execution_count": 19,
      "outputs": []
    },
    {
      "cell_type": "code",
      "source": [
        "doc = [\n",
        "    'you say goodbye and I say hello', \n",
        "    'i say happy or he said white',\n",
        "    'we say unhappy and angry black'\n",
        "]"
      ],
      "metadata": {
        "id": "h2U-hEumFpLQ"
      },
      "execution_count": 20,
      "outputs": []
    },
    {
      "cell_type": "code",
      "source": [
        "doc2 = [\n",
        "    '나는 굿바이라고 했고, 너는 헬로우라고 했어.', \n",
        "    '나는 기쁘다고 했고, 너는 하얗게 슬프다고 했어.',\n",
        "    '우리는 행복하지 않고, 블랙으로 슬퍼'\n",
        "]"
      ],
      "metadata": {
        "id": "QkFbHGqLFr7H"
      },
      "execution_count": 21,
      "outputs": []
    },
    {
      "cell_type": "code",
      "source": [
        "#문장을 토큰으로 끊어내자.\n",
        "sentences = [ sentence.split(' ') for sentence in doc ]\n",
        "#sentence한 번 for문 돌때마다 리스트sentence.split(' ') 나옴.총3개의 리스트가 나옴\n",
        "#[처리내용 for one in 복수형태의자료구조] => 항상 결과는 리스트\n",
        "sentences"
      ],
      "metadata": {
        "colab": {
          "base_uri": "https://localhost:8080/"
        },
        "id": "DlOthFA6Fs0O",
        "outputId": "744c992b-184c-4db4-ac3d-aaf9825f19bf"
      },
      "execution_count": 22,
      "outputs": [
        {
          "output_type": "execute_result",
          "data": {
            "text/plain": [
              "[['you', 'say', 'goodbye', 'and', 'I', 'say', 'hello'],\n",
              " ['i', 'say', 'happy', 'or', 'he', 'said', 'white'],\n",
              " ['we', 'say', 'unhappy', 'and', 'angry', 'black']]"
            ]
          },
          "metadata": {},
          "execution_count": 22
        }
      ]
    },
    {
      "cell_type": "code",
      "source": [
        "sentences2 = [ sentence.split(' ') for sentence in doc2 ]\n",
        "sentences2"
      ],
      "metadata": {
        "colab": {
          "base_uri": "https://localhost:8080/"
        },
        "id": "_LHB5zXAGeEr",
        "outputId": "7204a683-8a70-4e9f-a76b-99d2af1fb504"
      },
      "execution_count": 23,
      "outputs": [
        {
          "output_type": "execute_result",
          "data": {
            "text/plain": [
              "[['나는', '굿바이라고', '했고,', '너는', '헬로우라고', '했어.'],\n",
              " ['나는', '기쁘다고', '했고,', '너는', '하얗게', '슬프다고', '했어.'],\n",
              " ['우리는', '행복하지', '않고,', '블랙으로', '슬퍼']]"
            ]
          },
          "metadata": {},
          "execution_count": 23
        }
      ]
    },
    {
      "cell_type": "code",
      "source": [
        "model = Word2Vec(window=1, min_count=1)\n",
        "#특정한 단어의 앞뒤에 1번나온패턴\n",
        "#window => 유추하는 계산을  할 때 특정한 단어의 앞뒤 몇개를 가지고 계산을 할 지의 단위\n",
        "#min_count => 특정한 패턴의 출현 횟수"
      ],
      "metadata": {
        "id": "Jbz5uAQuGnKS"
      },
      "execution_count": 24,
      "outputs": []
    },
    {
      "cell_type": "code",
      "source": [
        "#영문 문장을 학습을 시켜보자.\n",
        "model.build_vocab(sentences)"
      ],
      "metadata": {
        "id": "TEFZS7lCG6XS"
      },
      "execution_count": 25,
      "outputs": []
    },
    {
      "cell_type": "code",
      "source": [
        "#특정 단어를 주고 앞 뒤 단어를 추론해보자.\n",
        "model.wv.most_similar('say')#비지도학습(say에 대해 학습시킨거 아니니까!)\n",
        "#say앞으로는 he가 나올확률 가장 높음.\n",
        "#say뒤로는 hello가 나올확률 가장 높음\n",
        "##따라서 문장을 쓰면 he say hello가 될 확률이 가장 높다."
      ],
      "metadata": {
        "colab": {
          "base_uri": "https://localhost:8080/"
        },
        "id": "CXHHAFUzHCcl",
        "outputId": "2eb415f6-248f-4dcf-b418-4c5ac637a430"
      },
      "execution_count": 26,
      "outputs": [
        {
          "output_type": "execute_result",
          "data": {
            "text/plain": [
              "[('hello', 0.17167267203330994),\n",
              " ('unhappy', 0.12297563254833221),\n",
              " ('I', 0.11687739193439484),\n",
              " ('said', 0.1096619963645935),\n",
              " ('goodbye', 0.09067576378583908),\n",
              " ('happy', 0.08489887416362762),\n",
              " ('i', 0.06599283218383789),\n",
              " ('we', 0.0632280558347702),\n",
              " ('angry', 0.04090327024459839),\n",
              " ('he', 0.034878820180892944)]"
            ]
          },
          "metadata": {},
          "execution_count": 26
        }
      ]
    },
    {
      "cell_type": "code",
      "source": [
        "model.wv.most_similar('happy')"
      ],
      "metadata": {
        "colab": {
          "base_uri": "https://localhost:8080/"
        },
        "id": "SajS118qHl_6",
        "outputId": "b299aa1a-3a82-4058-8bd4-f209d8db5f00"
      },
      "execution_count": 27,
      "outputs": [
        {
          "output_type": "execute_result",
          "data": {
            "text/plain": [
              "[('said', 0.21719416975975037),\n",
              " ('unhappy', 0.15053623914718628),\n",
              " ('say', 0.08489887416362762),\n",
              " ('goodbye', 0.0527118556201458),\n",
              " ('white', 0.03216644376516342),\n",
              " ('he', 0.02353280782699585),\n",
              " ('and', 0.014429932460188866),\n",
              " ('you', -0.018349628895521164),\n",
              " ('angry', -0.01835467666387558),\n",
              " ('i', -0.03634927421808243)]"
            ]
          },
          "metadata": {},
          "execution_count": 27
        }
      ]
    },
    {
      "cell_type": "code",
      "source": [
        "#한글로해보자.\n",
        "model2 = Word2Vec(window=1, min_count=1)\n",
        "model2.build_vocab(sentences2)"
      ],
      "metadata": {
        "id": "p68LDuHdILoZ"
      },
      "execution_count": 28,
      "outputs": []
    },
    {
      "cell_type": "code",
      "source": [
        "model2.wv.most_similar('너는')"
      ],
      "metadata": {
        "colab": {
          "base_uri": "https://localhost:8080/"
        },
        "id": "CM3ZzWZ0I3EI",
        "outputId": "220aed0f-8e11-49ab-83ac-7b27df5e47a1"
      },
      "execution_count": 29,
      "outputs": [
        {
          "output_type": "execute_result",
          "data": {
            "text/plain": [
              "[('하얗게', 0.19336822628974915),\n",
              " ('나는', 0.141940176486969),\n",
              " ('우리는', 0.07808360457420349),\n",
              " ('굿바이라고', 0.07071756571531296),\n",
              " ('기쁘다고', 0.05757969617843628),\n",
              " ('블랙으로', 0.04396510124206543),\n",
              " ('했고,', 0.03213692456483841),\n",
              " ('헬로우라고', -0.01898663118481636),\n",
              " ('행복하지', -0.020752940326929092),\n",
              " ('슬프다고', -0.022477813065052032)]"
            ]
          },
          "metadata": {},
          "execution_count": 29
        }
      ]
    },
    {
      "cell_type": "code",
      "source": [
        "#doc, doc2에서 각 문장간의 유사도를 판단해보자."
      ],
      "metadata": {
        "id": "thy6dDTkJANj"
      },
      "execution_count": 30,
      "outputs": []
    },
    {
      "cell_type": "markdown",
      "source": [
        "## 1. stop_words로 불용어처리하기\n",
        "## 2. 원핫인코딩으로 너무 자주 등장하는 단어 가중치 줄이기.\n",
        "## 3. 나머지로 원핫인코딩 방식으로 메트릭스 생성."
      ],
      "metadata": {
        "id": "Pwb0lxVwKLay"
      }
    },
    {
      "cell_type": "code",
      "source": [
        "tfidf = TfidfVectorizer(stop_words='english')#불용어처리가능한 ifidf객체 생성\n",
        "#영어가 아닌것들 없애버리기\n",
        "#ifidf는 빈도수를 구하긴 하지만, 문서마다 자주 등장하는 문서는 각 문서를 구분할 단어로\n",
        "#사용하기는 부적합하여 가중치를 낮추어 계산."
      ],
      "metadata": {
        "id": "sYAZ092rKZX5"
      },
      "execution_count": 31,
      "outputs": []
    },
    {
      "cell_type": "code",
      "source": [
        "tfidf_matrix = tfidf.fit_transform(doc)\n",
        "tfidf_matrix"
      ],
      "metadata": {
        "colab": {
          "base_uri": "https://localhost:8080/"
        },
        "id": "vmiuHi7oKtxB",
        "outputId": "51b49de8-c8cd-4a70-a6d3-b7b52a1688e7"
      },
      "execution_count": 32,
      "outputs": [
        {
          "output_type": "execute_result",
          "data": {
            "text/plain": [
              "<3x9 sparse matrix of type '<class 'numpy.float64'>'\n",
              "\twith 11 stored elements in Compressed Sparse Row format>"
            ]
          },
          "metadata": {},
          "execution_count": 32
        }
      ]
    },
    {
      "cell_type": "code",
      "source": [
        "# 3*9에서\n",
        "# 3은 문서의 개수\n",
        "# 9는 단어의 개수"
      ],
      "metadata": {
        "id": "452sa9W_LNtz"
      },
      "execution_count": 33,
      "outputs": []
    },
    {
      "cell_type": "code",
      "source": [
        "tfidf_matrix.toarray()"
      ],
      "metadata": {
        "colab": {
          "base_uri": "https://localhost:8080/"
        },
        "id": "Ti_b12frLVoq",
        "outputId": "c4a330d4-20ba-478e-b456-932571fe853d"
      },
      "execution_count": 34,
      "outputs": [
        {
          "output_type": "execute_result",
          "data": {
            "text/plain": [
              "array([[0.        , 0.        , 0.54270061, 0.        , 0.54270061,\n",
              "        0.        , 0.64105545, 0.        , 0.        ],\n",
              "       [0.        , 0.        , 0.        , 0.54645401, 0.        ,\n",
              "        0.54645401, 0.32274454, 0.        , 0.54645401],\n",
              "       [0.54645401, 0.54645401, 0.        , 0.        , 0.        ,\n",
              "        0.        , 0.32274454, 0.54645401, 0.        ]])"
            ]
          },
          "metadata": {},
          "execution_count": 34
        }
      ]
    },
    {
      "cell_type": "code",
      "source": [
        "#문장간에 유사도를 구해봅시다"
      ],
      "metadata": {
        "id": "QR1uQ7t_LcGQ"
      },
      "execution_count": 35,
      "outputs": []
    },
    {
      "cell_type": "markdown",
      "source": [
        "# cosine_similarity(tfidf_matrix, tfidf_matrix)의\n",
        "# 행은 문서1, 문서2, 문서3\n",
        "# 열도 문서1, 문서2, 문서3\n",
        "# 문장 간 유사도는?\n",
        "## 문서1+문서2:0.20689715\n",
        "## 문서1+문서3:0.20689715\n",
        "## 문서2+문서3:0.10416404\n",
        "### 코사인 유사도는 표절검사할 때 쓰인다."
      ],
      "metadata": {
        "id": "CNBd4m6EO3Da"
      }
    },
    {
      "cell_type": "code",
      "source": [
        "cosine_similarity(tfidf_matrix, tfidf_matrix)"
      ],
      "metadata": {
        "colab": {
          "base_uri": "https://localhost:8080/"
        },
        "id": "dp4sz0jzOM9H",
        "outputId": "5440959f-d0b2-4e5a-f5cc-a4ec3be77ef3"
      },
      "execution_count": 36,
      "outputs": [
        {
          "output_type": "execute_result",
          "data": {
            "text/plain": [
              "array([[1.        , 0.20689715, 0.20689715],\n",
              "       [0.20689715, 1.        , 0.10416404],\n",
              "       [0.20689715, 0.10416404, 1.        ]])"
            ]
          },
          "metadata": {},
          "execution_count": 36
        }
      ]
    },
    {
      "cell_type": "code",
      "source": [
        "#행은 문서1, 문서2, 문서3\n",
        "#열도 문서1, 문서2, 문서3\n",
        "#유사도는?"
      ],
      "metadata": {
        "id": "E8oxeHjsOpSy"
      },
      "execution_count": 37,
      "outputs": []
    },
    {
      "cell_type": "code",
      "source": [
        "#장바구니 유사도를 구해보자."
      ],
      "metadata": {
        "id": "hWT_Quk5PI_4"
      },
      "execution_count": 38,
      "outputs": []
    },
    {
      "cell_type": "markdown",
      "source": [
        "# 장바구니 유사도 측정결과\n",
        "## 장바구니1과 장바구니2는 33%정도 유사도가 있다.\n",
        "## 장바구니1과 장바구니3는 87%정도 유사도가 있다.\n",
        "## 장바구니1과 장바구니4는 유사도가 없다.\n",
        "## 장바구니2과 장바구니3는 58%정도 유사도가 있다.\n",
        "## 장바구니2과 장바구니4는 82%정도 유사도가 있다.\n",
        "## 장바구니3과 장바구니4는 35%정도 유사도가 있다.\n",
        "### 장바구니1과 유사도가 가장 높은 장바구니를 찾아서 추천해주고 싶은 item을 골라보자.\n",
        "### => 장바구니1과 장바구니3이 가장 유사도가 높고 (약87%) '양상추'를 추천.\n",
        " "
      ],
      "metadata": {
        "id": "D77ul7VlQsHQ"
      }
    },
    {
      "cell_type": "code",
      "source": [
        "#2차행렬 T/F로 인코딩하고 바꿔준 te_ary객체를 이용해서 코사인 유사도 측정을 해보자.\n",
        "#코사인유사도를 측정하려면 무조건 인코딩이 되어있어야함!!!!.\n",
        "basket_cos = cosine_similarity(te_ary, te_ary)\n",
        "basket_cos\n",
        "#행렬 모두 장바구니1, 장바구니2, 장바구니3, 장바구니4"
      ],
      "metadata": {
        "colab": {
          "base_uri": "https://localhost:8080/"
        },
        "id": "URBdle5UPgjl",
        "outputId": "b3b41645-6a6b-41e8-dc51-030a75611033"
      },
      "execution_count": 39,
      "outputs": [
        {
          "output_type": "execute_result",
          "data": {
            "text/plain": [
              "array([[1.        , 0.33333333, 0.8660254 , 0.        ],\n",
              "       [0.33333333, 1.        , 0.57735027, 0.81649658],\n",
              "       [0.8660254 , 0.57735027, 1.        , 0.35355339],\n",
              "       [0.        , 0.81649658, 0.35355339, 1.        ]])"
            ]
          },
          "metadata": {},
          "execution_count": 39
        }
      ]
    },
    {
      "cell_type": "code",
      "source": [
        "basket_cos[0][1:]"
      ],
      "metadata": {
        "id": "2cLgNr66QXJ5",
        "colab": {
          "base_uri": "https://localhost:8080/"
        },
        "outputId": "435e4d7b-7c2e-456f-8125-43b29251dc0b"
      },
      "execution_count": 40,
      "outputs": [
        {
          "output_type": "execute_result",
          "data": {
            "text/plain": [
              "array([0.33333333, 0.8660254 , 0.        ])"
            ]
          },
          "metadata": {},
          "execution_count": 40
        }
      ]
    },
    {
      "cell_type": "code",
      "source": [
        "max_idx = np.argmax(basket_cos[0][1:])#argmax는 리스트에서 가장 높은 값 인덱스 추출\n",
        "print('가장 유사도가 높은 장바구니 번호는', max_idx+1+1)#인덱스 0 1..로 가고 처음값 제거했으니까 +2를 해준다."
      ],
      "metadata": {
        "id": "azob4gszRk5o",
        "colab": {
          "base_uri": "https://localhost:8080/"
        },
        "outputId": "640b96f3-c858-426d-ea29-9fcd05fcab31"
      },
      "execution_count": 41,
      "outputs": [
        {
          "output_type": "stream",
          "name": "stdout",
          "text": [
            "가장 유사도가 높은 장바구니 번호는 3\n"
          ]
        }
      ]
    },
    {
      "cell_type": "code",
      "source": [
        "#3번 장바구니에서 1번장바구니를 빼면 1번이 아직 사지 않은 물건들을 확인 할 수 있다.\n",
        "#리스트는 -연산을 쓸 수 없어 set(집합)으로 형변환해줌.\n",
        "set(data[2])-set(data[0])"
      ],
      "metadata": {
        "colab": {
          "base_uri": "https://localhost:8080/"
        },
        "id": "K-25eT6nriEw",
        "outputId": "ecb76c58-8979-423c-f26c-303ae940236d"
      },
      "execution_count": 42,
      "outputs": [
        {
          "output_type": "execute_result",
          "data": {
            "text/plain": [
              "{'양상추'}"
            ]
          },
          "metadata": {},
          "execution_count": 42
        }
      ]
    },
    {
      "cell_type": "markdown",
      "source": [
        "# 그래프를 그려보자!!\n",
        "## 장바구니1에 대한 장바구니1,2,3,4와의 유사도 그래프"
      ],
      "metadata": {
        "id": "P4EEO430uZ34"
      }
    },
    {
      "cell_type": "code",
      "source": [
        "import matplotlib.pyplot as plt\n",
        "import numpy as np"
      ],
      "metadata": {
        "id": "d_kw8DqSsH5Q"
      },
      "execution_count": 45,
      "outputs": []
    },
    {
      "cell_type": "code",
      "source": [
        "x = np.arange(4)\n",
        "sim1 = [1,0.33333333,0.8660254,0]\n",
        "sim2 = ['장바구니1','장바구니2','장바구니3','장바구니4']\n",
        "plt.bar(x,sim1)\n",
        "plt.xticks(x,sim2)\n",
        "plt.show()"
      ],
      "metadata": {
        "colab": {
          "base_uri": "https://localhost:8080/",
          "height": 266
        },
        "id": "4c2_LRJJtAFI",
        "outputId": "6233d16c-adf9-4181-fc2e-039f2dea081e"
      },
      "execution_count": 44,
      "outputs": [
        {
          "output_type": "display_data",
          "data": {
            "text/plain": [
              "<Figure size 432x288 with 1 Axes>"
            ],
            "image/png": "[encoded data removed]"
          },
          "metadata": {
            "image/png": {
              "width": 370,
              "height": 249
            },
            "needs_background": "light"
          }
        }
      ]
    },
    {
      "cell_type": "code",
      "source": [
        ""
      ],
      "metadata": {
        "id": "EkSHcrDItcif"
      },
      "execution_count": 44,
      "outputs": []
    }
  ]
}