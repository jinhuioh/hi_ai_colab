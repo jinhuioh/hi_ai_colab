{
  "nbformat": 4,
  "nbformat_minor": 0,
  "metadata": {
    "colab": {
      "name": "ML프로젝트 모듈화 Django배포.ipynb",
      "provenance": [],
      "collapsed_sections": [],
      "authorship_tag": "ABX9TyPuQeQS012Yct7ZXdZ6FGvI",
      "include_colab_link": true
    },
    "kernelspec": {
      "name": "python3",
      "display_name": "Python 3"
    },
    "language_info": {
      "name": "python"
    }
  },
  "cells": [
    {
      "cell_type": "markdown",
      "metadata": {
        "id": "view-in-github",
        "colab_type": "text"
      },
      "source": [
        "<a href=\"https://colab.research.google.com/github/jinhuioh/hi_ai_himedia/blob/master/ML%ED%94%84%EB%A1%9C%EC%A0%9D%ED%8A%B8_%EB%AA%A8%EB%93%88%ED%99%94_Django%EB%B0%B0%ED%8F%AC.ipynb\" target=\"_parent\"><img src=\"https://colab.research.google.com/assets/colab-badge.svg\" alt=\"Open In Colab\"/></a>"
      ]
    },
    {
      "cell_type": "markdown",
      "source": [
        "# 사용패키지"
      ],
      "metadata": {
        "id": "zCXlFmmwxmvy"
      }
    },
    {
      "cell_type": "code",
      "source": [
        "    import pandas as pd\n",
        "    from sklearn.preprocessing import LabelEncoder\n",
        "    from sklearn.model_selection import train_test_split\n",
        "    from sklearn.preprocessing import StandardScaler\n",
        "    from sklearn.tree import DecisionTreeClassifier"
      ],
      "metadata": {
        "id": "fxe3gyrc21KP"
      },
      "execution_count": 31,
      "outputs": []
    },
    {
      "cell_type": "markdown",
      "source": [
        "# 함수 모듈화"
      ],
      "metadata": {
        "id": "9e47B1el23x4"
      }
    },
    {
      "cell_type": "code",
      "execution_count": 28,
      "metadata": {
        "id": "mUjxh8VduY38"
      },
      "outputs": [],
      "source": [
        "def pred_module(input_data):\n",
        "    \n",
        "    # 데이터 불러오기\n",
        "    data = pd.read_excel('쇼핑몰_최종2.xlsx')\n",
        "    data= data.dropna(axis= 0)\n",
        "    data['네이버 태그 클릭량'] = data[['네이버 태그 클릭량']].apply(pd.to_numeric)\n",
        "\n",
        "    # 라벨 인코딩\n",
        "    le = LabelEncoder()\n",
        "    data['TAG'] = le.fit_transform(data['TAG'])\n",
        "    data['평일휴일'] = le.fit_transform(data['평일휴일'])\n",
        "    data['요일'] = le.fit_transform(data['요일'])\n",
        "    data['시간대'] = le.fit_transform(data['시간대'])\n",
        "    data['성별'] = le.fit_transform(data['성별'])\n",
        "    data['연령대'] = le.fit_transform(data['연령대'])\n",
        "\n",
        "    # train_test_split\n",
        "    X= pd.DataFrame(data, columns=['평일휴일','요일','시간대','성별','연령대','건수합계','네이버 태그 클릭량'])\n",
        "    y = pd.DataFrame(data['TAG'].values.reshape(-1,1))\n",
        "    X_train, X_test, y_train, y_test = train_test_split(X,\n",
        "                                                        y, \n",
        "                                                        test_size = 0.2, \n",
        "                                                        random_state = 3\n",
        "                                                        )\n",
        "\n",
        "    # 의사결정나무\n",
        "    dt_clf = DecisionTreeClassifier(random_state = 156)\n",
        "    dt_clf.fit(X_train, y_train)\n",
        "    \n",
        "    # 예측 결과 출력\n",
        "    result = dt_clf.predict_proba([input_data])\n",
        "    if result[0][0] == 1:\n",
        "        print('생활/사무용품')\n",
        "    elif result[0][1] == 1:\n",
        "        print('식료품')\n",
        "    elif result[0][2] == 1:\n",
        "        print('애완용품')\n",
        "    elif result[0][3] == 1:\n",
        "        print('인테리어')\n",
        "    elif result[0][4] == 1:\n",
        "        print('취미용품')\n",
        "    elif result[0][5] == 1:\n",
        "        print('패션')\n",
        "    elif result[0][6] == 1:\n",
        "        print('화장품')"
      ]
    },
    {
      "cell_type": "code",
      "source": [
        "user = [0, 3, 4, 1, 2, 300, 110]"
      ],
      "metadata": {
        "id": "pEEpiMQ3xIv4"
      },
      "execution_count": 29,
      "outputs": []
    },
    {
      "cell_type": "code",
      "source": [
        "pred_module(user)"
      ],
      "metadata": {
        "colab": {
          "base_uri": "https://localhost:8080/"
        },
        "id": "_DcxPgIGyupY",
        "outputId": "bbdb9d77-e900-46b9-fd71-f41b06d2a426"
      },
      "execution_count": 30,
      "outputs": [
        {
          "output_type": "stream",
          "name": "stdout",
          "text": [
            "애완용품\n"
          ]
        },
        {
          "output_type": "stream",
          "name": "stderr",
          "text": [
            "/usr/local/lib/python3.7/dist-packages/sklearn/base.py:451: UserWarning: X does not have valid feature names, but DecisionTreeClassifier was fitted with feature names\n",
            "  \"X does not have valid feature names, but\"\n"
          ]
        }
      ]
    },
    {
      "cell_type": "code",
      "source": [
        ""
      ],
      "metadata": {
        "id": "MZb2vgpMywpA"
      },
      "execution_count": null,
      "outputs": []
    }
  ]
}