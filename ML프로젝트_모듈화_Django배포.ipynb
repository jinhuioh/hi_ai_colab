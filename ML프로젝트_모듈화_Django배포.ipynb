{
 "cells": [
  {
   "cell_type": "markdown",
   "metadata": {
    "colab_type": "text",
    "id": "view-in-github"
   },
   "source": [
    "<a href=\"https://colab.research.google.com/github/jinhuioh/hi_ai_himedia/blob/master/ML%ED%94%84%EB%A1%9C%EC%A0%9D%ED%8A%B8_%EB%AA%A8%EB%93%88%ED%99%94_Django%EB%B0%B0%ED%8F%AC.ipynb\" target=\"_parent\"><img src=\"https://colab.research.google.com/assets/colab-badge.svg\" alt=\"Open In Colab\"/></a>"
   ]
  },
  {
   "cell_type": "markdown",
   "metadata": {
    "id": "zCXlFmmwxmvy"
   },
   "source": [
    "# 사용패키지"
   ]
  },
  {
   "cell_type": "code",
   "execution_count": 1,
   "metadata": {
    "id": "fxe3gyrc21KP"
   },
   "outputs": [],
   "source": [
    "import pandas as pd\n",
    "from sklearn.preprocessing import LabelEncoder\n",
    "from sklearn.model_selection import train_test_split\n",
    "from sklearn.preprocessing import StandardScaler\n",
    "from sklearn.tree import DecisionTreeClassifier\n",
    "import joblib\n",
    "## 경고창 무시\n",
    "import warnings\n",
    "warnings.filterwarnings(action='ignore')"
   ]
  },
  {
   "cell_type": "markdown",
   "metadata": {
    "id": "9e47B1el23x4"
   },
   "source": [
    "# 함수 모듈화"
   ]
  },
  {
   "cell_type": "code",
   "execution_count": 2,
   "metadata": {
    "id": "mUjxh8VduY38"
   },
   "outputs": [],
   "source": [
    "def pred_module():\n",
    "    \n",
    "    # 데이터 불러오기\n",
    "    data = pd.read_excel('쇼핑몰_최종2.xlsx')\n",
    "    data= data.dropna(axis= 0)\n",
    "    data['네이버 태그 클릭량'] = data[['네이버 태그 클릭량']].apply(pd.to_numeric)\n",
    "\n",
    "    # 라벨 인코딩\n",
    "    le = LabelEncoder()\n",
    "    data['TAG'] = le.fit_transform(data['TAG'])\n",
    "    data['평일휴일'] = le.fit_transform(data['평일휴일'])\n",
    "    data['요일'] = le.fit_transform(data['요일'])\n",
    "    data['시간대'] = le.fit_transform(data['시간대'])\n",
    "    data['성별'] = le.fit_transform(data['성별'])\n",
    "    data['연령대'] = le.fit_transform(data['연령대'])\n",
    "\n",
    "    # train_test_split\n",
    "    X= pd.DataFrame(data, columns=['평일휴일','요일','시간대','성별','연령대','건수합계','네이버 태그 클릭량'])\n",
    "    y = pd.DataFrame(data['TAG'].values.reshape(-1,1))\n",
    "    X_train, X_test, y_train, y_test = train_test_split(X,\n",
    "                                                        y, \n",
    "                                                        test_size = 0.2, \n",
    "                                                        random_state = 3\n",
    "                                                        )\n",
    "\n",
    "    # 의사결정나무\n",
    "    dt_clf = DecisionTreeClassifier(random_state = 156)\n",
    "    dt_clf.fit(X_train, y_train)\n",
    "    return dt_clf"
   ]
  },
  {
   "cell_type": "code",
   "execution_count": 3,
   "metadata": {
    "colab": {
     "base_uri": "https://localhost:8080/"
    },
    "id": "ICCINwVrLZSg",
    "outputId": "74401d6a-745f-4cc4-a06b-24c7abc8cee6"
   },
   "outputs": [
    {
     "data": {
      "text/plain": [
       "DecisionTreeClassifier(random_state=156)"
      ]
     },
     "execution_count": 3,
     "metadata": {},
     "output_type": "execute_result"
    }
   ],
   "source": [
    "pred_module()"
   ]
  },
  {
   "cell_type": "markdown",
   "metadata": {
    "id": "hEZ6VmdFLpuJ"
   },
   "source": [
    "# 모듈 dump"
   ]
  },
  {
   "cell_type": "code",
   "execution_count": 8,
   "metadata": {
    "colab": {
     "base_uri": "https://localhost:8080/"
    },
    "id": "-3zGqdeLLY3j",
    "outputId": "38f9c695-3da1-4e62-ce1e-f175b2ebc315"
   },
   "outputs": [
    {
     "data": {
      "text/plain": [
       "['tag_predict.pkl']"
      ]
     },
     "execution_count": 8,
     "metadata": {},
     "output_type": "execute_result"
    }
   ],
   "source": [
    "joblib.dump(pred_module(), 'tag_predict.pkl')"
   ]
  },
  {
   "cell_type": "markdown",
   "metadata": {
    "id": "al3OmjPjLtnk"
   },
   "source": [
    "# 모듈 load"
   ]
  },
  {
   "cell_type": "code",
   "execution_count": 9,
   "metadata": {
    "colab": {
     "base_uri": "https://localhost:8080/"
    },
    "id": "g3c-AetZLhTy",
    "outputId": "6beba6bd-cc9a-4ed7-87ef-f8dcf0f4ef83"
   },
   "outputs": [
    {
     "data": {
      "text/plain": [
       "DecisionTreeClassifier(random_state=156)"
      ]
     },
     "execution_count": 9,
     "metadata": {},
     "output_type": "execute_result"
    }
   ],
   "source": [
    "tag_predict = joblib.load('tag_predict.pkl')\n",
    "tag_predict"
   ]
  },
  {
   "cell_type": "code",
   "execution_count": 6,
   "metadata": {
    "id": "4A5s5BSTLQr5"
   },
   "outputs": [],
   "source": [
    "def pred_tag(input_data):\n",
    "    # 예측 결과 출력\n",
    "    result = tag_predict.predict_proba([input_data])\n",
    "    if result[0][0] == 1:\n",
    "        print('생활/사무용품')\n",
    "    elif result[0][1] == 1:\n",
    "        print('식료품')\n",
    "    elif result[0][2] == 1:\n",
    "        print('애완용품')\n",
    "    elif result[0][3] == 1:\n",
    "        print('인테리어')\n",
    "    elif result[0][4] == 1:\n",
    "        print('취미용품')\n",
    "    elif result[0][5] == 1:\n",
    "        print('패션')\n",
    "    elif result[0][6] == 1:\n",
    "        print('화장품')"
   ]
  },
  {
   "cell_type": "code",
   "execution_count": 7,
   "metadata": {
    "id": "pEEpiMQ3xIv4"
   },
   "outputs": [],
   "source": [
    "user = [0, 3, 4, 1, 2, 300, 110]"
   ]
  },
  {
   "cell_type": "code",
   "execution_count": 8,
   "metadata": {
    "colab": {
     "base_uri": "https://localhost:8080/",
     "height": 174
    },
    "id": "_DcxPgIGyupY",
    "outputId": "27ff8c12-6dfe-4cdc-ef72-9fcfa3b174cf"
   },
   "outputs": [
    {
     "ename": "TypeError",
     "evalue": "ignored",
     "output_type": "error",
     "traceback": [
      "\u001b[0;31m---------------------------------------------------------------------------\u001b[0m",
      "\u001b[0;31mTypeError\u001b[0m                                 Traceback (most recent call last)",
      "\u001b[0;32m<ipython-input-8-61dff69b3872>\u001b[0m in \u001b[0;36m<module>\u001b[0;34m()\u001b[0m\n\u001b[0;32m----> 1\u001b[0;31m \u001b[0mpred_module\u001b[0m\u001b[0;34m(\u001b[0m\u001b[0muser\u001b[0m\u001b[0;34m)\u001b[0m\u001b[0;34m\u001b[0m\u001b[0;34m\u001b[0m\u001b[0m\n\u001b[0m",
      "\u001b[0;31mTypeError\u001b[0m: pred_module() takes 0 positional arguments but 1 was given"
     ]
    }
   ],
   "source": [
    "pred_module(user)"
   ]
  }
 ],
 "metadata": {
  "colab": {
   "authorship_tag": "ABX9TyMfnRwRF8iat+TiOq9+Vkbj",
   "collapsed_sections": [],
   "include_colab_link": true,
   "name": "ML프로젝트 모듈화 Django배포.ipynb",
   "provenance": []
  },
  "kernelspec": {
   "display_name": "Python 3",
   "language": "python",
   "name": "python3"
  },
  "language_info": {
   "codemirror_mode": {
    "name": "ipython",
    "version": 3
   },
   "file_extension": ".py",
   "mimetype": "text/x-python",
   "name": "python",
   "nbconvert_exporter": "python",
   "pygments_lexer": "ipython3",
   "version": "3.7.4"
  }
 },
 "nbformat": 4,
 "nbformat_minor": 1
}
